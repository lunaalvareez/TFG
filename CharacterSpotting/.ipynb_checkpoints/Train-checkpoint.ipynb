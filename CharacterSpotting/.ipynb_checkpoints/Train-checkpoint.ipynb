{
 "cells": [
  {
   "cell_type": "code",
   "execution_count": null,
   "id": "b3eefdd1-c915-4be4-971b-711c9dd0f261",
   "metadata": {},
   "outputs": [],
   "source": [
    "!pip install -r requirements.txt"
   ]
  },
  {
   "cell_type": "code",
   "execution_count": 1,
   "id": "bb9a54b1-b6d3-4918-9202-83e2cf2031c6",
   "metadata": {},
   "outputs": [],
   "source": [
    "from ultralytics import YOLO\n",
    "import yaml"
   ]
  },
  {
   "cell_type": "markdown",
   "id": "0648bd3a-a6d5-4979-afa3-6e460c20e5e8",
   "metadata": {},
   "source": [
    "Load a model"
   ]
  },
  {
   "cell_type": "code",
   "execution_count": 2,
   "id": "fbfb2bbf-f4ff-4d9a-b140-95f23d9dccbd",
   "metadata": {},
   "outputs": [],
   "source": [
    "model = YOLO(\"/home/jovyan/TFG/CharacterSpotting/data/best_hyp.pt\")  # load a pretrained model (recommended for training)"
   ]
  },
  {
   "cell_type": "markdown",
   "id": "1fbc27d9-dec7-4e52-9214-9064400db534",
   "metadata": {},
   "source": [
    "Train the model"
   ]
  },
  {
   "cell_type": "code",
   "execution_count": 8,
   "id": "1c22143b-da01-49df-a803-04cd639ebaa2",
   "metadata": {},
   "outputs": [
    {
     "name": "stdout",
     "output_type": "stream",
     "text": [
      "Ultralytics YOLOv8.2.2 🚀 Python-3.11.0rc1 torch-2.3.0+cu121 CUDA:0 (NVIDIA GeForce RTX 2080 Ti, 11004MiB)\n",
      "\u001b[34m\u001b[1mengine/trainer: \u001b[0mtask=detect, mode=train, model=/home/jovyan/TFG/CharacterSpotting/data/best_hyp.pt, data=/home/jovyan/TFG/CharacterSpotting/data/data_info.yaml, epochs=500, time=None, patience=100, batch=16, imgsz=1080, save=True, save_period=-1, cache=False, device=0, workers=8, project=None, name=train3, exist_ok=False, pretrained=True, optimizer=auto, verbose=True, seed=0, deterministic=True, single_cls=False, rect=False, cos_lr=False, close_mosaic=10, resume=False, amp=True, fraction=1.0, profile=False, freeze=None, multi_scale=False, overlap_mask=True, mask_ratio=4, dropout=0.0, val=True, split=val, save_json=False, save_hybrid=False, conf=None, iou=0.7, max_det=300, half=False, dnn=False, plots=True, source=None, vid_stride=1, stream_buffer=False, visualize=False, augment=False, agnostic_nms=False, classes=None, retina_masks=False, embed=None, show=False, save_frames=False, save_txt=False, save_conf=False, save_crop=False, show_labels=True, show_conf=True, show_boxes=True, line_width=None, format=torchscript, keras=False, optimize=False, int8=False, dynamic=False, simplify=False, opset=None, workspace=4, nms=False, lr0=0.01, lrf=0.01, momentum=0.937, weight_decay=0.0005, warmup_epochs=3.0, warmup_momentum=0.8, warmup_bias_lr=0.1, box=0.05, cls=0.5, dfl=1.5, pose=12.0, kobj=1.0, label_smoothing=0.0, nbs=64, hsv_h=0.015, hsv_s=0.7, hsv_v=0.4, degrees=0.0, translate=0.1, scale=0.5, shear=0.0, perspective=0.0, flipud=0.0, fliplr=0.0, bgr=0.0, mosaic=1.0, mixup=0.0, copy_paste=0.0, auto_augment=randaugment, erasing=0.4, crop_fraction=1.0, cfg=/home/jovyan/TFG/CharacterSpotting/data/hyp.noflip.yaml, tracker=botsort.yaml, save_dir=runs/detect/train3\n",
      "Downloading https://ultralytics.com/assets/Arial.Unicode.ttf to '/root/.config/Ultralytics/Arial.Unicode.ttf'...\n"
     ]
    },
    {
     "name": "stderr",
     "output_type": "stream",
     "text": [
      "100%|██████████| 22.2M/22.2M [00:00<00:00, 84.6MB/s]\n"
     ]
    },
    {
     "name": "stdout",
     "output_type": "stream",
     "text": [
      "Overriding model.yaml nc=79 with nc=124\n",
      "\n",
      "                   from  n    params  module                                       arguments                     \n",
      "  0                  -1  1       464  ultralytics.nn.modules.conv.Conv             [3, 16, 3, 2]                 \n",
      "  1                  -1  1      4672  ultralytics.nn.modules.conv.Conv             [16, 32, 3, 2]                \n",
      "  2                  -1  1      7360  ultralytics.nn.modules.block.C2f             [32, 32, 1, True]             \n",
      "  3                  -1  1     18560  ultralytics.nn.modules.conv.Conv             [32, 64, 3, 2]                \n",
      "  4                  -1  2     49664  ultralytics.nn.modules.block.C2f             [64, 64, 2, True]             \n",
      "  5                  -1  1     73984  ultralytics.nn.modules.conv.Conv             [64, 128, 3, 2]               \n",
      "  6                  -1  2    197632  ultralytics.nn.modules.block.C2f             [128, 128, 2, True]           \n",
      "  7                  -1  1    295424  ultralytics.nn.modules.conv.Conv             [128, 256, 3, 2]              \n",
      "  8                  -1  1    460288  ultralytics.nn.modules.block.C2f             [256, 256, 1, True]           \n",
      "  9                  -1  1    164608  ultralytics.nn.modules.block.SPPF            [256, 256, 5]                 \n",
      " 10                  -1  1         0  torch.nn.modules.upsampling.Upsample         [None, 2, 'nearest']          \n",
      " 11             [-1, 6]  1         0  ultralytics.nn.modules.conv.Concat           [1]                           \n",
      " 12                  -1  1    148224  ultralytics.nn.modules.block.C2f             [384, 128, 1]                 \n",
      " 13                  -1  1         0  torch.nn.modules.upsampling.Upsample         [None, 2, 'nearest']          \n",
      " 14             [-1, 4]  1         0  ultralytics.nn.modules.conv.Concat           [1]                           \n",
      " 15                  -1  1     37248  ultralytics.nn.modules.block.C2f             [192, 64, 1]                  \n",
      " 16                  -1  1     36992  ultralytics.nn.modules.conv.Conv             [64, 64, 3, 2]                \n",
      " 17            [-1, 12]  1         0  ultralytics.nn.modules.conv.Concat           [1]                           \n",
      " 18                  -1  1    123648  ultralytics.nn.modules.block.C2f             [192, 128, 1]                 \n",
      " 19                  -1  1    147712  ultralytics.nn.modules.conv.Conv             [128, 128, 3, 2]              \n",
      " 20             [-1, 9]  1         0  ultralytics.nn.modules.conv.Concat           [1]                           \n",
      " 21                  -1  1    493056  ultralytics.nn.modules.block.C2f             [384, 256, 1]                 \n",
      " 22        [15, 18, 21]  1   1093876  ultralytics.nn.modules.head.Detect           [124, [64, 128, 256]]         \n",
      "Model summary: 225 layers, 3353412 parameters, 3353396 gradients, 9.8 GFLOPs\n",
      "\n",
      "Transferred 319/355 items from pretrained weights\n",
      "\u001b[34m\u001b[1mTensorBoard: \u001b[0mStart with 'tensorboard --logdir runs/detect/train3', view at http://localhost:6006/\n",
      "Freezing layer 'model.22.dfl.conv.weight'\n",
      "\u001b[34m\u001b[1mAMP: \u001b[0mrunning Automatic Mixed Precision (AMP) checks with YOLOv8n...\n",
      "Downloading https://github.com/ultralytics/assets/releases/download/v8.2.0/yolov8n.pt to 'yolov8n.pt'...\n"
     ]
    },
    {
     "name": "stderr",
     "output_type": "stream",
     "text": [
      "100%|██████████| 6.23M/6.23M [00:00<00:00, 51.3MB/s]\n"
     ]
    },
    {
     "name": "stdout",
     "output_type": "stream",
     "text": [
      "\u001b[34m\u001b[1mAMP: \u001b[0mchecks passed ✅\n",
      "WARNING ⚠️ imgsz=[1080] must be multiple of max stride 32, updating to [1088]\n"
     ]
    },
    {
     "name": "stderr",
     "output_type": "stream",
     "text": [
      "\u001b[34m\u001b[1mtrain: \u001b[0mScanning trainEvalSet... 1600 images, 0 backgrounds, 377 corrupt: 100%|██████████| 1600/1600 [00:02<00:00, 555.00it/s]"
     ]
    },
    {
     "name": "stdout",
     "output_type": "stream",
     "text": [
      "\u001b[34m\u001b[1mtrain: \u001b[0mWARNING ⚠️ trainEvalSet/train2011-1001_000003.jpg: 160 duplicate labels removed\n",
      "\u001b[34m\u001b[1mtrain: \u001b[0mWARNING ⚠️ trainEvalSet/train2011-1003_000007.jpg: 92 duplicate labels removed\n",
      "\u001b[34m\u001b[1mtrain: \u001b[0mWARNING ⚠️ trainEvalSet/train2011-1003_000012.jpg: 52 duplicate labels removed\n",
      "\u001b[34m\u001b[1mtrain: \u001b[0mWARNING ⚠️ trainEvalSet/train2011-1004_000002.jpg: 102 duplicate labels removed\n",
      "\u001b[34m\u001b[1mtrain: \u001b[0mWARNING ⚠️ trainEvalSet/train2011-1004_000004.jpg: 106 duplicate labels removed\n",
      "\u001b[34m\u001b[1mtrain: \u001b[0mWARNING ⚠️ trainEvalSet/train2011-1004_000007.jpg: 52 duplicate labels removed\n",
      "\u001b[34m\u001b[1mtrain: \u001b[0mWARNING ⚠️ trainEvalSet/train2011-1005_000002.jpg: 106 duplicate labels removed\n",
      "\u001b[34m\u001b[1mtrain: \u001b[0mWARNING ⚠️ trainEvalSet/train2011-1006_000001.jpg: 80 duplicate labels removed\n",
      "\u001b[34m\u001b[1mtrain: \u001b[0mWARNING ⚠️ trainEvalSet/train2011-1006_000004.jpg: 26 duplicate labels removed\n",
      "\u001b[34m\u001b[1mtrain: \u001b[0mWARNING ⚠️ trainEvalSet/train2011-1009_000003.jpg: 26 duplicate labels removed\n",
      "\u001b[34m\u001b[1mtrain: \u001b[0mWARNING ⚠️ trainEvalSet/train2011-100_000001.jpg: 82 duplicate labels removed\n",
      "\u001b[34m\u001b[1mtrain: \u001b[0mWARNING ⚠️ trainEvalSet/train2011-1010_000008.jpg: 52 duplicate labels removed\n",
      "\u001b[34m\u001b[1mtrain: \u001b[0mWARNING ⚠️ trainEvalSet/train2011-1011_000005.jpg: 54 duplicate labels removed\n",
      "\u001b[34m\u001b[1mtrain: \u001b[0mWARNING ⚠️ trainEvalSet/train2011-1013_000002.jpg: ignoring corrupt image/label: non-normalized or out of bounds coordinates [       1.05        1.05        1.05        1.05        1.05        1.05]\n",
      "\u001b[34m\u001b[1mtrain: \u001b[0mWARNING ⚠️ trainEvalSet/train2011-1014_000001.jpg: 76 duplicate labels removed\n",
      "\u001b[34m\u001b[1mtrain: \u001b[0mWARNING ⚠️ trainEvalSet/train2011-1015_000010.jpg: 42 duplicate labels removed\n",
      "\u001b[34m\u001b[1mtrain: \u001b[0mWARNING ⚠️ trainEvalSet/train2011-1016_000003.jpg: 96 duplicate labels removed\n",
      "\u001b[34m\u001b[1mtrain: \u001b[0mWARNING ⚠️ trainEvalSet/train2011-1017_000003.jpg: 299 duplicate labels removed\n",
      "\u001b[34m\u001b[1mtrain: \u001b[0mWARNING ⚠️ trainEvalSet/train2011-1017_000010.jpg: ignoring corrupt image/label: non-normalized or out of bounds coordinates [       1.05        1.05        1.05]\n",
      "\u001b[34m\u001b[1mtrain: \u001b[0mWARNING ⚠️ trainEvalSet/train2011-1017_000012.jpg: ignoring corrupt image/label: non-normalized or out of bounds coordinates [       1.05        1.05        1.05        1.05        1.05        1.05]\n",
      "\u001b[34m\u001b[1mtrain: \u001b[0mWARNING ⚠️ trainEvalSet/train2011-1018_000001.jpg: ignoring corrupt image/label: non-normalized or out of bounds coordinates [       1.05        1.05        1.05]\n",
      "\u001b[34m\u001b[1mtrain: \u001b[0mWARNING ⚠️ trainEvalSet/train2011-101_000001.jpg: ignoring corrupt image/label: non-normalized or out of bounds coordinates [       1.05        1.05        1.05]\n",
      "\u001b[34m\u001b[1mtrain: \u001b[0mWARNING ⚠️ trainEvalSet/train2011-1020_000001.jpg: 137 duplicate labels removed\n",
      "\u001b[34m\u001b[1mtrain: \u001b[0mWARNING ⚠️ trainEvalSet/train2011-1020_000002.jpg: ignoring corrupt image/label: non-normalized or out of bounds coordinates [       1.05        1.05        1.05]\n",
      "\u001b[34m\u001b[1mtrain: \u001b[0mWARNING ⚠️ trainEvalSet/train2011-1021_000006.jpg: 36 duplicate labels removed\n",
      "\u001b[34m\u001b[1mtrain: \u001b[0mWARNING ⚠️ trainEvalSet/train2011-1023_000001.jpg: 98 duplicate labels removed\n",
      "\u001b[34m\u001b[1mtrain: \u001b[0mWARNING ⚠️ trainEvalSet/train2011-1024_000003.jpg: 176 duplicate labels removed\n",
      "\u001b[34m\u001b[1mtrain: \u001b[0mWARNING ⚠️ trainEvalSet/train2011-1024_000004.jpg: ignoring corrupt image/label: non-normalized or out of bounds coordinates [       1.05        1.05        1.05        1.05        1.05        1.05        1.05        1.05]\n",
      "\u001b[34m\u001b[1mtrain: \u001b[0mWARNING ⚠️ trainEvalSet/train2011-1024_000005.jpg: 42 duplicate labels removed\n",
      "\u001b[34m\u001b[1mtrain: \u001b[0mWARNING ⚠️ trainEvalSet/train2011-1028_000004.jpg: ignoring corrupt image/label: non-normalized or out of bounds coordinates [       1.05        1.05        1.05]\n",
      "\u001b[34m\u001b[1mtrain: \u001b[0mWARNING ⚠️ trainEvalSet/train2011-1029_000006.jpg: 26 duplicate labels removed\n",
      "\u001b[34m\u001b[1mtrain: \u001b[0mWARNING ⚠️ trainEvalSet/train2011-1032_000006.jpg: 131 duplicate labels removed\n",
      "\u001b[34m\u001b[1mtrain: \u001b[0mWARNING ⚠️ trainEvalSet/train2011-1033_000001.jpg: ignoring corrupt image/label: non-normalized or out of bounds coordinates [       1.05        1.05        1.05        1.05        1.05        1.05        1.05        1.05        1.05        1.05        1.05        1.05        1.05        1.05]\n",
      "\u001b[34m\u001b[1mtrain: \u001b[0mWARNING ⚠️ trainEvalSet/train2011-1033_000002.jpg: 85 duplicate labels removed\n",
      "\u001b[34m\u001b[1mtrain: \u001b[0mWARNING ⚠️ trainEvalSet/train2011-1033_000006.jpg: 102 duplicate labels removed\n",
      "\u001b[34m\u001b[1mtrain: \u001b[0mWARNING ⚠️ trainEvalSet/train2011-1034_000004.jpg: 36 duplicate labels removed\n",
      "\u001b[34m\u001b[1mtrain: \u001b[0mWARNING ⚠️ trainEvalSet/train2011-1035_000008.jpg: 56 duplicate labels removed\n",
      "\u001b[34m\u001b[1mtrain: \u001b[0mWARNING ⚠️ trainEvalSet/train2011-1035_000009.jpg: 34 duplicate labels removed\n",
      "\u001b[34m\u001b[1mtrain: \u001b[0mWARNING ⚠️ trainEvalSet/train2011-1036_000003.jpg: 123 duplicate labels removed\n",
      "\u001b[34m\u001b[1mtrain: \u001b[0mWARNING ⚠️ trainEvalSet/train2011-1036_000004.jpg: ignoring corrupt image/label: non-normalized or out of bounds coordinates [       1.05        1.05        1.05]\n",
      "\u001b[34m\u001b[1mtrain: \u001b[0mWARNING ⚠️ trainEvalSet/train2011-1036_000007.jpg: 104 duplicate labels removed\n",
      "\u001b[34m\u001b[1mtrain: \u001b[0mWARNING ⚠️ trainEvalSet/train2011-1037_000005.jpg: ignoring corrupt image/label: non-normalized or out of bounds coordinates [       1.05        1.05        1.05]\n",
      "\u001b[34m\u001b[1mtrain: \u001b[0mWARNING ⚠️ trainEvalSet/train2011-1038_000005.jpg: ignoring corrupt image/label: non-normalized or out of bounds coordinates [       1.05        1.05        1.05        1.05        1.05]\n",
      "\u001b[34m\u001b[1mtrain: \u001b[0mWARNING ⚠️ trainEvalSet/train2011-1039_000007.jpg: 115 duplicate labels removed\n",
      "\u001b[34m\u001b[1mtrain: \u001b[0mWARNING ⚠️ trainEvalSet/train2011-103_000003.jpg: ignoring corrupt image/label: non-normalized or out of bounds coordinates [       1.05        1.05        1.05]\n",
      "\u001b[34m\u001b[1mtrain: \u001b[0mWARNING ⚠️ trainEvalSet/train2011-103_000005.jpg: 238 duplicate labels removed\n",
      "\u001b[34m\u001b[1mtrain: \u001b[0mWARNING ⚠️ trainEvalSet/train2011-1040_000005.jpg: 82 duplicate labels removed\n",
      "\u001b[34m\u001b[1mtrain: \u001b[0mWARNING ⚠️ trainEvalSet/train2011-1041_000001.jpg: ignoring corrupt image/label: non-normalized or out of bounds coordinates [       1.05        1.05        1.05]\n",
      "\u001b[34m\u001b[1mtrain: \u001b[0mWARNING ⚠️ trainEvalSet/train2011-1041_000002.jpg: 76 duplicate labels removed\n",
      "\u001b[34m\u001b[1mtrain: \u001b[0mWARNING ⚠️ trainEvalSet/train2011-1041_000005.jpg: 88 duplicate labels removed\n",
      "\u001b[34m\u001b[1mtrain: \u001b[0mWARNING ⚠️ trainEvalSet/train2011-1042_000003.jpg: 98 duplicate labels removed\n",
      "\u001b[34m\u001b[1mtrain: \u001b[0mWARNING ⚠️ trainEvalSet/train2011-1042_000006.jpg: 60 duplicate labels removed\n",
      "\u001b[34m\u001b[1mtrain: \u001b[0mWARNING ⚠️ trainEvalSet/train2011-1043_000008.jpg: 24 duplicate labels removed\n",
      "\u001b[34m\u001b[1mtrain: \u001b[0mWARNING ⚠️ trainEvalSet/train2011-1044_000001.jpg: 223 duplicate labels removed\n",
      "\u001b[34m\u001b[1mtrain: \u001b[0mWARNING ⚠️ trainEvalSet/train2011-1046_000003.jpg: 88 duplicate labels removed\n",
      "\u001b[34m\u001b[1mtrain: \u001b[0mWARNING ⚠️ trainEvalSet/train2011-1047_000007.jpg: ignoring corrupt image/label: non-normalized or out of bounds coordinates [       1.05        1.05        1.05]\n",
      "\u001b[34m\u001b[1mtrain: \u001b[0mWARNING ⚠️ trainEvalSet/train2011-1048_000005.jpg: 94 duplicate labels removed\n",
      "\u001b[34m\u001b[1mtrain: \u001b[0mWARNING ⚠️ trainEvalSet/train2011-1050_000005.jpg: ignoring corrupt image/label: non-normalized or out of bounds coordinates [       1.05        1.05        1.05]\n",
      "\u001b[34m\u001b[1mtrain: \u001b[0mWARNING ⚠️ trainEvalSet/train2011-1051_000002.jpg: 129 duplicate labels removed\n",
      "\u001b[34m\u001b[1mtrain: \u001b[0mWARNING ⚠️ trainEvalSet/train2011-1051_000006.jpg: 94 duplicate labels removed\n",
      "\u001b[34m\u001b[1mtrain: \u001b[0mWARNING ⚠️ trainEvalSet/train2011-1053_000004.jpg: 84 duplicate labels removed\n",
      "\u001b[34m\u001b[1mtrain: \u001b[0mWARNING ⚠️ trainEvalSet/train2011-1054_000002.jpg: 458 duplicate labels removed\n",
      "\u001b[34m\u001b[1mtrain: \u001b[0mWARNING ⚠️ trainEvalSet/train2011-1055_000003.jpg: 18 duplicate labels removed\n",
      "\u001b[34m\u001b[1mtrain: \u001b[0mWARNING ⚠️ trainEvalSet/train2011-1055_000004.jpg: 75 duplicate labels removed\n",
      "\u001b[34m\u001b[1mtrain: \u001b[0mWARNING ⚠️ trainEvalSet/train2011-1055_000006.jpg: 80 duplicate labels removed\n",
      "\u001b[34m\u001b[1mtrain: \u001b[0mWARNING ⚠️ trainEvalSet/train2011-1057_000005.jpg: 78 duplicate labels removed\n",
      "\u001b[34m\u001b[1mtrain: \u001b[0mWARNING ⚠️ trainEvalSet/train2011-1057_000006.jpg: 52 duplicate labels removed\n",
      "\u001b[34m\u001b[1mtrain: \u001b[0mWARNING ⚠️ trainEvalSet/train2011-1058_000001.jpg: 175 duplicate labels removed\n",
      "\u001b[34m\u001b[1mtrain: \u001b[0mWARNING ⚠️ trainEvalSet/train2011-1058_000002.jpg: ignoring corrupt image/label: non-normalized or out of bounds coordinates [       1.05        1.05        1.05        1.05        1.05]\n",
      "\u001b[34m\u001b[1mtrain: \u001b[0mWARNING ⚠️ trainEvalSet/train2011-1058_000005.jpg: 64 duplicate labels removed\n",
      "\u001b[34m\u001b[1mtrain: \u001b[0mWARNING ⚠️ trainEvalSet/train2011-105_000006.jpg: 118 duplicate labels removed\n",
      "\u001b[34m\u001b[1mtrain: \u001b[0mWARNING ⚠️ trainEvalSet/train2011-1061_000002.jpg: 92 duplicate labels removed\n",
      "\u001b[34m\u001b[1mtrain: \u001b[0mWARNING ⚠️ trainEvalSet/train2011-1061_000008.jpg: 185 duplicate labels removed\n",
      "\u001b[34m\u001b[1mtrain: \u001b[0mWARNING ⚠️ trainEvalSet/train2011-1062_000004.jpg: ignoring corrupt image/label: non-normalized or out of bounds coordinates [       1.05        1.05        1.05        1.05        1.05]\n",
      "\u001b[34m\u001b[1mtrain: \u001b[0mWARNING ⚠️ trainEvalSet/train2011-1063_000001.jpg: ignoring corrupt image/label: non-normalized or out of bounds coordinates [       1.05]\n",
      "\u001b[34m\u001b[1mtrain: \u001b[0mWARNING ⚠️ trainEvalSet/train2011-1063_000003.jpg: 1 duplicate labels removed\n",
      "\u001b[34m\u001b[1mtrain: \u001b[0mWARNING ⚠️ trainEvalSet/train2011-1064_000002.jpg: 76 duplicate labels removed\n",
      "\u001b[34m\u001b[1mtrain: \u001b[0mWARNING ⚠️ trainEvalSet/train2011-1065_000001.jpg: 104 duplicate labels removed\n",
      "\u001b[34m\u001b[1mtrain: \u001b[0mWARNING ⚠️ trainEvalSet/train2011-1066_000001.jpg: 208 duplicate labels removed\n",
      "\u001b[34m\u001b[1mtrain: \u001b[0mWARNING ⚠️ trainEvalSet/train2011-1067_000002.jpg: 70 duplicate labels removed\n",
      "\u001b[34m\u001b[1mtrain: \u001b[0mWARNING ⚠️ trainEvalSet/train2011-1067_000003.jpg: ignoring corrupt image/label: non-normalized or out of bounds coordinates [       1.05        1.05        1.05]\n",
      "\u001b[34m\u001b[1mtrain: \u001b[0mWARNING ⚠️ trainEvalSet/train2011-1069_000002.jpg: 78 duplicate labels removed\n",
      "\u001b[34m\u001b[1mtrain: \u001b[0mWARNING ⚠️ trainEvalSet/train2011-1069_000008.jpg: 94 duplicate labels removed\n",
      "\u001b[34m\u001b[1mtrain: \u001b[0mWARNING ⚠️ trainEvalSet/train2011-106_000004.jpg: ignoring corrupt image/label: non-normalized or out of bounds coordinates [       1.05        1.05        1.05        1.05        1.05        1.05]\n",
      "\u001b[34m\u001b[1mtrain: \u001b[0mWARNING ⚠️ trainEvalSet/train2011-106_000007.jpg: ignoring corrupt image/label: non-normalized or out of bounds coordinates [       1.05        1.05        1.05]\n",
      "\u001b[34m\u001b[1mtrain: \u001b[0mWARNING ⚠️ trainEvalSet/train2011-1070_000001.jpg: 85 duplicate labels removed\n",
      "\u001b[34m\u001b[1mtrain: \u001b[0mWARNING ⚠️ trainEvalSet/train2011-1073_000006.jpg: 62 duplicate labels removed\n",
      "\u001b[34m\u001b[1mtrain: \u001b[0mWARNING ⚠️ trainEvalSet/train2011-1074_000001.jpg: 84 duplicate labels removed\n",
      "\u001b[34m\u001b[1mtrain: \u001b[0mWARNING ⚠️ trainEvalSet/train2011-1074_000002.jpg: ignoring corrupt image/label: non-normalized or out of bounds coordinates [       1.05        1.05        1.05        1.05        1.05]\n",
      "\u001b[34m\u001b[1mtrain: \u001b[0mWARNING ⚠️ trainEvalSet/train2011-1074_000006.jpg: 52 duplicate labels removed\n",
      "\u001b[34m\u001b[1mtrain: \u001b[0mWARNING ⚠️ trainEvalSet/train2011-1074_000010.jpg: 47 duplicate labels removed\n",
      "\u001b[34m\u001b[1mtrain: \u001b[0mWARNING ⚠️ trainEvalSet/train2011-1075_000005.jpg: 123 duplicate labels removed\n",
      "\u001b[34m\u001b[1mtrain: \u001b[0mWARNING ⚠️ trainEvalSet/train2011-1075_000006.jpg: 22 duplicate labels removed\n",
      "\u001b[34m\u001b[1mtrain: \u001b[0mWARNING ⚠️ trainEvalSet/train2011-1076_000002.jpg: 66 duplicate labels removed\n",
      "\u001b[34m\u001b[1mtrain: \u001b[0mWARNING ⚠️ trainEvalSet/train2011-1077_000002.jpg: ignoring corrupt image/label: non-normalized or out of bounds coordinates [       1.05        1.05        1.05]\n",
      "\u001b[34m\u001b[1mtrain: \u001b[0mWARNING ⚠️ trainEvalSet/train2011-1077_000009.jpg: 206 duplicate labels removed\n",
      "\u001b[34m\u001b[1mtrain: \u001b[0mWARNING ⚠️ trainEvalSet/train2011-1078_000006.jpg: 2 duplicate labels removed\n",
      "\u001b[34m\u001b[1mtrain: \u001b[0mWARNING ⚠️ trainEvalSet/train2011-1079_000005.jpg: ignoring corrupt image/label: non-normalized or out of bounds coordinates [       1.05        1.05        1.05        1.05        1.05        1.05        1.05        1.05        1.05]\n",
      "\u001b[34m\u001b[1mtrain: \u001b[0mWARNING ⚠️ trainEvalSet/train2011-1079_000009.jpg: ignoring corrupt image/label: non-normalized or out of bounds coordinates [       1.05        1.05        1.05]\n",
      "\u001b[34m\u001b[1mtrain: \u001b[0mWARNING ⚠️ trainEvalSet/train2011-1080_000001.jpg: 81 duplicate labels removed\n",
      "\u001b[34m\u001b[1mtrain: \u001b[0mWARNING ⚠️ trainEvalSet/train2011-1080_000002.jpg: 80 duplicate labels removed\n",
      "\u001b[34m\u001b[1mtrain: \u001b[0mWARNING ⚠️ trainEvalSet/train2011-1080_000006.jpg: 87 duplicate labels removed\n",
      "\u001b[34m\u001b[1mtrain: \u001b[0mWARNING ⚠️ trainEvalSet/train2011-1081_000001.jpg: 74 duplicate labels removed\n",
      "\u001b[34m\u001b[1mtrain: \u001b[0mWARNING ⚠️ trainEvalSet/train2011-1081_000004.jpg: ignoring corrupt image/label: non-normalized or out of bounds coordinates [       1.05        1.05        1.05        1.05        1.05        1.05]\n",
      "\u001b[34m\u001b[1mtrain: \u001b[0mWARNING ⚠️ trainEvalSet/train2011-1081_000005.jpg: ignoring corrupt image/label: non-normalized or out of bounds coordinates [       1.05        1.05        1.05]\n",
      "\u001b[34m\u001b[1mtrain: \u001b[0mWARNING ⚠️ trainEvalSet/train2011-1084_000003.jpg: ignoring corrupt image/label: non-normalized or out of bounds coordinates [       1.05        1.05        1.05]\n",
      "\u001b[34m\u001b[1mtrain: \u001b[0mWARNING ⚠️ trainEvalSet/train2011-1086_000002.jpg: 83 duplicate labels removed\n",
      "\u001b[34m\u001b[1mtrain: \u001b[0mWARNING ⚠️ trainEvalSet/train2011-1086_000004.jpg: 80 duplicate labels removed\n",
      "\u001b[34m\u001b[1mtrain: \u001b[0mWARNING ⚠️ trainEvalSet/train2011-1086_000009.jpg: 92 duplicate labels removed\n",
      "\u001b[34m\u001b[1mtrain: \u001b[0mWARNING ⚠️ trainEvalSet/train2011-1086_000010.jpg: 80 duplicate labels removed\n",
      "\u001b[34m\u001b[1mtrain: \u001b[0mWARNING ⚠️ trainEvalSet/train2011-1087_000004.jpg: 62 duplicate labels removed\n",
      "\u001b[34m\u001b[1mtrain: \u001b[0mWARNING ⚠️ trainEvalSet/train2011-1089_000001.jpg: ignoring corrupt image/label: non-normalized or out of bounds coordinates [       1.05        1.05        1.05        1.05        1.05        1.05        1.05        1.05        1.05        1.05        1.05]\n",
      "\u001b[34m\u001b[1mtrain: \u001b[0mWARNING ⚠️ trainEvalSet/train2011-1089_000008.jpg: ignoring corrupt image/label: non-normalized or out of bounds coordinates [       1.05        1.05        1.05]\n",
      "\u001b[34m\u001b[1mtrain: \u001b[0mWARNING ⚠️ trainEvalSet/train2011-1089_000009.jpg: 106 duplicate labels removed\n",
      "\u001b[34m\u001b[1mtrain: \u001b[0mWARNING ⚠️ trainEvalSet/train2011-1090_000003.jpg: 54 duplicate labels removed\n",
      "\u001b[34m\u001b[1mtrain: \u001b[0mWARNING ⚠️ trainEvalSet/train2011-1090_000008.jpg: ignoring corrupt image/label: non-normalized or out of bounds coordinates [       1.05        1.05        1.05]\n",
      "\u001b[34m\u001b[1mtrain: \u001b[0mWARNING ⚠️ trainEvalSet/train2011-1091_000004.jpg: 83 duplicate labels removed\n",
      "\u001b[34m\u001b[1mtrain: \u001b[0mWARNING ⚠️ trainEvalSet/train2011-1093_000009.jpg: ignoring corrupt image/label: non-normalized or out of bounds coordinates [       1.05        1.05        1.05]\n",
      "\u001b[34m\u001b[1mtrain: \u001b[0mWARNING ⚠️ trainEvalSet/train2011-1093_000011.jpg: 28 duplicate labels removed\n",
      "\u001b[34m\u001b[1mtrain: \u001b[0mWARNING ⚠️ trainEvalSet/train2011-1095_000009.jpg: 98 duplicate labels removed\n",
      "\u001b[34m\u001b[1mtrain: \u001b[0mWARNING ⚠️ trainEvalSet/train2011-1096_000008.jpg: ignoring corrupt image/label: non-normalized or out of bounds coordinates [       1.05        1.05        1.05]\n",
      "\u001b[34m\u001b[1mtrain: \u001b[0mWARNING ⚠️ trainEvalSet/train2011-1097_000001.jpg: ignoring corrupt image/label: non-normalized or out of bounds coordinates [       1.05        1.05]\n",
      "\u001b[34m\u001b[1mtrain: \u001b[0mWARNING ⚠️ trainEvalSet/train2011-1097_000008.jpg: ignoring corrupt image/label: non-normalized or out of bounds coordinates [       1.05        1.05        1.05]\n",
      "\u001b[34m\u001b[1mtrain: \u001b[0mWARNING ⚠️ trainEvalSet/train2011-1098_000001.jpg: 86 duplicate labels removed\n",
      "\u001b[34m\u001b[1mtrain: \u001b[0mWARNING ⚠️ trainEvalSet/train2011-109_000009.jpg: 76 duplicate labels removed\n",
      "\u001b[34m\u001b[1mtrain: \u001b[0mWARNING ⚠️ trainEvalSet/train2011-1100_000001.jpg: 106 duplicate labels removed\n",
      "\u001b[34m\u001b[1mtrain: \u001b[0mWARNING ⚠️ trainEvalSet/train2011-1101_000001.jpg: 117 duplicate labels removed\n",
      "\u001b[34m\u001b[1mtrain: \u001b[0mWARNING ⚠️ trainEvalSet/train2011-1101_000002.jpg: ignoring corrupt image/label: non-normalized or out of bounds coordinates [       1.05        1.05        1.05]\n",
      "\u001b[34m\u001b[1mtrain: \u001b[0mWARNING ⚠️ trainEvalSet/train2011-1102_000003.jpg: ignoring corrupt image/label: non-normalized or out of bounds coordinates [       1.05        1.05        1.05]\n",
      "\u001b[34m\u001b[1mtrain: \u001b[0mWARNING ⚠️ trainEvalSet/train2011-1104_000002.jpg: 110 duplicate labels removed\n",
      "\u001b[34m\u001b[1mtrain: \u001b[0mWARNING ⚠️ trainEvalSet/train2011-1104_000003.jpg: ignoring corrupt image/label: non-normalized or out of bounds coordinates [       1.05        1.05        1.05]\n",
      "\u001b[34m\u001b[1mtrain: \u001b[0mWARNING ⚠️ trainEvalSet/train2011-1104_000005.jpg: 132 duplicate labels removed\n",
      "\u001b[34m\u001b[1mtrain: \u001b[0mWARNING ⚠️ trainEvalSet/train2011-1105_000006.jpg: ignoring corrupt image/label: non-normalized or out of bounds coordinates [       1.05        1.05        1.05]\n",
      "\u001b[34m\u001b[1mtrain: \u001b[0mWARNING ⚠️ trainEvalSet/train2011-1106_000001.jpg: 110 duplicate labels removed\n",
      "\u001b[34m\u001b[1mtrain: \u001b[0mWARNING ⚠️ trainEvalSet/train2011-1106_000004.jpg: ignoring corrupt image/label: non-normalized or out of bounds coordinates [       1.05        1.05        1.05        1.05        1.05        1.05]\n",
      "\u001b[34m\u001b[1mtrain: \u001b[0mWARNING ⚠️ trainEvalSet/train2011-1106_000005.jpg: 109 duplicate labels removed\n",
      "\u001b[34m\u001b[1mtrain: \u001b[0mWARNING ⚠️ trainEvalSet/train2011-1106_000007.jpg: ignoring corrupt image/label: non-normalized or out of bounds coordinates [       1.05        1.05        1.05]\n",
      "\u001b[34m\u001b[1mtrain: \u001b[0mWARNING ⚠️ trainEvalSet/train2011-1107_000004.jpg: 24 duplicate labels removed\n",
      "\u001b[34m\u001b[1mtrain: \u001b[0mWARNING ⚠️ trainEvalSet/train2011-110_000001.jpg: ignoring corrupt image/label: non-normalized or out of bounds coordinates [       1.05        1.05        1.05]\n",
      "\u001b[34m\u001b[1mtrain: \u001b[0mWARNING ⚠️ trainEvalSet/train2011-110_000009.jpg: 72 duplicate labels removed\n",
      "\u001b[34m\u001b[1mtrain: \u001b[0mWARNING ⚠️ trainEvalSet/train2011-1111_000002.jpg: 86 duplicate labels removed\n",
      "\u001b[34m\u001b[1mtrain: \u001b[0mWARNING ⚠️ trainEvalSet/train2011-1112_000005.jpg: 54 duplicate labels removed\n",
      "\u001b[34m\u001b[1mtrain: \u001b[0mWARNING ⚠️ trainEvalSet/train2011-1114_000004.jpg: 251 duplicate labels removed\n",
      "\u001b[34m\u001b[1mtrain: \u001b[0mWARNING ⚠️ trainEvalSet/train2011-1116_000002.jpg: ignoring corrupt image/label: non-normalized or out of bounds coordinates [       1.05        1.05        1.05]\n",
      "\u001b[34m\u001b[1mtrain: \u001b[0mWARNING ⚠️ trainEvalSet/train2011-1117_000003.jpg: ignoring corrupt image/label: non-normalized or out of bounds coordinates [       1.05        1.05        1.05]\n",
      "\u001b[34m\u001b[1mtrain: \u001b[0mWARNING ⚠️ trainEvalSet/train2011-1118_000002.jpg: 108 duplicate labels removed\n",
      "\u001b[34m\u001b[1mtrain: \u001b[0mWARNING ⚠️ trainEvalSet/train2011-1119_000006.jpg: 189 duplicate labels removed\n",
      "\u001b[34m\u001b[1mtrain: \u001b[0mWARNING ⚠️ trainEvalSet/train2011-111_000002.jpg: ignoring corrupt image/label: non-normalized or out of bounds coordinates [       1.05        1.05        1.05        1.05        1.05        1.05        1.05]\n",
      "\u001b[34m\u001b[1mtrain: \u001b[0mWARNING ⚠️ trainEvalSet/train2011-1121_000006.jpg: 102 duplicate labels removed\n",
      "\u001b[34m\u001b[1mtrain: \u001b[0mWARNING ⚠️ trainEvalSet/train2011-1122_000005.jpg: ignoring corrupt image/label: non-normalized or out of bounds coordinates [       1.05        1.05        1.05        1.05        1.05        1.05        1.05        1.05]\n",
      "\u001b[34m\u001b[1mtrain: \u001b[0mWARNING ⚠️ trainEvalSet/train2011-1122_000006.jpg: ignoring corrupt image/label: non-normalized or out of bounds coordinates [       1.05        1.05        1.05]\n",
      "\u001b[34m\u001b[1mtrain: \u001b[0mWARNING ⚠️ trainEvalSet/train2011-1122_000007.jpg: ignoring corrupt image/label: non-normalized or out of bounds coordinates [       1.05        1.05        1.05]\n",
      "\u001b[34m\u001b[1mtrain: \u001b[0mWARNING ⚠️ trainEvalSet/train2011-1122_000008.jpg: 80 duplicate labels removed\n",
      "\u001b[34m\u001b[1mtrain: \u001b[0mWARNING ⚠️ trainEvalSet/train2011-1122_000009.jpg: 82 duplicate labels removed\n",
      "\u001b[34m\u001b[1mtrain: \u001b[0mWARNING ⚠️ trainEvalSet/train2011-1124_000006.jpg: 34 duplicate labels removed\n",
      "\u001b[34m\u001b[1mtrain: \u001b[0mWARNING ⚠️ trainEvalSet/train2011-1125_000004.jpg: ignoring corrupt image/label: non-normalized or out of bounds coordinates [       1.05        1.05        1.05        1.05        1.05]\n",
      "\u001b[34m\u001b[1mtrain: \u001b[0mWARNING ⚠️ trainEvalSet/train2011-1126_000002.jpg: ignoring corrupt image/label: non-normalized or out of bounds coordinates [       1.05        1.05        1.05        1.05        1.05        1.05]\n",
      "\u001b[34m\u001b[1mtrain: \u001b[0mWARNING ⚠️ trainEvalSet/train2011-1129_000003.jpg: 104 duplicate labels removed\n",
      "\u001b[34m\u001b[1mtrain: \u001b[0mWARNING ⚠️ trainEvalSet/train2011-1130_000007.jpg: 189 duplicate labels removed\n",
      "\u001b[34m\u001b[1mtrain: \u001b[0mWARNING ⚠️ trainEvalSet/train2011-1131_000003.jpg: 20 duplicate labels removed\n",
      "\u001b[34m\u001b[1mtrain: \u001b[0mWARNING ⚠️ trainEvalSet/train2011-1132_000002.jpg: ignoring corrupt image/label: non-normalized or out of bounds coordinates [       1.05        1.05        1.05]\n",
      "\u001b[34m\u001b[1mtrain: \u001b[0mWARNING ⚠️ trainEvalSet/train2011-1133_000001.jpg: 434 duplicate labels removed\n",
      "\u001b[34m\u001b[1mtrain: \u001b[0mWARNING ⚠️ trainEvalSet/train2011-1135_000005.jpg: ignoring corrupt image/label: non-normalized or out of bounds coordinates [       1.05        1.05        1.05]\n",
      "\u001b[34m\u001b[1mtrain: \u001b[0mWARNING ⚠️ trainEvalSet/train2011-1138_000003.jpg: 261 duplicate labels removed\n",
      "\u001b[34m\u001b[1mtrain: \u001b[0mWARNING ⚠️ trainEvalSet/train2011-1139_000007.jpg: 76 duplicate labels removed\n",
      "\u001b[34m\u001b[1mtrain: \u001b[0mWARNING ⚠️ trainEvalSet/train2011-113_000006.jpg: 192 duplicate labels removed\n",
      "\u001b[34m\u001b[1mtrain: \u001b[0mWARNING ⚠️ trainEvalSet/train2011-113_000008.jpg: 263 duplicate labels removed\n",
      "\u001b[34m\u001b[1mtrain: \u001b[0mWARNING ⚠️ trainEvalSet/train2011-1140_000003.jpg: ignoring corrupt image/label: non-normalized or out of bounds coordinates [       1.05        1.05        1.05]\n",
      "\u001b[34m\u001b[1mtrain: \u001b[0mWARNING ⚠️ trainEvalSet/train2011-1140_000004.jpg: 82 duplicate labels removed\n",
      "\u001b[34m\u001b[1mtrain: \u001b[0mWARNING ⚠️ trainEvalSet/train2011-1142_000005.jpg: ignoring corrupt image/label: non-normalized or out of bounds coordinates [       1.05        1.05        1.05]\n",
      "\u001b[34m\u001b[1mtrain: \u001b[0mWARNING ⚠️ trainEvalSet/train2011-1143_000002.jpg: 72 duplicate labels removed\n",
      "\u001b[34m\u001b[1mtrain: \u001b[0mWARNING ⚠️ trainEvalSet/train2011-1143_000006.jpg: 86 duplicate labels removed\n",
      "\u001b[34m\u001b[1mtrain: \u001b[0mWARNING ⚠️ trainEvalSet/train2011-1144_000002.jpg: 74 duplicate labels removed\n",
      "\u001b[34m\u001b[1mtrain: \u001b[0mWARNING ⚠️ trainEvalSet/train2011-1145_000006.jpg: 73 duplicate labels removed\n",
      "\u001b[34m\u001b[1mtrain: \u001b[0mWARNING ⚠️ trainEvalSet/train2011-1146_000005.jpg: 82 duplicate labels removed\n",
      "\u001b[34m\u001b[1mtrain: \u001b[0mWARNING ⚠️ trainEvalSet/train2011-1146_000007.jpg: 252 duplicate labels removed\n",
      "\u001b[34m\u001b[1mtrain: \u001b[0mWARNING ⚠️ trainEvalSet/train2011-1148_000003.jpg: 4 duplicate labels removed\n",
      "\u001b[34m\u001b[1mtrain: \u001b[0mWARNING ⚠️ trainEvalSet/train2011-1148_000004.jpg: 104 duplicate labels removed\n",
      "\u001b[34m\u001b[1mtrain: \u001b[0mWARNING ⚠️ trainEvalSet/train2011-1149_000002.jpg: ignoring corrupt image/label: non-normalized or out of bounds coordinates [       1.05        1.05        1.05]\n",
      "\u001b[34m\u001b[1mtrain: \u001b[0mWARNING ⚠️ trainEvalSet/train2011-1149_000003.jpg: ignoring corrupt image/label: non-normalized or out of bounds coordinates [       1.05        1.05        1.05]\n",
      "\u001b[34m\u001b[1mtrain: \u001b[0mWARNING ⚠️ trainEvalSet/train2011-1149_000008.jpg: ignoring corrupt image/label: non-normalized or out of bounds coordinates [       1.05        1.05        1.05]\n",
      "\u001b[34m\u001b[1mtrain: \u001b[0mWARNING ⚠️ trainEvalSet/train2011-114_000011.jpg: ignoring corrupt image/label: non-normalized or out of bounds coordinates [       1.05        1.05        1.05]\n",
      "\u001b[34m\u001b[1mtrain: \u001b[0mWARNING ⚠️ trainEvalSet/train2011-1150_000004.jpg: ignoring corrupt image/label: non-normalized or out of bounds coordinates [       1.05        1.05        1.05]\n",
      "\u001b[34m\u001b[1mtrain: \u001b[0mWARNING ⚠️ trainEvalSet/train2011-1151_000002.jpg: ignoring corrupt image/label: non-normalized or out of bounds coordinates [       1.05        1.05        1.05]\n",
      "\u001b[34m\u001b[1mtrain: \u001b[0mWARNING ⚠️ trainEvalSet/train2011-1151_000007.jpg: 24 duplicate labels removed\n",
      "\u001b[34m\u001b[1mtrain: \u001b[0mWARNING ⚠️ trainEvalSet/train2011-1152_000003.jpg: 116 duplicate labels removed\n",
      "\u001b[34m\u001b[1mtrain: \u001b[0mWARNING ⚠️ trainEvalSet/train2011-1152_000006.jpg: 26 duplicate labels removed\n",
      "\u001b[34m\u001b[1mtrain: \u001b[0mWARNING ⚠️ trainEvalSet/train2011-1154_000001.jpg: 112 duplicate labels removed\n",
      "\u001b[34m\u001b[1mtrain: \u001b[0mWARNING ⚠️ trainEvalSet/train2011-1154_000002.jpg: 105 duplicate labels removed\n",
      "\u001b[34m\u001b[1mtrain: \u001b[0mWARNING ⚠️ trainEvalSet/train2011-1154_000005.jpg: ignoring corrupt image/label: non-normalized or out of bounds coordinates [       1.05        1.05        1.05        1.05        1.05]\n",
      "\u001b[34m\u001b[1mtrain: \u001b[0mWARNING ⚠️ trainEvalSet/train2011-1157_000002.jpg: 126 duplicate labels removed\n",
      "\u001b[34m\u001b[1mtrain: \u001b[0mWARNING ⚠️ trainEvalSet/train2011-1157_000007.jpg: 44 duplicate labels removed\n",
      "\u001b[34m\u001b[1mtrain: \u001b[0mWARNING ⚠️ trainEvalSet/train2011-1158_000001.jpg: 121 duplicate labels removed\n",
      "\u001b[34m\u001b[1mtrain: \u001b[0mWARNING ⚠️ trainEvalSet/train2011-1159_000002.jpg: 80 duplicate labels removed\n",
      "\u001b[34m\u001b[1mtrain: \u001b[0mWARNING ⚠️ trainEvalSet/train2011-115_000001.jpg: ignoring corrupt image/label: non-normalized or out of bounds coordinates [       1.05        1.05        1.05]\n",
      "\u001b[34m\u001b[1mtrain: \u001b[0mWARNING ⚠️ trainEvalSet/train2011-115_000005.jpg: 99 duplicate labels removed\n",
      "\u001b[34m\u001b[1mtrain: \u001b[0mWARNING ⚠️ trainEvalSet/train2011-115_000006.jpg: 36 duplicate labels removed\n",
      "\u001b[34m\u001b[1mtrain: \u001b[0mWARNING ⚠️ trainEvalSet/train2011-1162_000002.jpg: 106 duplicate labels removed\n",
      "\u001b[34m\u001b[1mtrain: \u001b[0mWARNING ⚠️ trainEvalSet/train2011-1163_000001.jpg: 105 duplicate labels removed\n",
      "\u001b[34m\u001b[1mtrain: \u001b[0mWARNING ⚠️ trainEvalSet/train2011-1164_000001.jpg: ignoring corrupt image/label: non-normalized or out of bounds coordinates [       1.05        1.05        1.05]\n",
      "\u001b[34m\u001b[1mtrain: \u001b[0mWARNING ⚠️ trainEvalSet/train2011-1165_000002.jpg: 90 duplicate labels removed\n",
      "\u001b[34m\u001b[1mtrain: \u001b[0mWARNING ⚠️ trainEvalSet/train2011-1165_000003.jpg: ignoring corrupt image/label: non-normalized or out of bounds coordinates [       1.05        1.05        1.05]\n",
      "\u001b[34m\u001b[1mtrain: \u001b[0mWARNING ⚠️ trainEvalSet/train2011-1165_000004.jpg: 94 duplicate labels removed\n",
      "\u001b[34m\u001b[1mtrain: \u001b[0mWARNING ⚠️ trainEvalSet/train2011-1166_000013.jpg: ignoring corrupt image/label: non-normalized or out of bounds coordinates [       1.05        1.05        1.05]\n",
      "\u001b[34m\u001b[1mtrain: \u001b[0mWARNING ⚠️ trainEvalSet/train2011-1166_000014.jpg: ignoring corrupt image/label: non-normalized or out of bounds coordinates [       1.05        1.05        1.05]\n",
      "\u001b[34m\u001b[1mtrain: \u001b[0mWARNING ⚠️ trainEvalSet/train2011-1167_000004.jpg: 70 duplicate labels removed\n",
      "\u001b[34m\u001b[1mtrain: \u001b[0mWARNING ⚠️ trainEvalSet/train2011-1169_000007.jpg: 80 duplicate labels removed\n",
      "\u001b[34m\u001b[1mtrain: \u001b[0mWARNING ⚠️ trainEvalSet/train2011-1169_000010.jpg: 46 duplicate labels removed\n",
      "\u001b[34m\u001b[1mtrain: \u001b[0mWARNING ⚠️ trainEvalSet/train2011-116_000004.jpg: 20 duplicate labels removed\n",
      "\u001b[34m\u001b[1mtrain: \u001b[0mWARNING ⚠️ trainEvalSet/train2011-116_000006.jpg: 38 duplicate labels removed\n",
      "\u001b[34m\u001b[1mtrain: \u001b[0mWARNING ⚠️ trainEvalSet/train2011-1170_000003.jpg: 115 duplicate labels removed\n",
      "\u001b[34m\u001b[1mtrain: \u001b[0mWARNING ⚠️ trainEvalSet/train2011-1171_000004.jpg: 32 duplicate labels removed\n",
      "\u001b[34m\u001b[1mtrain: \u001b[0mWARNING ⚠️ trainEvalSet/train2011-1172_000001.jpg: 72 duplicate labels removed\n",
      "\u001b[34m\u001b[1mtrain: \u001b[0mWARNING ⚠️ trainEvalSet/train2011-1172_000003.jpg: ignoring corrupt image/label: non-normalized or out of bounds coordinates [       1.05        1.05        1.05        1.05        1.05        1.05        1.05        1.05        1.05        1.05        1.05        1.05]\n",
      "\u001b[34m\u001b[1mtrain: \u001b[0mWARNING ⚠️ trainEvalSet/train2011-1172_000006.jpg: 75 duplicate labels removed\n",
      "\u001b[34m\u001b[1mtrain: \u001b[0mWARNING ⚠️ trainEvalSet/train2011-1176_000005.jpg: 159 duplicate labels removed\n",
      "\u001b[34m\u001b[1mtrain: \u001b[0mWARNING ⚠️ trainEvalSet/train2011-1178_000001.jpg: ignoring corrupt image/label: non-normalized or out of bounds coordinates [       1.05        1.05        1.05]\n",
      "\u001b[34m\u001b[1mtrain: \u001b[0mWARNING ⚠️ trainEvalSet/train2011-1179_000002.jpg: ignoring corrupt image/label: non-normalized or out of bounds coordinates [       1.05        1.05        1.05]\n",
      "\u001b[34m\u001b[1mtrain: \u001b[0mWARNING ⚠️ trainEvalSet/train2011-117_000007.jpg: 438 duplicate labels removed\n",
      "\u001b[34m\u001b[1mtrain: \u001b[0mWARNING ⚠️ trainEvalSet/train2011-117_000008.jpg: 92 duplicate labels removed\n",
      "\u001b[34m\u001b[1mtrain: \u001b[0mWARNING ⚠️ trainEvalSet/train2011-1180_000002.jpg: 92 duplicate labels removed\n",
      "\u001b[34m\u001b[1mtrain: \u001b[0mWARNING ⚠️ trainEvalSet/train2011-1180_000005.jpg: 128 duplicate labels removed\n",
      "\u001b[34m\u001b[1mtrain: \u001b[0mWARNING ⚠️ trainEvalSet/train2011-1180_000009.jpg: 78 duplicate labels removed\n",
      "\u001b[34m\u001b[1mtrain: \u001b[0mWARNING ⚠️ trainEvalSet/train2011-1183_000002.jpg: 51 duplicate labels removed\n",
      "\u001b[34m\u001b[1mtrain: \u001b[0mWARNING ⚠️ trainEvalSet/train2011-1183_000004.jpg: 16 duplicate labels removed\n",
      "\u001b[34m\u001b[1mtrain: \u001b[0mWARNING ⚠️ trainEvalSet/train2011-1183_000005.jpg: 52 duplicate labels removed\n",
      "\u001b[34m\u001b[1mtrain: \u001b[0mWARNING ⚠️ trainEvalSet/train2011-1185_000002.jpg: 206 duplicate labels removed\n",
      "\u001b[34m\u001b[1mtrain: \u001b[0mWARNING ⚠️ trainEvalSet/train2011-1186_000004.jpg: 16 duplicate labels removed\n",
      "\u001b[34m\u001b[1mtrain: \u001b[0mWARNING ⚠️ trainEvalSet/train2011-1187_000002.jpg: ignoring corrupt image/label: non-normalized or out of bounds coordinates [       1.05        1.05        1.05]\n",
      "\u001b[34m\u001b[1mtrain: \u001b[0mWARNING ⚠️ trainEvalSet/train2011-1187_000007.jpg: 86 duplicate labels removed\n",
      "\u001b[34m\u001b[1mtrain: \u001b[0mWARNING ⚠️ trainEvalSet/train2011-1191_000008.jpg: 104 duplicate labels removed\n",
      "\u001b[34m\u001b[1mtrain: \u001b[0mWARNING ⚠️ trainEvalSet/train2011-1191_000009.jpg: 119 duplicate labels removed\n",
      "\u001b[34m\u001b[1mtrain: \u001b[0mWARNING ⚠️ trainEvalSet/train2011-1191_000010.jpg: 100 duplicate labels removed\n",
      "\u001b[34m\u001b[1mtrain: \u001b[0mWARNING ⚠️ trainEvalSet/train2011-1193_000006.jpg: 24 duplicate labels removed\n",
      "\u001b[34m\u001b[1mtrain: \u001b[0mWARNING ⚠️ trainEvalSet/train2011-1194_000006.jpg: ignoring corrupt image/label: non-normalized or out of bounds coordinates [       1.05        1.05        1.05]\n",
      "\u001b[34m\u001b[1mtrain: \u001b[0mWARNING ⚠️ trainEvalSet/train2011-1195_000001.jpg: ignoring corrupt image/label: non-normalized or out of bounds coordinates [       1.05        1.05        1.05]\n",
      "\u001b[34m\u001b[1mtrain: \u001b[0mWARNING ⚠️ trainEvalSet/train2011-119_000005.jpg: 74 duplicate labels removed\n",
      "\u001b[34m\u001b[1mtrain: \u001b[0mWARNING ⚠️ trainEvalSet/train2011-11_000001.jpg: ignoring corrupt image/label: non-normalized or out of bounds coordinates [       1.05        1.05        1.05        1.05        1.05        1.05]\n",
      "\u001b[34m\u001b[1mtrain: \u001b[0mWARNING ⚠️ trainEvalSet/train2011-1200_000003.jpg: 489 duplicate labels removed\n",
      "\u001b[34m\u001b[1mtrain: \u001b[0mWARNING ⚠️ trainEvalSet/train2011-1203_000007.jpg: 284 duplicate labels removed\n",
      "\u001b[34m\u001b[1mtrain: \u001b[0mWARNING ⚠️ trainEvalSet/train2011-1206_000001.jpg: 208 duplicate labels removed\n",
      "\u001b[34m\u001b[1mtrain: \u001b[0mWARNING ⚠️ trainEvalSet/train2011-1207_000003.jpg: ignoring corrupt image/label: non-normalized or out of bounds coordinates [       1.05        1.05        1.05]\n",
      "\u001b[34m\u001b[1mtrain: \u001b[0mWARNING ⚠️ trainEvalSet/train2011-1207_000005.jpg: 4 duplicate labels removed\n",
      "\u001b[34m\u001b[1mtrain: \u001b[0mWARNING ⚠️ trainEvalSet/train2011-1207_000009.jpg: 70 duplicate labels removed\n",
      "\u001b[34m\u001b[1mtrain: \u001b[0mWARNING ⚠️ trainEvalSet/train2011-1208_000008.jpg: 111 duplicate labels removed\n",
      "\u001b[34m\u001b[1mtrain: \u001b[0mWARNING ⚠️ trainEvalSet/train2011-1210_000001.jpg: 118 duplicate labels removed\n",
      "\u001b[34m\u001b[1mtrain: \u001b[0mWARNING ⚠️ trainEvalSet/train2011-1212_000001.jpg: ignoring corrupt image/label: non-normalized or out of bounds coordinates [       1.05        1.05        1.05]\n",
      "\u001b[34m\u001b[1mtrain: \u001b[0mWARNING ⚠️ trainEvalSet/train2011-1213_000007.jpg: 85 duplicate labels removed\n",
      "\u001b[34m\u001b[1mtrain: \u001b[0mWARNING ⚠️ trainEvalSet/train2011-1214_000002.jpg: 86 duplicate labels removed\n",
      "\u001b[34m\u001b[1mtrain: \u001b[0mWARNING ⚠️ trainEvalSet/train2011-1215_000006.jpg: 78 duplicate labels removed\n",
      "\u001b[34m\u001b[1mtrain: \u001b[0mWARNING ⚠️ trainEvalSet/train2011-1215_000008.jpg: ignoring corrupt image/label: non-normalized or out of bounds coordinates [       1.05        1.05        1.05]\n",
      "\u001b[34m\u001b[1mtrain: \u001b[0mWARNING ⚠️ trainEvalSet/train2011-1216_000007.jpg: 12 duplicate labels removed\n",
      "\u001b[34m\u001b[1mtrain: \u001b[0mWARNING ⚠️ trainEvalSet/train2011-1217_000004.jpg: 66 duplicate labels removed\n",
      "\u001b[34m\u001b[1mtrain: \u001b[0mWARNING ⚠️ trainEvalSet/train2011-1219_000003.jpg: ignoring corrupt image/label: non-normalized or out of bounds coordinates [       1.05        1.05        1.05]\n",
      "\u001b[34m\u001b[1mtrain: \u001b[0mWARNING ⚠️ trainEvalSet/train2011-121_000003.jpg: 98 duplicate labels removed\n",
      "\u001b[34m\u001b[1mtrain: \u001b[0mWARNING ⚠️ trainEvalSet/train2011-1220_000002.jpg: 86 duplicate labels removed\n",
      "\u001b[34m\u001b[1mtrain: \u001b[0mWARNING ⚠️ trainEvalSet/train2011-1221_000007.jpg: 112 duplicate labels removed\n",
      "\u001b[34m\u001b[1mtrain: \u001b[0mWARNING ⚠️ trainEvalSet/train2011-1221_000009.jpg: 121 duplicate labels removed\n",
      "\u001b[34m\u001b[1mtrain: \u001b[0mWARNING ⚠️ trainEvalSet/train2011-1223_000002.jpg: 40 duplicate labels removed\n",
      "\u001b[34m\u001b[1mtrain: \u001b[0mWARNING ⚠️ trainEvalSet/train2011-1224_000003.jpg: ignoring corrupt image/label: non-normalized or out of bounds coordinates [       1.05        1.05        1.05]\n",
      "\u001b[34m\u001b[1mtrain: \u001b[0mWARNING ⚠️ trainEvalSet/train2011-1224_000008.jpg: 86 duplicate labels removed\n",
      "\u001b[34m\u001b[1mtrain: \u001b[0mWARNING ⚠️ trainEvalSet/train2011-1227_000004.jpg: ignoring corrupt image/label: non-normalized or out of bounds coordinates [       1.05        1.05        1.05]\n",
      "\u001b[34m\u001b[1mtrain: \u001b[0mWARNING ⚠️ trainEvalSet/train2011-1228_000002.jpg: ignoring corrupt image/label: non-normalized or out of bounds coordinates [       1.05        1.05        1.05        1.05        1.05        1.05        1.05        1.05        1.05        1.05]\n",
      "\u001b[34m\u001b[1mtrain: \u001b[0mWARNING ⚠️ trainEvalSet/train2011-1228_000004.jpg: ignoring corrupt image/label: non-normalized or out of bounds coordinates [       1.05        1.05        1.05        1.05        1.05]\n",
      "\u001b[34m\u001b[1mtrain: \u001b[0mWARNING ⚠️ trainEvalSet/train2011-1228_000006.jpg: 123 duplicate labels removed\n",
      "\u001b[34m\u001b[1mtrain: \u001b[0mWARNING ⚠️ trainEvalSet/train2011-1229_000002.jpg: 48 duplicate labels removed\n",
      "\u001b[34m\u001b[1mtrain: \u001b[0mWARNING ⚠️ trainEvalSet/train2011-1229_000003.jpg: ignoring corrupt image/label: non-normalized or out of bounds coordinates [       1.05        1.05        1.05]\n",
      "\u001b[34m\u001b[1mtrain: \u001b[0mWARNING ⚠️ trainEvalSet/train2011-1230_000001.jpg: ignoring corrupt image/label: non-normalized or out of bounds coordinates [       1.05        1.05        1.05        1.05        1.05        1.05]\n",
      "\u001b[34m\u001b[1mtrain: \u001b[0mWARNING ⚠️ trainEvalSet/train2011-1231_000004.jpg: 84 duplicate labels removed\n",
      "\u001b[34m\u001b[1mtrain: \u001b[0mWARNING ⚠️ trainEvalSet/train2011-1231_000006.jpg: 82 duplicate labels removed\n",
      "\u001b[34m\u001b[1mtrain: \u001b[0mWARNING ⚠️ trainEvalSet/train2011-1231_000008.jpg: 263 duplicate labels removed\n",
      "\u001b[34m\u001b[1mtrain: \u001b[0mWARNING ⚠️ trainEvalSet/train2011-1232_000006.jpg: ignoring corrupt image/label: non-normalized or out of bounds coordinates [       1.05        1.05        1.05        1.05        1.05        1.05        1.05        1.05]\n",
      "\u001b[34m\u001b[1mtrain: \u001b[0mWARNING ⚠️ trainEvalSet/train2011-1232_000008.jpg: 84 duplicate labels removed\n",
      "\u001b[34m\u001b[1mtrain: \u001b[0mWARNING ⚠️ trainEvalSet/train2011-1235_000001.jpg: 76 duplicate labels removed\n",
      "\u001b[34m\u001b[1mtrain: \u001b[0mWARNING ⚠️ trainEvalSet/train2011-1235_000002.jpg: 79 duplicate labels removed\n",
      "\u001b[34m\u001b[1mtrain: \u001b[0mWARNING ⚠️ trainEvalSet/train2011-1239_000001.jpg: ignoring corrupt image/label: non-normalized or out of bounds coordinates [       1.05        1.05        1.05]\n",
      "\u001b[34m\u001b[1mtrain: \u001b[0mWARNING ⚠️ trainEvalSet/train2011-123_000004.jpg: 75 duplicate labels removed\n",
      "\u001b[34m\u001b[1mtrain: \u001b[0mWARNING ⚠️ trainEvalSet/train2011-123_000008.jpg: 81 duplicate labels removed\n",
      "\u001b[34m\u001b[1mtrain: \u001b[0mWARNING ⚠️ trainEvalSet/train2011-1240_000002.jpg: 82 duplicate labels removed\n",
      "\u001b[34m\u001b[1mtrain: \u001b[0mWARNING ⚠️ trainEvalSet/train2011-1242_000010.jpg: 68 duplicate labels removed\n",
      "\u001b[34m\u001b[1mtrain: \u001b[0mWARNING ⚠️ trainEvalSet/train2011-1243_000007.jpg: 80 duplicate labels removed\n",
      "\u001b[34m\u001b[1mtrain: \u001b[0mWARNING ⚠️ trainEvalSet/train2011-1244_000006.jpg: ignoring corrupt image/label: non-normalized or out of bounds coordinates [       1.05        1.05        1.05]\n",
      "\u001b[34m\u001b[1mtrain: \u001b[0mWARNING ⚠️ trainEvalSet/train2011-1245_000006.jpg: 79 duplicate labels removed\n",
      "\u001b[34m\u001b[1mtrain: \u001b[0mWARNING ⚠️ trainEvalSet/train2011-1245_000009.jpg: 82 duplicate labels removed\n",
      "\u001b[34m\u001b[1mtrain: \u001b[0mWARNING ⚠️ trainEvalSet/train2011-1247_000004.jpg: 56 duplicate labels removed\n",
      "\u001b[34m\u001b[1mtrain: \u001b[0mWARNING ⚠️ trainEvalSet/train2011-1248_000002.jpg: ignoring corrupt image/label: non-normalized or out of bounds coordinates [       1.05        1.05        1.05]\n",
      "\u001b[34m\u001b[1mtrain: \u001b[0mWARNING ⚠️ trainEvalSet/train2011-124_000005.jpg: ignoring corrupt image/label: non-normalized or out of bounds coordinates [       1.05        1.05        1.05]\n",
      "\u001b[34m\u001b[1mtrain: \u001b[0mWARNING ⚠️ trainEvalSet/train2011-1251_000004.jpg: 68 duplicate labels removed\n",
      "\u001b[34m\u001b[1mtrain: \u001b[0mWARNING ⚠️ trainEvalSet/train2011-1253_000002.jpg: ignoring corrupt image/label: non-normalized or out of bounds coordinates [       1.05        1.05        1.05]\n",
      "\u001b[34m\u001b[1mtrain: \u001b[0mWARNING ⚠️ trainEvalSet/train2011-1253_000003.jpg: 77 duplicate labels removed\n",
      "\u001b[34m\u001b[1mtrain: \u001b[0mWARNING ⚠️ trainEvalSet/train2011-1255_000006.jpg: ignoring corrupt image/label: non-normalized or out of bounds coordinates [       1.05        1.05        1.05]\n",
      "\u001b[34m\u001b[1mtrain: \u001b[0mWARNING ⚠️ trainEvalSet/train2011-1256_000002.jpg: 100 duplicate labels removed\n",
      "\u001b[34m\u001b[1mtrain: \u001b[0mWARNING ⚠️ trainEvalSet/train2011-1259_000006.jpg: ignoring corrupt image/label: non-normalized or out of bounds coordinates [       1.05        1.05        1.05]\n",
      "\u001b[34m\u001b[1mtrain: \u001b[0mWARNING ⚠️ trainEvalSet/train2011-1259_000008.jpg: 359 duplicate labels removed\n",
      "\u001b[34m\u001b[1mtrain: \u001b[0mWARNING ⚠️ trainEvalSet/train2011-1260_000006.jpg: ignoring corrupt image/label: non-normalized or out of bounds coordinates [       1.05        1.05        1.05        1.05        1.05]\n",
      "\u001b[34m\u001b[1mtrain: \u001b[0mWARNING ⚠️ trainEvalSet/train2011-1261_000001.jpg: ignoring corrupt image/label: non-normalized or out of bounds coordinates [       1.05        1.05        1.05]\n",
      "\u001b[34m\u001b[1mtrain: \u001b[0mWARNING ⚠️ trainEvalSet/train2011-1261_000004.jpg: 70 duplicate labels removed\n",
      "\u001b[34m\u001b[1mtrain: \u001b[0mWARNING ⚠️ trainEvalSet/train2011-1264_000002.jpg: 125 duplicate labels removed\n",
      "\u001b[34m\u001b[1mtrain: \u001b[0mWARNING ⚠️ trainEvalSet/train2011-1267_000002.jpg: 56 duplicate labels removed\n",
      "\u001b[34m\u001b[1mtrain: \u001b[0mWARNING ⚠️ trainEvalSet/train2011-1267_000003.jpg: 62 duplicate labels removed\n",
      "\u001b[34m\u001b[1mtrain: \u001b[0mWARNING ⚠️ trainEvalSet/train2011-1269_000002.jpg: 34 duplicate labels removed\n",
      "\u001b[34m\u001b[1mtrain: \u001b[0mWARNING ⚠️ trainEvalSet/train2011-1269_000004.jpg: ignoring corrupt image/label: non-normalized or out of bounds coordinates [       1.05        1.05        1.05]\n",
      "\u001b[34m\u001b[1mtrain: \u001b[0mWARNING ⚠️ trainEvalSet/train2011-126_000007.jpg: 114 duplicate labels removed\n",
      "\u001b[34m\u001b[1mtrain: \u001b[0mWARNING ⚠️ trainEvalSet/train2011-1270_000002.jpg: ignoring corrupt image/label: non-normalized or out of bounds coordinates [       1.05        1.05        1.05        1.05        1.05        1.05        1.05        1.05]\n",
      "\u001b[34m\u001b[1mtrain: \u001b[0mWARNING ⚠️ trainEvalSet/train2011-1272_000003.jpg: 96 duplicate labels removed\n",
      "\u001b[34m\u001b[1mtrain: \u001b[0mWARNING ⚠️ trainEvalSet/train2011-1273_000001.jpg: 72 duplicate labels removed\n",
      "\u001b[34m\u001b[1mtrain: \u001b[0mWARNING ⚠️ trainEvalSet/train2011-1273_000003.jpg: 95 duplicate labels removed\n",
      "\u001b[34m\u001b[1mtrain: \u001b[0mWARNING ⚠️ trainEvalSet/train2011-1274_000001.jpg: 137 duplicate labels removed\n",
      "\u001b[34m\u001b[1mtrain: \u001b[0mWARNING ⚠️ trainEvalSet/train2011-1276_000005.jpg: 100 duplicate labels removed\n",
      "\u001b[34m\u001b[1mtrain: \u001b[0mWARNING ⚠️ trainEvalSet/train2011-1277_000004.jpg: 104 duplicate labels removed\n",
      "\u001b[34m\u001b[1mtrain: \u001b[0mWARNING ⚠️ trainEvalSet/train2011-1278_000002.jpg: 54 duplicate labels removed\n",
      "\u001b[34m\u001b[1mtrain: \u001b[0mWARNING ⚠️ trainEvalSet/train2011-1278_000004.jpg: ignoring corrupt image/label: non-normalized or out of bounds coordinates [       1.05        1.05        1.05        1.05        1.05        1.05]\n",
      "\u001b[34m\u001b[1mtrain: \u001b[0mWARNING ⚠️ trainEvalSet/train2011-1278_000005.jpg: 48 duplicate labels removed\n",
      "\u001b[34m\u001b[1mtrain: \u001b[0mWARNING ⚠️ trainEvalSet/train2011-1278_000006.jpg: 22 duplicate labels removed\n",
      "\u001b[34m\u001b[1mtrain: \u001b[0mWARNING ⚠️ trainEvalSet/train2011-1280_000008.jpg: ignoring corrupt image/label: non-normalized or out of bounds coordinates [       1.05        1.05        1.05]\n",
      "\u001b[34m\u001b[1mtrain: \u001b[0mWARNING ⚠️ trainEvalSet/train2011-1280_000010.jpg: 111 duplicate labels removed\n",
      "\u001b[34m\u001b[1mtrain: \u001b[0mWARNING ⚠️ trainEvalSet/train2011-1281_000004.jpg: ignoring corrupt image/label: non-normalized or out of bounds coordinates [       1.05        1.05        1.05]\n",
      "\u001b[34m\u001b[1mtrain: \u001b[0mWARNING ⚠️ trainEvalSet/train2011-1283_000005.jpg: 56 duplicate labels removed\n",
      "\u001b[34m\u001b[1mtrain: \u001b[0mWARNING ⚠️ trainEvalSet/train2011-1284_000004.jpg: 47 duplicate labels removed\n",
      "\u001b[34m\u001b[1mtrain: \u001b[0mWARNING ⚠️ trainEvalSet/train2011-1286_000004.jpg: 84 duplicate labels removed\n",
      "\u001b[34m\u001b[1mtrain: \u001b[0mWARNING ⚠️ trainEvalSet/train2011-1287_000001.jpg: 92 duplicate labels removed\n",
      "\u001b[34m\u001b[1mtrain: \u001b[0mWARNING ⚠️ trainEvalSet/train2011-1287_000004.jpg: 82 duplicate labels removed\n",
      "\u001b[34m\u001b[1mtrain: \u001b[0mWARNING ⚠️ trainEvalSet/train2011-1289_000001.jpg: 60 duplicate labels removed\n",
      "\u001b[34m\u001b[1mtrain: \u001b[0mWARNING ⚠️ trainEvalSet/train2011-128_000002.jpg: ignoring corrupt image/label: non-normalized or out of bounds coordinates [       1.05        1.05        1.05]\n",
      "\u001b[34m\u001b[1mtrain: \u001b[0mWARNING ⚠️ trainEvalSet/train2011-1290_000004.jpg: 82 duplicate labels removed\n",
      "\u001b[34m\u001b[1mtrain: \u001b[0mWARNING ⚠️ trainEvalSet/train2011-1293_000001.jpg: 70 duplicate labels removed\n",
      "\u001b[34m\u001b[1mtrain: \u001b[0mWARNING ⚠️ trainEvalSet/train2011-1295_000002.jpg: 50 duplicate labels removed\n",
      "\u001b[34m\u001b[1mtrain: \u001b[0mWARNING ⚠️ trainEvalSet/train2011-1296_000001.jpg: ignoring corrupt image/label: non-normalized or out of bounds coordinates [       1.05        1.05        1.05]\n",
      "\u001b[34m\u001b[1mtrain: \u001b[0mWARNING ⚠️ trainEvalSet/train2011-1297_000002.jpg: 79 duplicate labels removed\n",
      "\u001b[34m\u001b[1mtrain: \u001b[0mWARNING ⚠️ trainEvalSet/train2011-1297_000004.jpg: 46 duplicate labels removed\n",
      "\u001b[34m\u001b[1mtrain: \u001b[0mWARNING ⚠️ trainEvalSet/train2011-1298_000007.jpg: ignoring corrupt image/label: non-normalized or out of bounds coordinates [       1.05        1.05        1.05]\n",
      "\u001b[34m\u001b[1mtrain: \u001b[0mWARNING ⚠️ trainEvalSet/train2011-1299_000006.jpg: 137 duplicate labels removed\n",
      "\u001b[34m\u001b[1mtrain: \u001b[0mWARNING ⚠️ trainEvalSet/train2011-12_000006.jpg: 52 duplicate labels removed\n",
      "\u001b[34m\u001b[1mtrain: \u001b[0mWARNING ⚠️ trainEvalSet/train2011-1301_000002.jpg: 76 duplicate labels removed\n",
      "\u001b[34m\u001b[1mtrain: \u001b[0mWARNING ⚠️ trainEvalSet/train2011-1302_000004.jpg: 70 duplicate labels removed\n",
      "\u001b[34m\u001b[1mtrain: \u001b[0mWARNING ⚠️ trainEvalSet/train2011-1303_000003.jpg: 78 duplicate labels removed\n",
      "\u001b[34m\u001b[1mtrain: \u001b[0mWARNING ⚠️ trainEvalSet/train2011-1303_000005.jpg: 74 duplicate labels removed\n",
      "\u001b[34m\u001b[1mtrain: \u001b[0mWARNING ⚠️ trainEvalSet/train2011-1303_000006.jpg: 44 duplicate labels removed\n",
      "\u001b[34m\u001b[1mtrain: \u001b[0mWARNING ⚠️ trainEvalSet/train2011-1304_000001.jpg: ignoring corrupt image/label: non-normalized or out of bounds coordinates [       1.05        1.05        1.05]\n",
      "\u001b[34m\u001b[1mtrain: \u001b[0mWARNING ⚠️ trainEvalSet/train2011-1306_000003.jpg: ignoring corrupt image/label: non-normalized or out of bounds coordinates [       1.05        1.05        1.05]\n",
      "\u001b[34m\u001b[1mtrain: \u001b[0mWARNING ⚠️ trainEvalSet/train2011-1307_000004.jpg: 99 duplicate labels removed\n",
      "\u001b[34m\u001b[1mtrain: \u001b[0mWARNING ⚠️ trainEvalSet/train2011-1308_000008.jpg: 50 duplicate labels removed\n",
      "\u001b[34m\u001b[1mtrain: \u001b[0mWARNING ⚠️ trainEvalSet/train2011-1308_000010.jpg: 105 duplicate labels removed\n",
      "\u001b[34m\u001b[1mtrain: \u001b[0mWARNING ⚠️ trainEvalSet/train2011-1309_000001.jpg: 99 duplicate labels removed\n",
      "\u001b[34m\u001b[1mtrain: \u001b[0mWARNING ⚠️ trainEvalSet/train2011-130_000003.jpg: 54 duplicate labels removed\n",
      "\u001b[34m\u001b[1mtrain: \u001b[0mWARNING ⚠️ trainEvalSet/train2011-130_000011.jpg: 438 duplicate labels removed\n",
      "\u001b[34m\u001b[1mtrain: \u001b[0mWARNING ⚠️ trainEvalSet/train2011-130_000012.jpg: 59 duplicate labels removed\n",
      "\u001b[34m\u001b[1mtrain: \u001b[0mWARNING ⚠️ trainEvalSet/train2011-1310_000003.jpg: 180 duplicate labels removed\n",
      "\u001b[34m\u001b[1mtrain: \u001b[0mWARNING ⚠️ trainEvalSet/train2011-1311_000002.jpg: 68 duplicate labels removed\n",
      "\u001b[34m\u001b[1mtrain: \u001b[0mWARNING ⚠️ trainEvalSet/train2011-1311_000003.jpg: 123 duplicate labels removed\n",
      "\u001b[34m\u001b[1mtrain: \u001b[0mWARNING ⚠️ trainEvalSet/train2011-1312_000004.jpg: ignoring corrupt image/label: non-normalized or out of bounds coordinates [       1.05        1.05        1.05]\n",
      "\u001b[34m\u001b[1mtrain: \u001b[0mWARNING ⚠️ trainEvalSet/train2011-1313_000003.jpg: ignoring corrupt image/label: non-normalized or out of bounds coordinates [       1.05        1.05        1.05        1.05        1.05        1.05]\n",
      "\u001b[34m\u001b[1mtrain: \u001b[0mWARNING ⚠️ trainEvalSet/train2011-1313_000006.jpg: 36 duplicate labels removed\n",
      "\u001b[34m\u001b[1mtrain: \u001b[0mWARNING ⚠️ trainEvalSet/train2011-1314_000002.jpg: ignoring corrupt image/label: non-normalized or out of bounds coordinates [       1.05        1.05        1.05]\n",
      "\u001b[34m\u001b[1mtrain: \u001b[0mWARNING ⚠️ trainEvalSet/train2011-1314_000004.jpg: 112 duplicate labels removed\n",
      "\u001b[34m\u001b[1mtrain: \u001b[0mWARNING ⚠️ trainEvalSet/train2011-1314_000005.jpg: 54 duplicate labels removed\n",
      "\u001b[34m\u001b[1mtrain: \u001b[0mWARNING ⚠️ trainEvalSet/train2011-1316_000004.jpg: 83 duplicate labels removed\n",
      "\u001b[34m\u001b[1mtrain: \u001b[0mWARNING ⚠️ trainEvalSet/train2011-1316_000009.jpg: ignoring corrupt image/label: non-normalized or out of bounds coordinates [       1.05        1.05        1.05        1.05        1.05]\n",
      "\u001b[34m\u001b[1mtrain: \u001b[0mWARNING ⚠️ trainEvalSet/train2011-1318_000004.jpg: 78 duplicate labels removed\n",
      "\u001b[34m\u001b[1mtrain: \u001b[0mWARNING ⚠️ trainEvalSet/train2011-1319_000006.jpg: 98 duplicate labels removed\n",
      "\u001b[34m\u001b[1mtrain: \u001b[0mWARNING ⚠️ trainEvalSet/train2011-1319_000007.jpg: 24 duplicate labels removed\n",
      "\u001b[34m\u001b[1mtrain: \u001b[0mWARNING ⚠️ trainEvalSet/train2011-131_000004.jpg: ignoring corrupt image/label: non-normalized or out of bounds coordinates [       1.05        1.05        1.05]\n",
      "\u001b[34m\u001b[1mtrain: \u001b[0mWARNING ⚠️ trainEvalSet/train2011-131_000008.jpg: 63 duplicate labels removed\n",
      "\u001b[34m\u001b[1mtrain: \u001b[0mWARNING ⚠️ trainEvalSet/train2011-1324_000003.jpg: 205 duplicate labels removed\n",
      "\u001b[34m\u001b[1mtrain: \u001b[0mWARNING ⚠️ trainEvalSet/train2011-1328_000004.jpg: 78 duplicate labels removed\n",
      "\u001b[34m\u001b[1mtrain: \u001b[0mWARNING ⚠️ trainEvalSet/train2011-1329_000004.jpg: 88 duplicate labels removed\n",
      "\u001b[34m\u001b[1mtrain: \u001b[0mWARNING ⚠️ trainEvalSet/train2011-1330_000006.jpg: ignoring corrupt image/label: non-normalized or out of bounds coordinates [       1.05        1.05        1.05]\n",
      "\u001b[34m\u001b[1mtrain: \u001b[0mWARNING ⚠️ trainEvalSet/train2011-1332_000001.jpg: 118 duplicate labels removed\n",
      "\u001b[34m\u001b[1mtrain: \u001b[0mWARNING ⚠️ trainEvalSet/train2011-1333_000005.jpg: 132 duplicate labels removed\n",
      "\u001b[34m\u001b[1mtrain: \u001b[0mWARNING ⚠️ trainEvalSet/train2011-1333_000006.jpg: 116 duplicate labels removed\n",
      "\u001b[34m\u001b[1mtrain: \u001b[0mWARNING ⚠️ trainEvalSet/train2011-1334_000003.jpg: 106 duplicate labels removed\n",
      "\u001b[34m\u001b[1mtrain: \u001b[0mWARNING ⚠️ trainEvalSet/train2011-1334_000006.jpg: 140 duplicate labels removed\n",
      "\u001b[34m\u001b[1mtrain: \u001b[0mWARNING ⚠️ trainEvalSet/train2011-1335_000007.jpg: 86 duplicate labels removed\n",
      "\u001b[34m\u001b[1mtrain: \u001b[0mWARNING ⚠️ trainEvalSet/train2011-1336_000002.jpg: 131 duplicate labels removed\n",
      "\u001b[34m\u001b[1mtrain: \u001b[0mWARNING ⚠️ trainEvalSet/train2011-1336_000007.jpg: 22 duplicate labels removed\n",
      "\u001b[34m\u001b[1mtrain: \u001b[0mWARNING ⚠️ trainEvalSet/train2011-1336_000010.jpg: 24 duplicate labels removed\n",
      "\u001b[34m\u001b[1mtrain: \u001b[0mWARNING ⚠️ trainEvalSet/train2011-1337_000003.jpg: 50 duplicate labels removed\n",
      "\u001b[34m\u001b[1mtrain: \u001b[0mWARNING ⚠️ trainEvalSet/train2011-1339_000004.jpg: ignoring corrupt image/label: non-normalized or out of bounds coordinates [       1.05        1.05        1.05]\n",
      "\u001b[34m\u001b[1mtrain: \u001b[0mWARNING ⚠️ trainEvalSet/train2011-1339_000006.jpg: ignoring corrupt image/label: non-normalized or out of bounds coordinates [       1.05        1.05        1.05]\n",
      "\u001b[34m\u001b[1mtrain: \u001b[0mWARNING ⚠️ trainEvalSet/train2011-133_000001.jpg: ignoring corrupt image/label: non-normalized or out of bounds coordinates [       1.05        1.05        1.05]\n",
      "\u001b[34m\u001b[1mtrain: \u001b[0mWARNING ⚠️ trainEvalSet/train2011-133_000003.jpg: ignoring corrupt image/label: non-normalized or out of bounds coordinates [       1.05        1.05        1.05]\n",
      "\u001b[34m\u001b[1mtrain: \u001b[0mWARNING ⚠️ trainEvalSet/train2011-1344_000003.jpg: 50 duplicate labels removed\n",
      "\u001b[34m\u001b[1mtrain: \u001b[0mWARNING ⚠️ trainEvalSet/train2011-1344_000006.jpg: 78 duplicate labels removed\n",
      "\u001b[34m\u001b[1mtrain: \u001b[0mWARNING ⚠️ trainEvalSet/train2011-1345_000001.jpg: ignoring corrupt image/label: non-normalized or out of bounds coordinates [       1.05        1.05        1.05]\n",
      "\u001b[34m\u001b[1mtrain: \u001b[0mWARNING ⚠️ trainEvalSet/train2011-1345_000002.jpg: 339 duplicate labels removed\n",
      "\u001b[34m\u001b[1mtrain: \u001b[0mWARNING ⚠️ trainEvalSet/train2011-1345_000003.jpg: ignoring corrupt image/label: non-normalized or out of bounds coordinates [       1.05        1.05        1.05]\n",
      "\u001b[34m\u001b[1mtrain: \u001b[0mWARNING ⚠️ trainEvalSet/train2011-1345_000005.jpg: 45 duplicate labels removed\n",
      "\u001b[34m\u001b[1mtrain: \u001b[0mWARNING ⚠️ trainEvalSet/train2011-1346_000001.jpg: 83 duplicate labels removed\n",
      "\u001b[34m\u001b[1mtrain: \u001b[0mWARNING ⚠️ trainEvalSet/train2011-1349_000004.jpg: 62 duplicate labels removed\n",
      "\u001b[34m\u001b[1mtrain: \u001b[0mWARNING ⚠️ trainEvalSet/train2011-1349_000005.jpg: 64 duplicate labels removed\n",
      "\u001b[34m\u001b[1mtrain: \u001b[0mWARNING ⚠️ trainEvalSet/train2011-134_000001.jpg: 67 duplicate labels removed\n",
      "\u001b[34m\u001b[1mtrain: \u001b[0mWARNING ⚠️ trainEvalSet/train2011-1352_000001.jpg: 82 duplicate labels removed\n",
      "\u001b[34m\u001b[1mtrain: \u001b[0mWARNING ⚠️ trainEvalSet/train2011-1353_000003.jpg: 227 duplicate labels removed\n",
      "\u001b[34m\u001b[1mtrain: \u001b[0mWARNING ⚠️ trainEvalSet/train2011-1353_000004.jpg: ignoring corrupt image/label: non-normalized or out of bounds coordinates [       1.05        1.05        1.05]\n",
      "\u001b[34m\u001b[1mtrain: \u001b[0mWARNING ⚠️ trainEvalSet/train2011-1354_000003.jpg: ignoring corrupt image/label: non-normalized or out of bounds coordinates [       1.05        1.05        1.05        1.05        1.05        1.05        1.05        1.05        1.05        1.05        1.05]\n",
      "\u001b[34m\u001b[1mtrain: \u001b[0mWARNING ⚠️ trainEvalSet/train2011-1354_000004.jpg: 63 duplicate labels removed\n",
      "\u001b[34m\u001b[1mtrain: \u001b[0mWARNING ⚠️ trainEvalSet/train2011-1356_000007.jpg: ignoring corrupt image/label: non-normalized or out of bounds coordinates [       1.05        1.05        1.05]\n",
      "\u001b[34m\u001b[1mtrain: \u001b[0mWARNING ⚠️ trainEvalSet/train2011-1357_000001.jpg: 114 duplicate labels removed\n",
      "\u001b[34m\u001b[1mtrain: \u001b[0mWARNING ⚠️ trainEvalSet/train2011-1357_000004.jpg: ignoring corrupt image/label: non-normalized or out of bounds coordinates [       1.05        1.05        1.05]\n",
      "\u001b[34m\u001b[1mtrain: \u001b[0mWARNING ⚠️ trainEvalSet/train2011-135_000006.jpg: ignoring corrupt image/label: non-normalized or out of bounds coordinates [       1.05        1.05        1.05]\n",
      "\u001b[34m\u001b[1mtrain: \u001b[0mWARNING ⚠️ trainEvalSet/train2011-135_000007.jpg: 206 duplicate labels removed\n",
      "\u001b[34m\u001b[1mtrain: \u001b[0mWARNING ⚠️ trainEvalSet/train2011-1360_000001.jpg: 85 duplicate labels removed\n",
      "\u001b[34m\u001b[1mtrain: \u001b[0mWARNING ⚠️ trainEvalSet/train2011-1360_000002.jpg: 63 duplicate labels removed\n",
      "\u001b[34m\u001b[1mtrain: \u001b[0mWARNING ⚠️ trainEvalSet/train2011-1360_000005.jpg: ignoring corrupt image/label: non-normalized or out of bounds coordinates [       1.05        1.05        1.05]\n",
      "\u001b[34m\u001b[1mtrain: \u001b[0mWARNING ⚠️ trainEvalSet/train2011-1361_000001.jpg: 58 duplicate labels removed\n",
      "\u001b[34m\u001b[1mtrain: \u001b[0mWARNING ⚠️ trainEvalSet/train2011-1361_000005.jpg: 18 duplicate labels removed\n",
      "\u001b[34m\u001b[1mtrain: \u001b[0mWARNING ⚠️ trainEvalSet/train2011-1362_000001.jpg: ignoring corrupt image/label: non-normalized or out of bounds coordinates [       1.05        1.05        1.05        1.05        1.05        1.05        1.05        1.05        1.05        1.05]\n",
      "\u001b[34m\u001b[1mtrain: \u001b[0mWARNING ⚠️ trainEvalSet/train2011-1362_000005.jpg: 72 duplicate labels removed\n",
      "\u001b[34m\u001b[1mtrain: \u001b[0mWARNING ⚠️ trainEvalSet/train2011-1363_000005.jpg: 80 duplicate labels removed\n",
      "\u001b[34m\u001b[1mtrain: \u001b[0mWARNING ⚠️ trainEvalSet/train2011-1363_000007.jpg: 44 duplicate labels removed\n",
      "\u001b[34m\u001b[1mtrain: \u001b[0mWARNING ⚠️ trainEvalSet/train2011-1364_000002.jpg: 82 duplicate labels removed\n",
      "\u001b[34m\u001b[1mtrain: \u001b[0mWARNING ⚠️ trainEvalSet/train2011-1365_000001.jpg: 174 duplicate labels removed\n",
      "\u001b[34m\u001b[1mtrain: \u001b[0mWARNING ⚠️ trainEvalSet/train2011-1365_000005.jpg: ignoring corrupt image/label: non-normalized or out of bounds coordinates [       1.05        1.05        1.05]\n",
      "\u001b[34m\u001b[1mtrain: \u001b[0mWARNING ⚠️ trainEvalSet/train2011-1366_000001.jpg: 146 duplicate labels removed\n",
      "\u001b[34m\u001b[1mtrain: \u001b[0mWARNING ⚠️ trainEvalSet/train2011-1367_000003.jpg: 36 duplicate labels removed\n",
      "\u001b[34m\u001b[1mtrain: \u001b[0mWARNING ⚠️ trainEvalSet/train2011-1369_000001.jpg: ignoring corrupt image/label: non-normalized or out of bounds coordinates [       1.05        1.05        1.05]\n",
      "\u001b[34m\u001b[1mtrain: \u001b[0mWARNING ⚠️ trainEvalSet/train2011-1369_000003.jpg: ignoring corrupt image/label: non-normalized or out of bounds coordinates [       1.05        1.05        1.05]\n",
      "\u001b[34m\u001b[1mtrain: \u001b[0mWARNING ⚠️ trainEvalSet/train2011-1369_000004.jpg: 95 duplicate labels removed\n",
      "\u001b[34m\u001b[1mtrain: \u001b[0mWARNING ⚠️ trainEvalSet/train2011-1369_000005.jpg: 102 duplicate labels removed\n",
      "\u001b[34m\u001b[1mtrain: \u001b[0mWARNING ⚠️ trainEvalSet/train2011-136_000004.jpg: 114 duplicate labels removed\n",
      "\u001b[34m\u001b[1mtrain: \u001b[0mWARNING ⚠️ trainEvalSet/train2011-1372_000001.jpg: ignoring corrupt image/label: non-normalized or out of bounds coordinates [       1.05        1.05        1.05]\n",
      "\u001b[34m\u001b[1mtrain: \u001b[0mWARNING ⚠️ trainEvalSet/train2011-1375_000004.jpg: ignoring corrupt image/label: non-normalized or out of bounds coordinates [       1.05        1.05        1.05]\n",
      "\u001b[34m\u001b[1mtrain: \u001b[0mWARNING ⚠️ trainEvalSet/train2011-1375_000006.jpg: 58 duplicate labels removed\n",
      "\u001b[34m\u001b[1mtrain: \u001b[0mWARNING ⚠️ trainEvalSet/train2011-1376_000004.jpg: ignoring corrupt image/label: non-normalized or out of bounds coordinates [       1.05        1.05        1.05]\n",
      "\u001b[34m\u001b[1mtrain: \u001b[0mWARNING ⚠️ trainEvalSet/train2011-1377_000003.jpg: 80 duplicate labels removed\n",
      "\u001b[34m\u001b[1mtrain: \u001b[0mWARNING ⚠️ trainEvalSet/train2011-1378_000003.jpg: 102 duplicate labels removed\n",
      "\u001b[34m\u001b[1mtrain: \u001b[0mWARNING ⚠️ trainEvalSet/train2011-1378_000004.jpg: 65 duplicate labels removed\n",
      "\u001b[34m\u001b[1mtrain: \u001b[0mWARNING ⚠️ trainEvalSet/train2011-1379_000004.jpg: ignoring corrupt image/label: non-normalized or out of bounds coordinates [       1.05        1.05        1.05]\n",
      "\u001b[34m\u001b[1mtrain: \u001b[0mWARNING ⚠️ trainEvalSet/train2011-137_000009.jpg: 52 duplicate labels removed\n",
      "\u001b[34m\u001b[1mtrain: \u001b[0mWARNING ⚠️ trainEvalSet/train2011-1380_000002.jpg: ignoring corrupt image/label: non-normalized or out of bounds coordinates [       1.05        1.05        1.05]\n",
      "\u001b[34m\u001b[1mtrain: \u001b[0mWARNING ⚠️ trainEvalSet/train2011-1381_000005.jpg: 80 duplicate labels removed\n",
      "\u001b[34m\u001b[1mtrain: \u001b[0mWARNING ⚠️ trainEvalSet/train2011-1381_000006.jpg: 71 duplicate labels removed\n",
      "\u001b[34m\u001b[1mtrain: \u001b[0mWARNING ⚠️ trainEvalSet/train2011-1382_000003.jpg: 1 duplicate labels removed\n",
      "\u001b[34m\u001b[1mtrain: \u001b[0mWARNING ⚠️ trainEvalSet/train2011-1382_000004.jpg: 97 duplicate labels removed\n",
      "\u001b[34m\u001b[1mtrain: \u001b[0mWARNING ⚠️ trainEvalSet/train2011-1382_000005.jpg: 96 duplicate labels removed\n",
      "\u001b[34m\u001b[1mtrain: \u001b[0mWARNING ⚠️ trainEvalSet/train2011-1383_000005.jpg: ignoring corrupt image/label: non-normalized or out of bounds coordinates [       1.05        1.05        1.05        1.05        1.05        1.05]\n",
      "\u001b[34m\u001b[1mtrain: \u001b[0mWARNING ⚠️ trainEvalSet/train2011-1385_000003.jpg: ignoring corrupt image/label: non-normalized or out of bounds coordinates [       1.05        1.05        1.05        1.05        1.05        1.05]\n",
      "\u001b[34m\u001b[1mtrain: \u001b[0mWARNING ⚠️ trainEvalSet/train2011-1386_000003.jpg: 86 duplicate labels removed\n",
      "\u001b[34m\u001b[1mtrain: \u001b[0mWARNING ⚠️ trainEvalSet/train2011-1386_000010.jpg: 81 duplicate labels removed\n",
      "\u001b[34m\u001b[1mtrain: \u001b[0mWARNING ⚠️ trainEvalSet/train2011-1386_000012.jpg: 191 duplicate labels removed\n",
      "\u001b[34m\u001b[1mtrain: \u001b[0mWARNING ⚠️ trainEvalSet/train2011-1386_000013.jpg: 100 duplicate labels removed\n",
      "\u001b[34m\u001b[1mtrain: \u001b[0mWARNING ⚠️ trainEvalSet/train2011-1387_000009.jpg: 46 duplicate labels removed\n",
      "\u001b[34m\u001b[1mtrain: \u001b[0mWARNING ⚠️ trainEvalSet/train2011-1388_000004.jpg: 76 duplicate labels removed\n",
      "\u001b[34m\u001b[1mtrain: \u001b[0mWARNING ⚠️ trainEvalSet/train2011-1388_000008.jpg: ignoring corrupt image/label: non-normalized or out of bounds coordinates [       1.05        1.05        1.05]\n",
      "\u001b[34m\u001b[1mtrain: \u001b[0mWARNING ⚠️ trainEvalSet/train2011-138_000002.jpg: 111 duplicate labels removed\n",
      "\u001b[34m\u001b[1mtrain: \u001b[0mWARNING ⚠️ trainEvalSet/train2011-138_000007.jpg: 26 duplicate labels removed\n",
      "\u001b[34m\u001b[1mtrain: \u001b[0mWARNING ⚠️ trainEvalSet/train2011-1390_000001.jpg: 80 duplicate labels removed\n",
      "\u001b[34m\u001b[1mtrain: \u001b[0mWARNING ⚠️ trainEvalSet/train2011-1390_000004.jpg: 26 duplicate labels removed\n",
      "\u001b[34m\u001b[1mtrain: \u001b[0mWARNING ⚠️ trainEvalSet/train2011-1391_000001.jpg: 113 duplicate labels removed\n",
      "\u001b[34m\u001b[1mtrain: \u001b[0mWARNING ⚠️ trainEvalSet/train2011-1391_000002.jpg: 31 duplicate labels removed\n",
      "\u001b[34m\u001b[1mtrain: \u001b[0mWARNING ⚠️ trainEvalSet/train2011-1391_000004.jpg: 216 duplicate labels removed\n",
      "\u001b[34m\u001b[1mtrain: \u001b[0mWARNING ⚠️ trainEvalSet/train2011-1392_000001.jpg: ignoring corrupt image/label: non-normalized or out of bounds coordinates [       1.05        1.05        1.05]\n",
      "\u001b[34m\u001b[1mtrain: \u001b[0mWARNING ⚠️ trainEvalSet/train2011-1393_000002.jpg: ignoring corrupt image/label: non-normalized or out of bounds coordinates [       1.05        1.05        1.05]\n",
      "\u001b[34m\u001b[1mtrain: \u001b[0mWARNING ⚠️ trainEvalSet/train2011-1393_000003.jpg: 396 duplicate labels removed\n",
      "\u001b[34m\u001b[1mtrain: \u001b[0mWARNING ⚠️ trainEvalSet/train2011-1393_000006.jpg: 94 duplicate labels removed\n",
      "\u001b[34m\u001b[1mtrain: \u001b[0mWARNING ⚠️ trainEvalSet/train2011-1394_000004.jpg: 76 duplicate labels removed\n",
      "\u001b[34m\u001b[1mtrain: \u001b[0mWARNING ⚠️ trainEvalSet/train2011-1395_000005.jpg: 128 duplicate labels removed\n",
      "\u001b[34m\u001b[1mtrain: \u001b[0mWARNING ⚠️ trainEvalSet/train2011-1395_000006.jpg: 119 duplicate labels removed\n",
      "\u001b[34m\u001b[1mtrain: \u001b[0mWARNING ⚠️ trainEvalSet/train2011-1396_000004.jpg: 24 duplicate labels removed\n",
      "\u001b[34m\u001b[1mtrain: \u001b[0mWARNING ⚠️ trainEvalSet/train2011-1397_000003.jpg: ignoring corrupt image/label: non-normalized or out of bounds coordinates [       1.05        1.05        1.05        1.05        1.05        1.05        1.05        1.05        1.05        1.05        1.05        1.05        1.05        1.05        1.05        1.05        1.05        1.05        1.05        1.05        1.05]\n",
      "\u001b[34m\u001b[1mtrain: \u001b[0mWARNING ⚠️ trainEvalSet/train2011-1398_000005.jpg: 87 duplicate labels removed\n",
      "\u001b[34m\u001b[1mtrain: \u001b[0mWARNING ⚠️ trainEvalSet/train2011-1399_000002.jpg: 78 duplicate labels removed\n",
      "\u001b[34m\u001b[1mtrain: \u001b[0mWARNING ⚠️ trainEvalSet/train2011-139_000002.jpg: 91 duplicate labels removed\n",
      "\u001b[34m\u001b[1mtrain: \u001b[0mWARNING ⚠️ trainEvalSet/train2011-139_000005.jpg: 245 duplicate labels removed\n",
      "\u001b[34m\u001b[1mtrain: \u001b[0mWARNING ⚠️ trainEvalSet/train2011-1400_000003.jpg: 96 duplicate labels removed\n",
      "\u001b[34m\u001b[1mtrain: \u001b[0mWARNING ⚠️ trainEvalSet/train2011-1402_000007.jpg: 90 duplicate labels removed\n",
      "\u001b[34m\u001b[1mtrain: \u001b[0mWARNING ⚠️ trainEvalSet/train2011-1404_000005.jpg: 103 duplicate labels removed\n",
      "\u001b[34m\u001b[1mtrain: \u001b[0mWARNING ⚠️ trainEvalSet/train2011-1405_000007.jpg: 40 duplicate labels removed\n",
      "\u001b[34m\u001b[1mtrain: \u001b[0mWARNING ⚠️ trainEvalSet/train2011-1405_000008.jpg: 64 duplicate labels removed\n",
      "\u001b[34m\u001b[1mtrain: \u001b[0mWARNING ⚠️ trainEvalSet/train2011-1406_000003.jpg: ignoring corrupt image/label: non-normalized or out of bounds coordinates [       1.05        1.05        1.05]\n",
      "\u001b[34m\u001b[1mtrain: \u001b[0mWARNING ⚠️ trainEvalSet/train2011-1407_000002.jpg: 54 duplicate labels removed\n",
      "\u001b[34m\u001b[1mtrain: \u001b[0mWARNING ⚠️ trainEvalSet/train2011-140_000001.jpg: 98 duplicate labels removed\n",
      "\u001b[34m\u001b[1mtrain: \u001b[0mWARNING ⚠️ trainEvalSet/train2011-1410_000002.jpg: ignoring corrupt image/label: non-normalized or out of bounds coordinates [       1.05        1.05        1.05]\n",
      "\u001b[34m\u001b[1mtrain: \u001b[0mWARNING ⚠️ trainEvalSet/train2011-1410_000006.jpg: 34 duplicate labels removed\n",
      "\u001b[34m\u001b[1mtrain: \u001b[0mWARNING ⚠️ trainEvalSet/train2011-1411_000004.jpg: 96 duplicate labels removed\n",
      "\u001b[34m\u001b[1mtrain: \u001b[0mWARNING ⚠️ trainEvalSet/train2011-1411_000007.jpg: 88 duplicate labels removed\n",
      "\u001b[34m\u001b[1mtrain: \u001b[0mWARNING ⚠️ trainEvalSet/train2011-1413_000006.jpg: 26 duplicate labels removed\n",
      "\u001b[34m\u001b[1mtrain: \u001b[0mWARNING ⚠️ trainEvalSet/train2011-1413_000008.jpg: 22 duplicate labels removed\n",
      "\u001b[34m\u001b[1mtrain: \u001b[0mWARNING ⚠️ trainEvalSet/train2011-1414_000004.jpg: ignoring corrupt image/label: non-normalized or out of bounds coordinates [       1.05        1.05]\n",
      "\u001b[34m\u001b[1mtrain: \u001b[0mWARNING ⚠️ trainEvalSet/train2011-1414_000010.jpg: ignoring corrupt image/label: non-normalized or out of bounds coordinates [       1.05        1.05        1.05        1.05        1.05        1.05]\n",
      "\u001b[34m\u001b[1mtrain: \u001b[0mWARNING ⚠️ trainEvalSet/train2011-1416_000007.jpg: ignoring corrupt image/label: non-normalized or out of bounds coordinates [       1.05]\n",
      "\u001b[34m\u001b[1mtrain: \u001b[0mWARNING ⚠️ trainEvalSet/train2011-1417_000001.jpg: ignoring corrupt image/label: non-normalized or out of bounds coordinates [       1.05        1.05        1.05]\n",
      "\u001b[34m\u001b[1mtrain: \u001b[0mWARNING ⚠️ trainEvalSet/train2011-1418_000002.jpg: 64 duplicate labels removed\n",
      "\u001b[34m\u001b[1mtrain: \u001b[0mWARNING ⚠️ trainEvalSet/train2011-1418_000004.jpg: 30 duplicate labels removed\n",
      "\u001b[34m\u001b[1mtrain: \u001b[0mWARNING ⚠️ trainEvalSet/train2011-1420_000001.jpg: 74 duplicate labels removed\n",
      "\u001b[34m\u001b[1mtrain: \u001b[0mWARNING ⚠️ trainEvalSet/train2011-1420_000005.jpg: ignoring corrupt image/label: non-normalized or out of bounds coordinates [       1.05        1.05        1.05]\n",
      "\u001b[34m\u001b[1mtrain: \u001b[0mWARNING ⚠️ trainEvalSet/train2011-1422_000012.jpg: 42 duplicate labels removed\n",
      "\u001b[34m\u001b[1mtrain: \u001b[0mWARNING ⚠️ trainEvalSet/train2011-1423_000005.jpg: ignoring corrupt image/label: non-normalized or out of bounds coordinates [       1.05        1.05        1.05        1.05        1.05        1.05        1.05        1.05        1.05        1.05        1.05]\n",
      "\u001b[34m\u001b[1mtrain: \u001b[0mWARNING ⚠️ trainEvalSet/train2011-1424_000004.jpg: 92 duplicate labels removed\n",
      "\u001b[34m\u001b[1mtrain: \u001b[0mWARNING ⚠️ trainEvalSet/train2011-1425_000003.jpg: 66 duplicate labels removed\n",
      "\u001b[34m\u001b[1mtrain: \u001b[0mWARNING ⚠️ trainEvalSet/train2011-1426_000001.jpg: 84 duplicate labels removed\n",
      "\u001b[34m\u001b[1mtrain: \u001b[0mWARNING ⚠️ trainEvalSet/train2011-1429_000003.jpg: 90 duplicate labels removed\n",
      "\u001b[34m\u001b[1mtrain: \u001b[0mWARNING ⚠️ trainEvalSet/train2011-142_000002.jpg: 92 duplicate labels removed\n",
      "\u001b[34m\u001b[1mtrain: \u001b[0mWARNING ⚠️ trainEvalSet/train2011-1430_000004.jpg: 35 duplicate labels removed\n",
      "\u001b[34m\u001b[1mtrain: \u001b[0mWARNING ⚠️ trainEvalSet/train2011-1430_000009.jpg: ignoring corrupt image/label: non-normalized or out of bounds coordinates [       1.05        1.05        1.05]\n",
      "\u001b[34m\u001b[1mtrain: \u001b[0mWARNING ⚠️ trainEvalSet/train2011-1430_000012.jpg: ignoring corrupt image/label: non-normalized or out of bounds coordinates [       1.05        1.05        1.05]\n",
      "\u001b[34m\u001b[1mtrain: \u001b[0mWARNING ⚠️ trainEvalSet/train2011-1430_000013.jpg: 118 duplicate labels removed\n",
      "\u001b[34m\u001b[1mtrain: \u001b[0mWARNING ⚠️ trainEvalSet/train2011-1433_000002.jpg: ignoring corrupt image/label: non-normalized or out of bounds coordinates [       1.05        1.05        1.05]\n",
      "\u001b[34m\u001b[1mtrain: \u001b[0mWARNING ⚠️ trainEvalSet/train2011-1434_000001.jpg: ignoring corrupt image/label: non-normalized or out of bounds coordinates [       1.05        1.05        1.05]\n",
      "\u001b[34m\u001b[1mtrain: \u001b[0mWARNING ⚠️ trainEvalSet/train2011-1434_000004.jpg: 84 duplicate labels removed\n",
      "\u001b[34m\u001b[1mtrain: \u001b[0mWARNING ⚠️ trainEvalSet/train2011-1436_000005.jpg: 369 duplicate labels removed\n",
      "\u001b[34m\u001b[1mtrain: \u001b[0mWARNING ⚠️ trainEvalSet/train2011-1437_000002.jpg: ignoring corrupt image/label: non-normalized or out of bounds coordinates [       1.05        1.05        1.05]\n",
      "\u001b[34m\u001b[1mtrain: \u001b[0mWARNING ⚠️ trainEvalSet/train2011-1440_000008.jpg: 79 duplicate labels removed\n",
      "\u001b[34m\u001b[1mtrain: \u001b[0mWARNING ⚠️ trainEvalSet/train2011-1441_000004.jpg: ignoring corrupt image/label: non-normalized or out of bounds coordinates [       1.05]\n",
      "\u001b[34m\u001b[1mtrain: \u001b[0mWARNING ⚠️ trainEvalSet/train2011-1442_000003.jpg: ignoring corrupt image/label: non-normalized or out of bounds coordinates [       1.05        1.05        1.05]\n",
      "\u001b[34m\u001b[1mtrain: \u001b[0mWARNING ⚠️ trainEvalSet/train2011-1443_000003.jpg: ignoring corrupt image/label: non-normalized or out of bounds coordinates [       1.05        1.05        1.05        1.05        1.05        1.05        1.05        1.05        1.05        1.05]\n",
      "\u001b[34m\u001b[1mtrain: \u001b[0mWARNING ⚠️ trainEvalSet/train2011-1444_000004.jpg: 106 duplicate labels removed\n",
      "\u001b[34m\u001b[1mtrain: \u001b[0mWARNING ⚠️ trainEvalSet/train2011-1444_000008.jpg: 52 duplicate labels removed\n",
      "\u001b[34m\u001b[1mtrain: \u001b[0mWARNING ⚠️ trainEvalSet/train2011-1446_000006.jpg: ignoring corrupt image/label: non-normalized or out of bounds coordinates [       1.05]\n",
      "\u001b[34m\u001b[1mtrain: \u001b[0mWARNING ⚠️ trainEvalSet/train2011-1449_000006.jpg: 106 duplicate labels removed\n",
      "\u001b[34m\u001b[1mtrain: \u001b[0mWARNING ⚠️ trainEvalSet/train2011-1449_000009.jpg: 101 duplicate labels removed\n",
      "\u001b[34m\u001b[1mtrain: \u001b[0mWARNING ⚠️ trainEvalSet/train2011-1449_000010.jpg: 130 duplicate labels removed\n",
      "\u001b[34m\u001b[1mtrain: \u001b[0mWARNING ⚠️ trainEvalSet/train2011-1450_000002.jpg: ignoring corrupt image/label: non-normalized or out of bounds coordinates [       1.05        1.05        1.05]\n",
      "\u001b[34m\u001b[1mtrain: \u001b[0mWARNING ⚠️ trainEvalSet/train2011-1450_000005.jpg: ignoring corrupt image/label: non-normalized or out of bounds coordinates [       1.05        1.05        1.05]\n",
      "\u001b[34m\u001b[1mtrain: \u001b[0mWARNING ⚠️ trainEvalSet/train2011-1450_000006.jpg: 94 duplicate labels removed\n",
      "\u001b[34m\u001b[1mtrain: \u001b[0mWARNING ⚠️ trainEvalSet/train2011-1451_000001.jpg: 86 duplicate labels removed\n",
      "\u001b[34m\u001b[1mtrain: \u001b[0mWARNING ⚠️ trainEvalSet/train2011-1452_000007.jpg: 44 duplicate labels removed\n",
      "\u001b[34m\u001b[1mtrain: \u001b[0mWARNING ⚠️ trainEvalSet/train2011-1453_000003.jpg: 76 duplicate labels removed\n",
      "\u001b[34m\u001b[1mtrain: \u001b[0mWARNING ⚠️ trainEvalSet/train2011-1455_000004.jpg: 26 duplicate labels removed\n",
      "\u001b[34m\u001b[1mtrain: \u001b[0mWARNING ⚠️ trainEvalSet/train2011-1456_000002.jpg: 194 duplicate labels removed\n",
      "\u001b[34m\u001b[1mtrain: \u001b[0mWARNING ⚠️ trainEvalSet/train2011-1457_000008.jpg: 64 duplicate labels removed\n",
      "\u001b[34m\u001b[1mtrain: \u001b[0mWARNING ⚠️ trainEvalSet/train2011-1458_000010.jpg: 110 duplicate labels removed\n",
      "\u001b[34m\u001b[1mtrain: \u001b[0mWARNING ⚠️ trainEvalSet/train2011-1459_000003.jpg: 20 duplicate labels removed\n",
      "\u001b[34m\u001b[1mtrain: \u001b[0mWARNING ⚠️ trainEvalSet/train2011-145_000008.jpg: ignoring corrupt image/label: non-normalized or out of bounds coordinates [       1.05        1.05        1.05        1.05        1.05        1.05        1.05]\n",
      "\u001b[34m\u001b[1mtrain: \u001b[0mWARNING ⚠️ trainEvalSet/train2011-1460_000008.jpg: 40 duplicate labels removed\n",
      "\u001b[34m\u001b[1mtrain: \u001b[0mWARNING ⚠️ trainEvalSet/train2011-1461_000007.jpg: 126 duplicate labels removed\n",
      "\u001b[34m\u001b[1mtrain: \u001b[0mWARNING ⚠️ trainEvalSet/train2011-1463_000002.jpg: 89 duplicate labels removed\n",
      "\u001b[34m\u001b[1mtrain: \u001b[0mWARNING ⚠️ trainEvalSet/train2011-1465_000007.jpg: ignoring corrupt image/label: non-normalized or out of bounds coordinates [       1.05        1.05        1.05]\n",
      "\u001b[34m\u001b[1mtrain: \u001b[0mWARNING ⚠️ trainEvalSet/train2011-1466_000004.jpg: 80 duplicate labels removed\n",
      "\u001b[34m\u001b[1mtrain: \u001b[0mWARNING ⚠️ trainEvalSet/train2011-1467_000008.jpg: ignoring corrupt image/label: non-normalized or out of bounds coordinates [       1.05        1.05        1.05        1.05        1.05]\n",
      "\u001b[34m\u001b[1mtrain: \u001b[0mWARNING ⚠️ trainEvalSet/train2011-1467_000010.jpg: 268 duplicate labels removed\n",
      "\u001b[34m\u001b[1mtrain: \u001b[0mWARNING ⚠️ trainEvalSet/train2011-1467_000013.jpg: 112 duplicate labels removed\n",
      "\u001b[34m\u001b[1mtrain: \u001b[0mWARNING ⚠️ trainEvalSet/train2011-146_000001.jpg: 132 duplicate labels removed\n",
      "\u001b[34m\u001b[1mtrain: \u001b[0mWARNING ⚠️ trainEvalSet/train2011-146_000007.jpg: 42 duplicate labels removed\n",
      "\u001b[34m\u001b[1mtrain: \u001b[0mWARNING ⚠️ trainEvalSet/train2011-1470_000001.jpg: ignoring corrupt image/label: non-normalized or out of bounds coordinates [       1.05        1.05        1.05]\n",
      "\u001b[34m\u001b[1mtrain: \u001b[0mWARNING ⚠️ trainEvalSet/train2011-1470_000003.jpg: 112 duplicate labels removed\n",
      "\u001b[34m\u001b[1mtrain: \u001b[0mWARNING ⚠️ trainEvalSet/train2011-1471_000004.jpg: 139 duplicate labels removed\n",
      "\u001b[34m\u001b[1mtrain: \u001b[0mWARNING ⚠️ trainEvalSet/train2011-1471_000005.jpg: ignoring corrupt image/label: non-normalized or out of bounds coordinates [       1.05        1.05        1.05        1.05        1.05        1.05]\n",
      "\u001b[34m\u001b[1mtrain: \u001b[0mWARNING ⚠️ trainEvalSet/train2011-1471_000007.jpg: 147 duplicate labels removed\n",
      "\u001b[34m\u001b[1mtrain: \u001b[0mWARNING ⚠️ trainEvalSet/train2011-1471_000008.jpg: ignoring corrupt image/label: non-normalized or out of bounds coordinates [       1.05        1.05        1.05]\n",
      "\u001b[34m\u001b[1mtrain: \u001b[0mWARNING ⚠️ trainEvalSet/train2011-1471_000011.jpg: 144 duplicate labels removed\n",
      "\u001b[34m\u001b[1mtrain: \u001b[0mWARNING ⚠️ trainEvalSet/train2011-1472_000002.jpg: 151 duplicate labels removed\n",
      "\u001b[34m\u001b[1mtrain: \u001b[0mWARNING ⚠️ trainEvalSet/train2011-1472_000008.jpg: ignoring corrupt image/label: non-normalized or out of bounds coordinates [       1.05        1.05        1.05]\n",
      "\u001b[34m\u001b[1mtrain: \u001b[0mWARNING ⚠️ trainEvalSet/train2011-1473_000006.jpg: ignoring corrupt image/label: non-normalized or out of bounds coordinates [       1.05        1.05        1.05        1.05        1.05        1.05        1.05        1.05        1.05]\n",
      "\u001b[34m\u001b[1mtrain: \u001b[0mWARNING ⚠️ trainEvalSet/train2011-1474_000006.jpg: 114 duplicate labels removed\n",
      "\u001b[34m\u001b[1mtrain: \u001b[0mWARNING ⚠️ trainEvalSet/train2011-1476_000001.jpg: ignoring corrupt image/label: non-normalized or out of bounds coordinates [       1.05        1.05        1.05]\n",
      "\u001b[34m\u001b[1mtrain: \u001b[0mWARNING ⚠️ trainEvalSet/train2011-1478_000008.jpg: 68 duplicate labels removed\n",
      "\u001b[34m\u001b[1mtrain: \u001b[0mWARNING ⚠️ trainEvalSet/train2011-1479_000002.jpg: 204 duplicate labels removed\n",
      "\u001b[34m\u001b[1mtrain: \u001b[0mWARNING ⚠️ trainEvalSet/train2011-147_000004.jpg: ignoring corrupt image/label: non-normalized or out of bounds coordinates [       1.05        1.05        1.05]\n",
      "\u001b[34m\u001b[1mtrain: \u001b[0mWARNING ⚠️ trainEvalSet/train2011-1482_000005.jpg: ignoring corrupt image/label: non-normalized or out of bounds coordinates [       1.05        1.05        1.05]\n",
      "\u001b[34m\u001b[1mtrain: \u001b[0mWARNING ⚠️ trainEvalSet/train2011-1483_000003.jpg: 87 duplicate labels removed\n",
      "\u001b[34m\u001b[1mtrain: \u001b[0mWARNING ⚠️ trainEvalSet/train2011-1485_000001.jpg: 355 duplicate labels removed\n",
      "\u001b[34m\u001b[1mtrain: \u001b[0mWARNING ⚠️ trainEvalSet/train2011-1488_000003.jpg: ignoring corrupt image/label: non-normalized or out of bounds coordinates [       1.05        1.05        1.05]\n",
      "\u001b[34m\u001b[1mtrain: \u001b[0mWARNING ⚠️ trainEvalSet/train2011-1489_000002.jpg: ignoring corrupt image/label: non-normalized or out of bounds coordinates [       1.05        1.05        1.05        1.05        1.05        1.05        1.05        1.05        1.05        1.05        1.05        1.05        1.05        1.05        1.05        1.05        1.05        1.05        1.05        1.05        1.05        1.05]\n",
      "\u001b[34m\u001b[1mtrain: \u001b[0mWARNING ⚠️ trainEvalSet/train2011-148_000002.jpg: 176 duplicate labels removed\n",
      "\u001b[34m\u001b[1mtrain: \u001b[0mWARNING ⚠️ trainEvalSet/train2011-1490_000005.jpg: ignoring corrupt image/label: non-normalized or out of bounds coordinates [       1.05        1.05        1.05]\n",
      "\u001b[34m\u001b[1mtrain: \u001b[0mWARNING ⚠️ trainEvalSet/train2011-1490_000006.jpg: 60 duplicate labels removed\n",
      "\u001b[34m\u001b[1mtrain: \u001b[0mWARNING ⚠️ trainEvalSet/train2011-1491_000004.jpg: 10 duplicate labels removed\n",
      "\u001b[34m\u001b[1mtrain: \u001b[0mWARNING ⚠️ trainEvalSet/train2011-1491_000005.jpg: 74 duplicate labels removed\n",
      "\u001b[34m\u001b[1mtrain: \u001b[0mWARNING ⚠️ trainEvalSet/train2011-1491_000007.jpg: 102 duplicate labels removed\n",
      "\u001b[34m\u001b[1mtrain: \u001b[0mWARNING ⚠️ trainEvalSet/train2011-1492_000003.jpg: ignoring corrupt image/label: non-normalized or out of bounds coordinates [       1.05        1.05        1.05]\n",
      "\u001b[34m\u001b[1mtrain: \u001b[0mWARNING ⚠️ trainEvalSet/train2011-1493_000003.jpg: ignoring corrupt image/label: non-normalized or out of bounds coordinates [       1.05        1.05        1.05]\n",
      "\u001b[34m\u001b[1mtrain: \u001b[0mWARNING ⚠️ trainEvalSet/train2011-1494_000001.jpg: 2 duplicate labels removed\n",
      "\u001b[34m\u001b[1mtrain: \u001b[0mWARNING ⚠️ trainEvalSet/train2011-1494_000003.jpg: 189 duplicate labels removed\n",
      "\u001b[34m\u001b[1mtrain: \u001b[0mWARNING ⚠️ trainEvalSet/train2011-1494_000004.jpg: 190 duplicate labels removed\n",
      "\u001b[34m\u001b[1mtrain: \u001b[0mWARNING ⚠️ trainEvalSet/train2011-1494_000007.jpg: 104 duplicate labels removed\n",
      "\u001b[34m\u001b[1mtrain: \u001b[0mWARNING ⚠️ trainEvalSet/train2011-1494_000012.jpg: 80 duplicate labels removed\n",
      "\u001b[34m\u001b[1mtrain: \u001b[0mWARNING ⚠️ trainEvalSet/train2011-1494_000013.jpg: 24 duplicate labels removed\n",
      "\u001b[34m\u001b[1mtrain: \u001b[0mWARNING ⚠️ trainEvalSet/train2011-1496_000003.jpg: 127 duplicate labels removed\n",
      "\u001b[34m\u001b[1mtrain: \u001b[0mWARNING ⚠️ trainEvalSet/train2011-1496_000008.jpg: 85 duplicate labels removed\n",
      "\u001b[34m\u001b[1mtrain: \u001b[0mWARNING ⚠️ trainEvalSet/train2011-1497_000003.jpg: 87 duplicate labels removed\n",
      "\u001b[34m\u001b[1mtrain: \u001b[0mWARNING ⚠️ trainEvalSet/train2011-1497_000006.jpg: ignoring corrupt image/label: non-normalized or out of bounds coordinates [       1.05        1.05        1.05]\n",
      "\u001b[34m\u001b[1mtrain: \u001b[0mWARNING ⚠️ trainEvalSet/train2011-1498_000001.jpg: 94 duplicate labels removed\n",
      "\u001b[34m\u001b[1mtrain: \u001b[0mWARNING ⚠️ trainEvalSet/train2011-1498_000005.jpg: 109 duplicate labels removed\n",
      "\u001b[34m\u001b[1mtrain: \u001b[0mWARNING ⚠️ trainEvalSet/train2011-1499_000007.jpg: 46 duplicate labels removed\n",
      "\u001b[34m\u001b[1mtrain: \u001b[0mWARNING ⚠️ trainEvalSet/train2011-1499_000009.jpg: 68 duplicate labels removed\n",
      "\u001b[34m\u001b[1mtrain: \u001b[0mWARNING ⚠️ trainEvalSet/train2011-14_000003.jpg: 83 duplicate labels removed\n",
      "\u001b[34m\u001b[1mtrain: \u001b[0mWARNING ⚠️ trainEvalSet/train2011-150_000006.jpg: 139 duplicate labels removed\n",
      "\u001b[34m\u001b[1mtrain: \u001b[0mWARNING ⚠️ trainEvalSet/train2011-152_000005.jpg: ignoring corrupt image/label: non-normalized or out of bounds coordinates [       1.05        1.05        1.05]\n",
      "\u001b[34m\u001b[1mtrain: \u001b[0mWARNING ⚠️ trainEvalSet/train2011-152_000008.jpg: ignoring corrupt image/label: non-normalized or out of bounds coordinates [       1.05        1.05        1.05]\n",
      "\u001b[34m\u001b[1mtrain: \u001b[0mWARNING ⚠️ trainEvalSet/train2011-153_000008.jpg: 110 duplicate labels removed\n",
      "\u001b[34m\u001b[1mtrain: \u001b[0mWARNING ⚠️ trainEvalSet/train2011-154_000002.jpg: 70 duplicate labels removed\n",
      "\u001b[34m\u001b[1mtrain: \u001b[0mWARNING ⚠️ trainEvalSet/train2011-156_000004.jpg: 46 duplicate labels removed\n",
      "\u001b[34m\u001b[1mtrain: \u001b[0mWARNING ⚠️ trainEvalSet/train2011-158_000003.jpg: 48 duplicate labels removed\n",
      "\u001b[34m\u001b[1mtrain: \u001b[0mWARNING ⚠️ trainEvalSet/train2011-158_000006.jpg: 106 duplicate labels removed\n",
      "\u001b[34m\u001b[1mtrain: \u001b[0mWARNING ⚠️ trainEvalSet/train2011-159_000002.jpg: 98 duplicate labels removed\n",
      "\u001b[34m\u001b[1mtrain: \u001b[0mWARNING ⚠️ trainEvalSet/train2011-159_000004.jpg: 84 duplicate labels removed\n",
      "\u001b[34m\u001b[1mtrain: \u001b[0mWARNING ⚠️ trainEvalSet/train2011-15_000004.jpg: 88 duplicate labels removed\n",
      "\u001b[34m\u001b[1mtrain: \u001b[0mWARNING ⚠️ trainEvalSet/train2011-161_000006.jpg: 47 duplicate labels removed\n",
      "\u001b[34m\u001b[1mtrain: \u001b[0mWARNING ⚠️ trainEvalSet/train2011-163_000001.jpg: 105 duplicate labels removed\n",
      "\u001b[34m\u001b[1mtrain: \u001b[0mWARNING ⚠️ trainEvalSet/train2011-163_000007.jpg: ignoring corrupt image/label: non-normalized or out of bounds coordinates [       1.05        1.05        1.05]\n",
      "\u001b[34m\u001b[1mtrain: \u001b[0mWARNING ⚠️ trainEvalSet/train2011-164_000004.jpg: ignoring corrupt image/label: non-normalized or out of bounds coordinates [       1.05        1.05        1.05]\n",
      "\u001b[34m\u001b[1mtrain: \u001b[0mWARNING ⚠️ trainEvalSet/train2011-166_000002.jpg: ignoring corrupt image/label: non-normalized or out of bounds coordinates [       1.05]\n",
      "\u001b[34m\u001b[1mtrain: \u001b[0mWARNING ⚠️ trainEvalSet/train2011-167_000001.jpg: ignoring corrupt image/label: non-normalized or out of bounds coordinates [       1.05        1.05        1.05]\n",
      "\u001b[34m\u001b[1mtrain: \u001b[0mWARNING ⚠️ trainEvalSet/train2011-168_000001.jpg: 75 duplicate labels removed\n",
      "\u001b[34m\u001b[1mtrain: \u001b[0mWARNING ⚠️ trainEvalSet/train2011-168_000003.jpg: 72 duplicate labels removed\n",
      "\u001b[34m\u001b[1mtrain: \u001b[0mWARNING ⚠️ trainEvalSet/train2011-169_000007.jpg: 20 duplicate labels removed\n",
      "\u001b[34m\u001b[1mtrain: \u001b[0mWARNING ⚠️ trainEvalSet/train2011-170_000004.jpg: 101 duplicate labels removed\n",
      "\u001b[34m\u001b[1mtrain: \u001b[0mWARNING ⚠️ trainEvalSet/train2011-171_000001.jpg: 92 duplicate labels removed\n",
      "\u001b[34m\u001b[1mtrain: \u001b[0mWARNING ⚠️ trainEvalSet/train2011-171_000005.jpg: 86 duplicate labels removed\n",
      "\u001b[34m\u001b[1mtrain: \u001b[0mWARNING ⚠️ trainEvalSet/train2011-171_000007.jpg: ignoring corrupt image/label: non-normalized or out of bounds coordinates [       1.05        1.05        1.05        1.05        1.05]\n",
      "\u001b[34m\u001b[1mtrain: \u001b[0mWARNING ⚠️ trainEvalSet/train2011-171_000011.jpg: ignoring corrupt image/label: non-normalized or out of bounds coordinates [       1.05        1.05        1.05]\n",
      "\u001b[34m\u001b[1mtrain: \u001b[0mWARNING ⚠️ trainEvalSet/train2011-173_000002.jpg: 96 duplicate labels removed\n",
      "\u001b[34m\u001b[1mtrain: \u001b[0mWARNING ⚠️ trainEvalSet/train2011-175_000001.jpg: ignoring corrupt image/label: non-normalized or out of bounds coordinates [       1.05        1.05        1.05]\n",
      "\u001b[34m\u001b[1mtrain: \u001b[0mWARNING ⚠️ trainEvalSet/train2011-175_000007.jpg: 90 duplicate labels removed\n",
      "\u001b[34m\u001b[1mtrain: \u001b[0mWARNING ⚠️ trainEvalSet/train2011-177_000004.jpg: 99 duplicate labels removed\n",
      "\u001b[34m\u001b[1mtrain: \u001b[0mWARNING ⚠️ trainEvalSet/train2011-177_000005.jpg: ignoring corrupt image/label: non-normalized or out of bounds coordinates [       1.05        1.05        1.05]\n",
      "\u001b[34m\u001b[1mtrain: \u001b[0mWARNING ⚠️ trainEvalSet/train2011-178_000002.jpg: 100 duplicate labels removed\n",
      "\u001b[34m\u001b[1mtrain: \u001b[0mWARNING ⚠️ trainEvalSet/train2011-17_000005.jpg: 82 duplicate labels removed\n",
      "\u001b[34m\u001b[1mtrain: \u001b[0mWARNING ⚠️ trainEvalSet/train2011-180_000005.jpg: 76 duplicate labels removed\n",
      "\u001b[34m\u001b[1mtrain: \u001b[0mWARNING ⚠️ trainEvalSet/train2011-180_000008.jpg: 71 duplicate labels removed\n",
      "\u001b[34m\u001b[1mtrain: \u001b[0mWARNING ⚠️ trainEvalSet/train2011-181_000007.jpg: 60 duplicate labels removed\n",
      "\u001b[34m\u001b[1mtrain: \u001b[0mWARNING ⚠️ trainEvalSet/train2011-181_000008.jpg: 50 duplicate labels removed\n",
      "\u001b[34m\u001b[1mtrain: \u001b[0mWARNING ⚠️ trainEvalSet/train2011-182_000001.jpg: 85 duplicate labels removed\n",
      "\u001b[34m\u001b[1mtrain: \u001b[0mWARNING ⚠️ trainEvalSet/train2011-182_000007.jpg: ignoring corrupt image/label: non-normalized or out of bounds coordinates [       1.05        1.05        1.05        1.05        1.05        1.05]\n",
      "\u001b[34m\u001b[1mtrain: \u001b[0mWARNING ⚠️ trainEvalSet/train2011-182_000008.jpg: ignoring corrupt image/label: non-normalized or out of bounds coordinates [       1.05        1.05        1.05]\n",
      "\u001b[34m\u001b[1mtrain: \u001b[0mWARNING ⚠️ trainEvalSet/train2011-183_000004.jpg: 108 duplicate labels removed\n",
      "\u001b[34m\u001b[1mtrain: \u001b[0mWARNING ⚠️ trainEvalSet/train2011-184_000001.jpg: 100 duplicate labels removed\n",
      "\u001b[34m\u001b[1mtrain: \u001b[0mWARNING ⚠️ trainEvalSet/train2011-185_000004.jpg: 87 duplicate labels removed\n",
      "\u001b[34m\u001b[1mtrain: \u001b[0mWARNING ⚠️ trainEvalSet/train2011-186_000001.jpg: 112 duplicate labels removed\n",
      "\u001b[34m\u001b[1mtrain: \u001b[0mWARNING ⚠️ trainEvalSet/train2011-186_000004.jpg: ignoring corrupt image/label: non-normalized or out of bounds coordinates [       1.05        1.05        1.05        1.05        1.05        1.05]\n",
      "\u001b[34m\u001b[1mtrain: \u001b[0mWARNING ⚠️ trainEvalSet/train2011-186_000009.jpg: ignoring corrupt image/label: non-normalized or out of bounds coordinates [       1.05        1.05        1.05        1.05        1.05]\n",
      "\u001b[34m\u001b[1mtrain: \u001b[0mWARNING ⚠️ trainEvalSet/train2011-187_000003.jpg: ignoring corrupt image/label: non-normalized or out of bounds coordinates [       1.05        1.05        1.05        1.05        1.05        1.05]\n",
      "\u001b[34m\u001b[1mtrain: \u001b[0mWARNING ⚠️ trainEvalSet/train2011-188_000002.jpg: 96 duplicate labels removed\n",
      "\u001b[34m\u001b[1mtrain: \u001b[0mWARNING ⚠️ trainEvalSet/train2011-188_000005.jpg: 63 duplicate labels removed\n",
      "\u001b[34m\u001b[1mtrain: \u001b[0mWARNING ⚠️ trainEvalSet/train2011-189_000001.jpg: 96 duplicate labels removed\n",
      "\u001b[34m\u001b[1mtrain: \u001b[0mWARNING ⚠️ trainEvalSet/train2011-18_000001.jpg: 96 duplicate labels removed\n",
      "\u001b[34m\u001b[1mtrain: \u001b[0mWARNING ⚠️ trainEvalSet/train2011-18_000004.jpg: 80 duplicate labels removed\n",
      "\u001b[34m\u001b[1mtrain: \u001b[0mWARNING ⚠️ trainEvalSet/train2011-18_000006.jpg: ignoring corrupt image/label: non-normalized or out of bounds coordinates [       1.05        1.05        1.05]\n",
      "\u001b[34m\u001b[1mtrain: \u001b[0mWARNING ⚠️ trainEvalSet/train2011-190_000004.jpg: 32 duplicate labels removed\n",
      "\u001b[34m\u001b[1mtrain: \u001b[0mWARNING ⚠️ trainEvalSet/train2011-191_000004.jpg: 32 duplicate labels removed\n",
      "\u001b[34m\u001b[1mtrain: \u001b[0mWARNING ⚠️ trainEvalSet/train2011-191_000005.jpg: 72 duplicate labels removed\n",
      "\u001b[34m\u001b[1mtrain: \u001b[0mWARNING ⚠️ trainEvalSet/train2011-192_000002.jpg: 98 duplicate labels removed\n",
      "\u001b[34m\u001b[1mtrain: \u001b[0mWARNING ⚠️ trainEvalSet/train2011-192_000005.jpg: 60 duplicate labels removed\n",
      "\u001b[34m\u001b[1mtrain: \u001b[0mWARNING ⚠️ trainEvalSet/train2011-192_000006.jpg: 44 duplicate labels removed\n",
      "\u001b[34m\u001b[1mtrain: \u001b[0mWARNING ⚠️ trainEvalSet/train2011-193_000003.jpg: 12 duplicate labels removed\n",
      "\u001b[34m\u001b[1mtrain: \u001b[0mWARNING ⚠️ trainEvalSet/train2011-194_000004.jpg: 91 duplicate labels removed\n",
      "\u001b[34m\u001b[1mtrain: \u001b[0mWARNING ⚠️ trainEvalSet/train2011-195_000006.jpg: 92 duplicate labels removed\n",
      "\u001b[34m\u001b[1mtrain: \u001b[0mWARNING ⚠️ trainEvalSet/train2011-195_000009.jpg: 90 duplicate labels removed\n",
      "\u001b[34m\u001b[1mtrain: \u001b[0mWARNING ⚠️ trainEvalSet/train2011-197_000006.jpg: 56 duplicate labels removed\n",
      "\u001b[34m\u001b[1mtrain: \u001b[0mWARNING ⚠️ trainEvalSet/train2011-200_000001.jpg: 84 duplicate labels removed\n",
      "\u001b[34m\u001b[1mtrain: \u001b[0mWARNING ⚠️ trainEvalSet/train2011-201_000006.jpg: 26 duplicate labels removed\n",
      "\u001b[34m\u001b[1mtrain: \u001b[0mWARNING ⚠️ trainEvalSet/train2011-202_000008.jpg: 104 duplicate labels removed\n",
      "\u001b[34m\u001b[1mtrain: \u001b[0mWARNING ⚠️ trainEvalSet/train2011-203_000006.jpg: 44 duplicate labels removed\n",
      "\u001b[34m\u001b[1mtrain: \u001b[0mWARNING ⚠️ trainEvalSet/train2011-204_000002.jpg: 119 duplicate labels removed\n",
      "\u001b[34m\u001b[1mtrain: \u001b[0mWARNING ⚠️ trainEvalSet/train2011-204_000008.jpg: 32 duplicate labels removed\n",
      "\u001b[34m\u001b[1mtrain: \u001b[0mWARNING ⚠️ trainEvalSet/train2011-208_000003.jpg: 94 duplicate labels removed\n",
      "\u001b[34m\u001b[1mtrain: \u001b[0mWARNING ⚠️ trainEvalSet/train2011-208_000010.jpg: 46 duplicate labels removed\n",
      "\u001b[34m\u001b[1mtrain: \u001b[0mWARNING ⚠️ trainEvalSet/train2011-210_000005.jpg: 20 duplicate labels removed\n",
      "\u001b[34m\u001b[1mtrain: \u001b[0mWARNING ⚠️ trainEvalSet/train2011-210_000006.jpg: 61 duplicate labels removed\n",
      "\u001b[34m\u001b[1mtrain: \u001b[0mWARNING ⚠️ trainEvalSet/train2011-212_000007.jpg: 54 duplicate labels removed\n",
      "\u001b[34m\u001b[1mtrain: \u001b[0mWARNING ⚠️ trainEvalSet/train2011-213_000001.jpg: 94 duplicate labels removed\n",
      "\u001b[34m\u001b[1mtrain: \u001b[0mWARNING ⚠️ trainEvalSet/train2011-215_000003.jpg: ignoring corrupt image/label: non-normalized or out of bounds coordinates [       1.05        1.05        1.05]\n",
      "\u001b[34m\u001b[1mtrain: \u001b[0mWARNING ⚠️ trainEvalSet/train2011-216_000003.jpg: ignoring corrupt image/label: non-normalized or out of bounds coordinates [       1.05        1.05        1.05]\n",
      "\u001b[34m\u001b[1mtrain: \u001b[0mWARNING ⚠️ trainEvalSet/train2011-216_000005.jpg: 16 duplicate labels removed\n",
      "\u001b[34m\u001b[1mtrain: \u001b[0mWARNING ⚠️ trainEvalSet/train2011-218_000004.jpg: 70 duplicate labels removed\n",
      "\u001b[34m\u001b[1mtrain: \u001b[0mWARNING ⚠️ trainEvalSet/train2011-219_000001.jpg: 88 duplicate labels removed\n",
      "\u001b[34m\u001b[1mtrain: \u001b[0mWARNING ⚠️ trainEvalSet/train2011-219_000005.jpg: 78 duplicate labels removed\n",
      "\u001b[34m\u001b[1mtrain: \u001b[0mWARNING ⚠️ trainEvalSet/train2011-21_000006.jpg: ignoring corrupt image/label: non-normalized or out of bounds coordinates [       1.05        1.05        1.05]\n",
      "\u001b[34m\u001b[1mtrain: \u001b[0mWARNING ⚠️ trainEvalSet/train2011-21_000007.jpg: 74 duplicate labels removed\n",
      "\u001b[34m\u001b[1mtrain: \u001b[0mWARNING ⚠️ trainEvalSet/train2011-220_000004.jpg: ignoring corrupt image/label: non-normalized or out of bounds coordinates [       1.05        1.05        1.05        1.05        1.05        1.05]\n",
      "\u001b[34m\u001b[1mtrain: \u001b[0mWARNING ⚠️ trainEvalSet/train2011-220_000005.jpg: 28 duplicate labels removed\n",
      "\u001b[34m\u001b[1mtrain: \u001b[0mWARNING ⚠️ trainEvalSet/train2011-221_000003.jpg: 36 duplicate labels removed\n",
      "\u001b[34m\u001b[1mtrain: \u001b[0mWARNING ⚠️ trainEvalSet/train2011-221_000005.jpg: 68 duplicate labels removed\n",
      "\u001b[34m\u001b[1mtrain: \u001b[0mWARNING ⚠️ trainEvalSet/train2011-223_000002.jpg: 118 duplicate labels removed\n",
      "\u001b[34m\u001b[1mtrain: \u001b[0mWARNING ⚠️ trainEvalSet/train2011-224_000002.jpg: 96 duplicate labels removed\n",
      "\u001b[34m\u001b[1mtrain: \u001b[0mWARNING ⚠️ trainEvalSet/train2011-224_000006.jpg: ignoring corrupt image/label: non-normalized or out of bounds coordinates [       1.05        1.05        1.05        1.05        1.05        1.05]\n",
      "\u001b[34m\u001b[1mtrain: \u001b[0mWARNING ⚠️ trainEvalSet/train2011-225_000001.jpg: 100 duplicate labels removed\n",
      "\u001b[34m\u001b[1mtrain: \u001b[0mWARNING ⚠️ trainEvalSet/train2011-225_000005.jpg: 132 duplicate labels removed\n",
      "\u001b[34m\u001b[1mtrain: \u001b[0mWARNING ⚠️ trainEvalSet/train2011-227_000003.jpg: 78 duplicate labels removed\n",
      "\u001b[34m\u001b[1mtrain: \u001b[0mWARNING ⚠️ trainEvalSet/train2011-228_000011.jpg: 24 duplicate labels removed\n",
      "\u001b[34m\u001b[1mtrain: \u001b[0mWARNING ⚠️ trainEvalSet/train2011-229_000003.jpg: 95 duplicate labels removed\n",
      "\u001b[34m\u001b[1mtrain: \u001b[0mWARNING ⚠️ trainEvalSet/train2011-22_000004.jpg: 46 duplicate labels removed\n",
      "\u001b[34m\u001b[1mtrain: \u001b[0mWARNING ⚠️ trainEvalSet/train2011-22_000010.jpg: ignoring corrupt image/label: non-normalized or out of bounds coordinates [       1.05        1.05        1.05]\n",
      "\u001b[34m\u001b[1mtrain: \u001b[0mWARNING ⚠️ trainEvalSet/train2011-22_000011.jpg: 26 duplicate labels removed\n",
      "\u001b[34m\u001b[1mtrain: \u001b[0mWARNING ⚠️ trainEvalSet/train2011-234_000003.jpg: 52 duplicate labels removed\n",
      "\u001b[34m\u001b[1mtrain: \u001b[0mWARNING ⚠️ trainEvalSet/train2011-234_000008.jpg: 76 duplicate labels removed\n",
      "\u001b[34m\u001b[1mtrain: \u001b[0mWARNING ⚠️ trainEvalSet/train2011-234_000009.jpg: 46 duplicate labels removed\n",
      "\u001b[34m\u001b[1mtrain: \u001b[0mWARNING ⚠️ trainEvalSet/train2011-235_000001.jpg: ignoring corrupt image/label: non-normalized or out of bounds coordinates [       1.05        1.05        1.05]\n",
      "\u001b[34m\u001b[1mtrain: \u001b[0mWARNING ⚠️ trainEvalSet/train2011-235_000003.jpg: ignoring corrupt image/label: non-normalized or out of bounds coordinates [       1.05        1.05        1.05]\n",
      "\u001b[34m\u001b[1mtrain: \u001b[0mWARNING ⚠️ trainEvalSet/train2011-236_000003.jpg: 74 duplicate labels removed\n",
      "\u001b[34m\u001b[1mtrain: \u001b[0mWARNING ⚠️ trainEvalSet/train2011-236_000005.jpg: 82 duplicate labels removed\n",
      "\u001b[34m\u001b[1mtrain: \u001b[0mWARNING ⚠️ trainEvalSet/train2011-238_000003.jpg: 108 duplicate labels removed\n",
      "\u001b[34m\u001b[1mtrain: \u001b[0mWARNING ⚠️ trainEvalSet/train2011-238_000008.jpg: 91 duplicate labels removed\n",
      "\u001b[34m\u001b[1mtrain: \u001b[0mWARNING ⚠️ trainEvalSet/train2011-239_000006.jpg: 102 duplicate labels removed\n",
      "\u001b[34m\u001b[1mtrain: \u001b[0mWARNING ⚠️ trainEvalSet/train2011-239_000007.jpg: 96 duplicate labels removed\n",
      "\u001b[34m\u001b[1mtrain: \u001b[0mWARNING ⚠️ trainEvalSet/train2011-239_000011.jpg: ignoring corrupt image/label: non-normalized or out of bounds coordinates [       1.05        1.05        1.05]\n",
      "\u001b[34m\u001b[1mtrain: \u001b[0mWARNING ⚠️ trainEvalSet/train2011-23_000001.jpg: 118 duplicate labels removed\n",
      "\u001b[34m\u001b[1mtrain: \u001b[0mWARNING ⚠️ trainEvalSet/train2011-23_000004.jpg: 84 duplicate labels removed\n",
      "\u001b[34m\u001b[1mtrain: \u001b[0mWARNING ⚠️ trainEvalSet/train2011-23_000014.jpg: 90 duplicate labels removed\n",
      "\u001b[34m\u001b[1mtrain: \u001b[0mWARNING ⚠️ trainEvalSet/train2011-240_000005.jpg: 55 duplicate labels removed\n",
      "\u001b[34m\u001b[1mtrain: \u001b[0mWARNING ⚠️ trainEvalSet/train2011-241_000001.jpg: ignoring corrupt image/label: non-normalized or out of bounds coordinates [       1.05        1.05        1.05]\n",
      "\u001b[34m\u001b[1mtrain: \u001b[0mWARNING ⚠️ trainEvalSet/train2011-241_000003.jpg: 36 duplicate labels removed\n",
      "\u001b[34m\u001b[1mtrain: \u001b[0mWARNING ⚠️ trainEvalSet/train2011-241_000007.jpg: 108 duplicate labels removed\n",
      "\u001b[34m\u001b[1mtrain: \u001b[0mWARNING ⚠️ trainEvalSet/train2011-241_000008.jpg: 101 duplicate labels removed\n",
      "\u001b[34m\u001b[1mtrain: \u001b[0mWARNING ⚠️ trainEvalSet/train2011-242_000004.jpg: 88 duplicate labels removed\n",
      "\u001b[34m\u001b[1mtrain: \u001b[0mWARNING ⚠️ trainEvalSet/train2011-244_000002.jpg: 586 duplicate labels removed\n",
      "\u001b[34m\u001b[1mtrain: \u001b[0mWARNING ⚠️ trainEvalSet/train2011-244_000004.jpg: 86 duplicate labels removed\n",
      "\u001b[34m\u001b[1mtrain: \u001b[0mWARNING ⚠️ trainEvalSet/train2011-246_000002.jpg: ignoring corrupt image/label: non-normalized or out of bounds coordinates [       1.05        1.05        1.05]\n",
      "\u001b[34m\u001b[1mtrain: \u001b[0mWARNING ⚠️ trainEvalSet/train2011-246_000003.jpg: 16 duplicate labels removed\n",
      "\u001b[34m\u001b[1mtrain: \u001b[0mWARNING ⚠️ trainEvalSet/train2011-247_000003.jpg: 110 duplicate labels removed\n",
      "\u001b[34m\u001b[1mtrain: \u001b[0mWARNING ⚠️ trainEvalSet/train2011-247_000004.jpg: 120 duplicate labels removed\n",
      "\u001b[34m\u001b[1mtrain: \u001b[0mWARNING ⚠️ trainEvalSet/train2011-247_000007.jpg: 106 duplicate labels removed\n",
      "\u001b[34m\u001b[1mtrain: \u001b[0mWARNING ⚠️ trainEvalSet/train2011-248_000003.jpg: 82 duplicate labels removed\n",
      "\u001b[34m\u001b[1mtrain: \u001b[0mWARNING ⚠️ trainEvalSet/train2011-250_000004.jpg: ignoring corrupt image/label: non-normalized or out of bounds coordinates [       1.05        1.05        1.05]\n",
      "\u001b[34m\u001b[1mtrain: \u001b[0mWARNING ⚠️ trainEvalSet/train2011-252_000001.jpg: 91 duplicate labels removed\n",
      "\u001b[34m\u001b[1mtrain: \u001b[0mWARNING ⚠️ trainEvalSet/train2011-252_000007.jpg: 44 duplicate labels removed\n",
      "\u001b[34m\u001b[1mtrain: \u001b[0mWARNING ⚠️ trainEvalSet/train2011-253_000005.jpg: 191 duplicate labels removed\n",
      "\u001b[34m\u001b[1mtrain: \u001b[0mWARNING ⚠️ trainEvalSet/train2011-255_000001.jpg: 108 duplicate labels removed\n",
      "\u001b[34m\u001b[1mtrain: \u001b[0mWARNING ⚠️ trainEvalSet/train2011-256_000007.jpg: ignoring corrupt image/label: non-normalized or out of bounds coordinates [       1.05        1.05]\n",
      "\u001b[34m\u001b[1mtrain: \u001b[0mWARNING ⚠️ trainEvalSet/train2011-256_000008.jpg: 26 duplicate labels removed\n",
      "\u001b[34m\u001b[1mtrain: \u001b[0mWARNING ⚠️ trainEvalSet/train2011-257_000001.jpg: 81 duplicate labels removed\n",
      "\u001b[34m\u001b[1mtrain: \u001b[0mWARNING ⚠️ trainEvalSet/train2011-257_000005.jpg: 26 duplicate labels removed\n",
      "\u001b[34m\u001b[1mtrain: \u001b[0mWARNING ⚠️ trainEvalSet/train2011-258_000003.jpg: 87 duplicate labels removed\n",
      "\u001b[34m\u001b[1mtrain: \u001b[0mWARNING ⚠️ trainEvalSet/train2011-258_000005.jpg: 209 duplicate labels removed\n",
      "\u001b[34m\u001b[1mtrain: \u001b[0mWARNING ⚠️ trainEvalSet/train2011-259_000004.jpg: 125 duplicate labels removed\n",
      "\u001b[34m\u001b[1mtrain: \u001b[0mWARNING ⚠️ trainEvalSet/train2011-260_000003.jpg: ignoring corrupt image/label: non-normalized or out of bounds coordinates [       1.05        1.05        1.05]\n",
      "\u001b[34m\u001b[1mtrain: \u001b[0mWARNING ⚠️ trainEvalSet/train2011-262_000003.jpg: 78 duplicate labels removed\n",
      "\u001b[34m\u001b[1mtrain: \u001b[0mWARNING ⚠️ trainEvalSet/train2011-263_000004.jpg: 26 duplicate labels removed\n",
      "\u001b[34m\u001b[1mtrain: \u001b[0mWARNING ⚠️ trainEvalSet/train2011-265_000004.jpg: 63 duplicate labels removed\n",
      "\u001b[34m\u001b[1mtrain: \u001b[0mWARNING ⚠️ trainEvalSet/train2011-268_000007.jpg: ignoring corrupt image/label: non-normalized or out of bounds coordinates [       1.05        1.05        1.05        1.05        1.05        1.05        1.05        1.05]\n",
      "\u001b[34m\u001b[1mtrain: \u001b[0mWARNING ⚠️ trainEvalSet/train2011-26_000004.jpg: 34 duplicate labels removed\n",
      "\u001b[34m\u001b[1mtrain: \u001b[0mWARNING ⚠️ trainEvalSet/train2011-26_000005.jpg: ignoring corrupt image/label: non-normalized or out of bounds coordinates [       1.05        1.05        1.05]\n",
      "\u001b[34m\u001b[1mtrain: \u001b[0mWARNING ⚠️ trainEvalSet/train2011-26_000006.jpg: 52 duplicate labels removed\n",
      "\u001b[34m\u001b[1mtrain: \u001b[0mWARNING ⚠️ trainEvalSet/train2011-270_000002.jpg: 36 duplicate labels removed\n",
      "\u001b[34m\u001b[1mtrain: \u001b[0mWARNING ⚠️ trainEvalSet/train2011-270_000006.jpg: ignoring corrupt image/label: non-normalized or out of bounds coordinates [       1.05        1.05        1.05]\n",
      "\u001b[34m\u001b[1mtrain: \u001b[0mWARNING ⚠️ trainEvalSet/train2011-270_000008.jpg: ignoring corrupt image/label: non-normalized or out of bounds coordinates [       1.05        1.05        1.05]\n",
      "\u001b[34m\u001b[1mtrain: \u001b[0mWARNING ⚠️ trainEvalSet/train2011-272_000006.jpg: 247 duplicate labels removed\n",
      "\u001b[34m\u001b[1mtrain: \u001b[0mWARNING ⚠️ trainEvalSet/train2011-272_000008.jpg: 88 duplicate labels removed\n",
      "\u001b[34m\u001b[1mtrain: \u001b[0mWARNING ⚠️ trainEvalSet/train2011-273_000003.jpg: 22 duplicate labels removed\n",
      "\u001b[34m\u001b[1mtrain: \u001b[0mWARNING ⚠️ trainEvalSet/train2011-274_000003.jpg: 92 duplicate labels removed\n",
      "\u001b[34m\u001b[1mtrain: \u001b[0mWARNING ⚠️ trainEvalSet/train2011-274_000007.jpg: 108 duplicate labels removed\n",
      "\u001b[34m\u001b[1mtrain: \u001b[0mWARNING ⚠️ trainEvalSet/train2011-275_000017.jpg: 18 duplicate labels removed\n",
      "\u001b[34m\u001b[1mtrain: \u001b[0mWARNING ⚠️ trainEvalSet/train2011-276_000005.jpg: 66 duplicate labels removed\n",
      "\u001b[34m\u001b[1mtrain: \u001b[0mWARNING ⚠️ trainEvalSet/train2011-276_000009.jpg: 60 duplicate labels removed\n",
      "\u001b[34m\u001b[1mtrain: \u001b[0mWARNING ⚠️ trainEvalSet/train2011-277_000003.jpg: 110 duplicate labels removed\n",
      "\u001b[34m\u001b[1mtrain: \u001b[0mWARNING ⚠️ trainEvalSet/train2011-278_000005.jpg: 98 duplicate labels removed\n",
      "\u001b[34m\u001b[1mtrain: \u001b[0mWARNING ⚠️ trainEvalSet/train2011-278_000007.jpg: 103 duplicate labels removed\n",
      "\u001b[34m\u001b[1mtrain: \u001b[0mWARNING ⚠️ trainEvalSet/train2011-278_000011.jpg: ignoring corrupt image/label: non-normalized or out of bounds coordinates [       1.05        1.05        1.05]\n",
      "\u001b[34m\u001b[1mtrain: \u001b[0mWARNING ⚠️ trainEvalSet/train2011-27_000003.jpg: 24 duplicate labels removed\n",
      "\u001b[34m\u001b[1mtrain: \u001b[0mWARNING ⚠️ trainEvalSet/train2011-27_000009.jpg: 146 duplicate labels removed\n",
      "\u001b[34m\u001b[1mtrain: \u001b[0mWARNING ⚠️ trainEvalSet/train2011-280_000002.jpg: 424 duplicate labels removed\n",
      "\u001b[34m\u001b[1mtrain: \u001b[0mWARNING ⚠️ trainEvalSet/train2011-280_000005.jpg: 88 duplicate labels removed\n",
      "\u001b[34m\u001b[1mtrain: \u001b[0mWARNING ⚠️ trainEvalSet/train2011-282_000001.jpg: 101 duplicate labels removed\n",
      "\u001b[34m\u001b[1mtrain: \u001b[0mWARNING ⚠️ trainEvalSet/train2011-282_000003.jpg: 96 duplicate labels removed\n",
      "\u001b[34m\u001b[1mtrain: \u001b[0mWARNING ⚠️ trainEvalSet/train2011-283_000003.jpg: 86 duplicate labels removed\n",
      "\u001b[34m\u001b[1mtrain: \u001b[0mWARNING ⚠️ trainEvalSet/train2011-283_000008.jpg: 96 duplicate labels removed\n",
      "\u001b[34m\u001b[1mtrain: \u001b[0mWARNING ⚠️ trainEvalSet/train2011-287_000001.jpg: 77 duplicate labels removed\n",
      "\u001b[34m\u001b[1mtrain: \u001b[0mWARNING ⚠️ trainEvalSet/train2011-287_000003.jpg: 54 duplicate labels removed\n",
      "\u001b[34m\u001b[1mtrain: \u001b[0mWARNING ⚠️ trainEvalSet/train2011-288_000007.jpg: 42 duplicate labels removed\n",
      "\u001b[34m\u001b[1mtrain: \u001b[0mWARNING ⚠️ trainEvalSet/train2011-289_000004.jpg: 106 duplicate labels removed\n",
      "\u001b[34m\u001b[1mtrain: \u001b[0mWARNING ⚠️ trainEvalSet/train2011-289_000007.jpg: 26 duplicate labels removed\n",
      "\u001b[34m\u001b[1mtrain: \u001b[0mWARNING ⚠️ trainEvalSet/train2011-28_000002.jpg: 1 duplicate labels removed\n",
      "\u001b[34m\u001b[1mtrain: \u001b[0mWARNING ⚠️ trainEvalSet/train2011-28_000008.jpg: 68 duplicate labels removed\n",
      "\u001b[34m\u001b[1mtrain: \u001b[0mWARNING ⚠️ trainEvalSet/train2011-293_000004.jpg: 74 duplicate labels removed\n",
      "\u001b[34m\u001b[1mtrain: \u001b[0mWARNING ⚠️ trainEvalSet/train2011-295_000004.jpg: 438 duplicate labels removed\n",
      "\u001b[34m\u001b[1mtrain: \u001b[0mWARNING ⚠️ trainEvalSet/train2011-296_000010.jpg: 42 duplicate labels removed\n",
      "\u001b[34m\u001b[1mtrain: \u001b[0mWARNING ⚠️ trainEvalSet/train2011-297_000003.jpg: 285 duplicate labels removed\n",
      "\u001b[34m\u001b[1mtrain: \u001b[0mWARNING ⚠️ trainEvalSet/train2011-298_000004.jpg: 61 duplicate labels removed\n",
      "\u001b[34m\u001b[1mtrain: \u001b[0mWARNING ⚠️ trainEvalSet/train2011-298_000006.jpg: 46 duplicate labels removed\n",
      "\u001b[34m\u001b[1mtrain: \u001b[0mWARNING ⚠️ trainEvalSet/train2011-299_000005.jpg: 99 duplicate labels removed\n",
      "\u001b[34m\u001b[1mtrain: \u001b[0mWARNING ⚠️ trainEvalSet/train2011-2_000003.jpg: 167 duplicate labels removed\n",
      "\u001b[34m\u001b[1mtrain: \u001b[0mWARNING ⚠️ trainEvalSet/train2011-2_000004.jpg: 140 duplicate labels removed\n",
      "\u001b[34m\u001b[1mtrain: \u001b[0mWARNING ⚠️ trainEvalSet/train2011-2_000005.jpg: 76 duplicate labels removed\n",
      "\u001b[34m\u001b[1mtrain: \u001b[0mWARNING ⚠️ trainEvalSet/train2011-302_000002.jpg: 14 duplicate labels removed\n",
      "\u001b[34m\u001b[1mtrain: \u001b[0mWARNING ⚠️ trainEvalSet/train2011-304_000004.jpg: 90 duplicate labels removed\n",
      "\u001b[34m\u001b[1mtrain: \u001b[0mWARNING ⚠️ trainEvalSet/train2011-304_000007.jpg: ignoring corrupt image/label: non-normalized or out of bounds coordinates [       1.05        1.05        1.05]\n",
      "\u001b[34m\u001b[1mtrain: \u001b[0mWARNING ⚠️ trainEvalSet/train2011-305_000002.jpg: 138 duplicate labels removed\n",
      "\u001b[34m\u001b[1mtrain: \u001b[0mWARNING ⚠️ trainEvalSet/train2011-305_000005.jpg: 68 duplicate labels removed\n",
      "\u001b[34m\u001b[1mtrain: \u001b[0mWARNING ⚠️ trainEvalSet/train2011-307_000003.jpg: 72 duplicate labels removed\n",
      "\u001b[34m\u001b[1mtrain: \u001b[0mWARNING ⚠️ trainEvalSet/train2011-309_000006.jpg: ignoring corrupt image/label: non-normalized or out of bounds coordinates [       1.05        1.05        1.05]\n",
      "\u001b[34m\u001b[1mtrain: \u001b[0mWARNING ⚠️ trainEvalSet/train2011-309_000010.jpg: 24 duplicate labels removed\n",
      "\u001b[34m\u001b[1mtrain: \u001b[0mWARNING ⚠️ trainEvalSet/train2011-30_000004.jpg: 116 duplicate labels removed\n",
      "\u001b[34m\u001b[1mtrain: \u001b[0mWARNING ⚠️ trainEvalSet/train2011-310_000002.jpg: 78 duplicate labels removed\n",
      "\u001b[34m\u001b[1mtrain: \u001b[0mWARNING ⚠️ trainEvalSet/train2011-311_000001.jpg: 84 duplicate labels removed\n",
      "\u001b[34m\u001b[1mtrain: \u001b[0mWARNING ⚠️ trainEvalSet/train2011-312_000003.jpg: ignoring corrupt image/label: non-normalized or out of bounds coordinates [       1.05        1.05        1.05        1.05        1.05        1.05]\n",
      "\u001b[34m\u001b[1mtrain: \u001b[0mWARNING ⚠️ trainEvalSet/train2011-312_000006.jpg: 1 duplicate labels removed\n",
      "\u001b[34m\u001b[1mtrain: \u001b[0mWARNING ⚠️ trainEvalSet/train2011-312_000007.jpg: 84 duplicate labels removed\n",
      "\u001b[34m\u001b[1mtrain: \u001b[0mWARNING ⚠️ trainEvalSet/train2011-313_000004.jpg: 94 duplicate labels removed\n",
      "\u001b[34m\u001b[1mtrain: \u001b[0mWARNING ⚠️ trainEvalSet/train2011-315_000002.jpg: 20 duplicate labels removed\n",
      "\u001b[34m\u001b[1mtrain: \u001b[0mWARNING ⚠️ trainEvalSet/train2011-317_000001.jpg: 61 duplicate labels removed\n",
      "\u001b[34m\u001b[1mtrain: \u001b[0mWARNING ⚠️ trainEvalSet/train2011-318_000008.jpg: 82 duplicate labels removed\n",
      "\u001b[34m\u001b[1mtrain: \u001b[0mWARNING ⚠️ trainEvalSet/train2011-31_000002.jpg: 64 duplicate labels removed\n",
      "\u001b[34m\u001b[1mtrain: \u001b[0mWARNING ⚠️ trainEvalSet/train2011-31_000004.jpg: 51 duplicate labels removed\n",
      "\u001b[34m\u001b[1mtrain: \u001b[0mWARNING ⚠️ trainEvalSet/train2011-322_000004.jpg: ignoring corrupt image/label: non-normalized or out of bounds coordinates [       1.05        1.05        1.05]\n",
      "\u001b[34m\u001b[1mtrain: \u001b[0mWARNING ⚠️ trainEvalSet/train2011-323_000010.jpg: 102 duplicate labels removed\n",
      "\u001b[34m\u001b[1mtrain: \u001b[0mWARNING ⚠️ trainEvalSet/train2011-324_000004.jpg: ignoring corrupt image/label: non-normalized or out of bounds coordinates [       1.05        1.05        1.05]\n",
      "\u001b[34m\u001b[1mtrain: \u001b[0mWARNING ⚠️ trainEvalSet/train2011-324_000005.jpg: ignoring corrupt image/label: non-normalized or out of bounds coordinates [       1.05        1.05        1.05]\n",
      "\u001b[34m\u001b[1mtrain: \u001b[0mWARNING ⚠️ trainEvalSet/train2011-325_000003.jpg: 110 duplicate labels removed\n",
      "\u001b[34m\u001b[1mtrain: \u001b[0mWARNING ⚠️ trainEvalSet/train2011-325_000004.jpg: 16 duplicate labels removed\n",
      "\u001b[34m\u001b[1mtrain: \u001b[0mWARNING ⚠️ trainEvalSet/train2011-325_000006.jpg: 78 duplicate labels removed\n",
      "\u001b[34m\u001b[1mtrain: \u001b[0mWARNING ⚠️ trainEvalSet/train2011-327_000001.jpg: 86 duplicate labels removed\n",
      "\u001b[34m\u001b[1mtrain: \u001b[0mWARNING ⚠️ trainEvalSet/train2011-327_000010.jpg: 36 duplicate labels removed\n",
      "\u001b[34m\u001b[1mtrain: \u001b[0mWARNING ⚠️ trainEvalSet/train2011-328_000004.jpg: 121 duplicate labels removed\n",
      "\u001b[34m\u001b[1mtrain: \u001b[0mWARNING ⚠️ trainEvalSet/train2011-329_000002.jpg: 94 duplicate labels removed\n",
      "\u001b[34m\u001b[1mtrain: \u001b[0mWARNING ⚠️ trainEvalSet/train2011-32_000001.jpg: ignoring corrupt image/label: non-normalized or out of bounds coordinates [       1.05        1.05        1.05]\n",
      "\u001b[34m\u001b[1mtrain: \u001b[0mWARNING ⚠️ trainEvalSet/train2011-32_000002.jpg: ignoring corrupt image/label: non-normalized or out of bounds coordinates [       1.05        1.05        1.05]\n",
      "\u001b[34m\u001b[1mtrain: \u001b[0mWARNING ⚠️ trainEvalSet/train2011-331_000001.jpg: ignoring corrupt image/label: non-normalized or out of bounds coordinates [       1.05        1.05        1.05        1.05        1.05]\n",
      "\u001b[34m\u001b[1mtrain: \u001b[0mWARNING ⚠️ trainEvalSet/train2011-332_000005.jpg: 251 duplicate labels removed\n",
      "\u001b[34m\u001b[1mtrain: \u001b[0mWARNING ⚠️ trainEvalSet/train2011-332_000008.jpg: 47 duplicate labels removed\n",
      "\u001b[34m\u001b[1mtrain: \u001b[0mWARNING ⚠️ trainEvalSet/train2011-334_000004.jpg: 94 duplicate labels removed\n",
      "\u001b[34m\u001b[1mtrain: \u001b[0mWARNING ⚠️ trainEvalSet/train2011-335_000006.jpg: 34 duplicate labels removed\n",
      "\u001b[34m\u001b[1mtrain: \u001b[0mWARNING ⚠️ trainEvalSet/train2011-336_000004.jpg: 64 duplicate labels removed\n",
      "\u001b[34m\u001b[1mtrain: \u001b[0mWARNING ⚠️ trainEvalSet/train2011-336_000005.jpg: 26 duplicate labels removed\n",
      "\u001b[34m\u001b[1mtrain: \u001b[0mWARNING ⚠️ trainEvalSet/train2011-336_000006.jpg: 50 duplicate labels removed\n",
      "\u001b[34m\u001b[1mtrain: \u001b[0mWARNING ⚠️ trainEvalSet/train2011-336_000007.jpg: 60 duplicate labels removed\n",
      "\u001b[34m\u001b[1mtrain: \u001b[0mWARNING ⚠️ trainEvalSet/train2011-337_000003.jpg: 58 duplicate labels removed\n",
      "\u001b[34m\u001b[1mtrain: \u001b[0mWARNING ⚠️ trainEvalSet/train2011-338_000003.jpg: ignoring corrupt image/label: non-normalized or out of bounds coordinates [       1.05        1.05        1.05]\n",
      "\u001b[34m\u001b[1mtrain: \u001b[0mWARNING ⚠️ trainEvalSet/train2011-338_000013.jpg: 90 duplicate labels removed\n",
      "\u001b[34m\u001b[1mtrain: \u001b[0mWARNING ⚠️ trainEvalSet/train2011-339_000009.jpg: 131 duplicate labels removed\n",
      "\u001b[34m\u001b[1mtrain: \u001b[0mWARNING ⚠️ trainEvalSet/train2011-340_000002.jpg: 90 duplicate labels removed\n",
      "\u001b[34m\u001b[1mtrain: \u001b[0mWARNING ⚠️ trainEvalSet/train2011-341_000001.jpg: ignoring corrupt image/label: non-normalized or out of bounds coordinates [       1.05        1.05        1.05]\n",
      "\u001b[34m\u001b[1mtrain: \u001b[0mWARNING ⚠️ trainEvalSet/train2011-341_000007.jpg: ignoring corrupt image/label: non-normalized or out of bounds coordinates [       1.05        1.05        1.05        1.05        1.05]\n",
      "\u001b[34m\u001b[1mtrain: \u001b[0mWARNING ⚠️ trainEvalSet/train2011-341_000010.jpg: 219 duplicate labels removed\n",
      "\u001b[34m\u001b[1mtrain: \u001b[0mWARNING ⚠️ trainEvalSet/train2011-342_000009.jpg: 126 duplicate labels removed\n",
      "\u001b[34m\u001b[1mtrain: \u001b[0mWARNING ⚠️ trainEvalSet/train2011-344_000004.jpg: 80 duplicate labels removed\n",
      "\u001b[34m\u001b[1mtrain: \u001b[0mWARNING ⚠️ trainEvalSet/train2011-344_000006.jpg: 28 duplicate labels removed\n",
      "\u001b[34m\u001b[1mtrain: \u001b[0mWARNING ⚠️ trainEvalSet/train2011-344_000010.jpg: 24 duplicate labels removed\n",
      "\u001b[34m\u001b[1mtrain: \u001b[0mWARNING ⚠️ trainEvalSet/train2011-346_000003.jpg: ignoring corrupt image/label: non-normalized or out of bounds coordinates [       1.05        1.05        1.05]\n",
      "\u001b[34m\u001b[1mtrain: \u001b[0mWARNING ⚠️ trainEvalSet/train2011-346_000006.jpg: 22 duplicate labels removed\n",
      "\u001b[34m\u001b[1mtrain: \u001b[0mWARNING ⚠️ trainEvalSet/train2011-347_000008.jpg: 100 duplicate labels removed\n",
      "\u001b[34m\u001b[1mtrain: \u001b[0mWARNING ⚠️ trainEvalSet/train2011-349_000009.jpg: 40 duplicate labels removed\n",
      "\u001b[34m\u001b[1mtrain: \u001b[0mWARNING ⚠️ trainEvalSet/train2011-34_000002.jpg: ignoring corrupt image/label: non-normalized or out of bounds coordinates [       1.05        1.05        1.05        1.05        1.05        1.05        1.05        1.05        1.05        1.05        1.05        1.05        1.05        1.05        1.05]\n",
      "\u001b[34m\u001b[1mtrain: \u001b[0mWARNING ⚠️ trainEvalSet/train2011-350_000001.jpg: 80 duplicate labels removed\n",
      "\u001b[34m\u001b[1mtrain: \u001b[0mWARNING ⚠️ trainEvalSet/train2011-351_000001.jpg: 72 duplicate labels removed\n",
      "\u001b[34m\u001b[1mtrain: \u001b[0mWARNING ⚠️ trainEvalSet/train2011-352_000004.jpg: 72 duplicate labels removed\n",
      "\u001b[34m\u001b[1mtrain: \u001b[0mWARNING ⚠️ trainEvalSet/train2011-357_000002.jpg: 85 duplicate labels removed\n",
      "\u001b[34m\u001b[1mtrain: \u001b[0mWARNING ⚠️ trainEvalSet/train2011-359_000001.jpg: 106 duplicate labels removed\n",
      "\u001b[34m\u001b[1mtrain: \u001b[0mWARNING ⚠️ trainEvalSet/train2011-359_000007.jpg: 86 duplicate labels removed\n",
      "\u001b[34m\u001b[1mtrain: \u001b[0mWARNING ⚠️ trainEvalSet/train2011-35_000005.jpg: ignoring corrupt image/label: non-normalized or out of bounds coordinates [       1.05        1.05        1.05]\n",
      "\u001b[34m\u001b[1mtrain: \u001b[0mWARNING ⚠️ trainEvalSet/train2011-35_000007.jpg: ignoring corrupt image/label: non-normalized or out of bounds coordinates [       1.05        1.05        1.05]\n",
      "\u001b[34m\u001b[1mtrain: \u001b[0mWARNING ⚠️ trainEvalSet/train2011-361_000003.jpg: 80 duplicate labels removed\n",
      "\u001b[34m\u001b[1mtrain: \u001b[0mWARNING ⚠️ trainEvalSet/train2011-361_000005.jpg: 96 duplicate labels removed\n",
      "\u001b[34m\u001b[1mtrain: \u001b[0mWARNING ⚠️ trainEvalSet/train2011-362_000011.jpg: 207 duplicate labels removed\n",
      "\u001b[34m\u001b[1mtrain: \u001b[0mWARNING ⚠️ trainEvalSet/train2011-363_000001.jpg: 78 duplicate labels removed\n",
      "\u001b[34m\u001b[1mtrain: \u001b[0mWARNING ⚠️ trainEvalSet/train2011-364_000006.jpg: ignoring corrupt image/label: non-normalized or out of bounds coordinates [       1.05        1.05        1.05]\n",
      "\u001b[34m\u001b[1mtrain: \u001b[0mWARNING ⚠️ trainEvalSet/train2011-364_000007.jpg: 44 duplicate labels removed\n",
      "\u001b[34m\u001b[1mtrain: \u001b[0mWARNING ⚠️ trainEvalSet/train2011-364_000011.jpg: 50 duplicate labels removed\n",
      "\u001b[34m\u001b[1mtrain: \u001b[0mWARNING ⚠️ trainEvalSet/train2011-365_000006.jpg: ignoring corrupt image/label: non-normalized or out of bounds coordinates [       1.05        1.05        1.05        1.05        1.05        1.05        1.05        1.05        1.05        1.05        1.05]\n",
      "\u001b[34m\u001b[1mtrain: \u001b[0mWARNING ⚠️ trainEvalSet/train2011-366_000007.jpg: 97 duplicate labels removed\n",
      "\u001b[34m\u001b[1mtrain: \u001b[0mWARNING ⚠️ trainEvalSet/train2011-366_000008.jpg: 16 duplicate labels removed\n",
      "\u001b[34m\u001b[1mtrain: \u001b[0mWARNING ⚠️ trainEvalSet/train2011-367_000003.jpg: 98 duplicate labels removed\n",
      "\u001b[34m\u001b[1mtrain: \u001b[0mWARNING ⚠️ trainEvalSet/train2011-367_000007.jpg: 242 duplicate labels removed\n",
      "\u001b[34m\u001b[1mtrain: \u001b[0mWARNING ⚠️ trainEvalSet/train2011-368_000009.jpg: 237 duplicate labels removed\n",
      "\u001b[34m\u001b[1mtrain: \u001b[0mWARNING ⚠️ trainEvalSet/train2011-369_000004.jpg: ignoring corrupt image/label: non-normalized or out of bounds coordinates [       1.05        1.05        1.05]\n",
      "\u001b[34m\u001b[1mtrain: \u001b[0mWARNING ⚠️ trainEvalSet/train2011-369_000005.jpg: 323 duplicate labels removed\n",
      "\u001b[34m\u001b[1mtrain: \u001b[0mWARNING ⚠️ trainEvalSet/train2011-36_000002.jpg: 22 duplicate labels removed\n",
      "\u001b[34m\u001b[1mtrain: \u001b[0mWARNING ⚠️ trainEvalSet/train2011-36_000004.jpg: 90 duplicate labels removed\n",
      "\u001b[34m\u001b[1mtrain: \u001b[0mWARNING ⚠️ trainEvalSet/train2011-370_000001.jpg: ignoring corrupt image/label: non-normalized or out of bounds coordinates [       1.05        1.05        1.05]\n",
      "\u001b[34m\u001b[1mtrain: \u001b[0mWARNING ⚠️ trainEvalSet/train2011-370_000005.jpg: ignoring corrupt image/label: non-normalized or out of bounds coordinates [       1.05        1.05        1.05        1.05        1.05]\n",
      "\u001b[34m\u001b[1mtrain: \u001b[0mWARNING ⚠️ trainEvalSet/train2011-371_000007.jpg: 22 duplicate labels removed\n",
      "\u001b[34m\u001b[1mtrain: \u001b[0mWARNING ⚠️ trainEvalSet/train2011-372_000002.jpg: 77 duplicate labels removed\n",
      "\u001b[34m\u001b[1mtrain: \u001b[0mWARNING ⚠️ trainEvalSet/train2011-373_000004.jpg: 108 duplicate labels removed\n",
      "\u001b[34m\u001b[1mtrain: \u001b[0mWARNING ⚠️ trainEvalSet/train2011-373_000005.jpg: ignoring corrupt image/label: non-normalized or out of bounds coordinates [       1.05        1.05        1.05        1.05]\n",
      "\u001b[34m\u001b[1mtrain: \u001b[0mWARNING ⚠️ trainEvalSet/train2011-373_000009.jpg: 113 duplicate labels removed\n",
      "\u001b[34m\u001b[1mtrain: \u001b[0mWARNING ⚠️ trainEvalSet/train2011-374_000006.jpg: ignoring corrupt image/label: non-normalized or out of bounds coordinates [       1.05        1.05        1.05]\n",
      "\u001b[34m\u001b[1mtrain: \u001b[0mWARNING ⚠️ trainEvalSet/train2011-374_000010.jpg: 303 duplicate labels removed\n",
      "\u001b[34m\u001b[1mtrain: \u001b[0mWARNING ⚠️ trainEvalSet/train2011-375_000003.jpg: ignoring corrupt image/label: non-normalized or out of bounds coordinates [       1.05        1.05        1.05        1.05        1.05]\n",
      "\u001b[34m\u001b[1mtrain: \u001b[0mWARNING ⚠️ trainEvalSet/train2011-376_000006.jpg: ignoring corrupt image/label: non-normalized or out of bounds coordinates [       1.05        1.05        1.05]\n",
      "\u001b[34m\u001b[1mtrain: \u001b[0mWARNING ⚠️ trainEvalSet/train2011-378_000002.jpg: 177 duplicate labels removed\n",
      "\u001b[34m\u001b[1mtrain: \u001b[0mWARNING ⚠️ trainEvalSet/train2011-378_000003.jpg: 96 duplicate labels removed\n",
      "\u001b[34m\u001b[1mtrain: \u001b[0mWARNING ⚠️ trainEvalSet/train2011-378_000005.jpg: 84 duplicate labels removed\n",
      "\u001b[34m\u001b[1mtrain: \u001b[0mWARNING ⚠️ trainEvalSet/train2011-379_000010.jpg: 48 duplicate labels removed\n",
      "\u001b[34m\u001b[1mtrain: \u001b[0mWARNING ⚠️ trainEvalSet/train2011-37_000002.jpg: 84 duplicate labels removed\n",
      "\u001b[34m\u001b[1mtrain: \u001b[0mWARNING ⚠️ trainEvalSet/train2011-37_000004.jpg: ignoring corrupt image/label: non-normalized or out of bounds coordinates [       1.05        1.05        1.05]\n",
      "\u001b[34m\u001b[1mtrain: \u001b[0mWARNING ⚠️ trainEvalSet/train2011-380_000005.jpg: 18 duplicate labels removed\n",
      "\u001b[34m\u001b[1mtrain: \u001b[0mWARNING ⚠️ trainEvalSet/train2011-381_000001.jpg: ignoring corrupt image/label: non-normalized or out of bounds coordinates [       1.05        1.05        1.05        1.05        1.05        1.05]\n",
      "\u001b[34m\u001b[1mtrain: \u001b[0mWARNING ⚠️ trainEvalSet/train2011-381_000002.jpg: ignoring corrupt image/label: non-normalized or out of bounds coordinates [       1.05        1.05        1.05        1.05        1.05        1.05]\n",
      "\u001b[34m\u001b[1mtrain: \u001b[0mWARNING ⚠️ trainEvalSet/train2011-381_000005.jpg: 79 duplicate labels removed\n",
      "\u001b[34m\u001b[1mtrain: \u001b[0mWARNING ⚠️ trainEvalSet/train2011-383_000005.jpg: 185 duplicate labels removed\n",
      "\u001b[34m\u001b[1mtrain: \u001b[0mWARNING ⚠️ trainEvalSet/train2011-383_000007.jpg: 143 duplicate labels removed\n",
      "\u001b[34m\u001b[1mtrain: \u001b[0mWARNING ⚠️ trainEvalSet/train2011-384_000002.jpg: 124 duplicate labels removed\n",
      "\u001b[34m\u001b[1mtrain: \u001b[0mWARNING ⚠️ trainEvalSet/train2011-386_000009.jpg: 60 duplicate labels removed\n",
      "\u001b[34m\u001b[1mtrain: \u001b[0mWARNING ⚠️ trainEvalSet/train2011-387_000002.jpg: 80 duplicate labels removed\n",
      "\u001b[34m\u001b[1mtrain: \u001b[0mWARNING ⚠️ trainEvalSet/train2011-389_000007.jpg: 111 duplicate labels removed\n",
      "\u001b[34m\u001b[1mtrain: \u001b[0mWARNING ⚠️ trainEvalSet/train2011-389_000011.jpg: 333 duplicate labels removed\n",
      "\u001b[34m\u001b[1mtrain: \u001b[0mWARNING ⚠️ trainEvalSet/train2011-389_000012.jpg: 94 duplicate labels removed\n",
      "\u001b[34m\u001b[1mtrain: \u001b[0mWARNING ⚠️ trainEvalSet/train2011-38_000007.jpg: 51 duplicate labels removed\n",
      "\u001b[34m\u001b[1mtrain: \u001b[0mWARNING ⚠️ trainEvalSet/train2011-390_000006.jpg: 175 duplicate labels removed\n",
      "\u001b[34m\u001b[1mtrain: \u001b[0mWARNING ⚠️ trainEvalSet/train2011-390_000009.jpg: 92 duplicate labels removed\n",
      "\u001b[34m\u001b[1mtrain: \u001b[0mWARNING ⚠️ trainEvalSet/train2011-391_000001.jpg: 80 duplicate labels removed\n",
      "\u001b[34m\u001b[1mtrain: \u001b[0mWARNING ⚠️ trainEvalSet/train2011-391_000005.jpg: 101 duplicate labels removed\n",
      "\u001b[34m\u001b[1mtrain: \u001b[0mWARNING ⚠️ trainEvalSet/train2011-391_000006.jpg: 18 duplicate labels removed\n",
      "\u001b[34m\u001b[1mtrain: \u001b[0mWARNING ⚠️ trainEvalSet/train2011-392_000007.jpg: 52 duplicate labels removed\n",
      "\u001b[34m\u001b[1mtrain: \u001b[0mWARNING ⚠️ trainEvalSet/train2011-393_000002.jpg: 532 duplicate labels removed\n",
      "\u001b[34m\u001b[1mtrain: \u001b[0mWARNING ⚠️ trainEvalSet/train2011-396_000004.jpg: 48 duplicate labels removed\n",
      "\u001b[34m\u001b[1mtrain: \u001b[0mWARNING ⚠️ trainEvalSet/train2011-398_000002.jpg: 92 duplicate labels removed\n",
      "\u001b[34m\u001b[1mtrain: \u001b[0mWARNING ⚠️ trainEvalSet/train2011-39_000012.jpg: 100 duplicate labels removed\n",
      "\u001b[34m\u001b[1mtrain: \u001b[0mWARNING ⚠️ trainEvalSet/train2011-400_000001.jpg: 72 duplicate labels removed\n",
      "\u001b[34m\u001b[1mtrain: \u001b[0mWARNING ⚠️ trainEvalSet/train2011-400_000002.jpg: ignoring corrupt image/label: non-normalized or out of bounds coordinates [       1.05        1.05        1.05]\n",
      "\u001b[34m\u001b[1mtrain: \u001b[0mWARNING ⚠️ trainEvalSet/train2011-400_000010.jpg: 74 duplicate labels removed\n",
      "\u001b[34m\u001b[1mtrain: \u001b[0mWARNING ⚠️ trainEvalSet/train2011-401_000001.jpg: ignoring corrupt image/label: non-normalized or out of bounds coordinates [       1.05        1.05        1.05]\n",
      "\u001b[34m\u001b[1mtrain: \u001b[0mWARNING ⚠️ trainEvalSet/train2011-401_000005.jpg: 60 duplicate labels removed\n",
      "\u001b[34m\u001b[1mtrain: \u001b[0mWARNING ⚠️ trainEvalSet/train2011-403_000003.jpg: ignoring corrupt image/label: non-normalized or out of bounds coordinates [       1.05        1.05        1.05]\n",
      "\u001b[34m\u001b[1mtrain: \u001b[0mWARNING ⚠️ trainEvalSet/train2011-403_000004.jpg: 94 duplicate labels removed\n",
      "\u001b[34m\u001b[1mtrain: \u001b[0mWARNING ⚠️ trainEvalSet/train2011-403_000012.jpg: ignoring corrupt image/label: non-normalized or out of bounds coordinates [       1.05        1.05        1.05        1.05        1.05]\n",
      "\u001b[34m\u001b[1mtrain: \u001b[0mWARNING ⚠️ trainEvalSet/train2011-405_000004.jpg: 70 duplicate labels removed\n",
      "\u001b[34m\u001b[1mtrain: \u001b[0mWARNING ⚠️ trainEvalSet/train2011-405_000005.jpg: 75 duplicate labels removed\n",
      "\u001b[34m\u001b[1mtrain: \u001b[0mWARNING ⚠️ trainEvalSet/train2011-405_000009.jpg: 88 duplicate labels removed\n",
      "\u001b[34m\u001b[1mtrain: \u001b[0mWARNING ⚠️ trainEvalSet/train2011-405_000010.jpg: 80 duplicate labels removed\n",
      "\u001b[34m\u001b[1mtrain: \u001b[0mWARNING ⚠️ trainEvalSet/train2011-406_000005.jpg: 296 duplicate labels removed\n",
      "\u001b[34m\u001b[1mtrain: \u001b[0mWARNING ⚠️ trainEvalSet/train2011-407_000002.jpg: ignoring corrupt image/label: non-normalized or out of bounds coordinates [       1.05        1.05        1.05]\n",
      "\u001b[34m\u001b[1mtrain: \u001b[0mWARNING ⚠️ trainEvalSet/train2011-409_000005.jpg: 183 duplicate labels removed\n",
      "\u001b[34m\u001b[1mtrain: \u001b[0mWARNING ⚠️ trainEvalSet/train2011-40_000005.jpg: 86 duplicate labels removed\n",
      "\u001b[34m\u001b[1mtrain: \u001b[0mWARNING ⚠️ trainEvalSet/train2011-411_000002.jpg: 108 duplicate labels removed\n",
      "\u001b[34m\u001b[1mtrain: \u001b[0mWARNING ⚠️ trainEvalSet/train2011-412_000002.jpg: ignoring corrupt image/label: non-normalized or out of bounds coordinates [       1.05        1.05        1.05        1.05        1.05        1.05        1.05        1.05        1.05        1.05]\n",
      "\u001b[34m\u001b[1mtrain: \u001b[0mWARNING ⚠️ trainEvalSet/train2011-413_000009.jpg: 111 duplicate labels removed\n",
      "\u001b[34m\u001b[1mtrain: \u001b[0mWARNING ⚠️ trainEvalSet/train2011-414_000004.jpg: 118 duplicate labels removed\n",
      "\u001b[34m\u001b[1mtrain: \u001b[0mWARNING ⚠️ trainEvalSet/train2011-415_000003.jpg: 90 duplicate labels removed\n",
      "\u001b[34m\u001b[1mtrain: \u001b[0mWARNING ⚠️ trainEvalSet/train2011-416_000003.jpg: 203 duplicate labels removed\n",
      "\u001b[34m\u001b[1mtrain: \u001b[0mWARNING ⚠️ trainEvalSet/train2011-417_000006.jpg: 30 duplicate labels removed\n",
      "\u001b[34m\u001b[1mtrain: \u001b[0mWARNING ⚠️ trainEvalSet/train2011-417_000007.jpg: 26 duplicate labels removed\n",
      "\u001b[34m\u001b[1mtrain: \u001b[0mWARNING ⚠️ trainEvalSet/train2011-418_000002.jpg: 161 duplicate labels removed\n",
      "\u001b[34m\u001b[1mtrain: \u001b[0mWARNING ⚠️ trainEvalSet/train2011-418_000007.jpg: 90 duplicate labels removed\n",
      "\u001b[34m\u001b[1mtrain: \u001b[0mWARNING ⚠️ trainEvalSet/train2011-419_000002.jpg: 110 duplicate labels removed\n",
      "\u001b[34m\u001b[1mtrain: \u001b[0mWARNING ⚠️ trainEvalSet/train2011-41_000006.jpg: 102 duplicate labels removed\n",
      "\u001b[34m\u001b[1mtrain: \u001b[0mWARNING ⚠️ trainEvalSet/train2011-420_000006.jpg: 78 duplicate labels removed\n",
      "\u001b[34m\u001b[1mtrain: \u001b[0mWARNING ⚠️ trainEvalSet/train2011-421_000002.jpg: 114 duplicate labels removed\n",
      "\u001b[34m\u001b[1mtrain: \u001b[0mWARNING ⚠️ trainEvalSet/train2011-422_000009.jpg: 87 duplicate labels removed\n",
      "\u001b[34m\u001b[1mtrain: \u001b[0mWARNING ⚠️ trainEvalSet/train2011-427_000001.jpg: ignoring corrupt image/label: non-normalized or out of bounds coordinates [       1.05        1.05        1.05]\n",
      "\u001b[34m\u001b[1mtrain: \u001b[0mWARNING ⚠️ trainEvalSet/train2011-427_000003.jpg: 166 duplicate labels removed\n",
      "\u001b[34m\u001b[1mtrain: \u001b[0mWARNING ⚠️ trainEvalSet/train2011-427_000005.jpg: ignoring corrupt image/label: non-normalized or out of bounds coordinates [       1.05        1.05        1.05]\n",
      "\u001b[34m\u001b[1mtrain: \u001b[0mWARNING ⚠️ trainEvalSet/train2011-429_000005.jpg: ignoring corrupt image/label: non-normalized or out of bounds coordinates [       1.05        1.05        1.05]\n",
      "\u001b[34m\u001b[1mtrain: \u001b[0mWARNING ⚠️ trainEvalSet/train2011-429_000012.jpg: 82 duplicate labels removed\n",
      "\u001b[34m\u001b[1mtrain: \u001b[0mWARNING ⚠️ trainEvalSet/train2011-42_000003.jpg: 90 duplicate labels removed\n",
      "\u001b[34m\u001b[1mtrain: \u001b[0mWARNING ⚠️ trainEvalSet/train2011-42_000005.jpg: 75 duplicate labels removed\n",
      "\u001b[34m\u001b[1mtrain: \u001b[0mWARNING ⚠️ trainEvalSet/train2011-42_000006.jpg: ignoring corrupt image/label: non-normalized or out of bounds coordinates [       1.05        1.05        1.05]\n",
      "\u001b[34m\u001b[1mtrain: \u001b[0mWARNING ⚠️ trainEvalSet/train2011-430_000004.jpg: 121 duplicate labels removed\n",
      "\u001b[34m\u001b[1mtrain: \u001b[0mWARNING ⚠️ trainEvalSet/train2011-431_000009.jpg: 66 duplicate labels removed\n",
      "\u001b[34m\u001b[1mtrain: \u001b[0mWARNING ⚠️ trainEvalSet/train2011-432_000003.jpg: 80 duplicate labels removed\n",
      "\u001b[34m\u001b[1mtrain: \u001b[0mWARNING ⚠️ trainEvalSet/train2011-434_000003.jpg: 76 duplicate labels removed\n",
      "\u001b[34m\u001b[1mtrain: \u001b[0mWARNING ⚠️ trainEvalSet/train2011-436_000004.jpg: 106 duplicate labels removed\n",
      "\u001b[34m\u001b[1mtrain: \u001b[0mWARNING ⚠️ trainEvalSet/train2011-436_000009.jpg: ignoring corrupt image/label: non-normalized or out of bounds coordinates [       1.05        1.05        1.05        1.05        1.05        1.05]\n",
      "\u001b[34m\u001b[1mtrain: \u001b[0mWARNING ⚠️ trainEvalSet/train2011-437_000001.jpg: 142 duplicate labels removed\n",
      "\u001b[34m\u001b[1mtrain: \u001b[0mWARNING ⚠️ trainEvalSet/train2011-437_000005.jpg: 31 duplicate labels removed\n",
      "\u001b[34m\u001b[1mtrain: \u001b[0mWARNING ⚠️ trainEvalSet/train2011-43_000002.jpg: ignoring corrupt image/label: non-normalized or out of bounds coordinates [       1.05        1.05        1.05]\n",
      "\u001b[34m\u001b[1mtrain: \u001b[0mWARNING ⚠️ trainEvalSet/train2011-43_000005.jpg: ignoring corrupt image/label: non-normalized or out of bounds coordinates [       1.05        1.05        1.05        1.05        1.05        1.05]\n",
      "\u001b[34m\u001b[1mtrain: \u001b[0mWARNING ⚠️ trainEvalSet/train2011-43_000007.jpg: ignoring corrupt image/label: non-normalized or out of bounds coordinates [       1.05        1.05        1.05]\n",
      "\u001b[34m\u001b[1mtrain: \u001b[0mWARNING ⚠️ trainEvalSet/train2011-441_000004.jpg: 40 duplicate labels removed\n",
      "\u001b[34m\u001b[1mtrain: \u001b[0mWARNING ⚠️ trainEvalSet/train2011-442_000001.jpg: 62 duplicate labels removed\n",
      "\u001b[34m\u001b[1mtrain: \u001b[0mWARNING ⚠️ trainEvalSet/train2011-443_000001.jpg: 94 duplicate labels removed\n",
      "\u001b[34m\u001b[1mtrain: \u001b[0mWARNING ⚠️ trainEvalSet/train2011-443_000008.jpg: ignoring corrupt image/label: non-normalized or out of bounds coordinates [       1.05        1.05        1.05]\n",
      "\u001b[34m\u001b[1mtrain: \u001b[0mWARNING ⚠️ trainEvalSet/train2011-445_000004.jpg: 101 duplicate labels removed\n",
      "\u001b[34m\u001b[1mtrain: \u001b[0mWARNING ⚠️ trainEvalSet/train2011-446_000002.jpg: 104 duplicate labels removed\n",
      "\u001b[34m\u001b[1mtrain: \u001b[0mWARNING ⚠️ trainEvalSet/train2011-446_000003.jpg: 154 duplicate labels removed\n",
      "\u001b[34m\u001b[1mtrain: \u001b[0mWARNING ⚠️ trainEvalSet/train2011-446_000005.jpg: 65 duplicate labels removed\n",
      "\u001b[34m\u001b[1mtrain: \u001b[0mWARNING ⚠️ trainEvalSet/train2011-447_000002.jpg: ignoring corrupt image/label: non-normalized or out of bounds coordinates [       1.05        1.05        1.05        1.05        1.05        1.05        1.05        1.05        1.05        1.05]\n",
      "\u001b[34m\u001b[1mtrain: \u001b[0mWARNING ⚠️ trainEvalSet/train2011-448_000003.jpg: ignoring corrupt image/label: non-normalized or out of bounds coordinates [       1.05        1.05        1.05        1.05]\n",
      "\u001b[34m\u001b[1mtrain: \u001b[0mWARNING ⚠️ trainEvalSet/train2011-448_000005.jpg: 93 duplicate labels removed\n",
      "\u001b[34m\u001b[1mtrain: \u001b[0mWARNING ⚠️ trainEvalSet/train2011-448_000006.jpg: 102 duplicate labels removed\n",
      "\u001b[34m\u001b[1mtrain: \u001b[0mWARNING ⚠️ trainEvalSet/train2011-449_000003.jpg: ignoring corrupt image/label: non-normalized or out of bounds coordinates [       1.05        1.05        1.05]\n",
      "\u001b[34m\u001b[1mtrain: \u001b[0mWARNING ⚠️ trainEvalSet/train2011-449_000006.jpg: 83 duplicate labels removed\n",
      "\u001b[34m\u001b[1mtrain: \u001b[0mWARNING ⚠️ trainEvalSet/train2011-44_000002.jpg: 106 duplicate labels removed\n",
      "\u001b[34m\u001b[1mtrain: \u001b[0mWARNING ⚠️ trainEvalSet/train2011-450_000001.jpg: 52 duplicate labels removed\n",
      "\u001b[34m\u001b[1mtrain: \u001b[0mWARNING ⚠️ trainEvalSet/train2011-451_000002.jpg: ignoring corrupt image/label: non-normalized or out of bounds coordinates [       1.05        1.05        1.05]\n",
      "\u001b[34m\u001b[1mtrain: \u001b[0mWARNING ⚠️ trainEvalSet/train2011-451_000003.jpg: 26 duplicate labels removed\n",
      "\u001b[34m\u001b[1mtrain: \u001b[0mWARNING ⚠️ trainEvalSet/train2011-452_000002.jpg: 18 duplicate labels removed\n",
      "\u001b[34m\u001b[1mtrain: \u001b[0mWARNING ⚠️ trainEvalSet/train2011-453_000001.jpg: 138 duplicate labels removed\n",
      "\u001b[34m\u001b[1mtrain: \u001b[0mWARNING ⚠️ trainEvalSet/train2011-453_000003.jpg: 122 duplicate labels removed\n",
      "\u001b[34m\u001b[1mtrain: \u001b[0mWARNING ⚠️ trainEvalSet/train2011-454_000003.jpg: 82 duplicate labels removed\n",
      "\u001b[34m\u001b[1mtrain: \u001b[0mWARNING ⚠️ trainEvalSet/train2011-456_000002.jpg: ignoring corrupt image/label: non-normalized or out of bounds coordinates [       1.05        1.05        1.05]\n",
      "\u001b[34m\u001b[1mtrain: \u001b[0mWARNING ⚠️ trainEvalSet/train2011-456_000006.jpg: 56 duplicate labels removed\n",
      "\u001b[34m\u001b[1mtrain: \u001b[0mWARNING ⚠️ trainEvalSet/train2011-457_000002.jpg: 3 duplicate labels removed\n",
      "\u001b[34m\u001b[1mtrain: \u001b[0mWARNING ⚠️ trainEvalSet/train2011-459_000008.jpg: 105 duplicate labels removed\n",
      "\u001b[34m\u001b[1mtrain: \u001b[0mWARNING ⚠️ trainEvalSet/train2011-45_000006.jpg: 80 duplicate labels removed\n",
      "\u001b[34m\u001b[1mtrain: \u001b[0mWARNING ⚠️ trainEvalSet/train2011-461_000003.jpg: 197 duplicate labels removed\n",
      "\u001b[34m\u001b[1mtrain: \u001b[0mWARNING ⚠️ trainEvalSet/train2011-462_000004.jpg: 72 duplicate labels removed\n",
      "\u001b[34m\u001b[1mtrain: \u001b[0mWARNING ⚠️ trainEvalSet/train2011-463_000001.jpg: ignoring corrupt image/label: non-normalized or out of bounds coordinates [       1.05        1.05        1.05]\n",
      "\u001b[34m\u001b[1mtrain: \u001b[0mWARNING ⚠️ trainEvalSet/train2011-463_000004.jpg: 114 duplicate labels removed\n",
      "\u001b[34m\u001b[1mtrain: \u001b[0mWARNING ⚠️ trainEvalSet/train2011-463_000005.jpg: ignoring corrupt image/label: non-normalized or out of bounds coordinates [       1.05        1.05        1.05]\n",
      "\u001b[34m\u001b[1mtrain: \u001b[0mWARNING ⚠️ trainEvalSet/train2011-463_000007.jpg: 100 duplicate labels removed\n",
      "\u001b[34m\u001b[1mtrain: \u001b[0mWARNING ⚠️ trainEvalSet/train2011-464_000011.jpg: 52 duplicate labels removed\n",
      "\u001b[34m\u001b[1mtrain: \u001b[0mWARNING ⚠️ trainEvalSet/train2011-465_000006.jpg: 118 duplicate labels removed\n",
      "\u001b[34m\u001b[1mtrain: \u001b[0mWARNING ⚠️ trainEvalSet/train2011-466_000006.jpg: 44 duplicate labels removed\n",
      "\u001b[34m\u001b[1mtrain: \u001b[0mWARNING ⚠️ trainEvalSet/train2011-466_000007.jpg: 96 duplicate labels removed\n",
      "\u001b[34m\u001b[1mtrain: \u001b[0mWARNING ⚠️ trainEvalSet/train2011-468_000006.jpg: 170 duplicate labels removed\n",
      "\u001b[34m\u001b[1mtrain: \u001b[0mWARNING ⚠️ trainEvalSet/train2011-470_000008.jpg: 68 duplicate labels removed\n",
      "\u001b[34m\u001b[1mtrain: \u001b[0mWARNING ⚠️ trainEvalSet/train2011-471_000005.jpg: 26 duplicate labels removed\n",
      "\u001b[34m\u001b[1mtrain: \u001b[0mWARNING ⚠️ trainEvalSet/train2011-473_000001.jpg: 108 duplicate labels removed\n",
      "\u001b[34m\u001b[1mtrain: \u001b[0mWARNING ⚠️ trainEvalSet/train2011-473_000003.jpg: ignoring corrupt image/label: non-normalized or out of bounds coordinates [       1.05        1.05        1.05]\n",
      "\u001b[34m\u001b[1mtrain: \u001b[0mWARNING ⚠️ trainEvalSet/train2011-473_000005.jpg: ignoring corrupt image/label: non-normalized or out of bounds coordinates [       1.05        1.05        1.05]\n",
      "\u001b[34m\u001b[1mtrain: \u001b[0mWARNING ⚠️ trainEvalSet/train2011-474_000001.jpg: 82 duplicate labels removed\n",
      "\u001b[34m\u001b[1mtrain: \u001b[0mWARNING ⚠️ trainEvalSet/train2011-475_000007.jpg: 96 duplicate labels removed\n",
      "\u001b[34m\u001b[1mtrain: \u001b[0mWARNING ⚠️ trainEvalSet/train2011-477_000008.jpg: 63 duplicate labels removed\n",
      "\u001b[34m\u001b[1mtrain: \u001b[0mWARNING ⚠️ trainEvalSet/train2011-478_000003.jpg: 82 duplicate labels removed\n",
      "\u001b[34m\u001b[1mtrain: \u001b[0mWARNING ⚠️ trainEvalSet/train2011-47_000011.jpg: ignoring corrupt image/label: non-normalized or out of bounds coordinates [       1.05        1.05        1.05]\n",
      "\u001b[34m\u001b[1mtrain: \u001b[0mWARNING ⚠️ trainEvalSet/train2011-480_000001.jpg: 110 duplicate labels removed\n",
      "\u001b[34m\u001b[1mtrain: \u001b[0mWARNING ⚠️ trainEvalSet/train2011-481_000002.jpg: 96 duplicate labels removed\n",
      "\u001b[34m\u001b[1mtrain: \u001b[0mWARNING ⚠️ trainEvalSet/train2011-481_000003.jpg: ignoring corrupt image/label: non-normalized or out of bounds coordinates [       1.05        1.05        1.05        1.05        1.05]\n",
      "\u001b[34m\u001b[1mtrain: \u001b[0mWARNING ⚠️ trainEvalSet/train2011-482_000001.jpg: 104 duplicate labels removed\n",
      "\u001b[34m\u001b[1mtrain: \u001b[0mWARNING ⚠️ trainEvalSet/train2011-482_000006.jpg: 22 duplicate labels removed\n",
      "\u001b[34m\u001b[1mtrain: \u001b[0mWARNING ⚠️ trainEvalSet/train2011-484_000003.jpg: 56 duplicate labels removed\n",
      "\u001b[34m\u001b[1mtrain: \u001b[0mWARNING ⚠️ trainEvalSet/train2011-484_000010.jpg: 24 duplicate labels removed\n",
      "\u001b[34m\u001b[1mtrain: \u001b[0mWARNING ⚠️ trainEvalSet/train2011-486_000001.jpg: 77 duplicate labels removed\n",
      "\u001b[34m\u001b[1mtrain: \u001b[0mWARNING ⚠️ trainEvalSet/train2011-486_000002.jpg: 203 duplicate labels removed\n",
      "\u001b[34m\u001b[1mtrain: \u001b[0mWARNING ⚠️ trainEvalSet/train2011-489_000001.jpg: ignoring corrupt image/label: non-normalized or out of bounds coordinates [       1.05        1.05        1.05]\n",
      "\u001b[34m\u001b[1mtrain: \u001b[0mWARNING ⚠️ trainEvalSet/train2011-489_000003.jpg: 38 duplicate labels removed\n",
      "\u001b[34m\u001b[1mtrain: \u001b[0mWARNING ⚠️ trainEvalSet/train2011-48_000008.jpg: 4 duplicate labels removed\n",
      "\u001b[34m\u001b[1mtrain: \u001b[0mWARNING ⚠️ trainEvalSet/train2011-48_000012.jpg: 110 duplicate labels removed\n",
      "\u001b[34m\u001b[1mtrain: \u001b[0mWARNING ⚠️ trainEvalSet/train2011-490_000004.jpg: 100 duplicate labels removed\n",
      "\u001b[34m\u001b[1mtrain: \u001b[0mWARNING ⚠️ trainEvalSet/train2011-491_000007.jpg: 95 duplicate labels removed\n",
      "\u001b[34m\u001b[1mtrain: \u001b[0mWARNING ⚠️ trainEvalSet/train2011-492_000004.jpg: 26 duplicate labels removed\n",
      "\u001b[34m\u001b[1mtrain: \u001b[0mWARNING ⚠️ trainEvalSet/train2011-493_000001.jpg: ignoring corrupt image/label: non-normalized or out of bounds coordinates [       1.05        1.05        1.05        1.05        1.05        1.05]\n",
      "\u001b[34m\u001b[1mtrain: \u001b[0mWARNING ⚠️ trainEvalSet/train2011-494_000001.jpg: 171 duplicate labels removed\n",
      "\u001b[34m\u001b[1mtrain: \u001b[0mWARNING ⚠️ trainEvalSet/train2011-494_000002.jpg: 110 duplicate labels removed\n",
      "\u001b[34m\u001b[1mtrain: \u001b[0mWARNING ⚠️ trainEvalSet/train2011-495_000002.jpg: 103 duplicate labels removed\n",
      "\u001b[34m\u001b[1mtrain: \u001b[0mWARNING ⚠️ trainEvalSet/train2011-495_000008.jpg: 50 duplicate labels removed\n",
      "\u001b[34m\u001b[1mtrain: \u001b[0mWARNING ⚠️ trainEvalSet/train2011-496_000002.jpg: ignoring corrupt image/label: non-normalized or out of bounds coordinates [       1.05        1.05        1.05]\n",
      "\u001b[34m\u001b[1mtrain: \u001b[0mWARNING ⚠️ trainEvalSet/train2011-498_000002.jpg: 64 duplicate labels removed\n",
      "\u001b[34m\u001b[1mtrain: \u001b[0mWARNING ⚠️ trainEvalSet/train2011-498_000003.jpg: 68 duplicate labels removed\n",
      "\u001b[34m\u001b[1mtrain: \u001b[0mWARNING ⚠️ trainEvalSet/train2011-49_000003.jpg: 66 duplicate labels removed\n",
      "\u001b[34m\u001b[1mtrain: \u001b[0mWARNING ⚠️ trainEvalSet/train2011-500_000001.jpg: ignoring corrupt image/label: non-normalized or out of bounds coordinates [       1.05        1.05        1.05        1.05        1.05        1.05        1.05]\n",
      "\u001b[34m\u001b[1mtrain: \u001b[0mWARNING ⚠️ trainEvalSet/train2011-500_000006.jpg: 86 duplicate labels removed\n",
      "\u001b[34m\u001b[1mtrain: \u001b[0mWARNING ⚠️ trainEvalSet/train2011-501_000007.jpg: 92 duplicate labels removed\n",
      "\u001b[34m\u001b[1mtrain: \u001b[0mWARNING ⚠️ trainEvalSet/train2011-503_000001.jpg: ignoring corrupt image/label: non-normalized or out of bounds coordinates [       1.05        1.05        1.05]\n",
      "\u001b[34m\u001b[1mtrain: \u001b[0mWARNING ⚠️ trainEvalSet/train2011-503_000006.jpg: ignoring corrupt image/label: non-normalized or out of bounds coordinates [       1.05        1.05        1.05]\n",
      "\u001b[34m\u001b[1mtrain: \u001b[0mWARNING ⚠️ trainEvalSet/train2011-504_000007.jpg: ignoring corrupt image/label: non-normalized or out of bounds coordinates [       1.05        1.05        1.05]\n",
      "\u001b[34m\u001b[1mtrain: \u001b[0mWARNING ⚠️ trainEvalSet/train2011-505_000008.jpg: 44 duplicate labels removed\n",
      "\u001b[34m\u001b[1mtrain: \u001b[0mWARNING ⚠️ trainEvalSet/train2011-507_000001.jpg: 70 duplicate labels removed\n",
      "\u001b[34m\u001b[1mtrain: \u001b[0mWARNING ⚠️ trainEvalSet/train2011-508_000002.jpg: 101 duplicate labels removed\n",
      "\u001b[34m\u001b[1mtrain: \u001b[0mWARNING ⚠️ trainEvalSet/train2011-509_000001.jpg: 100 duplicate labels removed\n",
      "\u001b[34m\u001b[1mtrain: \u001b[0mWARNING ⚠️ trainEvalSet/train2011-509_000007.jpg: 98 duplicate labels removed\n",
      "\u001b[34m\u001b[1mtrain: \u001b[0mWARNING ⚠️ trainEvalSet/train2011-50_000005.jpg: 22 duplicate labels removed\n",
      "\u001b[34m\u001b[1mtrain: \u001b[0mWARNING ⚠️ trainEvalSet/train2011-511_000004.jpg: ignoring corrupt image/label: non-normalized or out of bounds coordinates [       1.05        1.05        1.05]\n",
      "\u001b[34m\u001b[1mtrain: \u001b[0mWARNING ⚠️ trainEvalSet/train2011-515_000004.jpg: 77 duplicate labels removed\n",
      "\u001b[34m\u001b[1mtrain: \u001b[0mWARNING ⚠️ trainEvalSet/train2011-516_000003.jpg: 72 duplicate labels removed\n",
      "\u001b[34m\u001b[1mtrain: \u001b[0mWARNING ⚠️ trainEvalSet/train2011-517_000002.jpg: ignoring corrupt image/label: non-normalized or out of bounds coordinates [       1.05        1.05        1.05]\n",
      "\u001b[34m\u001b[1mtrain: \u001b[0mWARNING ⚠️ trainEvalSet/train2011-518_000001.jpg: ignoring corrupt image/label: non-normalized or out of bounds coordinates [       1.05        1.05        1.05]\n",
      "\u001b[34m\u001b[1mtrain: \u001b[0mWARNING ⚠️ trainEvalSet/train2011-51_000001.jpg: 104 duplicate labels removed\n",
      "\u001b[34m\u001b[1mtrain: \u001b[0mWARNING ⚠️ trainEvalSet/train2011-51_000007.jpg: ignoring corrupt image/label: non-normalized or out of bounds coordinates [       1.05        1.05        1.05]\n",
      "\u001b[34m\u001b[1mtrain: \u001b[0mWARNING ⚠️ trainEvalSet/train2011-51_000008.jpg: 56 duplicate labels removed\n",
      "\u001b[34m\u001b[1mtrain: \u001b[0mWARNING ⚠️ trainEvalSet/train2011-520_000004.jpg: 93 duplicate labels removed\n",
      "\u001b[34m\u001b[1mtrain: \u001b[0mWARNING ⚠️ trainEvalSet/train2011-521_000002.jpg: 78 duplicate labels removed\n",
      "\u001b[34m\u001b[1mtrain: \u001b[0mWARNING ⚠️ trainEvalSet/train2011-522_000002.jpg: 79 duplicate labels removed\n",
      "\u001b[34m\u001b[1mtrain: \u001b[0mWARNING ⚠️ trainEvalSet/train2011-522_000003.jpg: 86 duplicate labels removed\n",
      "\u001b[34m\u001b[1mtrain: \u001b[0mWARNING ⚠️ trainEvalSet/train2011-523_000004.jpg: ignoring corrupt image/label: non-normalized or out of bounds coordinates [       1.05        1.05        1.05]\n",
      "\u001b[34m\u001b[1mtrain: \u001b[0mWARNING ⚠️ trainEvalSet/train2011-525_000003.jpg: 59 duplicate labels removed\n",
      "\u001b[34m\u001b[1mtrain: \u001b[0mWARNING ⚠️ trainEvalSet/train2011-527_000001.jpg: 105 duplicate labels removed\n",
      "\u001b[34m\u001b[1mtrain: \u001b[0mWARNING ⚠️ trainEvalSet/train2011-527_000008.jpg: ignoring corrupt image/label: non-normalized or out of bounds coordinates [       1.05        1.05        1.05]\n",
      "\u001b[34m\u001b[1mtrain: \u001b[0mWARNING ⚠️ trainEvalSet/train2011-528_000007.jpg: 30 duplicate labels removed\n",
      "\u001b[34m\u001b[1mtrain: \u001b[0mWARNING ⚠️ trainEvalSet/train2011-52_000004.jpg: 108 duplicate labels removed\n",
      "\u001b[34m\u001b[1mtrain: \u001b[0mWARNING ⚠️ trainEvalSet/train2011-530_000008.jpg: 187 duplicate labels removed\n",
      "\u001b[34m\u001b[1mtrain: \u001b[0mWARNING ⚠️ trainEvalSet/train2011-531_000004.jpg: 293 duplicate labels removed\n",
      "\u001b[34m\u001b[1mtrain: \u001b[0mWARNING ⚠️ trainEvalSet/train2011-532_000006.jpg: 24 duplicate labels removed\n",
      "\u001b[34m\u001b[1mtrain: \u001b[0mWARNING ⚠️ trainEvalSet/train2011-533_000001.jpg: 62 duplicate labels removed\n",
      "\u001b[34m\u001b[1mtrain: \u001b[0mWARNING ⚠️ trainEvalSet/train2011-535_000002.jpg: 104 duplicate labels removed\n",
      "\u001b[34m\u001b[1mtrain: \u001b[0mWARNING ⚠️ trainEvalSet/train2011-535_000003.jpg: ignoring corrupt image/label: non-normalized or out of bounds coordinates [       1.05        1.05        1.05]\n",
      "\u001b[34m\u001b[1mtrain: \u001b[0mWARNING ⚠️ trainEvalSet/train2011-536_000002.jpg: ignoring corrupt image/label: non-normalized or out of bounds coordinates [       1.05        1.05        1.05]\n",
      "\u001b[34m\u001b[1mtrain: \u001b[0mWARNING ⚠️ trainEvalSet/train2011-536_000004.jpg: ignoring corrupt image/label: non-normalized or out of bounds coordinates [       1.05        1.05        1.05]\n",
      "\u001b[34m\u001b[1mtrain: \u001b[0mWARNING ⚠️ trainEvalSet/train2011-537_000004.jpg: 30 duplicate labels removed\n",
      "\u001b[34m\u001b[1mtrain: \u001b[0mWARNING ⚠️ trainEvalSet/train2011-539_000009.jpg: 52 duplicate labels removed\n",
      "\u001b[34m\u001b[1mtrain: \u001b[0mWARNING ⚠️ trainEvalSet/train2011-53_000003.jpg: 68 duplicate labels removed\n",
      "\u001b[34m\u001b[1mtrain: \u001b[0mWARNING ⚠️ trainEvalSet/train2011-53_000004.jpg: ignoring corrupt image/label: non-normalized or out of bounds coordinates [       1.05        1.05        1.05]\n",
      "\u001b[34m\u001b[1mtrain: \u001b[0mWARNING ⚠️ trainEvalSet/train2011-540_000004.jpg: 108 duplicate labels removed\n",
      "\u001b[34m\u001b[1mtrain: \u001b[0mWARNING ⚠️ trainEvalSet/train2011-540_000006.jpg: 94 duplicate labels removed\n",
      "\u001b[34m\u001b[1mtrain: \u001b[0mWARNING ⚠️ trainEvalSet/train2011-542_000002.jpg: 78 duplicate labels removed\n",
      "\u001b[34m\u001b[1mtrain: \u001b[0mWARNING ⚠️ trainEvalSet/train2011-542_000004.jpg: 60 duplicate labels removed\n",
      "\u001b[34m\u001b[1mtrain: \u001b[0mWARNING ⚠️ trainEvalSet/train2011-542_000008.jpg: 74 duplicate labels removed\n",
      "\u001b[34m\u001b[1mtrain: \u001b[0mWARNING ⚠️ trainEvalSet/train2011-545_000007.jpg: 73 duplicate labels removed\n",
      "\u001b[34m\u001b[1mtrain: \u001b[0mWARNING ⚠️ trainEvalSet/train2011-545_000011.jpg: 40 duplicate labels removed\n",
      "\u001b[34m\u001b[1mtrain: \u001b[0mWARNING ⚠️ trainEvalSet/train2011-546_000002.jpg: 116 duplicate labels removed\n",
      "\u001b[34m\u001b[1mtrain: \u001b[0mWARNING ⚠️ trainEvalSet/train2011-546_000003.jpg: 50 duplicate labels removed\n",
      "\u001b[34m\u001b[1mtrain: \u001b[0mWARNING ⚠️ trainEvalSet/train2011-54_000002.jpg: 90 duplicate labels removed\n",
      "\u001b[34m\u001b[1mtrain: \u001b[0mWARNING ⚠️ trainEvalSet/train2011-54_000004.jpg: 87 duplicate labels removed\n",
      "\u001b[34m\u001b[1mtrain: \u001b[0mWARNING ⚠️ trainEvalSet/train2011-551_000004.jpg: ignoring corrupt image/label: non-normalized or out of bounds coordinates [       1.05        1.05        1.05]\n",
      "\u001b[34m\u001b[1mtrain: \u001b[0mWARNING ⚠️ trainEvalSet/train2011-551_000007.jpg: 71 duplicate labels removed\n",
      "\u001b[34m\u001b[1mtrain: \u001b[0mWARNING ⚠️ trainEvalSet/train2011-553_000007.jpg: 74 duplicate labels removed\n",
      "\u001b[34m\u001b[1mtrain: \u001b[0mWARNING ⚠️ trainEvalSet/train2011-554_000008.jpg: 426 duplicate labels removed\n",
      "\u001b[34m\u001b[1mtrain: \u001b[0mWARNING ⚠️ trainEvalSet/train2011-555_000002.jpg: ignoring corrupt image/label: non-normalized or out of bounds coordinates [       1.05        1.05        1.05        1.05        1.05        1.05]\n",
      "\u001b[34m\u001b[1mtrain: \u001b[0mWARNING ⚠️ trainEvalSet/train2011-555_000006.jpg: 24 duplicate labels removed\n",
      "\u001b[34m\u001b[1mtrain: \u001b[0mWARNING ⚠️ trainEvalSet/train2011-556_000001.jpg: ignoring corrupt image/label: non-normalized or out of bounds coordinates [       1.05        1.05        1.05        1.05        1.05        1.05]\n",
      "\u001b[34m\u001b[1mtrain: \u001b[0mWARNING ⚠️ trainEvalSet/train2011-556_000003.jpg: ignoring corrupt image/label: non-normalized or out of bounds coordinates [       1.05        1.05        1.05        1.05        1.05        1.05]\n",
      "\u001b[34m\u001b[1mtrain: \u001b[0mWARNING ⚠️ trainEvalSet/train2011-556_000011.jpg: 22 duplicate labels removed\n",
      "\u001b[34m\u001b[1mtrain: \u001b[0mWARNING ⚠️ trainEvalSet/train2011-558_000002.jpg: 93 duplicate labels removed\n",
      "\u001b[34m\u001b[1mtrain: \u001b[0mWARNING ⚠️ trainEvalSet/train2011-558_000006.jpg: 30 duplicate labels removed\n",
      "\u001b[34m\u001b[1mtrain: \u001b[0mWARNING ⚠️ trainEvalSet/train2011-558_000008.jpg: 139 duplicate labels removed\n",
      "\u001b[34m\u001b[1mtrain: \u001b[0mWARNING ⚠️ trainEvalSet/train2011-559_000003.jpg: 88 duplicate labels removed\n",
      "\u001b[34m\u001b[1mtrain: \u001b[0mWARNING ⚠️ trainEvalSet/train2011-55_000001.jpg: 78 duplicate labels removed\n",
      "\u001b[34m\u001b[1mtrain: \u001b[0mWARNING ⚠️ trainEvalSet/train2011-560_000001.jpg: ignoring corrupt image/label: non-normalized or out of bounds coordinates [       1.05        1.05        1.05        1.05        1.05        1.05        1.05        1.05        1.05        1.05        1.05        1.05        1.05        1.05        1.05        1.05        1.05        1.05        1.05        1.05        1.05        1.05]\n",
      "\u001b[34m\u001b[1mtrain: \u001b[0mWARNING ⚠️ trainEvalSet/train2011-560_000002.jpg: 106 duplicate labels removed\n",
      "\u001b[34m\u001b[1mtrain: \u001b[0mWARNING ⚠️ trainEvalSet/train2011-560_000003.jpg: 604 duplicate labels removed\n",
      "\u001b[34m\u001b[1mtrain: \u001b[0mWARNING ⚠️ trainEvalSet/train2011-560_000007.jpg: ignoring corrupt image/label: non-normalized or out of bounds coordinates [       1.05        1.05        1.05        1.05        1.05        1.05]\n",
      "\u001b[34m\u001b[1mtrain: \u001b[0mWARNING ⚠️ trainEvalSet/train2011-562_000004.jpg: ignoring corrupt image/label: non-normalized or out of bounds coordinates [       1.05        1.05        1.05]\n",
      "\u001b[34m\u001b[1mtrain: \u001b[0mWARNING ⚠️ trainEvalSet/train2011-565_000005.jpg: 94 duplicate labels removed\n",
      "\u001b[34m\u001b[1mtrain: \u001b[0mWARNING ⚠️ trainEvalSet/train2011-565_000006.jpg: 66 duplicate labels removed\n",
      "\u001b[34m\u001b[1mtrain: \u001b[0mWARNING ⚠️ trainEvalSet/train2011-565_000008.jpg: 46 duplicate labels removed\n",
      "\u001b[34m\u001b[1mtrain: \u001b[0mWARNING ⚠️ trainEvalSet/train2011-566_000001.jpg: ignoring corrupt image/label: non-normalized or out of bounds coordinates [       1.05        1.05        1.05]\n",
      "\u001b[34m\u001b[1mtrain: \u001b[0mWARNING ⚠️ trainEvalSet/train2011-566_000008.jpg: 92 duplicate labels removed\n",
      "\u001b[34m\u001b[1mtrain: \u001b[0mWARNING ⚠️ trainEvalSet/train2011-567_000002.jpg: 52 duplicate labels removed\n",
      "\u001b[34m\u001b[1mtrain: \u001b[0mWARNING ⚠️ trainEvalSet/train2011-568_000003.jpg: 10 duplicate labels removed\n",
      "\u001b[34m\u001b[1mtrain: \u001b[0mWARNING ⚠️ trainEvalSet/train2011-568_000006.jpg: 24 duplicate labels removed\n",
      "\u001b[34m\u001b[1mtrain: \u001b[0mWARNING ⚠️ trainEvalSet/train2011-569_000002.jpg: 86 duplicate labels removed\n",
      "\u001b[34m\u001b[1mtrain: \u001b[0mWARNING ⚠️ trainEvalSet/train2011-570_000002.jpg: 122 duplicate labels removed\n",
      "\u001b[34m\u001b[1mtrain: \u001b[0mWARNING ⚠️ trainEvalSet/train2011-570_000003.jpg: 263 duplicate labels removed\n",
      "\u001b[34m\u001b[1mtrain: \u001b[0mWARNING ⚠️ trainEvalSet/train2011-571_000008.jpg: 26 duplicate labels removed\n",
      "\u001b[34m\u001b[1mtrain: \u001b[0mWARNING ⚠️ trainEvalSet/train2011-572_000004.jpg: 106 duplicate labels removed\n",
      "\u001b[34m\u001b[1mtrain: \u001b[0mWARNING ⚠️ trainEvalSet/train2011-573_000002.jpg: 106 duplicate labels removed\n",
      "\u001b[34m\u001b[1mtrain: \u001b[0mWARNING ⚠️ trainEvalSet/train2011-573_000005.jpg: 128 duplicate labels removed\n",
      "\u001b[34m\u001b[1mtrain: \u001b[0mWARNING ⚠️ trainEvalSet/train2011-573_000007.jpg: 62 duplicate labels removed\n",
      "\u001b[34m\u001b[1mtrain: \u001b[0mWARNING ⚠️ trainEvalSet/train2011-574_000004.jpg: ignoring corrupt image/label: non-normalized or out of bounds coordinates [       1.05        1.05        1.05]\n",
      "\u001b[34m\u001b[1mtrain: \u001b[0mWARNING ⚠️ trainEvalSet/train2011-576_000006.jpg: 26 duplicate labels removed\n",
      "\u001b[34m\u001b[1mtrain: \u001b[0mWARNING ⚠️ trainEvalSet/train2011-577_000007.jpg: 86 duplicate labels removed\n",
      "\u001b[34m\u001b[1mtrain: \u001b[0mWARNING ⚠️ trainEvalSet/train2011-579_000002.jpg: 90 duplicate labels removed\n",
      "\u001b[34m\u001b[1mtrain: \u001b[0mWARNING ⚠️ trainEvalSet/train2011-580_000001.jpg: 86 duplicate labels removed\n",
      "\u001b[34m\u001b[1mtrain: \u001b[0mWARNING ⚠️ trainEvalSet/train2011-580_000005.jpg: 187 duplicate labels removed\n",
      "\u001b[34m\u001b[1mtrain: \u001b[0mWARNING ⚠️ trainEvalSet/train2011-581_000006.jpg: 62 duplicate labels removed\n",
      "\u001b[34m\u001b[1mtrain: \u001b[0mWARNING ⚠️ trainEvalSet/train2011-582_000003.jpg: 10 duplicate labels removed\n",
      "\u001b[34m\u001b[1mtrain: \u001b[0mWARNING ⚠️ trainEvalSet/train2011-583_000002.jpg: 91 duplicate labels removed\n",
      "\u001b[34m\u001b[1mtrain: \u001b[0mWARNING ⚠️ trainEvalSet/train2011-583_000004.jpg: 380 duplicate labels removed\n",
      "\u001b[34m\u001b[1mtrain: \u001b[0mWARNING ⚠️ trainEvalSet/train2011-584_000004.jpg: 91 duplicate labels removed\n",
      "\u001b[34m\u001b[1mtrain: \u001b[0mWARNING ⚠️ trainEvalSet/train2011-584_000007.jpg: 94 duplicate labels removed\n",
      "\u001b[34m\u001b[1mtrain: \u001b[0mWARNING ⚠️ trainEvalSet/train2011-587_000005.jpg: 66 duplicate labels removed\n",
      "\u001b[34m\u001b[1mtrain: \u001b[0mWARNING ⚠️ trainEvalSet/train2011-589_000002.jpg: 109 duplicate labels removed\n",
      "\u001b[34m\u001b[1mtrain: \u001b[0mWARNING ⚠️ trainEvalSet/train2011-589_000004.jpg: 48 duplicate labels removed\n",
      "\u001b[34m\u001b[1mtrain: \u001b[0mWARNING ⚠️ trainEvalSet/train2011-595_000002.jpg: 106 duplicate labels removed\n",
      "\u001b[34m\u001b[1mtrain: \u001b[0mWARNING ⚠️ trainEvalSet/train2011-595_000005.jpg: 120 duplicate labels removed\n",
      "\u001b[34m\u001b[1mtrain: \u001b[0mWARNING ⚠️ trainEvalSet/train2011-595_000006.jpg: 78 duplicate labels removed\n",
      "\u001b[34m\u001b[1mtrain: \u001b[0mWARNING ⚠️ trainEvalSet/train2011-598_000007.jpg: 56 duplicate labels removed\n",
      "\u001b[34m\u001b[1mtrain: \u001b[0mWARNING ⚠️ trainEvalSet/train2011-599_000002.jpg: 211 duplicate labels removed\n",
      "\u001b[34m\u001b[1mtrain: \u001b[0mWARNING ⚠️ trainEvalSet/train2011-59_000003.jpg: 170 duplicate labels removed\n",
      "\u001b[34m\u001b[1mtrain: \u001b[0mWARNING ⚠️ trainEvalSet/train2011-59_000008.jpg: 92 duplicate labels removed\n",
      "\u001b[34m\u001b[1mtrain: \u001b[0mWARNING ⚠️ trainEvalSet/train2011-5_000003.jpg: 115 duplicate labels removed\n",
      "\u001b[34m\u001b[1mtrain: \u001b[0mWARNING ⚠️ trainEvalSet/train2011-603_000001.jpg: 80 duplicate labels removed\n",
      "\u001b[34m\u001b[1mtrain: \u001b[0mWARNING ⚠️ trainEvalSet/train2011-605_000003.jpg: 99 duplicate labels removed\n",
      "\u001b[34m\u001b[1mtrain: \u001b[0mWARNING ⚠️ trainEvalSet/train2011-605_000008.jpg: 90 duplicate labels removed\n",
      "\u001b[34m\u001b[1mtrain: \u001b[0mWARNING ⚠️ trainEvalSet/train2011-605_000010.jpg: 107 duplicate labels removed\n",
      "\u001b[34m\u001b[1mtrain: \u001b[0mWARNING ⚠️ trainEvalSet/train2011-607_000003.jpg: ignoring corrupt image/label: non-normalized or out of bounds coordinates [       1.05        1.05        1.05]\n",
      "\u001b[34m\u001b[1mtrain: \u001b[0mWARNING ⚠️ trainEvalSet/train2011-608_000001.jpg: 1 duplicate labels removed\n",
      "\u001b[34m\u001b[1mtrain: \u001b[0mWARNING ⚠️ trainEvalSet/train2011-608_000002.jpg: ignoring corrupt image/label: non-normalized or out of bounds coordinates [       1.05        1.05        1.05        1.05        1.05        1.05]\n",
      "\u001b[34m\u001b[1mtrain: \u001b[0mWARNING ⚠️ trainEvalSet/train2011-608_000004.jpg: 14 duplicate labels removed\n",
      "\u001b[34m\u001b[1mtrain: \u001b[0mWARNING ⚠️ trainEvalSet/train2011-611_000005.jpg: 96 duplicate labels removed\n",
      "\u001b[34m\u001b[1mtrain: \u001b[0mWARNING ⚠️ trainEvalSet/train2011-612_000005.jpg: 84 duplicate labels removed\n",
      "\u001b[34m\u001b[1mtrain: \u001b[0mWARNING ⚠️ trainEvalSet/train2011-614_000002.jpg: ignoring corrupt image/label: non-normalized or out of bounds coordinates [       1.05        1.05        1.05]\n",
      "\u001b[34m\u001b[1mtrain: \u001b[0mWARNING ⚠️ trainEvalSet/train2011-614_000004.jpg: ignoring corrupt image/label: non-normalized or out of bounds coordinates [       1.05        1.05        1.05]\n",
      "\u001b[34m\u001b[1mtrain: \u001b[0mWARNING ⚠️ trainEvalSet/train2011-617_000001.jpg: 545 duplicate labels removed\n",
      "\u001b[34m\u001b[1mtrain: \u001b[0mWARNING ⚠️ trainEvalSet/train2011-617_000006.jpg: ignoring corrupt image/label: non-normalized or out of bounds coordinates [       1.05        1.05        1.05]\n",
      "\u001b[34m\u001b[1mtrain: \u001b[0mWARNING ⚠️ trainEvalSet/train2011-617_000007.jpg: 62 duplicate labels removed\n",
      "\u001b[34m\u001b[1mtrain: \u001b[0mWARNING ⚠️ trainEvalSet/train2011-618_000001.jpg: ignoring corrupt image/label: non-normalized or out of bounds coordinates [       1.05        1.05        1.05]\n",
      "\u001b[34m\u001b[1mtrain: \u001b[0mWARNING ⚠️ trainEvalSet/train2011-619_000004.jpg: 60 duplicate labels removed\n",
      "\u001b[34m\u001b[1mtrain: \u001b[0mWARNING ⚠️ trainEvalSet/train2011-61_000007.jpg: 72 duplicate labels removed\n",
      "\u001b[34m\u001b[1mtrain: \u001b[0mWARNING ⚠️ trainEvalSet/train2011-620_000005.jpg: ignoring corrupt image/label: non-normalized or out of bounds coordinates [       1.05        1.05        1.05]\n",
      "\u001b[34m\u001b[1mtrain: \u001b[0mWARNING ⚠️ trainEvalSet/train2011-621_000006.jpg: ignoring corrupt image/label: non-normalized or out of bounds coordinates [       1.05        1.05        1.05        1.05        1.05]\n",
      "\u001b[34m\u001b[1mtrain: \u001b[0mWARNING ⚠️ trainEvalSet/train2011-621_000007.jpg: ignoring corrupt image/label: non-normalized or out of bounds coordinates [       1.05        1.05        1.05]\n",
      "\u001b[34m\u001b[1mtrain: \u001b[0mWARNING ⚠️ trainEvalSet/train2011-622_000005.jpg: ignoring corrupt image/label: non-normalized or out of bounds coordinates [       1.05        1.05        1.05]\n",
      "\u001b[34m\u001b[1mtrain: \u001b[0mWARNING ⚠️ trainEvalSet/train2011-624_000001.jpg: 103 duplicate labels removed\n",
      "\u001b[34m\u001b[1mtrain: \u001b[0mWARNING ⚠️ trainEvalSet/train2011-625_000004.jpg: ignoring corrupt image/label: non-normalized or out of bounds coordinates [       1.05        1.05        1.05        1.05        1.05        1.05]\n",
      "\u001b[34m\u001b[1mtrain: \u001b[0mWARNING ⚠️ trainEvalSet/train2011-626_000006.jpg: 438 duplicate labels removed\n",
      "\u001b[34m\u001b[1mtrain: \u001b[0mWARNING ⚠️ trainEvalSet/train2011-627_000004.jpg: 52 duplicate labels removed\n",
      "\u001b[34m\u001b[1mtrain: \u001b[0mWARNING ⚠️ trainEvalSet/train2011-627_000009.jpg: 20 duplicate labels removed\n",
      "\u001b[34m\u001b[1mtrain: \u001b[0mWARNING ⚠️ trainEvalSet/train2011-628_000006.jpg: 50 duplicate labels removed\n",
      "\u001b[34m\u001b[1mtrain: \u001b[0mWARNING ⚠️ trainEvalSet/train2011-629_000003.jpg: 18 duplicate labels removed\n",
      "\u001b[34m\u001b[1mtrain: \u001b[0mWARNING ⚠️ trainEvalSet/train2011-629_000004.jpg: 82 duplicate labels removed\n",
      "\u001b[34m\u001b[1mtrain: \u001b[0mWARNING ⚠️ trainEvalSet/train2011-630_000001.jpg: 108 duplicate labels removed\n",
      "\u001b[34m\u001b[1mtrain: \u001b[0mWARNING ⚠️ trainEvalSet/train2011-632_000007.jpg: ignoring corrupt image/label: non-normalized or out of bounds coordinates [       1.05        1.05        1.05]\n",
      "\u001b[34m\u001b[1mtrain: \u001b[0mWARNING ⚠️ trainEvalSet/train2011-633_000005.jpg: ignoring corrupt image/label: non-normalized or out of bounds coordinates [       1.05        1.05        1.05]\n",
      "\u001b[34m\u001b[1mtrain: \u001b[0mWARNING ⚠️ trainEvalSet/train2011-636_000003.jpg: 78 duplicate labels removed\n",
      "\u001b[34m\u001b[1mtrain: \u001b[0mWARNING ⚠️ trainEvalSet/train2011-636_000004.jpg: 94 duplicate labels removed\n",
      "\u001b[34m\u001b[1mtrain: \u001b[0mWARNING ⚠️ trainEvalSet/train2011-638_000006.jpg: 241 duplicate labels removed\n",
      "\u001b[34m\u001b[1mtrain: \u001b[0mWARNING ⚠️ trainEvalSet/train2011-639_000007.jpg: 172 duplicate labels removed\n",
      "\u001b[34m\u001b[1mtrain: \u001b[0mWARNING ⚠️ trainEvalSet/train2011-63_000004.jpg: 76 duplicate labels removed\n",
      "\u001b[34m\u001b[1mtrain: \u001b[0mWARNING ⚠️ trainEvalSet/train2011-63_000011.jpg: 50 duplicate labels removed\n",
      "\u001b[34m\u001b[1mtrain: \u001b[0mWARNING ⚠️ trainEvalSet/train2011-641_000003.jpg: 116 duplicate labels removed\n",
      "\u001b[34m\u001b[1mtrain: \u001b[0mWARNING ⚠️ trainEvalSet/train2011-641_000004.jpg: ignoring corrupt image/label: non-normalized or out of bounds coordinates [       1.05        1.05        1.05]\n",
      "\u001b[34m\u001b[1mtrain: \u001b[0mWARNING ⚠️ trainEvalSet/train2011-641_000006.jpg: 88 duplicate labels removed\n",
      "\u001b[34m\u001b[1mtrain: \u001b[0mWARNING ⚠️ trainEvalSet/train2011-643_000004.jpg: ignoring corrupt image/label: non-normalized or out of bounds coordinates [       1.05        1.05        1.05]\n",
      "\u001b[34m\u001b[1mtrain: \u001b[0mWARNING ⚠️ trainEvalSet/train2011-643_000005.jpg: 104 duplicate labels removed\n",
      "\u001b[34m\u001b[1mtrain: \u001b[0mWARNING ⚠️ trainEvalSet/train2011-645_000005.jpg: 38 duplicate labels removed\n",
      "\u001b[34m\u001b[1mtrain: \u001b[0mWARNING ⚠️ trainEvalSet/train2011-647_000012.jpg: 212 duplicate labels removed\n",
      "\u001b[34m\u001b[1mtrain: \u001b[0mWARNING ⚠️ trainEvalSet/train2011-647_000014.jpg: 126 duplicate labels removed\n",
      "\u001b[34m\u001b[1mtrain: \u001b[0mWARNING ⚠️ trainEvalSet/train2011-649_000001.jpg: ignoring corrupt image/label: non-normalized or out of bounds coordinates [       1.05        1.05        1.05]\n",
      "\u001b[34m\u001b[1mtrain: \u001b[0mWARNING ⚠️ trainEvalSet/train2011-64_000001.jpg: 68 duplicate labels removed\n",
      "\u001b[34m\u001b[1mtrain: \u001b[0mWARNING ⚠️ trainEvalSet/train2011-64_000002.jpg: 55 duplicate labels removed\n",
      "\u001b[34m\u001b[1mtrain: \u001b[0mWARNING ⚠️ trainEvalSet/train2011-650_000002.jpg: 136 duplicate labels removed\n",
      "\u001b[34m\u001b[1mtrain: \u001b[0mWARNING ⚠️ trainEvalSet/train2011-650_000004.jpg: 124 duplicate labels removed\n",
      "\u001b[34m\u001b[1mtrain: \u001b[0mWARNING ⚠️ trainEvalSet/train2011-652_000008.jpg: 40 duplicate labels removed\n",
      "\u001b[34m\u001b[1mtrain: \u001b[0mWARNING ⚠️ trainEvalSet/train2011-653_000004.jpg: 14 duplicate labels removed\n",
      "\u001b[34m\u001b[1mtrain: \u001b[0mWARNING ⚠️ trainEvalSet/train2011-653_000007.jpg: 50 duplicate labels removed\n",
      "\u001b[34m\u001b[1mtrain: \u001b[0mWARNING ⚠️ trainEvalSet/train2011-655_000001.jpg: 103 duplicate labels removed\n",
      "\u001b[34m\u001b[1mtrain: \u001b[0mWARNING ⚠️ trainEvalSet/train2011-656_000002.jpg: 90 duplicate labels removed\n",
      "\u001b[34m\u001b[1mtrain: \u001b[0mWARNING ⚠️ trainEvalSet/train2011-656_000004.jpg: 102 duplicate labels removed\n",
      "\u001b[34m\u001b[1mtrain: \u001b[0mWARNING ⚠️ trainEvalSet/train2011-657_000009.jpg: 104 duplicate labels removed\n",
      "\u001b[34m\u001b[1mtrain: \u001b[0mWARNING ⚠️ trainEvalSet/train2011-659_000002.jpg: ignoring corrupt image/label: non-normalized or out of bounds coordinates [       1.05        1.05        1.05        1.05        1.05        1.05        1.05        1.05        1.05]\n",
      "\u001b[34m\u001b[1mtrain: \u001b[0mWARNING ⚠️ trainEvalSet/train2011-659_000003.jpg: 190 duplicate labels removed\n",
      "\u001b[34m\u001b[1mtrain: \u001b[0mWARNING ⚠️ trainEvalSet/train2011-660_000002.jpg: 86 duplicate labels removed\n",
      "\u001b[34m\u001b[1mtrain: \u001b[0mWARNING ⚠️ trainEvalSet/train2011-660_000011.jpg: 76 duplicate labels removed\n",
      "\u001b[34m\u001b[1mtrain: \u001b[0mWARNING ⚠️ trainEvalSet/train2011-662_000001.jpg: 212 duplicate labels removed\n",
      "\u001b[34m\u001b[1mtrain: \u001b[0mWARNING ⚠️ trainEvalSet/train2011-662_000005.jpg: 92 duplicate labels removed\n",
      "\u001b[34m\u001b[1mtrain: \u001b[0mWARNING ⚠️ trainEvalSet/train2011-663_000001.jpg: ignoring corrupt image/label: non-normalized or out of bounds coordinates [       1.05        1.05        1.05]\n",
      "\u001b[34m\u001b[1mtrain: \u001b[0mWARNING ⚠️ trainEvalSet/train2011-664_000003.jpg: 75 duplicate labels removed\n",
      "\u001b[34m\u001b[1mtrain: \u001b[0mWARNING ⚠️ trainEvalSet/train2011-664_000005.jpg: ignoring corrupt image/label: non-normalized or out of bounds coordinates [       1.05        1.05        1.05]\n",
      "\u001b[34m\u001b[1mtrain: \u001b[0mWARNING ⚠️ trainEvalSet/train2011-664_000006.jpg: 64 duplicate labels removed\n",
      "\u001b[34m\u001b[1mtrain: \u001b[0mWARNING ⚠️ trainEvalSet/train2011-665_000005.jpg: 50 duplicate labels removed\n",
      "\u001b[34m\u001b[1mtrain: \u001b[0mWARNING ⚠️ trainEvalSet/train2011-665_000006.jpg: 26 duplicate labels removed\n",
      "\u001b[34m\u001b[1mtrain: \u001b[0mWARNING ⚠️ trainEvalSet/train2011-666_000008.jpg: 66 duplicate labels removed\n",
      "\u001b[34m\u001b[1mtrain: \u001b[0mWARNING ⚠️ trainEvalSet/train2011-667_000005.jpg: 106 duplicate labels removed\n",
      "\u001b[34m\u001b[1mtrain: \u001b[0mWARNING ⚠️ trainEvalSet/train2011-668_000003.jpg: ignoring corrupt image/label: non-normalized or out of bounds coordinates [       1.05        1.05        1.05]\n",
      "\u001b[34m\u001b[1mtrain: \u001b[0mWARNING ⚠️ trainEvalSet/train2011-668_000008.jpg: 42 duplicate labels removed\n",
      "\u001b[34m\u001b[1mtrain: \u001b[0mWARNING ⚠️ trainEvalSet/train2011-671_000004.jpg: 92 duplicate labels removed\n",
      "\u001b[34m\u001b[1mtrain: \u001b[0mWARNING ⚠️ trainEvalSet/train2011-671_000005.jpg: 27 duplicate labels removed\n",
      "\u001b[34m\u001b[1mtrain: \u001b[0mWARNING ⚠️ trainEvalSet/train2011-672_000007.jpg: 83 duplicate labels removed\n",
      "\u001b[34m\u001b[1mtrain: \u001b[0mWARNING ⚠️ trainEvalSet/train2011-673_000002.jpg: 128 duplicate labels removed\n",
      "\u001b[34m\u001b[1mtrain: \u001b[0mWARNING ⚠️ trainEvalSet/train2011-673_000005.jpg: ignoring corrupt image/label: non-normalized or out of bounds coordinates [       1.05        1.05        1.05]\n",
      "\u001b[34m\u001b[1mtrain: \u001b[0mWARNING ⚠️ trainEvalSet/train2011-673_000008.jpg: ignoring corrupt image/label: non-normalized or out of bounds coordinates [       1.05        1.05        1.05]\n",
      "\u001b[34m\u001b[1mtrain: \u001b[0mWARNING ⚠️ trainEvalSet/train2011-674_000002.jpg: 106 duplicate labels removed\n",
      "\u001b[34m\u001b[1mtrain: \u001b[0mWARNING ⚠️ trainEvalSet/train2011-674_000005.jpg: 114 duplicate labels removed\n",
      "\u001b[34m\u001b[1mtrain: \u001b[0mWARNING ⚠️ trainEvalSet/train2011-674_000010.jpg: 26 duplicate labels removed\n",
      "\u001b[34m\u001b[1mtrain: \u001b[0mWARNING ⚠️ trainEvalSet/train2011-676_000007.jpg: ignoring corrupt image/label: non-normalized or out of bounds coordinates [       1.05        1.05        1.05        1.05        1.05        1.05        1.05        1.05        1.05        1.05        1.05]\n",
      "\u001b[34m\u001b[1mtrain: \u001b[0mWARNING ⚠️ trainEvalSet/train2011-678_000002.jpg: 78 duplicate labels removed\n",
      "\u001b[34m\u001b[1mtrain: \u001b[0mWARNING ⚠️ trainEvalSet/train2011-679_000004.jpg: 85 duplicate labels removed\n",
      "\u001b[34m\u001b[1mtrain: \u001b[0mWARNING ⚠️ trainEvalSet/train2011-67_000002.jpg: 92 duplicate labels removed\n",
      "\u001b[34m\u001b[1mtrain: \u001b[0mWARNING ⚠️ trainEvalSet/train2011-67_000006.jpg: 48 duplicate labels removed\n",
      "\u001b[34m\u001b[1mtrain: \u001b[0mWARNING ⚠️ trainEvalSet/train2011-680_000003.jpg: 288 duplicate labels removed\n",
      "\u001b[34m\u001b[1mtrain: \u001b[0mWARNING ⚠️ trainEvalSet/train2011-680_000008.jpg: 26 duplicate labels removed\n",
      "\u001b[34m\u001b[1mtrain: \u001b[0mWARNING ⚠️ trainEvalSet/train2011-681_000002.jpg: 82 duplicate labels removed\n",
      "\u001b[34m\u001b[1mtrain: \u001b[0mWARNING ⚠️ trainEvalSet/train2011-681_000003.jpg: 76 duplicate labels removed\n",
      "\u001b[34m\u001b[1mtrain: \u001b[0mWARNING ⚠️ trainEvalSet/train2011-683_000004.jpg: ignoring corrupt image/label: non-normalized or out of bounds coordinates [       1.05        1.05        1.05]\n",
      "\u001b[34m\u001b[1mtrain: \u001b[0mWARNING ⚠️ trainEvalSet/train2011-684_000002.jpg: 108 duplicate labels removed\n",
      "\u001b[34m\u001b[1mtrain: \u001b[0mWARNING ⚠️ trainEvalSet/train2011-685_000004.jpg: 50 duplicate labels removed\n",
      "\u001b[34m\u001b[1mtrain: \u001b[0mWARNING ⚠️ trainEvalSet/train2011-686_000003.jpg: 40 duplicate labels removed\n",
      "\u001b[34m\u001b[1mtrain: \u001b[0mWARNING ⚠️ trainEvalSet/train2011-686_000004.jpg: 130 duplicate labels removed\n",
      "\u001b[34m\u001b[1mtrain: \u001b[0mWARNING ⚠️ trainEvalSet/train2011-686_000009.jpg: 117 duplicate labels removed\n",
      "\u001b[34m\u001b[1mtrain: \u001b[0mWARNING ⚠️ trainEvalSet/train2011-688_000001.jpg: 76 duplicate labels removed\n",
      "\u001b[34m\u001b[1mtrain: \u001b[0mWARNING ⚠️ trainEvalSet/train2011-688_000002.jpg: 94 duplicate labels removed\n",
      "\u001b[34m\u001b[1mtrain: \u001b[0mWARNING ⚠️ trainEvalSet/train2011-688_000006.jpg: 66 duplicate labels removed\n",
      "\u001b[34m\u001b[1mtrain: \u001b[0mWARNING ⚠️ trainEvalSet/train2011-689_000003.jpg: ignoring corrupt image/label: non-normalized or out of bounds coordinates [       1.05        1.05        1.05        1.05        1.05        1.05]\n",
      "\u001b[34m\u001b[1mtrain: \u001b[0mWARNING ⚠️ trainEvalSet/train2011-68_000001.jpg: 527 duplicate labels removed\n",
      "\u001b[34m\u001b[1mtrain: \u001b[0mWARNING ⚠️ trainEvalSet/train2011-68_000002.jpg: 90 duplicate labels removed\n",
      "\u001b[34m\u001b[1mtrain: \u001b[0mWARNING ⚠️ trainEvalSet/train2011-690_000007.jpg: 40 duplicate labels removed\n",
      "\u001b[34m\u001b[1mtrain: \u001b[0mWARNING ⚠️ trainEvalSet/train2011-691_000007.jpg: 82 duplicate labels removed\n",
      "\u001b[34m\u001b[1mtrain: \u001b[0mWARNING ⚠️ trainEvalSet/train2011-691_000009.jpg: 28 duplicate labels removed\n",
      "\u001b[34m\u001b[1mtrain: \u001b[0mWARNING ⚠️ trainEvalSet/train2011-692_000011.jpg: 106 duplicate labels removed\n",
      "\u001b[34m\u001b[1mtrain: \u001b[0mWARNING ⚠️ trainEvalSet/train2011-694_000005.jpg: 106 duplicate labels removed\n",
      "\u001b[34m\u001b[1mtrain: \u001b[0mWARNING ⚠️ trainEvalSet/train2011-695_000001.jpg: 60 duplicate labels removed\n",
      "\u001b[34m\u001b[1mtrain: \u001b[0mWARNING ⚠️ trainEvalSet/train2011-695_000013.jpg: 430 duplicate labels removed\n",
      "\u001b[34m\u001b[1mtrain: \u001b[0mWARNING ⚠️ trainEvalSet/train2011-696_000004.jpg: ignoring corrupt image/label: non-normalized or out of bounds coordinates [       1.05        1.05        1.05        1.05        1.05]\n",
      "\u001b[34m\u001b[1mtrain: \u001b[0mWARNING ⚠️ trainEvalSet/train2011-696_000005.jpg: 236 duplicate labels removed\n",
      "\u001b[34m\u001b[1mtrain: \u001b[0mWARNING ⚠️ trainEvalSet/train2011-696_000013.jpg: 256 duplicate labels removed\n",
      "\u001b[34m\u001b[1mtrain: \u001b[0mWARNING ⚠️ trainEvalSet/train2011-696_000014.jpg: 94 duplicate labels removed\n",
      "\u001b[34m\u001b[1mtrain: \u001b[0mWARNING ⚠️ trainEvalSet/train2011-697_000001.jpg: 129 duplicate labels removed\n",
      "\u001b[34m\u001b[1mtrain: \u001b[0mWARNING ⚠️ trainEvalSet/train2011-697_000006.jpg: 118 duplicate labels removed\n",
      "\u001b[34m\u001b[1mtrain: \u001b[0mWARNING ⚠️ trainEvalSet/train2011-698_000002.jpg: 72 duplicate labels removed\n",
      "\u001b[34m\u001b[1mtrain: \u001b[0mWARNING ⚠️ trainEvalSet/train2011-699_000007.jpg: 89 duplicate labels removed\n",
      "\u001b[34m\u001b[1mtrain: \u001b[0mWARNING ⚠️ trainEvalSet/train2011-69_000004.jpg: 30 duplicate labels removed\n",
      "\u001b[34m\u001b[1mtrain: \u001b[0mWARNING ⚠️ trainEvalSet/train2011-6_000004.jpg: 82 duplicate labels removed\n",
      "\u001b[34m\u001b[1mtrain: \u001b[0mWARNING ⚠️ trainEvalSet/train2011-6_000005.jpg: 70 duplicate labels removed\n",
      "\u001b[34m\u001b[1mtrain: \u001b[0mWARNING ⚠️ trainEvalSet/train2011-6_000009.jpg: 54 duplicate labels removed\n",
      "\u001b[34m\u001b[1mtrain: \u001b[0mWARNING ⚠️ trainEvalSet/train2011-700_000001.jpg: 260 duplicate labels removed\n",
      "\u001b[34m\u001b[1mtrain: \u001b[0mWARNING ⚠️ trainEvalSet/train2011-700_000003.jpg: ignoring corrupt image/label: non-normalized or out of bounds coordinates [       1.05        1.05        1.05]\n",
      "\u001b[34m\u001b[1mtrain: \u001b[0mWARNING ⚠️ trainEvalSet/train2011-700_000004.jpg: 42 duplicate labels removed\n",
      "\u001b[34m\u001b[1mtrain: \u001b[0mWARNING ⚠️ trainEvalSet/train2011-701_000006.jpg: 159 duplicate labels removed\n",
      "\u001b[34m\u001b[1mtrain: \u001b[0mWARNING ⚠️ trainEvalSet/train2011-704_000003.jpg: 101 duplicate labels removed\n",
      "\u001b[34m\u001b[1mtrain: \u001b[0mWARNING ⚠️ trainEvalSet/train2011-705_000005.jpg: 214 duplicate labels removed\n",
      "\u001b[34m\u001b[1mtrain: \u001b[0mWARNING ⚠️ trainEvalSet/train2011-706_000005.jpg: ignoring corrupt image/label: non-normalized or out of bounds coordinates [       1.05        1.05        1.05]\n",
      "\u001b[34m\u001b[1mtrain: \u001b[0mWARNING ⚠️ trainEvalSet/train2011-707_000003.jpg: 24 duplicate labels removed\n",
      "\u001b[34m\u001b[1mtrain: \u001b[0mWARNING ⚠️ trainEvalSet/train2011-707_000007.jpg: 50 duplicate labels removed\n",
      "\u001b[34m\u001b[1mtrain: \u001b[0mWARNING ⚠️ trainEvalSet/train2011-708_000001.jpg: ignoring corrupt image/label: non-normalized or out of bounds coordinates [       1.05        1.05        1.05]\n",
      "\u001b[34m\u001b[1mtrain: \u001b[0mWARNING ⚠️ trainEvalSet/train2011-708_000005.jpg: 56 duplicate labels removed\n",
      "\u001b[34m\u001b[1mtrain: \u001b[0mWARNING ⚠️ trainEvalSet/train2011-710_000001.jpg: 118 duplicate labels removed\n",
      "\u001b[34m\u001b[1mtrain: \u001b[0mWARNING ⚠️ trainEvalSet/train2011-711_000003.jpg: 94 duplicate labels removed\n",
      "\u001b[34m\u001b[1mtrain: \u001b[0mWARNING ⚠️ trainEvalSet/train2011-712_000001.jpg: 100 duplicate labels removed\n",
      "\u001b[34m\u001b[1mtrain: \u001b[0mWARNING ⚠️ trainEvalSet/train2011-712_000002.jpg: ignoring corrupt image/label: non-normalized or out of bounds coordinates [       1.05        1.05        1.05]\n",
      "\u001b[34m\u001b[1mtrain: \u001b[0mWARNING ⚠️ trainEvalSet/train2011-712_000005.jpg: 79 duplicate labels removed\n",
      "\u001b[34m\u001b[1mtrain: \u001b[0mWARNING ⚠️ trainEvalSet/train2011-712_000007.jpg: 26 duplicate labels removed\n",
      "\u001b[34m\u001b[1mtrain: \u001b[0mWARNING ⚠️ trainEvalSet/train2011-713_000001.jpg: 106 duplicate labels removed\n",
      "\u001b[34m\u001b[1mtrain: \u001b[0mWARNING ⚠️ trainEvalSet/train2011-714_000001.jpg: 230 duplicate labels removed\n",
      "\u001b[34m\u001b[1mtrain: \u001b[0mWARNING ⚠️ trainEvalSet/train2011-716_000001.jpg: 468 duplicate labels removed\n",
      "\u001b[34m\u001b[1mtrain: \u001b[0mWARNING ⚠️ trainEvalSet/train2011-718_000006.jpg: 89 duplicate labels removed\n",
      "\u001b[34m\u001b[1mtrain: \u001b[0mWARNING ⚠️ trainEvalSet/train2011-719_000001.jpg: 127 duplicate labels removed\n",
      "\u001b[34m\u001b[1mtrain: \u001b[0mWARNING ⚠️ trainEvalSet/train2011-71_000003.jpg: 84 duplicate labels removed\n",
      "\u001b[34m\u001b[1mtrain: \u001b[0mWARNING ⚠️ trainEvalSet/train2011-71_000008.jpg: 76 duplicate labels removed\n",
      "\u001b[34m\u001b[1mtrain: \u001b[0mWARNING ⚠️ trainEvalSet/train2011-721_000003.jpg: ignoring corrupt image/label: non-normalized or out of bounds coordinates [       1.05        1.05        1.05        1.05        1.05        1.05        1.05        1.05        1.05]\n",
      "\u001b[34m\u001b[1mtrain: \u001b[0mWARNING ⚠️ trainEvalSet/train2011-721_000007.jpg: 20 duplicate labels removed\n",
      "\u001b[34m\u001b[1mtrain: \u001b[0mWARNING ⚠️ trainEvalSet/train2011-722_000002.jpg: 107 duplicate labels removed\n",
      "\u001b[34m\u001b[1mtrain: \u001b[0mWARNING ⚠️ trainEvalSet/train2011-725_000004.jpg: 121 duplicate labels removed\n",
      "\u001b[34m\u001b[1mtrain: \u001b[0mWARNING ⚠️ trainEvalSet/train2011-725_000005.jpg: 93 duplicate labels removed\n",
      "\u001b[34m\u001b[1mtrain: \u001b[0mWARNING ⚠️ trainEvalSet/train2011-726_000008.jpg: ignoring corrupt image/label: non-normalized or out of bounds coordinates [       1.05        1.05        1.05]\n",
      "\u001b[34m\u001b[1mtrain: \u001b[0mWARNING ⚠️ trainEvalSet/train2011-727_000008.jpg: 28 duplicate labels removed\n",
      "\u001b[34m\u001b[1mtrain: \u001b[0mWARNING ⚠️ trainEvalSet/train2011-728_000004.jpg: 76 duplicate labels removed\n",
      "\u001b[34m\u001b[1mtrain: \u001b[0mWARNING ⚠️ trainEvalSet/train2011-729_000001.jpg: 64 duplicate labels removed\n",
      "\u001b[34m\u001b[1mtrain: \u001b[0mWARNING ⚠️ trainEvalSet/train2011-72_000004.jpg: 74 duplicate labels removed\n",
      "\u001b[34m\u001b[1mtrain: \u001b[0mWARNING ⚠️ trainEvalSet/train2011-731_000001.jpg: 141 duplicate labels removed\n",
      "\u001b[34m\u001b[1mtrain: \u001b[0mWARNING ⚠️ trainEvalSet/train2011-731_000007.jpg: 20 duplicate labels removed\n",
      "\u001b[34m\u001b[1mtrain: \u001b[0mWARNING ⚠️ trainEvalSet/train2011-733_000005.jpg: 28 duplicate labels removed\n",
      "\u001b[34m\u001b[1mtrain: \u001b[0mWARNING ⚠️ trainEvalSet/train2011-735_000003.jpg: 108 duplicate labels removed\n",
      "\u001b[34m\u001b[1mtrain: \u001b[0mWARNING ⚠️ trainEvalSet/train2011-735_000005.jpg: ignoring corrupt image/label: non-normalized or out of bounds coordinates [       1.05        1.05        1.05]\n",
      "\u001b[34m\u001b[1mtrain: \u001b[0mWARNING ⚠️ trainEvalSet/train2011-737_000003.jpg: 22 duplicate labels removed\n",
      "\u001b[34m\u001b[1mtrain: \u001b[0mWARNING ⚠️ trainEvalSet/train2011-737_000005.jpg: 102 duplicate labels removed\n",
      "\u001b[34m\u001b[1mtrain: \u001b[0mWARNING ⚠️ trainEvalSet/train2011-737_000006.jpg: 96 duplicate labels removed\n",
      "\u001b[34m\u001b[1mtrain: \u001b[0mWARNING ⚠️ trainEvalSet/train2011-740_000005.jpg: 86 duplicate labels removed\n",
      "\u001b[34m\u001b[1mtrain: \u001b[0mWARNING ⚠️ trainEvalSet/train2011-740_000006.jpg: 74 duplicate labels removed\n",
      "\u001b[34m\u001b[1mtrain: \u001b[0mWARNING ⚠️ trainEvalSet/train2011-741_000002.jpg: 106 duplicate labels removed\n",
      "\u001b[34m\u001b[1mtrain: \u001b[0mWARNING ⚠️ trainEvalSet/train2011-741_000005.jpg: 108 duplicate labels removed\n",
      "\u001b[34m\u001b[1mtrain: \u001b[0mWARNING ⚠️ trainEvalSet/train2011-741_000007.jpg: ignoring corrupt image/label: non-normalized or out of bounds coordinates [       1.05        1.05        1.05]\n",
      "\u001b[34m\u001b[1mtrain: \u001b[0mWARNING ⚠️ trainEvalSet/train2011-741_000012.jpg: 47 duplicate labels removed\n",
      "\u001b[34m\u001b[1mtrain: \u001b[0mWARNING ⚠️ trainEvalSet/train2011-742_000001.jpg: 83 duplicate labels removed\n",
      "\u001b[34m\u001b[1mtrain: \u001b[0mWARNING ⚠️ trainEvalSet/train2011-742_000004.jpg: 106 duplicate labels removed\n",
      "\u001b[34m\u001b[1mtrain: \u001b[0mWARNING ⚠️ trainEvalSet/train2011-742_000005.jpg: 90 duplicate labels removed\n",
      "\u001b[34m\u001b[1mtrain: \u001b[0mWARNING ⚠️ trainEvalSet/train2011-744_000004.jpg: ignoring corrupt image/label: non-normalized or out of bounds coordinates [       1.05        1.05        1.05]\n",
      "\u001b[34m\u001b[1mtrain: \u001b[0mWARNING ⚠️ trainEvalSet/train2011-744_000005.jpg: 90 duplicate labels removed\n",
      "\u001b[34m\u001b[1mtrain: \u001b[0mWARNING ⚠️ trainEvalSet/train2011-745_000001.jpg: ignoring corrupt image/label: non-normalized or out of bounds coordinates [       1.05        1.05        1.05]\n",
      "\u001b[34m\u001b[1mtrain: \u001b[0mWARNING ⚠️ trainEvalSet/train2011-745_000005.jpg: ignoring corrupt image/label: non-normalized or out of bounds coordinates [       1.05        1.05        1.05]\n",
      "\u001b[34m\u001b[1mtrain: \u001b[0mWARNING ⚠️ trainEvalSet/train2011-746_000004.jpg: 108 duplicate labels removed\n",
      "\u001b[34m\u001b[1mtrain: \u001b[0mWARNING ⚠️ trainEvalSet/train2011-747_000009.jpg: 78 duplicate labels removed\n",
      "\u001b[34m\u001b[1mtrain: \u001b[0mWARNING ⚠️ trainEvalSet/train2011-748_000001.jpg: 328 duplicate labels removed\n",
      "\u001b[34m\u001b[1mtrain: \u001b[0mWARNING ⚠️ trainEvalSet/train2011-748_000003.jpg: ignoring corrupt image/label: non-normalized or out of bounds coordinates [       1.05        1.05        1.05        1.05        1.05]\n",
      "\u001b[34m\u001b[1mtrain: \u001b[0mWARNING ⚠️ trainEvalSet/train2011-749_000005.jpg: 70 duplicate labels removed\n",
      "\u001b[34m\u001b[1mtrain: \u001b[0mWARNING ⚠️ trainEvalSet/train2011-74_000001.jpg: 356 duplicate labels removed\n",
      "\u001b[34m\u001b[1mtrain: \u001b[0mWARNING ⚠️ trainEvalSet/train2011-751_000002.jpg: ignoring corrupt image/label: non-normalized or out of bounds coordinates [       1.05        1.05        1.05]\n",
      "\u001b[34m\u001b[1mtrain: \u001b[0mWARNING ⚠️ trainEvalSet/train2011-751_000004.jpg: 116 duplicate labels removed\n",
      "\u001b[34m\u001b[1mtrain: \u001b[0mWARNING ⚠️ trainEvalSet/train2011-751_000005.jpg: 102 duplicate labels removed\n",
      "\u001b[34m\u001b[1mtrain: \u001b[0mWARNING ⚠️ trainEvalSet/train2011-751_000006.jpg: 94 duplicate labels removed\n",
      "\u001b[34m\u001b[1mtrain: \u001b[0mWARNING ⚠️ trainEvalSet/train2011-751_000009.jpg: 22 duplicate labels removed\n",
      "\u001b[34m\u001b[1mtrain: \u001b[0mWARNING ⚠️ trainEvalSet/train2011-752_000001.jpg: 65 duplicate labels removed\n",
      "\u001b[34m\u001b[1mtrain: \u001b[0mWARNING ⚠️ trainEvalSet/train2011-752_000005.jpg: 63 duplicate labels removed\n",
      "\u001b[34m\u001b[1mtrain: \u001b[0mWARNING ⚠️ trainEvalSet/train2011-752_000006.jpg: 403 duplicate labels removed\n",
      "\u001b[34m\u001b[1mtrain: \u001b[0mWARNING ⚠️ trainEvalSet/train2011-753_000003.jpg: 87 duplicate labels removed\n",
      "\u001b[34m\u001b[1mtrain: \u001b[0mWARNING ⚠️ trainEvalSet/train2011-754_000007.jpg: 92 duplicate labels removed\n",
      "\u001b[34m\u001b[1mtrain: \u001b[0mWARNING ⚠️ trainEvalSet/train2011-756_000002.jpg: 110 duplicate labels removed\n",
      "\u001b[34m\u001b[1mtrain: \u001b[0mWARNING ⚠️ trainEvalSet/train2011-757_000001.jpg: 102 duplicate labels removed\n",
      "\u001b[34m\u001b[1mtrain: \u001b[0mWARNING ⚠️ trainEvalSet/train2011-757_000004.jpg: 108 duplicate labels removed\n",
      "\u001b[34m\u001b[1mtrain: \u001b[0mWARNING ⚠️ trainEvalSet/train2011-757_000005.jpg: 116 duplicate labels removed\n",
      "\u001b[34m\u001b[1mtrain: \u001b[0mWARNING ⚠️ trainEvalSet/train2011-757_000006.jpg: ignoring corrupt image/label: non-normalized or out of bounds coordinates [       1.05        1.05        1.05        1.05        1.05        1.05]\n",
      "\u001b[34m\u001b[1mtrain: \u001b[0mWARNING ⚠️ trainEvalSet/train2011-757_000009.jpg: 78 duplicate labels removed\n",
      "\u001b[34m\u001b[1mtrain: \u001b[0mWARNING ⚠️ trainEvalSet/train2011-757_000014.jpg: 92 duplicate labels removed\n",
      "\u001b[34m\u001b[1mtrain: \u001b[0mWARNING ⚠️ trainEvalSet/train2011-761_000003.jpg: 70 duplicate labels removed\n",
      "\u001b[34m\u001b[1mtrain: \u001b[0mWARNING ⚠️ trainEvalSet/train2011-764_000002.jpg: 90 duplicate labels removed\n",
      "\u001b[34m\u001b[1mtrain: \u001b[0mWARNING ⚠️ trainEvalSet/train2011-764_000005.jpg: 56 duplicate labels removed\n",
      "\u001b[34m\u001b[1mtrain: \u001b[0mWARNING ⚠️ trainEvalSet/train2011-764_000009.jpg: 42 duplicate labels removed\n",
      "\u001b[34m\u001b[1mtrain: \u001b[0mWARNING ⚠️ trainEvalSet/train2011-764_000016.jpg: 24 duplicate labels removed\n",
      "\u001b[34m\u001b[1mtrain: \u001b[0mWARNING ⚠️ trainEvalSet/train2011-765_000007.jpg: 70 duplicate labels removed\n",
      "\u001b[34m\u001b[1mtrain: \u001b[0mWARNING ⚠️ trainEvalSet/train2011-766_000007.jpg: 138 duplicate labels removed\n",
      "\u001b[34m\u001b[1mtrain: \u001b[0mWARNING ⚠️ trainEvalSet/train2011-767_000004.jpg: 93 duplicate labels removed\n",
      "\u001b[34m\u001b[1mtrain: \u001b[0mWARNING ⚠️ trainEvalSet/train2011-767_000005.jpg: 120 duplicate labels removed\n",
      "\u001b[34m\u001b[1mtrain: \u001b[0mWARNING ⚠️ trainEvalSet/train2011-769_000004.jpg: ignoring corrupt image/label: non-normalized or out of bounds coordinates [       1.05        1.05        1.05]\n",
      "\u001b[34m\u001b[1mtrain: \u001b[0mWARNING ⚠️ trainEvalSet/train2011-76_000001.jpg: 200 duplicate labels removed\n",
      "\u001b[34m\u001b[1mtrain: \u001b[0mWARNING ⚠️ trainEvalSet/train2011-770_000001.jpg: ignoring corrupt image/label: non-normalized or out of bounds coordinates [       1.05        1.05        1.05]\n",
      "\u001b[34m\u001b[1mtrain: \u001b[0mWARNING ⚠️ trainEvalSet/train2011-771_000007.jpg: 46 duplicate labels removed\n",
      "\u001b[34m\u001b[1mtrain: \u001b[0mWARNING ⚠️ trainEvalSet/train2011-773_000002.jpg: 82 duplicate labels removed\n",
      "\u001b[34m\u001b[1mtrain: \u001b[0mWARNING ⚠️ trainEvalSet/train2011-773_000008.jpg: 56 duplicate labels removed\n",
      "\u001b[34m\u001b[1mtrain: \u001b[0mWARNING ⚠️ trainEvalSet/train2011-774_000004.jpg: ignoring corrupt image/label: non-normalized or out of bounds coordinates [       1.05        1.05        1.05]\n",
      "\u001b[34m\u001b[1mtrain: \u001b[0mWARNING ⚠️ trainEvalSet/train2011-774_000010.jpg: 76 duplicate labels removed\n",
      "\u001b[34m\u001b[1mtrain: \u001b[0mWARNING ⚠️ trainEvalSet/train2011-775_000003.jpg: 116 duplicate labels removed\n",
      "\u001b[34m\u001b[1mtrain: \u001b[0mWARNING ⚠️ trainEvalSet/train2011-775_000004.jpg: 115 duplicate labels removed\n",
      "\u001b[34m\u001b[1mtrain: \u001b[0mWARNING ⚠️ trainEvalSet/train2011-775_000006.jpg: ignoring corrupt image/label: non-normalized or out of bounds coordinates [       1.05        1.05        1.05]\n",
      "\u001b[34m\u001b[1mtrain: \u001b[0mWARNING ⚠️ trainEvalSet/train2011-777_000001.jpg: ignoring corrupt image/label: non-normalized or out of bounds coordinates [       1.05        1.05        1.05]\n",
      "\u001b[34m\u001b[1mtrain: \u001b[0mWARNING ⚠️ trainEvalSet/train2011-777_000005.jpg: 82 duplicate labels removed\n",
      "\u001b[34m\u001b[1mtrain: \u001b[0mWARNING ⚠️ trainEvalSet/train2011-778_000001.jpg: 88 duplicate labels removed\n",
      "\u001b[34m\u001b[1mtrain: \u001b[0mWARNING ⚠️ trainEvalSet/train2011-779_000001.jpg: 56 duplicate labels removed\n",
      "\u001b[34m\u001b[1mtrain: \u001b[0mWARNING ⚠️ trainEvalSet/train2011-779_000005.jpg: 92 duplicate labels removed\n",
      "\u001b[34m\u001b[1mtrain: \u001b[0mWARNING ⚠️ trainEvalSet/train2011-779_000006.jpg: 84 duplicate labels removed\n",
      "\u001b[34m\u001b[1mtrain: \u001b[0mWARNING ⚠️ trainEvalSet/train2011-77_000001.jpg: 135 duplicate labels removed\n",
      "\u001b[34m\u001b[1mtrain: \u001b[0mWARNING ⚠️ trainEvalSet/train2011-77_000006.jpg: ignoring corrupt image/label: non-normalized or out of bounds coordinates [       1.05        1.05        1.05]\n",
      "\u001b[34m\u001b[1mtrain: \u001b[0mWARNING ⚠️ trainEvalSet/train2011-780_000003.jpg: 84 duplicate labels removed\n",
      "\u001b[34m\u001b[1mtrain: \u001b[0mWARNING ⚠️ trainEvalSet/train2011-781_000005.jpg: 104 duplicate labels removed\n",
      "\u001b[34m\u001b[1mtrain: \u001b[0mWARNING ⚠️ trainEvalSet/train2011-784_000001.jpg: 121 duplicate labels removed\n",
      "\u001b[34m\u001b[1mtrain: \u001b[0mWARNING ⚠️ trainEvalSet/train2011-786_000002.jpg: ignoring corrupt image/label: non-normalized or out of bounds coordinates [       1.05        1.05        1.05]\n",
      "\u001b[34m\u001b[1mtrain: \u001b[0mWARNING ⚠️ trainEvalSet/train2011-788_000003.jpg: 70 duplicate labels removed\n",
      "\u001b[34m\u001b[1mtrain: \u001b[0mWARNING ⚠️ trainEvalSet/train2011-789_000006.jpg: 94 duplicate labels removed\n",
      "\u001b[34m\u001b[1mtrain: \u001b[0mWARNING ⚠️ trainEvalSet/train2011-790_000003.jpg: 91 duplicate labels removed\n",
      "\u001b[34m\u001b[1mtrain: \u001b[0mWARNING ⚠️ trainEvalSet/train2011-790_000004.jpg: ignoring corrupt image/label: non-normalized or out of bounds coordinates [       1.05        1.05        1.05]\n",
      "\u001b[34m\u001b[1mtrain: \u001b[0mWARNING ⚠️ trainEvalSet/train2011-790_000005.jpg: 54 duplicate labels removed\n",
      "\u001b[34m\u001b[1mtrain: \u001b[0mWARNING ⚠️ trainEvalSet/train2011-791_000006.jpg: 90 duplicate labels removed\n",
      "\u001b[34m\u001b[1mtrain: \u001b[0mWARNING ⚠️ trainEvalSet/train2011-792_000008.jpg: 24 duplicate labels removed\n",
      "\u001b[34m\u001b[1mtrain: \u001b[0mWARNING ⚠️ trainEvalSet/train2011-793_000003.jpg: 32 duplicate labels removed\n",
      "\u001b[34m\u001b[1mtrain: \u001b[0mWARNING ⚠️ trainEvalSet/train2011-794_000005.jpg: 24 duplicate labels removed\n",
      "\u001b[34m\u001b[1mtrain: \u001b[0mWARNING ⚠️ trainEvalSet/train2011-795_000003.jpg: ignoring corrupt image/label: non-normalized or out of bounds coordinates [       1.05        1.05        1.05]\n",
      "\u001b[34m\u001b[1mtrain: \u001b[0mWARNING ⚠️ trainEvalSet/train2011-795_000006.jpg: 47 duplicate labels removed\n",
      "\u001b[34m\u001b[1mtrain: \u001b[0mWARNING ⚠️ trainEvalSet/train2011-796_000003.jpg: 207 duplicate labels removed\n",
      "\u001b[34m\u001b[1mtrain: \u001b[0mWARNING ⚠️ trainEvalSet/train2011-797_000002.jpg: ignoring corrupt image/label: non-normalized or out of bounds coordinates [       1.05        1.05        1.05        1.05        1.05        1.05        1.05        1.05        1.05        1.05        1.05        1.05]\n",
      "\u001b[34m\u001b[1mtrain: \u001b[0mWARNING ⚠️ trainEvalSet/train2011-79_000007.jpg: 94 duplicate labels removed\n",
      "\u001b[34m\u001b[1mtrain: \u001b[0mWARNING ⚠️ trainEvalSet/train2011-800_000001.jpg: 84 duplicate labels removed\n",
      "\u001b[34m\u001b[1mtrain: \u001b[0mWARNING ⚠️ trainEvalSet/train2011-800_000003.jpg: 81 duplicate labels removed\n",
      "\u001b[34m\u001b[1mtrain: \u001b[0mWARNING ⚠️ trainEvalSet/train2011-802_000001.jpg: ignoring corrupt image/label: non-normalized or out of bounds coordinates [       1.05        1.05        1.05]\n",
      "\u001b[34m\u001b[1mtrain: \u001b[0mWARNING ⚠️ trainEvalSet/train2011-802_000005.jpg: 110 duplicate labels removed\n",
      "\u001b[34m\u001b[1mtrain: \u001b[0mWARNING ⚠️ trainEvalSet/train2011-803_000004.jpg: 94 duplicate labels removed\n",
      "\u001b[34m\u001b[1mtrain: \u001b[0mWARNING ⚠️ trainEvalSet/train2011-804_000004.jpg: 91 duplicate labels removed\n",
      "\u001b[34m\u001b[1mtrain: \u001b[0mWARNING ⚠️ trainEvalSet/train2011-805_000005.jpg: 58 duplicate labels removed\n",
      "\u001b[34m\u001b[1mtrain: \u001b[0mWARNING ⚠️ trainEvalSet/train2011-806_000004.jpg: 97 duplicate labels removed\n",
      "\u001b[34m\u001b[1mtrain: \u001b[0mWARNING ⚠️ trainEvalSet/train2011-80_000005.jpg: 76 duplicate labels removed\n",
      "\u001b[34m\u001b[1mtrain: \u001b[0mWARNING ⚠️ trainEvalSet/train2011-80_000007.jpg: 16 duplicate labels removed\n",
      "\u001b[34m\u001b[1mtrain: \u001b[0mWARNING ⚠️ trainEvalSet/train2011-812_000001.jpg: 66 duplicate labels removed\n",
      "\u001b[34m\u001b[1mtrain: \u001b[0mWARNING ⚠️ trainEvalSet/train2011-812_000003.jpg: 86 duplicate labels removed\n",
      "\u001b[34m\u001b[1mtrain: \u001b[0mWARNING ⚠️ trainEvalSet/train2011-814_000007.jpg: 105 duplicate labels removed\n",
      "\u001b[34m\u001b[1mtrain: \u001b[0mWARNING ⚠️ trainEvalSet/train2011-815_000006.jpg: 76 duplicate labels removed\n",
      "\u001b[34m\u001b[1mtrain: \u001b[0mWARNING ⚠️ trainEvalSet/train2011-819_000002.jpg: ignoring corrupt image/label: non-normalized or out of bounds coordinates [       1.05        1.05        1.05]\n",
      "\u001b[34m\u001b[1mtrain: \u001b[0mWARNING ⚠️ trainEvalSet/train2011-81_000003.jpg: 94 duplicate labels removed\n",
      "\u001b[34m\u001b[1mtrain: \u001b[0mWARNING ⚠️ trainEvalSet/train2011-81_000004.jpg: ignoring corrupt image/label: non-normalized or out of bounds coordinates [       1.05        1.05        1.05        1.05        1.05        1.05        1.05        1.05]\n",
      "\u001b[34m\u001b[1mtrain: \u001b[0mWARNING ⚠️ trainEvalSet/train2011-81_000007.jpg: ignoring corrupt image/label: non-normalized or out of bounds coordinates [       1.05        1.05        1.05        1.05        1.05]\n",
      "\u001b[34m\u001b[1mtrain: \u001b[0mWARNING ⚠️ trainEvalSet/train2011-820_000002.jpg: ignoring corrupt image/label: non-normalized or out of bounds coordinates [       1.05        1.05        1.05]\n",
      "\u001b[34m\u001b[1mtrain: \u001b[0mWARNING ⚠️ trainEvalSet/train2011-820_000004.jpg: 28 duplicate labels removed\n",
      "\u001b[34m\u001b[1mtrain: \u001b[0mWARNING ⚠️ trainEvalSet/train2011-82_000004.jpg: 22 duplicate labels removed\n",
      "\u001b[34m\u001b[1mtrain: \u001b[0mWARNING ⚠️ trainEvalSet/train2011-82_000005.jpg: 128 duplicate labels removed\n",
      "\u001b[34m\u001b[1mtrain: \u001b[0mWARNING ⚠️ trainEvalSet/train2011-831_000013.jpg: 24 duplicate labels removed\n",
      "\u001b[34m\u001b[1mtrain: \u001b[0mWARNING ⚠️ trainEvalSet/train2011-832_000004.jpg: ignoring corrupt image/label: non-normalized or out of bounds coordinates [       1.05        1.05        1.05        1.05]\n",
      "\u001b[34m\u001b[1mtrain: \u001b[0mWARNING ⚠️ trainEvalSet/train2011-835_000001.jpg: 108 duplicate labels removed\n",
      "\u001b[34m\u001b[1mtrain: \u001b[0mWARNING ⚠️ trainEvalSet/train2011-835_000002.jpg: 548 duplicate labels removed\n",
      "\u001b[34m\u001b[1mtrain: \u001b[0mWARNING ⚠️ trainEvalSet/train2011-836_000001.jpg: ignoring corrupt image/label: non-normalized or out of bounds coordinates [       1.05        1.05        1.05]\n",
      "\u001b[34m\u001b[1mtrain: \u001b[0mWARNING ⚠️ trainEvalSet/train2011-837_000005.jpg: 24 duplicate labels removed\n",
      "\u001b[34m\u001b[1mtrain: \u001b[0mWARNING ⚠️ trainEvalSet/train2011-841_000001.jpg: 104 duplicate labels removed\n",
      "\u001b[34m\u001b[1mtrain: \u001b[0mWARNING ⚠️ trainEvalSet/train2011-842_000002.jpg: 105 duplicate labels removed\n",
      "\u001b[34m\u001b[1mtrain: \u001b[0mWARNING ⚠️ trainEvalSet/train2011-843_000001.jpg: ignoring corrupt image/label: non-normalized or out of bounds coordinates [       1.05        1.05        1.05        1.05        1.05        1.05        1.05]\n",
      "\u001b[34m\u001b[1mtrain: \u001b[0mWARNING ⚠️ trainEvalSet/train2011-844_000001.jpg: 78 duplicate labels removed\n",
      "\u001b[34m\u001b[1mtrain: \u001b[0mWARNING ⚠️ trainEvalSet/train2011-844_000005.jpg: 78 duplicate labels removed\n",
      "\u001b[34m\u001b[1mtrain: \u001b[0mWARNING ⚠️ trainEvalSet/train2011-844_000011.jpg: 26 duplicate labels removed\n",
      "\u001b[34m\u001b[1mtrain: \u001b[0mWARNING ⚠️ trainEvalSet/train2011-845_000007.jpg: 74 duplicate labels removed\n",
      "\u001b[34m\u001b[1mtrain: \u001b[0mWARNING ⚠️ trainEvalSet/train2011-848_000002.jpg: 80 duplicate labels removed\n",
      "\u001b[34m\u001b[1mtrain: \u001b[0mWARNING ⚠️ trainEvalSet/train2011-849_000002.jpg: 90 duplicate labels removed\n",
      "\u001b[34m\u001b[1mtrain: \u001b[0mWARNING ⚠️ trainEvalSet/train2011-849_000003.jpg: 50 duplicate labels removed\n",
      "\u001b[34m\u001b[1mtrain: \u001b[0mWARNING ⚠️ trainEvalSet/train2011-849_000007.jpg: ignoring corrupt image/label: non-normalized or out of bounds coordinates [       1.05        1.05        1.05        1.05        1.05]\n",
      "\u001b[34m\u001b[1mtrain: \u001b[0mWARNING ⚠️ trainEvalSet/train2011-84_000002.jpg: 177 duplicate labels removed\n",
      "\u001b[34m\u001b[1mtrain: \u001b[0mWARNING ⚠️ trainEvalSet/train2011-84_000006.jpg: 42 duplicate labels removed\n",
      "\u001b[34m\u001b[1mtrain: \u001b[0mWARNING ⚠️ trainEvalSet/train2011-851_000005.jpg: 64 duplicate labels removed\n",
      "\u001b[34m\u001b[1mtrain: \u001b[0mWARNING ⚠️ trainEvalSet/train2011-852_000001.jpg: 80 duplicate labels removed\n",
      "\u001b[34m\u001b[1mtrain: \u001b[0mWARNING ⚠️ trainEvalSet/train2011-853_000001.jpg: 88 duplicate labels removed\n",
      "\u001b[34m\u001b[1mtrain: \u001b[0mWARNING ⚠️ trainEvalSet/train2011-853_000004.jpg: 56 duplicate labels removed\n",
      "\u001b[34m\u001b[1mtrain: \u001b[0mWARNING ⚠️ trainEvalSet/train2011-854_000006.jpg: 84 duplicate labels removed\n",
      "\u001b[34m\u001b[1mtrain: \u001b[0mWARNING ⚠️ trainEvalSet/train2011-855_000001.jpg: ignoring corrupt image/label: non-normalized or out of bounds coordinates [       1.05        1.05        1.05]\n",
      "\u001b[34m\u001b[1mtrain: \u001b[0mWARNING ⚠️ trainEvalSet/train2011-855_000003.jpg: 100 duplicate labels removed\n",
      "\u001b[34m\u001b[1mtrain: \u001b[0mWARNING ⚠️ trainEvalSet/train2011-855_000008.jpg: 81 duplicate labels removed\n",
      "\u001b[34m\u001b[1mtrain: \u001b[0mWARNING ⚠️ trainEvalSet/train2011-856_000007.jpg: 112 duplicate labels removed\n",
      "\u001b[34m\u001b[1mtrain: \u001b[0mWARNING ⚠️ trainEvalSet/train2011-857_000001.jpg: 90 duplicate labels removed\n",
      "\u001b[34m\u001b[1mtrain: \u001b[0mWARNING ⚠️ trainEvalSet/train2011-857_000004.jpg: 114 duplicate labels removed\n",
      "\u001b[34m\u001b[1mtrain: \u001b[0mWARNING ⚠️ trainEvalSet/train2011-858_000004.jpg: ignoring corrupt image/label: non-normalized or out of bounds coordinates [       1.05        1.05        1.05]\n",
      "\u001b[34m\u001b[1mtrain: \u001b[0mWARNING ⚠️ trainEvalSet/train2011-85_000004.jpg: 68 duplicate labels removed\n",
      "\u001b[34m\u001b[1mtrain: \u001b[0mWARNING ⚠️ trainEvalSet/train2011-85_000005.jpg: 44 duplicate labels removed\n",
      "\u001b[34m\u001b[1mtrain: \u001b[0mWARNING ⚠️ trainEvalSet/train2011-861_000004.jpg: 68 duplicate labels removed\n",
      "\u001b[34m\u001b[1mtrain: \u001b[0mWARNING ⚠️ trainEvalSet/train2011-866_000006.jpg: 75 duplicate labels removed\n",
      "\u001b[34m\u001b[1mtrain: \u001b[0mWARNING ⚠️ trainEvalSet/train2011-869_000002.jpg: 84 duplicate labels removed\n",
      "\u001b[34m\u001b[1mtrain: \u001b[0mWARNING ⚠️ trainEvalSet/train2011-869_000007.jpg: ignoring corrupt image/label: non-normalized or out of bounds coordinates [       1.05        1.05        1.05]\n",
      "\u001b[34m\u001b[1mtrain: \u001b[0mWARNING ⚠️ trainEvalSet/train2011-86_000003.jpg: ignoring corrupt image/label: non-normalized or out of bounds coordinates [       1.05        1.05        1.05]\n",
      "\u001b[34m\u001b[1mtrain: \u001b[0mWARNING ⚠️ trainEvalSet/train2011-86_000005.jpg: 16 duplicate labels removed\n",
      "\u001b[34m\u001b[1mtrain: \u001b[0mWARNING ⚠️ trainEvalSet/train2011-86_000006.jpg: 128 duplicate labels removed\n",
      "\u001b[34m\u001b[1mtrain: \u001b[0mWARNING ⚠️ trainEvalSet/train2011-870_000001.jpg: ignoring corrupt image/label: non-normalized or out of bounds coordinates [       1.05        1.05        1.05]\n",
      "\u001b[34m\u001b[1mtrain: \u001b[0mWARNING ⚠️ trainEvalSet/train2011-870_000004.jpg: 451 duplicate labels removed\n",
      "\u001b[34m\u001b[1mtrain: \u001b[0mWARNING ⚠️ trainEvalSet/train2011-871_000003.jpg: 54 duplicate labels removed\n",
      "\u001b[34m\u001b[1mtrain: \u001b[0mWARNING ⚠️ trainEvalSet/train2011-871_000006.jpg: 70 duplicate labels removed\n",
      "\u001b[34m\u001b[1mtrain: \u001b[0mWARNING ⚠️ trainEvalSet/train2011-872_000002.jpg: 102 duplicate labels removed\n",
      "\u001b[34m\u001b[1mtrain: \u001b[0mWARNING ⚠️ trainEvalSet/train2011-872_000003.jpg: ignoring corrupt image/label: non-normalized or out of bounds coordinates [       1.05        1.05        1.05]\n",
      "\u001b[34m\u001b[1mtrain: \u001b[0mWARNING ⚠️ trainEvalSet/train2011-872_000005.jpg: 408 duplicate labels removed\n",
      "\u001b[34m\u001b[1mtrain: \u001b[0mWARNING ⚠️ trainEvalSet/train2011-873_000004.jpg: 82 duplicate labels removed\n",
      "\u001b[34m\u001b[1mtrain: \u001b[0mWARNING ⚠️ trainEvalSet/train2011-875_000004.jpg: 48 duplicate labels removed\n",
      "\u001b[34m\u001b[1mtrain: \u001b[0mWARNING ⚠️ trainEvalSet/train2011-876_000001.jpg: 76 duplicate labels removed\n",
      "\u001b[34m\u001b[1mtrain: \u001b[0mWARNING ⚠️ trainEvalSet/train2011-876_000011.jpg: 24 duplicate labels removed\n",
      "\u001b[34m\u001b[1mtrain: \u001b[0mWARNING ⚠️ trainEvalSet/train2011-877_000003.jpg: 24 duplicate labels removed\n",
      "\u001b[34m\u001b[1mtrain: \u001b[0mWARNING ⚠️ trainEvalSet/train2011-877_000006.jpg: 58 duplicate labels removed\n",
      "\u001b[34m\u001b[1mtrain: \u001b[0mWARNING ⚠️ trainEvalSet/train2011-878_000002.jpg: 94 duplicate labels removed\n",
      "\u001b[34m\u001b[1mtrain: \u001b[0mWARNING ⚠️ trainEvalSet/train2011-878_000003.jpg: 26 duplicate labels removed\n",
      "\u001b[34m\u001b[1mtrain: \u001b[0mWARNING ⚠️ trainEvalSet/train2011-878_000005.jpg: 40 duplicate labels removed\n",
      "\u001b[34m\u001b[1mtrain: \u001b[0mWARNING ⚠️ trainEvalSet/train2011-879_000002.jpg: ignoring corrupt image/label: non-normalized or out of bounds coordinates [       1.05]\n",
      "\u001b[34m\u001b[1mtrain: \u001b[0mWARNING ⚠️ trainEvalSet/train2011-879_000005.jpg: 122 duplicate labels removed\n",
      "\u001b[34m\u001b[1mtrain: \u001b[0mWARNING ⚠️ trainEvalSet/train2011-879_000006.jpg: ignoring corrupt image/label: non-normalized or out of bounds coordinates [       1.05        1.05        1.05        1.05        1.05]\n",
      "\u001b[34m\u001b[1mtrain: \u001b[0mWARNING ⚠️ trainEvalSet/train2011-87_000004.jpg: ignoring corrupt image/label: non-normalized or out of bounds coordinates [       1.05        1.05        1.05]\n",
      "\u001b[34m\u001b[1mtrain: \u001b[0mWARNING ⚠️ trainEvalSet/train2011-881_000005.jpg: 73 duplicate labels removed\n",
      "\u001b[34m\u001b[1mtrain: \u001b[0mWARNING ⚠️ trainEvalSet/train2011-882_000006.jpg: 74 duplicate labels removed\n",
      "\u001b[34m\u001b[1mtrain: \u001b[0mWARNING ⚠️ trainEvalSet/train2011-883_000006.jpg: 102 duplicate labels removed\n",
      "\u001b[34m\u001b[1mtrain: \u001b[0mWARNING ⚠️ trainEvalSet/train2011-884_000001.jpg: ignoring corrupt image/label: non-normalized or out of bounds coordinates [       1.05        1.05        1.05        1.05        1.05        1.05        1.05        1.05        1.05        1.05]\n",
      "\u001b[34m\u001b[1mtrain: \u001b[0mWARNING ⚠️ trainEvalSet/train2011-885_000002.jpg: 139 duplicate labels removed\n",
      "\u001b[34m\u001b[1mtrain: \u001b[0mWARNING ⚠️ trainEvalSet/train2011-888_000001.jpg: 106 duplicate labels removed\n",
      "\u001b[34m\u001b[1mtrain: \u001b[0mWARNING ⚠️ trainEvalSet/train2011-888_000006.jpg: 108 duplicate labels removed\n",
      "\u001b[34m\u001b[1mtrain: \u001b[0mWARNING ⚠️ trainEvalSet/train2011-891_000004.jpg: 399 duplicate labels removed\n",
      "\u001b[34m\u001b[1mtrain: \u001b[0mWARNING ⚠️ trainEvalSet/train2011-892_000003.jpg: ignoring corrupt image/label: non-normalized or out of bounds coordinates [       1.05        1.05        1.05]\n",
      "\u001b[34m\u001b[1mtrain: \u001b[0mWARNING ⚠️ trainEvalSet/train2011-892_000004.jpg: 78 duplicate labels removed\n",
      "\u001b[34m\u001b[1mtrain: \u001b[0mWARNING ⚠️ trainEvalSet/train2011-893_000008.jpg: 76 duplicate labels removed\n",
      "\u001b[34m\u001b[1mtrain: \u001b[0mWARNING ⚠️ trainEvalSet/train2011-893_000009.jpg: 54 duplicate labels removed\n",
      "\u001b[34m\u001b[1mtrain: \u001b[0mWARNING ⚠️ trainEvalSet/train2011-894_000011.jpg: 194 duplicate labels removed\n",
      "\u001b[34m\u001b[1mtrain: \u001b[0mWARNING ⚠️ trainEvalSet/train2011-895_000002.jpg: 93 duplicate labels removed\n",
      "\u001b[34m\u001b[1mtrain: \u001b[0mWARNING ⚠️ trainEvalSet/train2011-898_000002.jpg: 116 duplicate labels removed\n",
      "\u001b[34m\u001b[1mtrain: \u001b[0mWARNING ⚠️ trainEvalSet/train2011-898_000007.jpg: ignoring corrupt image/label: non-normalized or out of bounds coordinates [       1.05        1.05        1.05]\n",
      "\u001b[34m\u001b[1mtrain: \u001b[0mWARNING ⚠️ trainEvalSet/train2011-898_000008.jpg: 69 duplicate labels removed\n",
      "\u001b[34m\u001b[1mtrain: \u001b[0mWARNING ⚠️ trainEvalSet/train2011-899_000005.jpg: 76 duplicate labels removed\n",
      "\u001b[34m\u001b[1mtrain: \u001b[0mWARNING ⚠️ trainEvalSet/train2011-8_000007.jpg: 549 duplicate labels removed\n",
      "\u001b[34m\u001b[1mtrain: \u001b[0mWARNING ⚠️ trainEvalSet/train2011-901_000006.jpg: ignoring corrupt image/label: non-normalized or out of bounds coordinates [       1.05        1.05        1.05]\n",
      "\u001b[34m\u001b[1mtrain: \u001b[0mWARNING ⚠️ trainEvalSet/train2011-902_000003.jpg: ignoring corrupt image/label: non-normalized or out of bounds coordinates [       1.05        1.05        1.05        1.05        1.05        1.05        1.05]\n",
      "\u001b[34m\u001b[1mtrain: \u001b[0mWARNING ⚠️ trainEvalSet/train2011-903_000005.jpg: 46 duplicate labels removed\n",
      "\u001b[34m\u001b[1mtrain: \u001b[0mWARNING ⚠️ trainEvalSet/train2011-903_000006.jpg: 26 duplicate labels removed\n",
      "\u001b[34m\u001b[1mtrain: \u001b[0mWARNING ⚠️ trainEvalSet/train2011-905_000002.jpg: 92 duplicate labels removed\n",
      "\u001b[34m\u001b[1mtrain: \u001b[0mWARNING ⚠️ trainEvalSet/train2011-905_000004.jpg: ignoring corrupt image/label: non-normalized or out of bounds coordinates [       1.05        1.05        1.05]\n",
      "\u001b[34m\u001b[1mtrain: \u001b[0mWARNING ⚠️ trainEvalSet/train2011-907_000006.jpg: 88 duplicate labels removed\n",
      "\u001b[34m\u001b[1mtrain: \u001b[0mWARNING ⚠️ trainEvalSet/train2011-908_000004.jpg: 113 duplicate labels removed\n",
      "\u001b[34m\u001b[1mtrain: \u001b[0mWARNING ⚠️ trainEvalSet/train2011-909_000005.jpg: ignoring corrupt image/label: non-normalized or out of bounds coordinates [       1.05        1.05        1.05]\n",
      "\u001b[34m\u001b[1mtrain: \u001b[0mWARNING ⚠️ trainEvalSet/train2011-90_000012.jpg: 24 duplicate labels removed\n",
      "\u001b[34m\u001b[1mtrain: \u001b[0mWARNING ⚠️ trainEvalSet/train2011-911_000005.jpg: 34 duplicate labels removed\n",
      "\u001b[34m\u001b[1mtrain: \u001b[0mWARNING ⚠️ trainEvalSet/train2011-911_000006.jpg: 92 duplicate labels removed\n",
      "\u001b[34m\u001b[1mtrain: \u001b[0mWARNING ⚠️ trainEvalSet/train2011-912_000005.jpg: 80 duplicate labels removed\n",
      "\u001b[34m\u001b[1mtrain: \u001b[0mWARNING ⚠️ trainEvalSet/train2011-913_000003.jpg: 63 duplicate labels removed\n",
      "\u001b[34m\u001b[1mtrain: \u001b[0mWARNING ⚠️ trainEvalSet/train2011-914_000003.jpg: 64 duplicate labels removed\n",
      "\u001b[34m\u001b[1mtrain: \u001b[0mWARNING ⚠️ trainEvalSet/train2011-914_000004.jpg: 60 duplicate labels removed\n",
      "\u001b[34m\u001b[1mtrain: \u001b[0mWARNING ⚠️ trainEvalSet/train2011-914_000005.jpg: 55 duplicate labels removed\n",
      "\u001b[34m\u001b[1mtrain: \u001b[0mWARNING ⚠️ trainEvalSet/train2011-914_000007.jpg: 40 duplicate labels removed\n",
      "\u001b[34m\u001b[1mtrain: \u001b[0mWARNING ⚠️ trainEvalSet/train2011-915_000003.jpg: 102 duplicate labels removed\n",
      "\u001b[34m\u001b[1mtrain: \u001b[0mWARNING ⚠️ trainEvalSet/train2011-916_000004.jpg: 91 duplicate labels removed\n",
      "\u001b[34m\u001b[1mtrain: \u001b[0mWARNING ⚠️ trainEvalSet/train2011-918_000001.jpg: 170 duplicate labels removed\n",
      "\u001b[34m\u001b[1mtrain: \u001b[0mWARNING ⚠️ trainEvalSet/train2011-918_000002.jpg: 76 duplicate labels removed\n",
      "\u001b[34m\u001b[1mtrain: \u001b[0mWARNING ⚠️ trainEvalSet/train2011-919_000001.jpg: 74 duplicate labels removed\n",
      "\u001b[34m\u001b[1mtrain: \u001b[0mWARNING ⚠️ trainEvalSet/train2011-919_000007.jpg: 56 duplicate labels removed\n",
      "\u001b[34m\u001b[1mtrain: \u001b[0mWARNING ⚠️ trainEvalSet/train2011-91_000004.jpg: 74 duplicate labels removed\n",
      "\u001b[34m\u001b[1mtrain: \u001b[0mWARNING ⚠️ trainEvalSet/train2011-921_000001.jpg: ignoring corrupt image/label: non-normalized or out of bounds coordinates [       1.05        1.05        1.05]\n",
      "\u001b[34m\u001b[1mtrain: \u001b[0mWARNING ⚠️ trainEvalSet/train2011-922_000001.jpg: ignoring corrupt image/label: non-normalized or out of bounds coordinates [       1.05        1.05        1.05        1.05        1.05        1.05]\n",
      "\u001b[34m\u001b[1mtrain: \u001b[0mWARNING ⚠️ trainEvalSet/train2011-922_000005.jpg: 316 duplicate labels removed\n",
      "\u001b[34m\u001b[1mtrain: \u001b[0mWARNING ⚠️ trainEvalSet/train2011-923_000008.jpg: 108 duplicate labels removed\n",
      "\u001b[34m\u001b[1mtrain: \u001b[0mWARNING ⚠️ trainEvalSet/train2011-924_000003.jpg: ignoring corrupt image/label: non-normalized or out of bounds coordinates [       1.05        1.05        1.05]\n",
      "\u001b[34m\u001b[1mtrain: \u001b[0mWARNING ⚠️ trainEvalSet/train2011-925_000002.jpg: 153 duplicate labels removed\n",
      "\u001b[34m\u001b[1mtrain: \u001b[0mWARNING ⚠️ trainEvalSet/train2011-925_000004.jpg: 94 duplicate labels removed\n",
      "\u001b[34m\u001b[1mtrain: \u001b[0mWARNING ⚠️ trainEvalSet/train2011-925_000005.jpg: 80 duplicate labels removed\n",
      "\u001b[34m\u001b[1mtrain: \u001b[0mWARNING ⚠️ trainEvalSet/train2011-926_000006.jpg: 100 duplicate labels removed\n",
      "\u001b[34m\u001b[1mtrain: \u001b[0mWARNING ⚠️ trainEvalSet/train2011-927_000003.jpg: 70 duplicate labels removed\n",
      "\u001b[34m\u001b[1mtrain: \u001b[0mWARNING ⚠️ trainEvalSet/train2011-928_000001.jpg: 71 duplicate labels removed\n",
      "\u001b[34m\u001b[1mtrain: \u001b[0mWARNING ⚠️ trainEvalSet/train2011-929_000004.jpg: 26 duplicate labels removed\n",
      "\u001b[34m\u001b[1mtrain: \u001b[0mWARNING ⚠️ trainEvalSet/train2011-929_000007.jpg: 82 duplicate labels removed\n",
      "\u001b[34m\u001b[1mtrain: \u001b[0mWARNING ⚠️ trainEvalSet/train2011-92_000001.jpg: 237 duplicate labels removed\n",
      "\u001b[34m\u001b[1mtrain: \u001b[0mWARNING ⚠️ trainEvalSet/train2011-930_000001.jpg: 83 duplicate labels removed\n",
      "\u001b[34m\u001b[1mtrain: \u001b[0mWARNING ⚠️ trainEvalSet/train2011-930_000005.jpg: 225 duplicate labels removed\n",
      "\u001b[34m\u001b[1mtrain: \u001b[0mWARNING ⚠️ trainEvalSet/train2011-931_000002.jpg: 100 duplicate labels removed\n",
      "\u001b[34m\u001b[1mtrain: \u001b[0mWARNING ⚠️ trainEvalSet/train2011-931_000004.jpg: ignoring corrupt image/label: non-normalized or out of bounds coordinates [       1.05        1.05        1.05        1.05        1.05        1.05]\n",
      "\u001b[34m\u001b[1mtrain: \u001b[0mWARNING ⚠️ trainEvalSet/train2011-932_000004.jpg: 204 duplicate labels removed\n",
      "\u001b[34m\u001b[1mtrain: \u001b[0mWARNING ⚠️ trainEvalSet/train2011-933_000001.jpg: 77 duplicate labels removed\n",
      "\u001b[34m\u001b[1mtrain: \u001b[0mWARNING ⚠️ trainEvalSet/train2011-933_000003.jpg: ignoring corrupt image/label: non-normalized or out of bounds coordinates [       1.05        1.05        1.05]\n",
      "\u001b[34m\u001b[1mtrain: \u001b[0mWARNING ⚠️ trainEvalSet/train2011-936_000005.jpg: 62 duplicate labels removed\n",
      "\u001b[34m\u001b[1mtrain: \u001b[0mWARNING ⚠️ trainEvalSet/train2011-936_000007.jpg: 76 duplicate labels removed\n",
      "\u001b[34m\u001b[1mtrain: \u001b[0mWARNING ⚠️ trainEvalSet/train2011-941_000006.jpg: 82 duplicate labels removed\n",
      "\u001b[34m\u001b[1mtrain: \u001b[0mWARNING ⚠️ trainEvalSet/train2011-943_000007.jpg: 90 duplicate labels removed\n",
      "\u001b[34m\u001b[1mtrain: \u001b[0mWARNING ⚠️ trainEvalSet/train2011-944_000006.jpg: 81 duplicate labels removed\n",
      "\u001b[34m\u001b[1mtrain: \u001b[0mWARNING ⚠️ trainEvalSet/train2011-945_000005.jpg: ignoring corrupt image/label: non-normalized or out of bounds coordinates [       1.05        1.05        1.05]\n",
      "\u001b[34m\u001b[1mtrain: \u001b[0mWARNING ⚠️ trainEvalSet/train2011-946_000005.jpg: 104 duplicate labels removed\n",
      "\u001b[34m\u001b[1mtrain: \u001b[0mWARNING ⚠️ trainEvalSet/train2011-947_000004.jpg: 88 duplicate labels removed\n",
      "\u001b[34m\u001b[1mtrain: \u001b[0mWARNING ⚠️ trainEvalSet/train2011-947_000007.jpg: 74 duplicate labels removed\n",
      "\u001b[34m\u001b[1mtrain: \u001b[0mWARNING ⚠️ trainEvalSet/train2011-951_000004.jpg: 42 duplicate labels removed\n",
      "\u001b[34m\u001b[1mtrain: \u001b[0mWARNING ⚠️ trainEvalSet/train2011-953_000001.jpg: 95 duplicate labels removed\n",
      "\u001b[34m\u001b[1mtrain: \u001b[0mWARNING ⚠️ trainEvalSet/train2011-953_000002.jpg: 114 duplicate labels removed\n",
      "\u001b[34m\u001b[1mtrain: \u001b[0mWARNING ⚠️ trainEvalSet/train2011-955_000002.jpg: ignoring corrupt image/label: non-normalized or out of bounds coordinates [       1.05        1.05        1.05]\n",
      "\u001b[34m\u001b[1mtrain: \u001b[0mWARNING ⚠️ trainEvalSet/train2011-955_000005.jpg: 16 duplicate labels removed\n",
      "\u001b[34m\u001b[1mtrain: \u001b[0mWARNING ⚠️ trainEvalSet/train2011-958_000004.jpg: 80 duplicate labels removed\n",
      "\u001b[34m\u001b[1mtrain: \u001b[0mWARNING ⚠️ trainEvalSet/train2011-95_000001.jpg: ignoring corrupt image/label: non-normalized or out of bounds coordinates [       1.05        1.05        1.05]\n",
      "\u001b[34m\u001b[1mtrain: \u001b[0mWARNING ⚠️ trainEvalSet/train2011-962_000006.jpg: 74 duplicate labels removed\n",
      "\u001b[34m\u001b[1mtrain: \u001b[0mWARNING ⚠️ trainEvalSet/train2011-963_000002.jpg: 131 duplicate labels removed\n",
      "\u001b[34m\u001b[1mtrain: \u001b[0mWARNING ⚠️ trainEvalSet/train2011-965_000005.jpg: 14 duplicate labels removed\n",
      "\u001b[34m\u001b[1mtrain: \u001b[0mWARNING ⚠️ trainEvalSet/train2011-967_000005.jpg: 100 duplicate labels removed\n",
      "\u001b[34m\u001b[1mtrain: \u001b[0mWARNING ⚠️ trainEvalSet/train2011-967_000006.jpg: 74 duplicate labels removed\n",
      "\u001b[34m\u001b[1mtrain: \u001b[0mWARNING ⚠️ trainEvalSet/train2011-968_000005.jpg: 62 duplicate labels removed\n",
      "\u001b[34m\u001b[1mtrain: \u001b[0mWARNING ⚠️ trainEvalSet/train2011-96_000001.jpg: 81 duplicate labels removed\n",
      "\u001b[34m\u001b[1mtrain: \u001b[0mWARNING ⚠️ trainEvalSet/train2011-970_000004.jpg: 96 duplicate labels removed\n",
      "\u001b[34m\u001b[1mtrain: \u001b[0mWARNING ⚠️ trainEvalSet/train2011-971_000001.jpg: 80 duplicate labels removed\n",
      "\u001b[34m\u001b[1mtrain: \u001b[0mWARNING ⚠️ trainEvalSet/train2011-971_000003.jpg: 162 duplicate labels removed\n",
      "\u001b[34m\u001b[1mtrain: \u001b[0mWARNING ⚠️ trainEvalSet/train2011-972_000002.jpg: 74 duplicate labels removed\n",
      "\u001b[34m\u001b[1mtrain: \u001b[0mWARNING ⚠️ trainEvalSet/train2011-973_000002.jpg: 69 duplicate labels removed\n",
      "\u001b[34m\u001b[1mtrain: \u001b[0mWARNING ⚠️ trainEvalSet/train2011-973_000006.jpg: ignoring corrupt image/label: non-normalized or out of bounds coordinates [       1.05        1.05        1.05        1.05        1.05        1.05]\n",
      "\u001b[34m\u001b[1mtrain: \u001b[0mWARNING ⚠️ trainEvalSet/train2011-974_000002.jpg: 70 duplicate labels removed\n",
      "\u001b[34m\u001b[1mtrain: \u001b[0mWARNING ⚠️ trainEvalSet/train2011-974_000003.jpg: ignoring corrupt image/label: non-normalized or out of bounds coordinates [       1.05        1.05        1.05]\n",
      "\u001b[34m\u001b[1mtrain: \u001b[0mWARNING ⚠️ trainEvalSet/train2011-975_000002.jpg: 120 duplicate labels removed\n",
      "\u001b[34m\u001b[1mtrain: \u001b[0mWARNING ⚠️ trainEvalSet/train2011-976_000008.jpg: 232 duplicate labels removed\n",
      "\u001b[34m\u001b[1mtrain: \u001b[0mWARNING ⚠️ trainEvalSet/train2011-977_000003.jpg: 126 duplicate labels removed\n",
      "\u001b[34m\u001b[1mtrain: \u001b[0mWARNING ⚠️ trainEvalSet/train2011-978_000004.jpg: 104 duplicate labels removed\n",
      "\u001b[34m\u001b[1mtrain: \u001b[0mWARNING ⚠️ trainEvalSet/train2011-978_000007.jpg: ignoring corrupt image/label: non-normalized or out of bounds coordinates [       1.05        1.05        1.05        1.05        1.05]\n",
      "\u001b[34m\u001b[1mtrain: \u001b[0mWARNING ⚠️ trainEvalSet/train2011-97_000003.jpg: 371 duplicate labels removed\n",
      "\u001b[34m\u001b[1mtrain: \u001b[0mWARNING ⚠️ trainEvalSet/train2011-980_000002.jpg: 82 duplicate labels removed\n",
      "\u001b[34m\u001b[1mtrain: \u001b[0mWARNING ⚠️ trainEvalSet/train2011-980_000006.jpg: 148 duplicate labels removed\n",
      "\u001b[34m\u001b[1mtrain: \u001b[0mWARNING ⚠️ trainEvalSet/train2011-981_000006.jpg: 24 duplicate labels removed\n",
      "\u001b[34m\u001b[1mtrain: \u001b[0mWARNING ⚠️ trainEvalSet/train2011-982_000005.jpg: 111 duplicate labels removed\n",
      "\u001b[34m\u001b[1mtrain: \u001b[0mWARNING ⚠️ trainEvalSet/train2011-984_000002.jpg: 52 duplicate labels removed\n",
      "\u001b[34m\u001b[1mtrain: \u001b[0mWARNING ⚠️ trainEvalSet/train2011-985_000005.jpg: 77 duplicate labels removed\n",
      "\u001b[34m\u001b[1mtrain: \u001b[0mWARNING ⚠️ trainEvalSet/train2011-986_000003.jpg: ignoring corrupt image/label: non-normalized or out of bounds coordinates [       1.05        1.05        1.05]\n",
      "\u001b[34m\u001b[1mtrain: \u001b[0mWARNING ⚠️ trainEvalSet/train2011-986_000008.jpg: 66 duplicate labels removed\n",
      "\u001b[34m\u001b[1mtrain: \u001b[0mWARNING ⚠️ trainEvalSet/train2011-987_000003.jpg: 103 duplicate labels removed\n",
      "\u001b[34m\u001b[1mtrain: \u001b[0mWARNING ⚠️ trainEvalSet/train2011-988_000007.jpg: 50 duplicate labels removed\n",
      "\u001b[34m\u001b[1mtrain: \u001b[0mWARNING ⚠️ trainEvalSet/train2011-989_000002.jpg: ignoring corrupt image/label: non-normalized or out of bounds coordinates [       1.05        1.05        1.05        1.05        1.05]\n",
      "\u001b[34m\u001b[1mtrain: \u001b[0mWARNING ⚠️ trainEvalSet/train2011-989_000006.jpg: 78 duplicate labels removed\n",
      "\u001b[34m\u001b[1mtrain: \u001b[0mWARNING ⚠️ trainEvalSet/train2011-991_000006.jpg: 171 duplicate labels removed\n",
      "\u001b[34m\u001b[1mtrain: \u001b[0mWARNING ⚠️ trainEvalSet/train2011-992_000005.jpg: 22 duplicate labels removed\n",
      "\u001b[34m\u001b[1mtrain: \u001b[0mWARNING ⚠️ trainEvalSet/train2011-996_000003.jpg: 58 duplicate labels removed\n",
      "\u001b[34m\u001b[1mtrain: \u001b[0mWARNING ⚠️ trainEvalSet/train2011-997_000003.jpg: 122 duplicate labels removed\n",
      "\u001b[34m\u001b[1mtrain: \u001b[0mWARNING ⚠️ trainEvalSet/train2011-998_000002.jpg: 74 duplicate labels removed\n",
      "\u001b[34m\u001b[1mtrain: \u001b[0mWARNING ⚠️ trainEvalSet/train2011-998_000004.jpg: 66 duplicate labels removed\n",
      "\u001b[34m\u001b[1mtrain: \u001b[0mWARNING ⚠️ trainEvalSet/train2011-998_000008.jpg: 24 duplicate labels removed\n",
      "\u001b[34m\u001b[1mtrain: \u001b[0mWARNING ⚠️ trainEvalSet/train2011-99_000001.jpg: 66 duplicate labels removed\n",
      "\u001b[34m\u001b[1mtrain: \u001b[0mWARNING ⚠️ trainEvalSet/train2011-99_000004.jpg: 80 duplicate labels removed\n",
      "\u001b[34m\u001b[1mtrain: \u001b[0mWARNING ⚠️ trainEvalSet/train2011-9_000001.jpg: ignoring corrupt image/label: non-normalized or out of bounds coordinates [       1.05        1.05        1.05]\n",
      "\u001b[34m\u001b[1mtrain: \u001b[0mWARNING ⚠️ trainEvalSet/train2011-9_000006.jpg: 76 duplicate labels removed\n"
     ]
    },
    {
     "name": "stderr",
     "output_type": "stream",
     "text": [
      "\n"
     ]
    },
    {
     "name": "stdout",
     "output_type": "stream",
     "text": [
      "\u001b[34m\u001b[1mtrain: \u001b[0mNew cache created: trainEvalSet.cache\n"
     ]
    },
    {
     "name": "stderr",
     "output_type": "stream",
     "text": [
      "\u001b[34m\u001b[1mval: \u001b[0mScanning trainEvalSet... 400 images, 0 backgrounds, 87 corrupt: 100%|██████████| 400/400 [00:00<00:00, 543.04it/s]"
     ]
    },
    {
     "name": "stdout",
     "output_type": "stream",
     "text": [
      "\u001b[34m\u001b[1mval: \u001b[0mWARNING ⚠️ trainEvalSet/train2011-1000_000006.jpg: 42 duplicate labels removed\n",
      "\u001b[34m\u001b[1mval: \u001b[0mWARNING ⚠️ trainEvalSet/train2011-1004_000006.jpg: 505 duplicate labels removed\n",
      "\u001b[34m\u001b[1mval: \u001b[0mWARNING ⚠️ trainEvalSet/train2011-1005_000003.jpg: 108 duplicate labels removed\n",
      "\u001b[34m\u001b[1mval: \u001b[0mWARNING ⚠️ trainEvalSet/train2011-1007_000004.jpg: 100 duplicate labels removed\n",
      "\u001b[34m\u001b[1mval: \u001b[0mWARNING ⚠️ trainEvalSet/train2011-1010_000007.jpg: 88 duplicate labels removed\n",
      "\u001b[34m\u001b[1mval: \u001b[0mWARNING ⚠️ trainEvalSet/train2011-1025_000003.jpg: 62 duplicate labels removed\n",
      "\u001b[34m\u001b[1mval: \u001b[0mWARNING ⚠️ trainEvalSet/train2011-1028_000006.jpg: 115 duplicate labels removed\n",
      "\u001b[34m\u001b[1mval: \u001b[0mWARNING ⚠️ trainEvalSet/train2011-1028_000009.jpg: ignoring corrupt image/label: non-normalized or out of bounds coordinates [       1.05        1.05        1.05]\n",
      "\u001b[34m\u001b[1mval: \u001b[0mWARNING ⚠️ trainEvalSet/train2011-1034_000002.jpg: 40 duplicate labels removed\n",
      "\u001b[34m\u001b[1mval: \u001b[0mWARNING ⚠️ trainEvalSet/train2011-1036_000005.jpg: 16 duplicate labels removed\n",
      "\u001b[34m\u001b[1mval: \u001b[0mWARNING ⚠️ trainEvalSet/train2011-1037_000004.jpg: 66 duplicate labels removed\n",
      "\u001b[34m\u001b[1mval: \u001b[0mWARNING ⚠️ trainEvalSet/train2011-1038_000001.jpg: 117 duplicate labels removed\n",
      "\u001b[34m\u001b[1mval: \u001b[0mWARNING ⚠️ trainEvalSet/train2011-1039_000006.jpg: 102 duplicate labels removed\n",
      "\u001b[34m\u001b[1mval: \u001b[0mWARNING ⚠️ trainEvalSet/train2011-103_000002.jpg: 78 duplicate labels removed\n",
      "\u001b[34m\u001b[1mval: \u001b[0mWARNING ⚠️ trainEvalSet/train2011-1045_000007.jpg: 209 duplicate labels removed\n",
      "\u001b[34m\u001b[1mval: \u001b[0mWARNING ⚠️ trainEvalSet/train2011-1050_000001.jpg: 72 duplicate labels removed\n",
      "\u001b[34m\u001b[1mval: \u001b[0mWARNING ⚠️ trainEvalSet/train2011-1053_000002.jpg: 52 duplicate labels removed\n",
      "\u001b[34m\u001b[1mval: \u001b[0mWARNING ⚠️ trainEvalSet/train2011-1054_000005.jpg: 128 duplicate labels removed\n",
      "\u001b[34m\u001b[1mval: \u001b[0mWARNING ⚠️ trainEvalSet/train2011-1055_000002.jpg: 297 duplicate labels removed\n",
      "\u001b[34m\u001b[1mval: \u001b[0mWARNING ⚠️ trainEvalSet/train2011-1057_000002.jpg: 68 duplicate labels removed\n",
      "\u001b[34m\u001b[1mval: \u001b[0mWARNING ⚠️ trainEvalSet/train2011-1060_000006.jpg: 89 duplicate labels removed\n",
      "\u001b[34m\u001b[1mval: \u001b[0mWARNING ⚠️ trainEvalSet/train2011-1062_000007.jpg: 78 duplicate labels removed\n",
      "\u001b[34m\u001b[1mval: \u001b[0mWARNING ⚠️ trainEvalSet/train2011-1064_000001.jpg: 80 duplicate labels removed\n",
      "\u001b[34m\u001b[1mval: \u001b[0mWARNING ⚠️ trainEvalSet/train2011-1065_000005.jpg: 98 duplicate labels removed\n",
      "\u001b[34m\u001b[1mval: \u001b[0mWARNING ⚠️ trainEvalSet/train2011-1066_000007.jpg: 76 duplicate labels removed\n",
      "\u001b[34m\u001b[1mval: \u001b[0mWARNING ⚠️ trainEvalSet/train2011-1073_000005.jpg: 18 duplicate labels removed\n",
      "\u001b[34m\u001b[1mval: \u001b[0mWARNING ⚠️ trainEvalSet/train2011-1076_000004.jpg: 98 duplicate labels removed\n",
      "\u001b[34m\u001b[1mval: \u001b[0mWARNING ⚠️ trainEvalSet/train2011-1079_000006.jpg: ignoring corrupt image/label: non-normalized or out of bounds coordinates [       1.05        1.05        1.05        1.05        1.05        1.05]\n",
      "\u001b[34m\u001b[1mval: \u001b[0mWARNING ⚠️ trainEvalSet/train2011-107_000004.jpg: 60 duplicate labels removed\n",
      "\u001b[34m\u001b[1mval: \u001b[0mWARNING ⚠️ trainEvalSet/train2011-1084_000005.jpg: 46 duplicate labels removed\n",
      "\u001b[34m\u001b[1mval: \u001b[0mWARNING ⚠️ trainEvalSet/train2011-1087_000009.jpg: 121 duplicate labels removed\n",
      "\u001b[34m\u001b[1mval: \u001b[0mWARNING ⚠️ trainEvalSet/train2011-1089_000005.jpg: 129 duplicate labels removed\n",
      "\u001b[34m\u001b[1mval: \u001b[0mWARNING ⚠️ trainEvalSet/train2011-1091_000005.jpg: 115 duplicate labels removed\n",
      "\u001b[34m\u001b[1mval: \u001b[0mWARNING ⚠️ trainEvalSet/train2011-1096_000007.jpg: ignoring corrupt image/label: non-normalized or out of bounds coordinates [       1.05        1.05        1.05        1.05        1.05        1.05        1.05]\n",
      "\u001b[34m\u001b[1mval: \u001b[0mWARNING ⚠️ trainEvalSet/train2011-1099_000007.jpg: 142 duplicate labels removed\n",
      "\u001b[34m\u001b[1mval: \u001b[0mWARNING ⚠️ trainEvalSet/train2011-1106_000008.jpg: 94 duplicate labels removed\n",
      "\u001b[34m\u001b[1mval: \u001b[0mWARNING ⚠️ trainEvalSet/train2011-110_000005.jpg: 149 duplicate labels removed\n",
      "\u001b[34m\u001b[1mval: \u001b[0mWARNING ⚠️ trainEvalSet/train2011-1111_000009.jpg: ignoring corrupt image/label: non-normalized or out of bounds coordinates [       1.05        1.05        1.05        1.05        1.05        1.05        1.05        1.05        1.05        1.05        1.05        1.05        1.05]\n",
      "\u001b[34m\u001b[1mval: \u001b[0mWARNING ⚠️ trainEvalSet/train2011-1114_000005.jpg: 60 duplicate labels removed\n",
      "\u001b[34m\u001b[1mval: \u001b[0mWARNING ⚠️ trainEvalSet/train2011-111_000001.jpg: ignoring corrupt image/label: non-normalized or out of bounds coordinates [       1.05        1.05        1.05]\n",
      "\u001b[34m\u001b[1mval: \u001b[0mWARNING ⚠️ trainEvalSet/train2011-112_000001.jpg: 85 duplicate labels removed\n",
      "\u001b[34m\u001b[1mval: \u001b[0mWARNING ⚠️ trainEvalSet/train2011-1139_000005.jpg: 92 duplicate labels removed\n",
      "\u001b[34m\u001b[1mval: \u001b[0mWARNING ⚠️ trainEvalSet/train2011-113_000003.jpg: 137 duplicate labels removed\n",
      "\u001b[34m\u001b[1mval: \u001b[0mWARNING ⚠️ trainEvalSet/train2011-1141_000001.jpg: 86 duplicate labels removed\n",
      "\u001b[34m\u001b[1mval: \u001b[0mWARNING ⚠️ trainEvalSet/train2011-1143_000009.jpg: 74 duplicate labels removed\n",
      "\u001b[34m\u001b[1mval: \u001b[0mWARNING ⚠️ trainEvalSet/train2011-114_000007.jpg: ignoring corrupt image/label: non-normalized or out of bounds coordinates [       1.05        1.05        1.05]\n",
      "\u001b[34m\u001b[1mval: \u001b[0mWARNING ⚠️ trainEvalSet/train2011-114_000008.jpg: ignoring corrupt image/label: non-normalized or out of bounds coordinates [       1.05        1.05        1.05]\n",
      "\u001b[34m\u001b[1mval: \u001b[0mWARNING ⚠️ trainEvalSet/train2011-1153_000004.jpg: 88 duplicate labels removed\n",
      "\u001b[34m\u001b[1mval: \u001b[0mWARNING ⚠️ trainEvalSet/train2011-1154_000006.jpg: 115 duplicate labels removed\n",
      "\u001b[34m\u001b[1mval: \u001b[0mWARNING ⚠️ trainEvalSet/train2011-1160_000001.jpg: 96 duplicate labels removed\n",
      "\u001b[34m\u001b[1mval: \u001b[0mWARNING ⚠️ trainEvalSet/train2011-1166_000002.jpg: 83 duplicate labels removed\n",
      "\u001b[34m\u001b[1mval: \u001b[0mWARNING ⚠️ trainEvalSet/train2011-1170_000007.jpg: ignoring corrupt image/label: non-normalized or out of bounds coordinates [       1.05        1.05        1.05]\n",
      "\u001b[34m\u001b[1mval: \u001b[0mWARNING ⚠️ trainEvalSet/train2011-1170_000009.jpg: 143 duplicate labels removed\n",
      "\u001b[34m\u001b[1mval: \u001b[0mWARNING ⚠️ trainEvalSet/train2011-1177_000003.jpg: 26 duplicate labels removed\n",
      "\u001b[34m\u001b[1mval: \u001b[0mWARNING ⚠️ trainEvalSet/train2011-1179_000006.jpg: ignoring corrupt image/label: non-normalized or out of bounds coordinates [       1.05        1.05        1.05        1.05        1.05]\n",
      "\u001b[34m\u001b[1mval: \u001b[0mWARNING ⚠️ trainEvalSet/train2011-1179_000008.jpg: 108 duplicate labels removed\n",
      "\u001b[34m\u001b[1mval: \u001b[0mWARNING ⚠️ trainEvalSet/train2011-1180_000011.jpg: 94 duplicate labels removed\n",
      "\u001b[34m\u001b[1mval: \u001b[0mWARNING ⚠️ trainEvalSet/train2011-1182_000005.jpg: 205 duplicate labels removed\n",
      "\u001b[34m\u001b[1mval: \u001b[0mWARNING ⚠️ trainEvalSet/train2011-1185_000005.jpg: 28 duplicate labels removed\n",
      "\u001b[34m\u001b[1mval: \u001b[0mWARNING ⚠️ trainEvalSet/train2011-1187_000001.jpg: 34 duplicate labels removed\n",
      "\u001b[34m\u001b[1mval: \u001b[0mWARNING ⚠️ trainEvalSet/train2011-1187_000003.jpg: ignoring corrupt image/label: non-normalized or out of bounds coordinates [       1.05        1.05        1.05        1.05        1.05]\n",
      "\u001b[34m\u001b[1mval: \u001b[0mWARNING ⚠️ trainEvalSet/train2011-1194_000004.jpg: 96 duplicate labels removed\n",
      "\u001b[34m\u001b[1mval: \u001b[0mWARNING ⚠️ trainEvalSet/train2011-1196_000004.jpg: 98 duplicate labels removed\n",
      "\u001b[34m\u001b[1mval: \u001b[0mWARNING ⚠️ trainEvalSet/train2011-1196_000007.jpg: 48 duplicate labels removed\n",
      "\u001b[34m\u001b[1mval: \u001b[0mWARNING ⚠️ trainEvalSet/train2011-1204_000002.jpg: 98 duplicate labels removed\n",
      "\u001b[34m\u001b[1mval: \u001b[0mWARNING ⚠️ trainEvalSet/train2011-1212_000002.jpg: 60 duplicate labels removed\n",
      "\u001b[34m\u001b[1mval: \u001b[0mWARNING ⚠️ trainEvalSet/train2011-1212_000008.jpg: 94 duplicate labels removed\n",
      "\u001b[34m\u001b[1mval: \u001b[0mWARNING ⚠️ trainEvalSet/train2011-1212_000009.jpg: 44 duplicate labels removed\n",
      "\u001b[34m\u001b[1mval: \u001b[0mWARNING ⚠️ trainEvalSet/train2011-122_000004.jpg: 102 duplicate labels removed\n",
      "\u001b[34m\u001b[1mval: \u001b[0mWARNING ⚠️ trainEvalSet/train2011-1232_000009.jpg: 46 duplicate labels removed\n",
      "\u001b[34m\u001b[1mval: \u001b[0mWARNING ⚠️ trainEvalSet/train2011-1234_000004.jpg: 56 duplicate labels removed\n",
      "\u001b[34m\u001b[1mval: \u001b[0mWARNING ⚠️ trainEvalSet/train2011-123_000006.jpg: ignoring corrupt image/label: non-normalized or out of bounds coordinates [       1.05        1.05        1.05        1.05        1.05        1.05]\n",
      "\u001b[34m\u001b[1mval: \u001b[0mWARNING ⚠️ trainEvalSet/train2011-1243_000012.jpg: 86 duplicate labels removed\n",
      "\u001b[34m\u001b[1mval: \u001b[0mWARNING ⚠️ trainEvalSet/train2011-1244_000003.jpg: 36 duplicate labels removed\n",
      "\u001b[34m\u001b[1mval: \u001b[0mWARNING ⚠️ trainEvalSet/train2011-1249_000005.jpg: 26 duplicate labels removed\n",
      "\u001b[34m\u001b[1mval: \u001b[0mWARNING ⚠️ trainEvalSet/train2011-125_000002.jpg: ignoring corrupt image/label: non-normalized or out of bounds coordinates [       1.05        1.05        1.05]\n",
      "\u001b[34m\u001b[1mval: \u001b[0mWARNING ⚠️ trainEvalSet/train2011-1266_000001.jpg: 83 duplicate labels removed\n",
      "\u001b[34m\u001b[1mval: \u001b[0mWARNING ⚠️ trainEvalSet/train2011-1268_000001.jpg: ignoring corrupt image/label: non-normalized or out of bounds coordinates [       1.05        1.05        1.05        1.05        1.05]\n",
      "\u001b[34m\u001b[1mval: \u001b[0mWARNING ⚠️ trainEvalSet/train2011-1268_000002.jpg: 60 duplicate labels removed\n",
      "\u001b[34m\u001b[1mval: \u001b[0mWARNING ⚠️ trainEvalSet/train2011-1271_000005.jpg: ignoring corrupt image/label: non-normalized or out of bounds coordinates [       1.05        1.05        1.05]\n",
      "\u001b[34m\u001b[1mval: \u001b[0mWARNING ⚠️ trainEvalSet/train2011-1272_000007.jpg: 105 duplicate labels removed\n",
      "\u001b[34m\u001b[1mval: \u001b[0mWARNING ⚠️ trainEvalSet/train2011-1275_000001.jpg: ignoring corrupt image/label: non-normalized or out of bounds coordinates [       1.05        1.05        1.05        1.05        1.05        1.05        1.05        1.05        1.05]\n",
      "\u001b[34m\u001b[1mval: \u001b[0mWARNING ⚠️ trainEvalSet/train2011-1279_000004.jpg: 201 duplicate labels removed\n",
      "\u001b[34m\u001b[1mval: \u001b[0mWARNING ⚠️ trainEvalSet/train2011-1280_000009.jpg: 92 duplicate labels removed\n",
      "\u001b[34m\u001b[1mval: \u001b[0mWARNING ⚠️ trainEvalSet/train2011-1284_000001.jpg: 66 duplicate labels removed\n",
      "\u001b[34m\u001b[1mval: \u001b[0mWARNING ⚠️ trainEvalSet/train2011-1294_000006.jpg: 96 duplicate labels removed\n",
      "\u001b[34m\u001b[1mval: \u001b[0mWARNING ⚠️ trainEvalSet/train2011-1295_000001.jpg: 168 duplicate labels removed\n",
      "\u001b[34m\u001b[1mval: \u001b[0mWARNING ⚠️ trainEvalSet/train2011-1304_000003.jpg: ignoring corrupt image/label: non-normalized or out of bounds coordinates [       1.05        1.05        1.05        1.05        1.05        1.05]\n",
      "\u001b[34m\u001b[1mval: \u001b[0mWARNING ⚠️ trainEvalSet/train2011-1305_000001.jpg: 173 duplicate labels removed\n",
      "\u001b[34m\u001b[1mval: \u001b[0mWARNING ⚠️ trainEvalSet/train2011-1306_000004.jpg: ignoring corrupt image/label: non-normalized or out of bounds coordinates [       1.05        1.05        1.05]\n",
      "\u001b[34m\u001b[1mval: \u001b[0mWARNING ⚠️ trainEvalSet/train2011-1316_000003.jpg: 82 duplicate labels removed\n",
      "\u001b[34m\u001b[1mval: \u001b[0mWARNING ⚠️ trainEvalSet/train2011-1316_000012.jpg: 106 duplicate labels removed\n",
      "\u001b[34m\u001b[1mval: \u001b[0mWARNING ⚠️ trainEvalSet/train2011-1320_000007.jpg: 32 duplicate labels removed\n",
      "\u001b[34m\u001b[1mval: \u001b[0mWARNING ⚠️ trainEvalSet/train2011-1321_000003.jpg: 86 duplicate labels removed\n",
      "\u001b[34m\u001b[1mval: \u001b[0mWARNING ⚠️ trainEvalSet/train2011-1321_000004.jpg: 28 duplicate labels removed\n",
      "\u001b[34m\u001b[1mval: \u001b[0mWARNING ⚠️ trainEvalSet/train2011-1322_000002.jpg: 102 duplicate labels removed\n",
      "\u001b[34m\u001b[1mval: \u001b[0mWARNING ⚠️ trainEvalSet/train2011-1326_000004.jpg: 28 duplicate labels removed\n",
      "\u001b[34m\u001b[1mval: \u001b[0mWARNING ⚠️ trainEvalSet/train2011-1334_000007.jpg: ignoring corrupt image/label: non-normalized or out of bounds coordinates [       1.05]\n",
      "\u001b[34m\u001b[1mval: \u001b[0mWARNING ⚠️ trainEvalSet/train2011-1339_000001.jpg: 414 duplicate labels removed\n",
      "\u001b[34m\u001b[1mval: \u001b[0mWARNING ⚠️ trainEvalSet/train2011-1339_000005.jpg: 143 duplicate labels removed\n",
      "\u001b[34m\u001b[1mval: \u001b[0mWARNING ⚠️ trainEvalSet/train2011-1356_000002.jpg: 71 duplicate labels removed\n",
      "\u001b[34m\u001b[1mval: \u001b[0mWARNING ⚠️ trainEvalSet/train2011-1359_000009.jpg: 59 duplicate labels removed\n",
      "\u001b[34m\u001b[1mval: \u001b[0mWARNING ⚠️ trainEvalSet/train2011-1361_000004.jpg: 59 duplicate labels removed\n",
      "\u001b[34m\u001b[1mval: \u001b[0mWARNING ⚠️ trainEvalSet/train2011-1362_000002.jpg: 461 duplicate labels removed\n",
      "\u001b[34m\u001b[1mval: \u001b[0mWARNING ⚠️ trainEvalSet/train2011-1362_000003.jpg: ignoring corrupt image/label: non-normalized or out of bounds coordinates [       1.05        1.05        1.05        1.05        1.05        1.05]\n",
      "\u001b[34m\u001b[1mval: \u001b[0mWARNING ⚠️ trainEvalSet/train2011-136_000003.jpg: 22 duplicate labels removed\n",
      "\u001b[34m\u001b[1mval: \u001b[0mWARNING ⚠️ trainEvalSet/train2011-136_000005.jpg: 80 duplicate labels removed\n",
      "\u001b[34m\u001b[1mval: \u001b[0mWARNING ⚠️ trainEvalSet/train2011-1371_000002.jpg: 40 duplicate labels removed\n",
      "\u001b[34m\u001b[1mval: \u001b[0mWARNING ⚠️ trainEvalSet/train2011-1371_000006.jpg: 100 duplicate labels removed\n",
      "\u001b[34m\u001b[1mval: \u001b[0mWARNING ⚠️ trainEvalSet/train2011-1385_000004.jpg: 20 duplicate labels removed\n",
      "\u001b[34m\u001b[1mval: \u001b[0mWARNING ⚠️ trainEvalSet/train2011-1386_000006.jpg: ignoring corrupt image/label: non-normalized or out of bounds coordinates [       1.05        1.05        1.05]\n",
      "\u001b[34m\u001b[1mval: \u001b[0mWARNING ⚠️ trainEvalSet/train2011-1388_000003.jpg: 22 duplicate labels removed\n",
      "\u001b[34m\u001b[1mval: \u001b[0mWARNING ⚠️ trainEvalSet/train2011-1389_000005.jpg: 50 duplicate labels removed\n",
      "\u001b[34m\u001b[1mval: \u001b[0mWARNING ⚠️ trainEvalSet/train2011-1395_000007.jpg: ignoring corrupt image/label: non-normalized or out of bounds coordinates [       1.05        1.05        1.05]\n",
      "\u001b[34m\u001b[1mval: \u001b[0mWARNING ⚠️ trainEvalSet/train2011-1396_000001.jpg: 81 duplicate labels removed\n",
      "\u001b[34m\u001b[1mval: \u001b[0mWARNING ⚠️ trainEvalSet/train2011-1406_000005.jpg: 90 duplicate labels removed\n",
      "\u001b[34m\u001b[1mval: \u001b[0mWARNING ⚠️ trainEvalSet/train2011-1410_000005.jpg: 82 duplicate labels removed\n",
      "\u001b[34m\u001b[1mval: \u001b[0mWARNING ⚠️ trainEvalSet/train2011-1414_000011.jpg: 279 duplicate labels removed\n",
      "\u001b[34m\u001b[1mval: \u001b[0mWARNING ⚠️ trainEvalSet/train2011-1415_000007.jpg: 52 duplicate labels removed\n",
      "\u001b[34m\u001b[1mval: \u001b[0mWARNING ⚠️ trainEvalSet/train2011-1422_000007.jpg: 106 duplicate labels removed\n",
      "\u001b[34m\u001b[1mval: \u001b[0mWARNING ⚠️ trainEvalSet/train2011-1434_000002.jpg: 122 duplicate labels removed\n",
      "\u001b[34m\u001b[1mval: \u001b[0mWARNING ⚠️ trainEvalSet/train2011-1435_000001.jpg: ignoring corrupt image/label: non-normalized or out of bounds coordinates [       1.05        1.05        1.05]\n",
      "\u001b[34m\u001b[1mval: \u001b[0mWARNING ⚠️ trainEvalSet/train2011-1437_000006.jpg: ignoring corrupt image/label: non-normalized or out of bounds coordinates [       1.05        1.05        1.05]\n",
      "\u001b[34m\u001b[1mval: \u001b[0mWARNING ⚠️ trainEvalSet/train2011-1438_000007.jpg: ignoring corrupt image/label: non-normalized or out of bounds coordinates [       1.05        1.05        1.05]\n",
      "\u001b[34m\u001b[1mval: \u001b[0mWARNING ⚠️ trainEvalSet/train2011-143_000004.jpg: ignoring corrupt image/label: non-normalized or out of bounds coordinates [       1.05        1.05        1.05]\n",
      "\u001b[34m\u001b[1mval: \u001b[0mWARNING ⚠️ trainEvalSet/train2011-1445_000007.jpg: 98 duplicate labels removed\n",
      "\u001b[34m\u001b[1mval: \u001b[0mWARNING ⚠️ trainEvalSet/train2011-1446_000003.jpg: 91 duplicate labels removed\n",
      "\u001b[34m\u001b[1mval: \u001b[0mWARNING ⚠️ trainEvalSet/train2011-1451_000002.jpg: 86 duplicate labels removed\n",
      "\u001b[34m\u001b[1mval: \u001b[0mWARNING ⚠️ trainEvalSet/train2011-1451_000005.jpg: ignoring corrupt image/label: non-normalized or out of bounds coordinates [       1.05        1.05        1.05]\n",
      "\u001b[34m\u001b[1mval: \u001b[0mWARNING ⚠️ trainEvalSet/train2011-1453_000005.jpg: 26 duplicate labels removed\n",
      "\u001b[34m\u001b[1mval: \u001b[0mWARNING ⚠️ trainEvalSet/train2011-1457_000004.jpg: ignoring corrupt image/label: non-normalized or out of bounds coordinates [       1.05        1.05        1.05]\n",
      "\u001b[34m\u001b[1mval: \u001b[0mWARNING ⚠️ trainEvalSet/train2011-1464_000001.jpg: ignoring corrupt image/label: non-normalized or out of bounds coordinates [       1.05        1.05        1.05]\n",
      "\u001b[34m\u001b[1mval: \u001b[0mWARNING ⚠️ trainEvalSet/train2011-1464_000005.jpg: 97 duplicate labels removed\n",
      "\u001b[34m\u001b[1mval: \u001b[0mWARNING ⚠️ trainEvalSet/train2011-1467_000001.jpg: 134 duplicate labels removed\n",
      "\u001b[34m\u001b[1mval: \u001b[0mWARNING ⚠️ trainEvalSet/train2011-1474_000001.jpg: 121 duplicate labels removed\n",
      "\u001b[34m\u001b[1mval: \u001b[0mWARNING ⚠️ trainEvalSet/train2011-1478_000001.jpg: ignoring corrupt image/label: non-normalized or out of bounds coordinates [       1.05        1.05        1.05]\n",
      "\u001b[34m\u001b[1mval: \u001b[0mWARNING ⚠️ trainEvalSet/train2011-1479_000003.jpg: 54 duplicate labels removed\n",
      "\u001b[34m\u001b[1mval: \u001b[0mWARNING ⚠️ trainEvalSet/train2011-1481_000003.jpg: 111 duplicate labels removed\n",
      "\u001b[34m\u001b[1mval: \u001b[0mWARNING ⚠️ trainEvalSet/train2011-1483_000004.jpg: 38 duplicate labels removed\n",
      "\u001b[34m\u001b[1mval: \u001b[0mWARNING ⚠️ trainEvalSet/train2011-1483_000010.jpg: 82 duplicate labels removed\n",
      "\u001b[34m\u001b[1mval: \u001b[0mWARNING ⚠️ trainEvalSet/train2011-1490_000003.jpg: ignoring corrupt image/label: non-normalized or out of bounds coordinates [       1.05        1.05        1.05]\n",
      "\u001b[34m\u001b[1mval: \u001b[0mWARNING ⚠️ trainEvalSet/train2011-1491_000001.jpg: 54 duplicate labels removed\n",
      "\u001b[34m\u001b[1mval: \u001b[0mWARNING ⚠️ trainEvalSet/train2011-1492_000002.jpg: 100 duplicate labels removed\n",
      "\u001b[34m\u001b[1mval: \u001b[0mWARNING ⚠️ trainEvalSet/train2011-1495_000004.jpg: 56 duplicate labels removed\n",
      "\u001b[34m\u001b[1mval: \u001b[0mWARNING ⚠️ trainEvalSet/train2011-1496_000002.jpg: 198 duplicate labels removed\n",
      "\u001b[34m\u001b[1mval: \u001b[0mWARNING ⚠️ trainEvalSet/train2011-1498_000004.jpg: ignoring corrupt image/label: non-normalized or out of bounds coordinates [       1.05        1.05        1.05]\n",
      "\u001b[34m\u001b[1mval: \u001b[0mWARNING ⚠️ trainEvalSet/train2011-154_000001.jpg: 56 duplicate labels removed\n",
      "\u001b[34m\u001b[1mval: \u001b[0mWARNING ⚠️ trainEvalSet/train2011-157_000001.jpg: ignoring corrupt image/label: non-normalized or out of bounds coordinates [       1.05        1.05        1.05]\n",
      "\u001b[34m\u001b[1mval: \u001b[0mWARNING ⚠️ trainEvalSet/train2011-159_000003.jpg: 84 duplicate labels removed\n",
      "\u001b[34m\u001b[1mval: \u001b[0mWARNING ⚠️ trainEvalSet/train2011-15_000002.jpg: 42 duplicate labels removed\n",
      "\u001b[34m\u001b[1mval: \u001b[0mWARNING ⚠️ trainEvalSet/train2011-160_000004.jpg: 24 duplicate labels removed\n",
      "\u001b[34m\u001b[1mval: \u001b[0mWARNING ⚠️ trainEvalSet/train2011-167_000005.jpg: ignoring corrupt image/label: non-normalized or out of bounds coordinates [       1.05        1.05        1.05]\n",
      "\u001b[34m\u001b[1mval: \u001b[0mWARNING ⚠️ trainEvalSet/train2011-177_000001.jpg: 64 duplicate labels removed\n",
      "\u001b[34m\u001b[1mval: \u001b[0mWARNING ⚠️ trainEvalSet/train2011-179_000010.jpg: ignoring corrupt image/label: non-normalized or out of bounds coordinates [       1.05        1.05        1.05        1.05        1.05]\n",
      "\u001b[34m\u001b[1mval: \u001b[0mWARNING ⚠️ trainEvalSet/train2011-180_000003.jpg: 80 duplicate labels removed\n",
      "\u001b[34m\u001b[1mval: \u001b[0mWARNING ⚠️ trainEvalSet/train2011-186_000011.jpg: 74 duplicate labels removed\n",
      "\u001b[34m\u001b[1mval: \u001b[0mWARNING ⚠️ trainEvalSet/train2011-198_000006.jpg: 92 duplicate labels removed\n",
      "\u001b[34m\u001b[1mval: \u001b[0mWARNING ⚠️ trainEvalSet/train2011-199_000004.jpg: 252 duplicate labels removed\n",
      "\u001b[34m\u001b[1mval: \u001b[0mWARNING ⚠️ trainEvalSet/train2011-200_000006.jpg: ignoring corrupt image/label: non-normalized or out of bounds coordinates [       1.05        1.05        1.05        1.05]\n",
      "\u001b[34m\u001b[1mval: \u001b[0mWARNING ⚠️ trainEvalSet/train2011-201_000001.jpg: 83 duplicate labels removed\n",
      "\u001b[34m\u001b[1mval: \u001b[0mWARNING ⚠️ trainEvalSet/train2011-205_000004.jpg: 237 duplicate labels removed\n",
      "\u001b[34m\u001b[1mval: \u001b[0mWARNING ⚠️ trainEvalSet/train2011-208_000006.jpg: 86 duplicate labels removed\n",
      "\u001b[34m\u001b[1mval: \u001b[0mWARNING ⚠️ trainEvalSet/train2011-209_000004.jpg: 100 duplicate labels removed\n",
      "\u001b[34m\u001b[1mval: \u001b[0mWARNING ⚠️ trainEvalSet/train2011-212_000004.jpg: 88 duplicate labels removed\n",
      "\u001b[34m\u001b[1mval: \u001b[0mWARNING ⚠️ trainEvalSet/train2011-213_000008.jpg: 85 duplicate labels removed\n",
      "\u001b[34m\u001b[1mval: \u001b[0mWARNING ⚠️ trainEvalSet/train2011-214_000002.jpg: 131 duplicate labels removed\n",
      "\u001b[34m\u001b[1mval: \u001b[0mWARNING ⚠️ trainEvalSet/train2011-218_000001.jpg: ignoring corrupt image/label: non-normalized or out of bounds coordinates [       1.05        1.05        1.05]\n",
      "\u001b[34m\u001b[1mval: \u001b[0mWARNING ⚠️ trainEvalSet/train2011-218_000003.jpg: ignoring corrupt image/label: non-normalized or out of bounds coordinates [       1.05        1.05        1.05]\n",
      "\u001b[34m\u001b[1mval: \u001b[0mWARNING ⚠️ trainEvalSet/train2011-219_000002.jpg: 85 duplicate labels removed\n",
      "\u001b[34m\u001b[1mval: \u001b[0mWARNING ⚠️ trainEvalSet/train2011-21_000009.jpg: 74 duplicate labels removed\n",
      "\u001b[34m\u001b[1mval: \u001b[0mWARNING ⚠️ trainEvalSet/train2011-221_000004.jpg: 54 duplicate labels removed\n",
      "\u001b[34m\u001b[1mval: \u001b[0mWARNING ⚠️ trainEvalSet/train2011-224_000001.jpg: 106 duplicate labels removed\n",
      "\u001b[34m\u001b[1mval: \u001b[0mWARNING ⚠️ trainEvalSet/train2011-224_000008.jpg: 110 duplicate labels removed\n",
      "\u001b[34m\u001b[1mval: \u001b[0mWARNING ⚠️ trainEvalSet/train2011-225_000003.jpg: 266 duplicate labels removed\n",
      "\u001b[34m\u001b[1mval: \u001b[0mWARNING ⚠️ trainEvalSet/train2011-226_000004.jpg: 26 duplicate labels removed\n",
      "\u001b[34m\u001b[1mval: \u001b[0mWARNING ⚠️ trainEvalSet/train2011-227_000001.jpg: 88 duplicate labels removed\n",
      "\u001b[34m\u001b[1mval: \u001b[0mWARNING ⚠️ trainEvalSet/train2011-239_000003.jpg: 14 duplicate labels removed\n",
      "\u001b[34m\u001b[1mval: \u001b[0mWARNING ⚠️ trainEvalSet/train2011-23_000002.jpg: 76 duplicate labels removed\n",
      "\u001b[34m\u001b[1mval: \u001b[0mWARNING ⚠️ trainEvalSet/train2011-23_000006.jpg: 99 duplicate labels removed\n",
      "\u001b[34m\u001b[1mval: \u001b[0mWARNING ⚠️ trainEvalSet/train2011-23_000015.jpg: 96 duplicate labels removed\n",
      "\u001b[34m\u001b[1mval: \u001b[0mWARNING ⚠️ trainEvalSet/train2011-242_000011.jpg: 110 duplicate labels removed\n",
      "\u001b[34m\u001b[1mval: \u001b[0mWARNING ⚠️ trainEvalSet/train2011-243_000003.jpg: 303 duplicate labels removed\n",
      "\u001b[34m\u001b[1mval: \u001b[0mWARNING ⚠️ trainEvalSet/train2011-244_000005.jpg: 36 duplicate labels removed\n",
      "\u001b[34m\u001b[1mval: \u001b[0mWARNING ⚠️ trainEvalSet/train2011-245_000002.jpg: 49 duplicate labels removed\n",
      "\u001b[34m\u001b[1mval: \u001b[0mWARNING ⚠️ trainEvalSet/train2011-248_000001.jpg: 64 duplicate labels removed\n",
      "\u001b[34m\u001b[1mval: \u001b[0mWARNING ⚠️ trainEvalSet/train2011-249_000009.jpg: 26 duplicate labels removed\n",
      "\u001b[34m\u001b[1mval: \u001b[0mWARNING ⚠️ trainEvalSet/train2011-250_000005.jpg: ignoring corrupt image/label: non-normalized or out of bounds coordinates [       1.05        1.05        1.05        1.05        1.05        1.05]\n",
      "\u001b[34m\u001b[1mval: \u001b[0mWARNING ⚠️ trainEvalSet/train2011-254_000005.jpg: 52 duplicate labels removed\n",
      "\u001b[34m\u001b[1mval: \u001b[0mWARNING ⚠️ trainEvalSet/train2011-255_000012.jpg: 46 duplicate labels removed\n",
      "\u001b[34m\u001b[1mval: \u001b[0mWARNING ⚠️ trainEvalSet/train2011-270_000005.jpg: ignoring corrupt image/label: non-normalized or out of bounds coordinates [       1.05        1.05        1.05        1.05        1.05]\n",
      "\u001b[34m\u001b[1mval: \u001b[0mWARNING ⚠️ trainEvalSet/train2011-271_000002.jpg: 96 duplicate labels removed\n",
      "\u001b[34m\u001b[1mval: \u001b[0mWARNING ⚠️ trainEvalSet/train2011-271_000003.jpg: ignoring corrupt image/label: non-normalized or out of bounds coordinates [       1.05        1.05        1.05]\n",
      "\u001b[34m\u001b[1mval: \u001b[0mWARNING ⚠️ trainEvalSet/train2011-271_000004.jpg: 97 duplicate labels removed\n",
      "\u001b[34m\u001b[1mval: \u001b[0mWARNING ⚠️ trainEvalSet/train2011-281_000005.jpg: 10 duplicate labels removed\n",
      "\u001b[34m\u001b[1mval: \u001b[0mWARNING ⚠️ trainEvalSet/train2011-290_000005.jpg: 101 duplicate labels removed\n",
      "\u001b[34m\u001b[1mval: \u001b[0mWARNING ⚠️ trainEvalSet/train2011-291_000004.jpg: 44 duplicate labels removed\n",
      "\u001b[34m\u001b[1mval: \u001b[0mWARNING ⚠️ trainEvalSet/train2011-292_000009.jpg: 228 duplicate labels removed\n",
      "\u001b[34m\u001b[1mval: \u001b[0mWARNING ⚠️ trainEvalSet/train2011-295_000002.jpg: 134 duplicate labels removed\n",
      "\u001b[34m\u001b[1mval: \u001b[0mWARNING ⚠️ trainEvalSet/train2011-296_000003.jpg: 89 duplicate labels removed\n",
      "\u001b[34m\u001b[1mval: \u001b[0mWARNING ⚠️ trainEvalSet/train2011-301_000002.jpg: ignoring corrupt image/label: non-normalized or out of bounds coordinates [       1.05        1.05        1.05]\n",
      "\u001b[34m\u001b[1mval: \u001b[0mWARNING ⚠️ trainEvalSet/train2011-311_000006.jpg: 34 duplicate labels removed\n",
      "\u001b[34m\u001b[1mval: \u001b[0mWARNING ⚠️ trainEvalSet/train2011-312_000009.jpg: 46 duplicate labels removed\n",
      "\u001b[34m\u001b[1mval: \u001b[0mWARNING ⚠️ trainEvalSet/train2011-314_000001.jpg: ignoring corrupt image/label: non-normalized or out of bounds coordinates [       1.05        1.05        1.05]\n",
      "\u001b[34m\u001b[1mval: \u001b[0mWARNING ⚠️ trainEvalSet/train2011-315_000007.jpg: ignoring corrupt image/label: non-normalized or out of bounds coordinates [       1.05        1.05        1.05]\n",
      "\u001b[34m\u001b[1mval: \u001b[0mWARNING ⚠️ trainEvalSet/train2011-319_000006.jpg: 110 duplicate labels removed\n",
      "\u001b[34m\u001b[1mval: \u001b[0mWARNING ⚠️ trainEvalSet/train2011-319_000007.jpg: 102 duplicate labels removed\n",
      "\u001b[34m\u001b[1mval: \u001b[0mWARNING ⚠️ trainEvalSet/train2011-319_000008.jpg: ignoring corrupt image/label: non-normalized or out of bounds coordinates [       1.05        1.05        1.05]\n",
      "\u001b[34m\u001b[1mval: \u001b[0mWARNING ⚠️ trainEvalSet/train2011-321_000001.jpg: ignoring corrupt image/label: non-normalized or out of bounds coordinates [       1.05        1.05        1.05]\n",
      "\u001b[34m\u001b[1mval: \u001b[0mWARNING ⚠️ trainEvalSet/train2011-328_000009.jpg: 127 duplicate labels removed\n",
      "\u001b[34m\u001b[1mval: \u001b[0mWARNING ⚠️ trainEvalSet/train2011-333_000001.jpg: ignoring corrupt image/label: non-normalized or out of bounds coordinates [       1.05        1.05        1.05        1.05        1.05        1.05]\n",
      "\u001b[34m\u001b[1mval: \u001b[0mWARNING ⚠️ trainEvalSet/train2011-335_000005.jpg: 76 duplicate labels removed\n",
      "\u001b[34m\u001b[1mval: \u001b[0mWARNING ⚠️ trainEvalSet/train2011-336_000002.jpg: 70 duplicate labels removed\n",
      "\u001b[34m\u001b[1mval: \u001b[0mWARNING ⚠️ trainEvalSet/train2011-338_000006.jpg: 110 duplicate labels removed\n",
      "\u001b[34m\u001b[1mval: \u001b[0mWARNING ⚠️ trainEvalSet/train2011-339_000005.jpg: ignoring corrupt image/label: non-normalized or out of bounds coordinates [       1.05        1.05        1.05]\n",
      "\u001b[34m\u001b[1mval: \u001b[0mWARNING ⚠️ trainEvalSet/train2011-342_000010.jpg: ignoring corrupt image/label: non-normalized or out of bounds coordinates [       1.05        1.05        1.05]\n",
      "\u001b[34m\u001b[1mval: \u001b[0mWARNING ⚠️ trainEvalSet/train2011-346_000001.jpg: ignoring corrupt image/label: non-normalized or out of bounds coordinates [       1.05        1.05        1.05]\n",
      "\u001b[34m\u001b[1mval: \u001b[0mWARNING ⚠️ trainEvalSet/train2011-346_000002.jpg: ignoring corrupt image/label: non-normalized or out of bounds coordinates [       1.05        1.05        1.05]\n",
      "\u001b[34m\u001b[1mval: \u001b[0mWARNING ⚠️ trainEvalSet/train2011-349_000003.jpg: 72 duplicate labels removed\n",
      "\u001b[34m\u001b[1mval: \u001b[0mWARNING ⚠️ trainEvalSet/train2011-356_000005.jpg: 105 duplicate labels removed\n",
      "\u001b[34m\u001b[1mval: \u001b[0mWARNING ⚠️ trainEvalSet/train2011-358_000012.jpg: 102 duplicate labels removed\n",
      "\u001b[34m\u001b[1mval: \u001b[0mWARNING ⚠️ trainEvalSet/train2011-359_000002.jpg: 343 duplicate labels removed\n",
      "\u001b[34m\u001b[1mval: \u001b[0mWARNING ⚠️ trainEvalSet/train2011-35_000009.jpg: 98 duplicate labels removed\n",
      "\u001b[34m\u001b[1mval: \u001b[0mWARNING ⚠️ trainEvalSet/train2011-363_000002.jpg: 82 duplicate labels removed\n",
      "\u001b[34m\u001b[1mval: \u001b[0mWARNING ⚠️ trainEvalSet/train2011-363_000007.jpg: 24 duplicate labels removed\n",
      "\u001b[34m\u001b[1mval: \u001b[0mWARNING ⚠️ trainEvalSet/train2011-366_000001.jpg: 101 duplicate labels removed\n",
      "\u001b[34m\u001b[1mval: \u001b[0mWARNING ⚠️ trainEvalSet/train2011-369_000012.jpg: 76 duplicate labels removed\n",
      "\u001b[34m\u001b[1mval: \u001b[0mWARNING ⚠️ trainEvalSet/train2011-37_000001.jpg: ignoring corrupt image/label: non-normalized or out of bounds coordinates [       1.05        1.05        1.05        1.05        1.05]\n",
      "\u001b[34m\u001b[1mval: \u001b[0mWARNING ⚠️ trainEvalSet/train2011-380_000006.jpg: 294 duplicate labels removed\n",
      "\u001b[34m\u001b[1mval: \u001b[0mWARNING ⚠️ trainEvalSet/train2011-381_000003.jpg: 80 duplicate labels removed\n",
      "\u001b[34m\u001b[1mval: \u001b[0mWARNING ⚠️ trainEvalSet/train2011-381_000004.jpg: ignoring corrupt image/label: non-normalized or out of bounds coordinates [       1.05        1.05        1.05]\n",
      "\u001b[34m\u001b[1mval: \u001b[0mWARNING ⚠️ trainEvalSet/train2011-387_000003.jpg: ignoring corrupt image/label: non-normalized or out of bounds coordinates [       1.05        1.05        1.05]\n",
      "\u001b[34m\u001b[1mval: \u001b[0mWARNING ⚠️ trainEvalSet/train2011-389_000003.jpg: ignoring corrupt image/label: non-normalized or out of bounds coordinates [       1.05        1.05        1.05        1.05]\n",
      "\u001b[34m\u001b[1mval: \u001b[0mWARNING ⚠️ trainEvalSet/train2011-390_000004.jpg: 257 duplicate labels removed\n",
      "\u001b[34m\u001b[1mval: \u001b[0mWARNING ⚠️ trainEvalSet/train2011-393_000001.jpg: 78 duplicate labels removed\n",
      "\u001b[34m\u001b[1mval: \u001b[0mWARNING ⚠️ trainEvalSet/train2011-396_000003.jpg: 62 duplicate labels removed\n",
      "\u001b[34m\u001b[1mval: \u001b[0mWARNING ⚠️ trainEvalSet/train2011-3_000005.jpg: 44 duplicate labels removed\n",
      "\u001b[34m\u001b[1mval: \u001b[0mWARNING ⚠️ trainEvalSet/train2011-405_000006.jpg: 84 duplicate labels removed\n",
      "\u001b[34m\u001b[1mval: \u001b[0mWARNING ⚠️ trainEvalSet/train2011-407_000007.jpg: 26 duplicate labels removed\n",
      "\u001b[34m\u001b[1mval: \u001b[0mWARNING ⚠️ trainEvalSet/train2011-415_000007.jpg: 32 duplicate labels removed\n",
      "\u001b[34m\u001b[1mval: \u001b[0mWARNING ⚠️ trainEvalSet/train2011-415_000009.jpg: 80 duplicate labels removed\n",
      "\u001b[34m\u001b[1mval: \u001b[0mWARNING ⚠️ trainEvalSet/train2011-423_000005.jpg: 80 duplicate labels removed\n",
      "\u001b[34m\u001b[1mval: \u001b[0mWARNING ⚠️ trainEvalSet/train2011-425_000003.jpg: ignoring corrupt image/label: non-normalized or out of bounds coordinates [       1.05        1.05        1.05        1.05        1.05        1.05        1.05        1.05]\n",
      "\u001b[34m\u001b[1mval: \u001b[0mWARNING ⚠️ trainEvalSet/train2011-426_000004.jpg: 108 duplicate labels removed\n",
      "\u001b[34m\u001b[1mval: \u001b[0mWARNING ⚠️ trainEvalSet/train2011-428_000001.jpg: 80 duplicate labels removed\n",
      "\u001b[34m\u001b[1mval: \u001b[0mWARNING ⚠️ trainEvalSet/train2011-429_000009.jpg: 126 duplicate labels removed\n",
      "\u001b[34m\u001b[1mval: \u001b[0mWARNING ⚠️ trainEvalSet/train2011-436_000001.jpg: 4 duplicate labels removed\n",
      "\u001b[34m\u001b[1mval: \u001b[0mWARNING ⚠️ trainEvalSet/train2011-438_000005.jpg: 94 duplicate labels removed\n",
      "\u001b[34m\u001b[1mval: \u001b[0mWARNING ⚠️ trainEvalSet/train2011-438_000006.jpg: 56 duplicate labels removed\n",
      "\u001b[34m\u001b[1mval: \u001b[0mWARNING ⚠️ trainEvalSet/train2011-43_000004.jpg: ignoring corrupt image/label: non-normalized or out of bounds coordinates [       1.05]\n",
      "\u001b[34m\u001b[1mval: \u001b[0mWARNING ⚠️ trainEvalSet/train2011-440_000006.jpg: 423 duplicate labels removed\n",
      "\u001b[34m\u001b[1mval: \u001b[0mWARNING ⚠️ trainEvalSet/train2011-441_000001.jpg: 80 duplicate labels removed\n",
      "\u001b[34m\u001b[1mval: \u001b[0mWARNING ⚠️ trainEvalSet/train2011-444_000005.jpg: 165 duplicate labels removed\n",
      "\u001b[34m\u001b[1mval: \u001b[0mWARNING ⚠️ trainEvalSet/train2011-461_000008.jpg: 84 duplicate labels removed\n",
      "\u001b[34m\u001b[1mval: \u001b[0mWARNING ⚠️ trainEvalSet/train2011-463_000002.jpg: 187 duplicate labels removed\n",
      "\u001b[34m\u001b[1mval: \u001b[0mWARNING ⚠️ trainEvalSet/train2011-468_000009.jpg: ignoring corrupt image/label: non-normalized or out of bounds coordinates [       1.05        1.05        1.05]\n",
      "\u001b[34m\u001b[1mval: \u001b[0mWARNING ⚠️ trainEvalSet/train2011-469_000006.jpg: 30 duplicate labels removed\n",
      "\u001b[34m\u001b[1mval: \u001b[0mWARNING ⚠️ trainEvalSet/train2011-472_000003.jpg: 22 duplicate labels removed\n",
      "\u001b[34m\u001b[1mval: \u001b[0mWARNING ⚠️ trainEvalSet/train2011-47_000007.jpg: 59 duplicate labels removed\n",
      "\u001b[34m\u001b[1mval: \u001b[0mWARNING ⚠️ trainEvalSet/train2011-47_000008.jpg: 80 duplicate labels removed\n",
      "\u001b[34m\u001b[1mval: \u001b[0mWARNING ⚠️ trainEvalSet/train2011-493_000004.jpg: 49 duplicate labels removed\n",
      "\u001b[34m\u001b[1mval: \u001b[0mWARNING ⚠️ trainEvalSet/train2011-496_000005.jpg: 92 duplicate labels removed\n",
      "\u001b[34m\u001b[1mval: \u001b[0mWARNING ⚠️ trainEvalSet/train2011-500_000003.jpg: 94 duplicate labels removed\n",
      "\u001b[34m\u001b[1mval: \u001b[0mWARNING ⚠️ trainEvalSet/train2011-501_000004.jpg: 64 duplicate labels removed\n",
      "\u001b[34m\u001b[1mval: \u001b[0mWARNING ⚠️ trainEvalSet/train2011-505_000007.jpg: 85 duplicate labels removed\n",
      "\u001b[34m\u001b[1mval: \u001b[0mWARNING ⚠️ trainEvalSet/train2011-507_000006.jpg: 36 duplicate labels removed\n",
      "\u001b[34m\u001b[1mval: \u001b[0mWARNING ⚠️ trainEvalSet/train2011-517_000003.jpg: 106 duplicate labels removed\n",
      "\u001b[34m\u001b[1mval: \u001b[0mWARNING ⚠️ trainEvalSet/train2011-528_000002.jpg: ignoring corrupt image/label: non-normalized or out of bounds coordinates [       1.05        1.05        1.05]\n",
      "\u001b[34m\u001b[1mval: \u001b[0mWARNING ⚠️ trainEvalSet/train2011-52_000007.jpg: 44 duplicate labels removed\n",
      "\u001b[34m\u001b[1mval: \u001b[0mWARNING ⚠️ trainEvalSet/train2011-537_000001.jpg: 1 duplicate labels removed\n",
      "\u001b[34m\u001b[1mval: \u001b[0mWARNING ⚠️ trainEvalSet/train2011-538_000004.jpg: 343 duplicate labels removed\n",
      "\u001b[34m\u001b[1mval: \u001b[0mWARNING ⚠️ trainEvalSet/train2011-548_000003.jpg: 125 duplicate labels removed\n",
      "\u001b[34m\u001b[1mval: \u001b[0mWARNING ⚠️ trainEvalSet/train2011-550_000003.jpg: ignoring corrupt image/label: non-normalized or out of bounds coordinates [       1.05        1.05        1.05]\n",
      "\u001b[34m\u001b[1mval: \u001b[0mWARNING ⚠️ trainEvalSet/train2011-555_000001.jpg: 61 duplicate labels removed\n",
      "\u001b[34m\u001b[1mval: \u001b[0mWARNING ⚠️ trainEvalSet/train2011-555_000004.jpg: 88 duplicate labels removed\n",
      "\u001b[34m\u001b[1mval: \u001b[0mWARNING ⚠️ trainEvalSet/train2011-561_000007.jpg: 98 duplicate labels removed\n",
      "\u001b[34m\u001b[1mval: \u001b[0mWARNING ⚠️ trainEvalSet/train2011-563_000004.jpg: 79 duplicate labels removed\n",
      "\u001b[34m\u001b[1mval: \u001b[0mWARNING ⚠️ trainEvalSet/train2011-569_000004.jpg: 82 duplicate labels removed\n",
      "\u001b[34m\u001b[1mval: \u001b[0mWARNING ⚠️ trainEvalSet/train2011-579_000004.jpg: 76 duplicate labels removed\n",
      "\u001b[34m\u001b[1mval: \u001b[0mWARNING ⚠️ trainEvalSet/train2011-581_000001.jpg: 100 duplicate labels removed\n",
      "\u001b[34m\u001b[1mval: \u001b[0mWARNING ⚠️ trainEvalSet/train2011-581_000003.jpg: 104 duplicate labels removed\n",
      "\u001b[34m\u001b[1mval: \u001b[0mWARNING ⚠️ trainEvalSet/train2011-583_000011.jpg: 165 duplicate labels removed\n",
      "\u001b[34m\u001b[1mval: \u001b[0mWARNING ⚠️ trainEvalSet/train2011-585_000005.jpg: ignoring corrupt image/label: non-normalized or out of bounds coordinates [       1.05        1.05        1.05]\n",
      "\u001b[34m\u001b[1mval: \u001b[0mWARNING ⚠️ trainEvalSet/train2011-588_000009.jpg: ignoring corrupt image/label: non-normalized or out of bounds coordinates [       1.05        1.05        1.05]\n",
      "\u001b[34m\u001b[1mval: \u001b[0mWARNING ⚠️ trainEvalSet/train2011-593_000007.jpg: 80 duplicate labels removed\n",
      "\u001b[34m\u001b[1mval: \u001b[0mWARNING ⚠️ trainEvalSet/train2011-595_000001.jpg: 253 duplicate labels removed\n",
      "\u001b[34m\u001b[1mval: \u001b[0mWARNING ⚠️ trainEvalSet/train2011-596_000001.jpg: 94 duplicate labels removed\n",
      "\u001b[34m\u001b[1mval: \u001b[0mWARNING ⚠️ trainEvalSet/train2011-5_000004.jpg: ignoring corrupt image/label: non-normalized or out of bounds coordinates [       1.05        1.05        1.05]\n",
      "\u001b[34m\u001b[1mval: \u001b[0mWARNING ⚠️ trainEvalSet/train2011-600_000004.jpg: 178 duplicate labels removed\n",
      "\u001b[34m\u001b[1mval: \u001b[0mWARNING ⚠️ trainEvalSet/train2011-605_000005.jpg: ignoring corrupt image/label: non-normalized or out of bounds coordinates [       1.05        1.05        1.05]\n",
      "\u001b[34m\u001b[1mval: \u001b[0mWARNING ⚠️ trainEvalSet/train2011-607_000001.jpg: ignoring corrupt image/label: non-normalized or out of bounds coordinates [       1.05        1.05        1.05]\n",
      "\u001b[34m\u001b[1mval: \u001b[0mWARNING ⚠️ trainEvalSet/train2011-608_000005.jpg: 114 duplicate labels removed\n",
      "\u001b[34m\u001b[1mval: \u001b[0mWARNING ⚠️ trainEvalSet/train2011-612_000004.jpg: 83 duplicate labels removed\n",
      "\u001b[34m\u001b[1mval: \u001b[0mWARNING ⚠️ trainEvalSet/train2011-615_000005.jpg: 46 duplicate labels removed\n",
      "\u001b[34m\u001b[1mval: \u001b[0mWARNING ⚠️ trainEvalSet/train2011-617_000009.jpg: 104 duplicate labels removed\n",
      "\u001b[34m\u001b[1mval: \u001b[0mWARNING ⚠️ trainEvalSet/train2011-621_000008.jpg: 60 duplicate labels removed\n",
      "\u001b[34m\u001b[1mval: \u001b[0mWARNING ⚠️ trainEvalSet/train2011-626_000005.jpg: 72 duplicate labels removed\n",
      "\u001b[34m\u001b[1mval: \u001b[0mWARNING ⚠️ trainEvalSet/train2011-633_000002.jpg: 130 duplicate labels removed\n",
      "\u001b[34m\u001b[1mval: \u001b[0mWARNING ⚠️ trainEvalSet/train2011-639_000008.jpg: 116 duplicate labels removed\n",
      "\u001b[34m\u001b[1mval: \u001b[0mWARNING ⚠️ trainEvalSet/train2011-640_000002.jpg: 94 duplicate labels removed\n",
      "\u001b[34m\u001b[1mval: \u001b[0mWARNING ⚠️ trainEvalSet/train2011-640_000006.jpg: 82 duplicate labels removed\n",
      "\u001b[34m\u001b[1mval: \u001b[0mWARNING ⚠️ trainEvalSet/train2011-643_000001.jpg: 187 duplicate labels removed\n",
      "\u001b[34m\u001b[1mval: \u001b[0mWARNING ⚠️ trainEvalSet/train2011-646_000003.jpg: 140 duplicate labels removed\n",
      "\u001b[34m\u001b[1mval: \u001b[0mWARNING ⚠️ trainEvalSet/train2011-647_000002.jpg: ignoring corrupt image/label: non-normalized or out of bounds coordinates [       1.05        1.05        1.05]\n",
      "\u001b[34m\u001b[1mval: \u001b[0mWARNING ⚠️ trainEvalSet/train2011-649_000008.jpg: 18 duplicate labels removed\n",
      "\u001b[34m\u001b[1mval: \u001b[0mWARNING ⚠️ trainEvalSet/train2011-649_000009.jpg: 68 duplicate labels removed\n",
      "\u001b[34m\u001b[1mval: \u001b[0mWARNING ⚠️ trainEvalSet/train2011-652_000002.jpg: 104 duplicate labels removed\n",
      "\u001b[34m\u001b[1mval: \u001b[0mWARNING ⚠️ trainEvalSet/train2011-654_000003.jpg: ignoring corrupt image/label: non-normalized or out of bounds coordinates [       1.05        1.05        1.05]\n",
      "\u001b[34m\u001b[1mval: \u001b[0mWARNING ⚠️ trainEvalSet/train2011-657_000003.jpg: ignoring corrupt image/label: non-normalized or out of bounds coordinates [       1.05        1.05        1.05]\n",
      "\u001b[34m\u001b[1mval: \u001b[0mWARNING ⚠️ trainEvalSet/train2011-663_000006.jpg: 124 duplicate labels removed\n",
      "\u001b[34m\u001b[1mval: \u001b[0mWARNING ⚠️ trainEvalSet/train2011-665_000001.jpg: 82 duplicate labels removed\n",
      "\u001b[34m\u001b[1mval: \u001b[0mWARNING ⚠️ trainEvalSet/train2011-669_000002.jpg: 126 duplicate labels removed\n",
      "\u001b[34m\u001b[1mval: \u001b[0mWARNING ⚠️ trainEvalSet/train2011-66_000005.jpg: ignoring corrupt image/label: non-normalized or out of bounds coordinates [       1.05        1.05        1.05        1.05        1.05]\n",
      "\u001b[34m\u001b[1mval: \u001b[0mWARNING ⚠️ trainEvalSet/train2011-676_000009.jpg: 24 duplicate labels removed\n",
      "\u001b[34m\u001b[1mval: \u001b[0mWARNING ⚠️ trainEvalSet/train2011-677_000004.jpg: 102 duplicate labels removed\n",
      "\u001b[34m\u001b[1mval: \u001b[0mWARNING ⚠️ trainEvalSet/train2011-680_000007.jpg: ignoring corrupt image/label: non-normalized or out of bounds coordinates [       1.05        1.05        1.05]\n",
      "\u001b[34m\u001b[1mval: \u001b[0mWARNING ⚠️ trainEvalSet/train2011-683_000006.jpg: 66 duplicate labels removed\n",
      "\u001b[34m\u001b[1mval: \u001b[0mWARNING ⚠️ trainEvalSet/train2011-692_000007.jpg: 99 duplicate labels removed\n",
      "\u001b[34m\u001b[1mval: \u001b[0mWARNING ⚠️ trainEvalSet/train2011-693_000001.jpg: 103 duplicate labels removed\n",
      "\u001b[34m\u001b[1mval: \u001b[0mWARNING ⚠️ trainEvalSet/train2011-6_000002.jpg: 70 duplicate labels removed\n",
      "\u001b[34m\u001b[1mval: \u001b[0mWARNING ⚠️ trainEvalSet/train2011-708_000006.jpg: 26 duplicate labels removed\n",
      "\u001b[34m\u001b[1mval: \u001b[0mWARNING ⚠️ trainEvalSet/train2011-709_000002.jpg: 76 duplicate labels removed\n",
      "\u001b[34m\u001b[1mval: \u001b[0mWARNING ⚠️ trainEvalSet/train2011-719_000004.jpg: 70 duplicate labels removed\n",
      "\u001b[34m\u001b[1mval: \u001b[0mWARNING ⚠️ trainEvalSet/train2011-719_000005.jpg: 96 duplicate labels removed\n",
      "\u001b[34m\u001b[1mval: \u001b[0mWARNING ⚠️ trainEvalSet/train2011-719_000006.jpg: ignoring corrupt image/label: non-normalized or out of bounds coordinates [       1.05        1.05        1.05]\n",
      "\u001b[34m\u001b[1mval: \u001b[0mWARNING ⚠️ trainEvalSet/train2011-723_000001.jpg: ignoring corrupt image/label: non-normalized or out of bounds coordinates [       1.05        1.05        1.05        1.05        1.05]\n",
      "\u001b[34m\u001b[1mval: \u001b[0mWARNING ⚠️ trainEvalSet/train2011-727_000002.jpg: 42 duplicate labels removed\n",
      "\u001b[34m\u001b[1mval: \u001b[0mWARNING ⚠️ trainEvalSet/train2011-731_000004.jpg: ignoring corrupt image/label: non-normalized or out of bounds coordinates [       1.05        1.05        1.05]\n",
      "\u001b[34m\u001b[1mval: \u001b[0mWARNING ⚠️ trainEvalSet/train2011-743_000004.jpg: 22 duplicate labels removed\n",
      "\u001b[34m\u001b[1mval: \u001b[0mWARNING ⚠️ trainEvalSet/train2011-753_000001.jpg: ignoring corrupt image/label: non-normalized or out of bounds coordinates [       1.05        1.05        1.05]\n",
      "\u001b[34m\u001b[1mval: \u001b[0mWARNING ⚠️ trainEvalSet/train2011-768_000007.jpg: ignoring corrupt image/label: non-normalized or out of bounds coordinates [       1.05        1.05        1.05]\n",
      "\u001b[34m\u001b[1mval: \u001b[0mWARNING ⚠️ trainEvalSet/train2011-773_000004.jpg: 76 duplicate labels removed\n",
      "\u001b[34m\u001b[1mval: \u001b[0mWARNING ⚠️ trainEvalSet/train2011-781_000011.jpg: 26 duplicate labels removed\n",
      "\u001b[34m\u001b[1mval: \u001b[0mWARNING ⚠️ trainEvalSet/train2011-782_000006.jpg: 76 duplicate labels removed\n",
      "\u001b[34m\u001b[1mval: \u001b[0mWARNING ⚠️ trainEvalSet/train2011-783_000003.jpg: 102 duplicate labels removed\n",
      "\u001b[34m\u001b[1mval: \u001b[0mWARNING ⚠️ trainEvalSet/train2011-785_000004.jpg: 65 duplicate labels removed\n",
      "\u001b[34m\u001b[1mval: \u001b[0mWARNING ⚠️ trainEvalSet/train2011-785_000006.jpg: ignoring corrupt image/label: non-normalized or out of bounds coordinates [       1.05        1.05        1.05]\n",
      "\u001b[34m\u001b[1mval: \u001b[0mWARNING ⚠️ trainEvalSet/train2011-797_000006.jpg: 167 duplicate labels removed\n",
      "\u001b[34m\u001b[1mval: \u001b[0mWARNING ⚠️ trainEvalSet/train2011-798_000006.jpg: 112 duplicate labels removed\n",
      "\u001b[34m\u001b[1mval: \u001b[0mWARNING ⚠️ trainEvalSet/train2011-799_000001.jpg: 90 duplicate labels removed\n",
      "\u001b[34m\u001b[1mval: \u001b[0mWARNING ⚠️ trainEvalSet/train2011-79_000002.jpg: ignoring corrupt image/label: non-normalized or out of bounds coordinates [       1.05        1.05        1.05]\n",
      "\u001b[34m\u001b[1mval: \u001b[0mWARNING ⚠️ trainEvalSet/train2011-79_000006.jpg: 80 duplicate labels removed\n",
      "\u001b[34m\u001b[1mval: \u001b[0mWARNING ⚠️ trainEvalSet/train2011-800_000004.jpg: ignoring corrupt image/label: non-normalized or out of bounds coordinates [       1.05        1.05        1.05        1.05]\n",
      "\u001b[34m\u001b[1mval: \u001b[0mWARNING ⚠️ trainEvalSet/train2011-812_000009.jpg: 22 duplicate labels removed\n",
      "\u001b[34m\u001b[1mval: \u001b[0mWARNING ⚠️ trainEvalSet/train2011-813_000004.jpg: 117 duplicate labels removed\n",
      "\u001b[34m\u001b[1mval: \u001b[0mWARNING ⚠️ trainEvalSet/train2011-822_000003.jpg: ignoring corrupt image/label: non-normalized or out of bounds coordinates [       1.05        1.05        1.05]\n",
      "\u001b[34m\u001b[1mval: \u001b[0mWARNING ⚠️ trainEvalSet/train2011-826_000001.jpg: 82 duplicate labels removed\n",
      "\u001b[34m\u001b[1mval: \u001b[0mWARNING ⚠️ trainEvalSet/train2011-828_000003.jpg: 70 duplicate labels removed\n",
      "\u001b[34m\u001b[1mval: \u001b[0mWARNING ⚠️ trainEvalSet/train2011-834_000004.jpg: ignoring corrupt image/label: non-normalized or out of bounds coordinates [       1.05        1.05        1.05]\n",
      "\u001b[34m\u001b[1mval: \u001b[0mWARNING ⚠️ trainEvalSet/train2011-834_000006.jpg: 167 duplicate labels removed\n",
      "\u001b[34m\u001b[1mval: \u001b[0mWARNING ⚠️ trainEvalSet/train2011-837_000001.jpg: 92 duplicate labels removed\n",
      "\u001b[34m\u001b[1mval: \u001b[0mWARNING ⚠️ trainEvalSet/train2011-849_000008.jpg: 70 duplicate labels removed\n",
      "\u001b[34m\u001b[1mval: \u001b[0mWARNING ⚠️ trainEvalSet/train2011-850_000001.jpg: ignoring corrupt image/label: non-normalized or out of bounds coordinates [       1.05        1.05        1.05]\n",
      "\u001b[34m\u001b[1mval: \u001b[0mWARNING ⚠️ trainEvalSet/train2011-854_000003.jpg: 98 duplicate labels removed\n",
      "\u001b[34m\u001b[1mval: \u001b[0mWARNING ⚠️ trainEvalSet/train2011-859_000001.jpg: 61 duplicate labels removed\n",
      "\u001b[34m\u001b[1mval: \u001b[0mWARNING ⚠️ trainEvalSet/train2011-85_000006.jpg: ignoring corrupt image/label: non-normalized or out of bounds coordinates [       1.05        1.05        1.05]\n",
      "\u001b[34m\u001b[1mval: \u001b[0mWARNING ⚠️ trainEvalSet/train2011-860_000006.jpg: ignoring corrupt image/label: non-normalized or out of bounds coordinates [       1.05        1.05        1.05]\n",
      "\u001b[34m\u001b[1mval: \u001b[0mWARNING ⚠️ trainEvalSet/train2011-866_000008.jpg: 92 duplicate labels removed\n",
      "\u001b[34m\u001b[1mval: \u001b[0mWARNING ⚠️ trainEvalSet/train2011-869_000008.jpg: 96 duplicate labels removed\n",
      "\u001b[34m\u001b[1mval: \u001b[0mWARNING ⚠️ trainEvalSet/train2011-869_000009.jpg: 46 duplicate labels removed\n",
      "\u001b[34m\u001b[1mval: \u001b[0mWARNING ⚠️ trainEvalSet/train2011-86_000004.jpg: 18 duplicate labels removed\n",
      "\u001b[34m\u001b[1mval: \u001b[0mWARNING ⚠️ trainEvalSet/train2011-86_000009.jpg: 40 duplicate labels removed\n",
      "\u001b[34m\u001b[1mval: \u001b[0mWARNING ⚠️ trainEvalSet/train2011-873_000005.jpg: 84 duplicate labels removed\n",
      "\u001b[34m\u001b[1mval: \u001b[0mWARNING ⚠️ trainEvalSet/train2011-875_000002.jpg: 81 duplicate labels removed\n",
      "\u001b[34m\u001b[1mval: \u001b[0mWARNING ⚠️ trainEvalSet/train2011-883_000001.jpg: 88 duplicate labels removed\n",
      "\u001b[34m\u001b[1mval: \u001b[0mWARNING ⚠️ trainEvalSet/train2011-889_000004.jpg: 82 duplicate labels removed\n",
      "\u001b[34m\u001b[1mval: \u001b[0mWARNING ⚠️ trainEvalSet/train2011-88_000003.jpg: ignoring corrupt image/label: non-normalized or out of bounds coordinates [       1.05        1.05        1.05]\n",
      "\u001b[34m\u001b[1mval: \u001b[0mWARNING ⚠️ trainEvalSet/train2011-891_000001.jpg: 96 duplicate labels removed\n",
      "\u001b[34m\u001b[1mval: \u001b[0mWARNING ⚠️ trainEvalSet/train2011-891_000005.jpg: 98 duplicate labels removed\n",
      "\u001b[34m\u001b[1mval: \u001b[0mWARNING ⚠️ trainEvalSet/train2011-894_000006.jpg: ignoring corrupt image/label: non-normalized or out of bounds coordinates [       1.05        1.05        1.05]\n",
      "\u001b[34m\u001b[1mval: \u001b[0mWARNING ⚠️ trainEvalSet/train2011-898_000003.jpg: 67 duplicate labels removed\n",
      "\u001b[34m\u001b[1mval: \u001b[0mWARNING ⚠️ trainEvalSet/train2011-89_000004.jpg: 84 duplicate labels removed\n",
      "\u001b[34m\u001b[1mval: \u001b[0mWARNING ⚠️ trainEvalSet/train2011-903_000002.jpg: 82 duplicate labels removed\n",
      "\u001b[34m\u001b[1mval: \u001b[0mWARNING ⚠️ trainEvalSet/train2011-905_000003.jpg: 64 duplicate labels removed\n",
      "\u001b[34m\u001b[1mval: \u001b[0mWARNING ⚠️ trainEvalSet/train2011-907_000004.jpg: 76 duplicate labels removed\n",
      "\u001b[34m\u001b[1mval: \u001b[0mWARNING ⚠️ trainEvalSet/train2011-910_000001.jpg: 90 duplicate labels removed\n",
      "\u001b[34m\u001b[1mval: \u001b[0mWARNING ⚠️ trainEvalSet/train2011-910_000006.jpg: 74 duplicate labels removed\n",
      "\u001b[34m\u001b[1mval: \u001b[0mWARNING ⚠️ trainEvalSet/train2011-913_000005.jpg: 1 duplicate labels removed\n",
      "\u001b[34m\u001b[1mval: \u001b[0mWARNING ⚠️ trainEvalSet/train2011-914_000008.jpg: 24 duplicate labels removed\n",
      "\u001b[34m\u001b[1mval: \u001b[0mWARNING ⚠️ trainEvalSet/train2011-923_000007.jpg: ignoring corrupt image/label: non-normalized or out of bounds coordinates [       1.05        1.05        1.05]\n",
      "\u001b[34m\u001b[1mval: \u001b[0mWARNING ⚠️ trainEvalSet/train2011-926_000005.jpg: ignoring corrupt image/label: non-normalized or out of bounds coordinates [       1.05        1.05        1.05        1.05        1.05        1.05]\n",
      "\u001b[34m\u001b[1mval: \u001b[0mWARNING ⚠️ trainEvalSet/train2011-927_000007.jpg: 72 duplicate labels removed\n",
      "\u001b[34m\u001b[1mval: \u001b[0mWARNING ⚠️ trainEvalSet/train2011-933_000004.jpg: 58 duplicate labels removed\n",
      "\u001b[34m\u001b[1mval: \u001b[0mWARNING ⚠️ trainEvalSet/train2011-935_000005.jpg: 87 duplicate labels removed\n",
      "\u001b[34m\u001b[1mval: \u001b[0mWARNING ⚠️ trainEvalSet/train2011-941_000001.jpg: 74 duplicate labels removed\n",
      "\u001b[34m\u001b[1mval: \u001b[0mWARNING ⚠️ trainEvalSet/train2011-945_000002.jpg: 68 duplicate labels removed\n",
      "\u001b[34m\u001b[1mval: \u001b[0mWARNING ⚠️ trainEvalSet/train2011-948_000003.jpg: 89 duplicate labels removed\n",
      "\u001b[34m\u001b[1mval: \u001b[0mWARNING ⚠️ trainEvalSet/train2011-957_000003.jpg: 316 duplicate labels removed\n",
      "\u001b[34m\u001b[1mval: \u001b[0mWARNING ⚠️ trainEvalSet/train2011-95_000005.jpg: 100 duplicate labels removed\n",
      "\u001b[34m\u001b[1mval: \u001b[0mWARNING ⚠️ trainEvalSet/train2011-963_000001.jpg: 74 duplicate labels removed\n",
      "\u001b[34m\u001b[1mval: \u001b[0mWARNING ⚠️ trainEvalSet/train2011-964_000002.jpg: 88 duplicate labels removed\n",
      "\u001b[34m\u001b[1mval: \u001b[0mWARNING ⚠️ trainEvalSet/train2011-96_000011.jpg: 26 duplicate labels removed\n",
      "\u001b[34m\u001b[1mval: \u001b[0mWARNING ⚠️ trainEvalSet/train2011-970_000001.jpg: 106 duplicate labels removed\n",
      "\u001b[34m\u001b[1mval: \u001b[0mWARNING ⚠️ trainEvalSet/train2011-983_000002.jpg: 108 duplicate labels removed\n",
      "\u001b[34m\u001b[1mval: \u001b[0mWARNING ⚠️ trainEvalSet/train2011-984_000003.jpg: 54 duplicate labels removed\n",
      "\u001b[34m\u001b[1mval: \u001b[0mWARNING ⚠️ trainEvalSet/train2011-987_000004.jpg: ignoring corrupt image/label: non-normalized or out of bounds coordinates [       1.05        1.05        1.05]\n",
      "\u001b[34m\u001b[1mval: \u001b[0mWARNING ⚠️ trainEvalSet/train2011-997_000006.jpg: 120 duplicate labels removed\n",
      "\u001b[34m\u001b[1mval: \u001b[0mWARNING ⚠️ trainEvalSet/train2011-999_000007.jpg: 118 duplicate labels removed\n",
      "\u001b[34m\u001b[1mval: \u001b[0mNew cache created: trainEvalSet.cache\n"
     ]
    },
    {
     "name": "stderr",
     "output_type": "stream",
     "text": [
      "\n"
     ]
    },
    {
     "name": "stdout",
     "output_type": "stream",
     "text": [
      "Plotting labels to runs/detect/train3/labels.jpg... \n",
      "\u001b[34m\u001b[1moptimizer:\u001b[0m 'optimizer=auto' found, ignoring 'lr0=0.01' and 'momentum=0.937' and determining best 'optimizer', 'lr0' and 'momentum' automatically... \n",
      "\u001b[34m\u001b[1moptimizer:\u001b[0m AdamW(lr=7.8e-05, momentum=0.9) with parameter groups 57 weight(decay=0.0), 64 weight(decay=0.0005), 63 bias(decay=0.0)\n",
      "\u001b[34m\u001b[1mTensorBoard: \u001b[0mmodel graph visualization added ✅\n",
      "Image sizes 1088 train, 1088 val\n",
      "Using 8 dataloader workers\n",
      "Logging results to \u001b[1mruns/detect/train3\u001b[0m\n",
      "Starting training for 500 epochs...\n",
      "\n",
      "      Epoch    GPU_mem   box_loss   cls_loss   dfl_loss  Instances       Size\n"
     ]
    },
    {
     "name": "stderr",
     "output_type": "stream",
     "text": [
      "      1/500       9.4G    0.02063      5.302      2.708       1487       1088:   6%|▋         | 5/77 [00:02<00:26,  2.70it/s]"
     ]
    },
    {
     "name": "stdout",
     "output_type": "stream",
     "text": [
      "Downloading https://ultralytics.com/assets/Arial.ttf to '/root/.config/Ultralytics/Arial.ttf'...\n"
     ]
    },
    {
     "name": "stderr",
     "output_type": "stream",
     "text": [
      "      1/500      10.6G    0.02042      5.305      2.693       1375       1088:   9%|▉         | 7/77 [00:04<00:47,  1.46it/s]\n",
      "100%|██████████| 755k/755k [00:00<00:00, 11.9MB/s]2.708       1345       1088:  10%|█         | 8/77 [00:04<00:40,  1.72it/s]\n",
      "      1/500      10.3G    0.01419       5.19      2.038        521       1088: 100%|██████████| 77/77 [00:27<00:00,  2.81it/s]\n",
      "                 Class     Images  Instances      Box(P          R      mAP50  mAP50-95): 100%|██████████| 10/10 [00:03<00:00,  2.60it/s]"
     ]
    },
    {
     "name": "stdout",
     "output_type": "stream",
     "text": [
      "                   all        313      12669    0.00401     0.0001    0.00205   0.000885\n"
     ]
    },
    {
     "name": "stderr",
     "output_type": "stream",
     "text": [
      "\n"
     ]
    },
    {
     "name": "stdout",
     "output_type": "stream",
     "text": [
      "\n",
      "      Epoch    GPU_mem   box_loss   cls_loss   dfl_loss  Instances       Size\n"
     ]
    },
    {
     "name": "stderr",
     "output_type": "stream",
     "text": [
      "      2/500      10.9G    0.01095      4.319      1.819        632       1088: 100%|██████████| 77/77 [00:23<00:00,  3.31it/s]\n",
      "                 Class     Images  Instances      Box(P          R      mAP50  mAP50-95): 100%|██████████| 10/10 [00:01<00:00,  5.50it/s]\n"
     ]
    },
    {
     "name": "stdout",
     "output_type": "stream",
     "text": [
      "                   all        313      12669     0.0166     0.0686     0.0154    0.00683\n",
      "\n",
      "      Epoch    GPU_mem   box_loss   cls_loss   dfl_loss  Instances       Size\n"
     ]
    },
    {
     "name": "stderr",
     "output_type": "stream",
     "text": [
      "      3/500      10.7G    0.01117        3.6      1.889        478       1088: 100%|██████████| 77/77 [00:23<00:00,  3.34it/s]\n",
      "                 Class     Images  Instances      Box(P          R      mAP50  mAP50-95): 100%|██████████| 10/10 [00:01<00:00,  5.46it/s]\n"
     ]
    },
    {
     "name": "stdout",
     "output_type": "stream",
     "text": [
      "                   all        313      12669      0.148     0.0406     0.0163    0.00734\n",
      "\n",
      "      Epoch    GPU_mem   box_loss   cls_loss   dfl_loss  Instances       Size\n"
     ]
    },
    {
     "name": "stderr",
     "output_type": "stream",
     "text": [
      "      4/500      9.66G    0.01121      3.252      1.887        588       1088: 100%|██████████| 77/77 [00:23<00:00,  3.21it/s]\n",
      "                 Class     Images  Instances      Box(P          R      mAP50  mAP50-95): 100%|██████████| 10/10 [00:01<00:00,  5.41it/s]\n"
     ]
    },
    {
     "name": "stdout",
     "output_type": "stream",
     "text": [
      "                   all        313      12669     0.0245     0.0967     0.0278     0.0141\n",
      "\n",
      "      Epoch    GPU_mem   box_loss   cls_loss   dfl_loss  Instances       Size\n"
     ]
    },
    {
     "name": "stderr",
     "output_type": "stream",
     "text": [
      "      5/500      10.7G    0.01089       3.05      1.871        582       1088: 100%|██████████| 77/77 [00:21<00:00,  3.61it/s]\n",
      "                 Class     Images  Instances      Box(P          R      mAP50  mAP50-95): 100%|██████████| 10/10 [00:01<00:00,  5.44it/s]\n"
     ]
    },
    {
     "name": "stdout",
     "output_type": "stream",
     "text": [
      "                   all        313      12669      0.025      0.117     0.0323     0.0164\n",
      "\n",
      "      Epoch    GPU_mem   box_loss   cls_loss   dfl_loss  Instances       Size\n"
     ]
    },
    {
     "name": "stderr",
     "output_type": "stream",
     "text": [
      "      6/500      10.5G    0.01076      2.949       1.86        805       1088: 100%|██████████| 77/77 [00:21<00:00,  3.54it/s]\n",
      "                 Class     Images  Instances      Box(P          R      mAP50  mAP50-95): 100%|██████████| 10/10 [00:02<00:00,  4.65it/s]\n"
     ]
    },
    {
     "name": "stdout",
     "output_type": "stream",
     "text": [
      "                   all        313      12669      0.149     0.0985     0.0335     0.0177\n",
      "\n",
      "      Epoch    GPU_mem   box_loss   cls_loss   dfl_loss  Instances       Size\n"
     ]
    },
    {
     "name": "stderr",
     "output_type": "stream",
     "text": [
      "      7/500      9.35G    0.01046      2.866      1.843        691       1088: 100%|██████████| 77/77 [00:21<00:00,  3.60it/s]\n",
      "                 Class     Images  Instances      Box(P          R      mAP50  mAP50-95): 100%|██████████| 10/10 [00:03<00:00,  2.61it/s]\n"
     ]
    },
    {
     "name": "stdout",
     "output_type": "stream",
     "text": [
      "                   all        313      12669      0.151     0.0895      0.034     0.0179\n",
      "\n",
      "      Epoch    GPU_mem   box_loss   cls_loss   dfl_loss  Instances       Size\n"
     ]
    },
    {
     "name": "stderr",
     "output_type": "stream",
     "text": [
      "      8/500      10.3G    0.01023      2.792      1.822        590       1088: 100%|██████████| 77/77 [00:24<00:00,  3.15it/s]\n",
      "                 Class     Images  Instances      Box(P          R      mAP50  mAP50-95): 100%|██████████| 10/10 [00:02<00:00,  3.80it/s]\n"
     ]
    },
    {
     "name": "stdout",
     "output_type": "stream",
     "text": [
      "                   all        313      12669      0.124      0.108     0.0364     0.0195\n",
      "\n",
      "      Epoch    GPU_mem   box_loss   cls_loss   dfl_loss  Instances       Size\n"
     ]
    },
    {
     "name": "stderr",
     "output_type": "stream",
     "text": [
      "      9/500      10.6G    0.01011      2.743      1.815        753       1088: 100%|██████████| 77/77 [00:23<00:00,  3.31it/s]\n",
      "                 Class     Images  Instances      Box(P          R      mAP50  mAP50-95): 100%|██████████| 10/10 [00:02<00:00,  3.80it/s]\n"
     ]
    },
    {
     "name": "stdout",
     "output_type": "stream",
     "text": [
      "                   all        313      12669      0.143      0.114     0.0382     0.0204\n",
      "\n",
      "      Epoch    GPU_mem   box_loss   cls_loss   dfl_loss  Instances       Size\n"
     ]
    },
    {
     "name": "stderr",
     "output_type": "stream",
     "text": [
      "     10/500      10.7G   0.009979      2.719      1.806        570       1088: 100%|██████████| 77/77 [00:21<00:00,  3.56it/s]\n",
      "                 Class     Images  Instances      Box(P          R      mAP50  mAP50-95): 100%|██████████| 10/10 [00:02<00:00,  3.56it/s]\n"
     ]
    },
    {
     "name": "stdout",
     "output_type": "stream",
     "text": [
      "                   all        313      12669      0.131      0.132     0.0408     0.0228\n",
      "\n",
      "      Epoch    GPU_mem   box_loss   cls_loss   dfl_loss  Instances       Size\n"
     ]
    },
    {
     "name": "stderr",
     "output_type": "stream",
     "text": [
      "     11/500      9.66G   0.009686      2.678      1.786        495       1088: 100%|██████████| 77/77 [00:24<00:00,  3.15it/s]\n",
      "                 Class     Images  Instances      Box(P          R      mAP50  mAP50-95): 100%|██████████| 10/10 [00:03<00:00,  3.31it/s]\n"
     ]
    },
    {
     "name": "stdout",
     "output_type": "stream",
     "text": [
      "                   all        313      12669      0.108      0.137     0.0418     0.0232\n",
      "\n",
      "      Epoch    GPU_mem   box_loss   cls_loss   dfl_loss  Instances       Size\n"
     ]
    },
    {
     "name": "stderr",
     "output_type": "stream",
     "text": [
      "     12/500       9.6G   0.009588      2.663      1.781        560       1088: 100%|██████████| 77/77 [00:22<00:00,  3.39it/s]\n",
      "                 Class     Images  Instances      Box(P          R      mAP50  mAP50-95): 100%|██████████| 10/10 [00:03<00:00,  2.88it/s]\n"
     ]
    },
    {
     "name": "stdout",
     "output_type": "stream",
     "text": [
      "                   all        313      12669      0.217     0.0956     0.0428     0.0243\n",
      "\n",
      "      Epoch    GPU_mem   box_loss   cls_loss   dfl_loss  Instances       Size\n"
     ]
    },
    {
     "name": "stderr",
     "output_type": "stream",
     "text": [
      "     13/500      10.7G   0.009375      2.639       1.76        777       1088: 100%|██████████| 77/77 [00:25<00:00,  2.97it/s]\n",
      "                 Class     Images  Instances      Box(P          R      mAP50  mAP50-95): 100%|██████████| 10/10 [00:03<00:00,  2.60it/s]"
     ]
    },
    {
     "name": "stdout",
     "output_type": "stream",
     "text": [
      "                   all        313      12669      0.165      0.109     0.0414     0.0227\n"
     ]
    },
    {
     "name": "stderr",
     "output_type": "stream",
     "text": [
      "\n"
     ]
    },
    {
     "name": "stdout",
     "output_type": "stream",
     "text": [
      "\n",
      "      Epoch    GPU_mem   box_loss   cls_loss   dfl_loss  Instances       Size\n"
     ]
    },
    {
     "name": "stderr",
     "output_type": "stream",
     "text": [
      "     14/500      10.1G   0.009293      2.643      1.748        491       1088: 100%|██████████| 77/77 [00:24<00:00,  3.15it/s]\n",
      "                 Class     Images  Instances      Box(P          R      mAP50  mAP50-95): 100%|██████████| 10/10 [00:03<00:00,  2.69it/s]\n"
     ]
    },
    {
     "name": "stdout",
     "output_type": "stream",
     "text": [
      "                   all        313      12669     0.0955      0.137      0.051     0.0314\n",
      "\n",
      "      Epoch    GPU_mem   box_loss   cls_loss   dfl_loss  Instances       Size\n"
     ]
    },
    {
     "name": "stderr",
     "output_type": "stream",
     "text": [
      "     15/500      10.6G   0.009122      2.617       1.73        630       1088: 100%|██████████| 77/77 [00:21<00:00,  3.55it/s]\n",
      "                 Class     Images  Instances      Box(P          R      mAP50  mAP50-95): 100%|██████████| 10/10 [00:04<00:00,  2.44it/s]\n"
     ]
    },
    {
     "name": "stdout",
     "output_type": "stream",
     "text": [
      "                   all        313      12669     0.0699      0.133     0.0427     0.0235\n",
      "\n",
      "      Epoch    GPU_mem   box_loss   cls_loss   dfl_loss  Instances       Size\n"
     ]
    },
    {
     "name": "stderr",
     "output_type": "stream",
     "text": [
      "     16/500      10.3G   0.009028      2.611      1.726        546       1088: 100%|██████████| 77/77 [00:23<00:00,  3.22it/s]\n",
      "                 Class     Images  Instances      Box(P          R      mAP50  mAP50-95): 100%|██████████| 10/10 [00:04<00:00,  2.42it/s]\n"
     ]
    },
    {
     "name": "stdout",
     "output_type": "stream",
     "text": [
      "                   all        313      12669     0.0953      0.147     0.0475     0.0275\n",
      "\n",
      "      Epoch    GPU_mem   box_loss   cls_loss   dfl_loss  Instances       Size\n"
     ]
    },
    {
     "name": "stderr",
     "output_type": "stream",
     "text": [
      "     17/500      9.86G   0.008961      2.628      1.715        793       1088: 100%|██████████| 77/77 [00:23<00:00,  3.32it/s]\n",
      "                 Class     Images  Instances      Box(P          R      mAP50  mAP50-95): 100%|██████████| 10/10 [00:04<00:00,  2.36it/s]\n"
     ]
    },
    {
     "name": "stdout",
     "output_type": "stream",
     "text": [
      "                   all        313      12669      0.102     0.0991     0.0468      0.027\n",
      "\n",
      "      Epoch    GPU_mem   box_loss   cls_loss   dfl_loss  Instances       Size\n"
     ]
    },
    {
     "name": "stderr",
     "output_type": "stream",
     "text": [
      "     18/500        10G   0.009056      2.609      1.724        637       1088: 100%|██████████| 77/77 [00:25<00:00,  3.07it/s]\n",
      "                 Class     Images  Instances      Box(P          R      mAP50  mAP50-95): 100%|██████████| 10/10 [00:04<00:00,  2.40it/s]\n"
     ]
    },
    {
     "name": "stdout",
     "output_type": "stream",
     "text": [
      "                   all        313      12669      0.178     0.0906     0.0476     0.0272\n",
      "\n",
      "      Epoch    GPU_mem   box_loss   cls_loss   dfl_loss  Instances       Size\n"
     ]
    },
    {
     "name": "stderr",
     "output_type": "stream",
     "text": [
      "     19/500      9.46G   0.008789      2.618      1.711        662       1088: 100%|██████████| 77/77 [00:23<00:00,  3.31it/s]\n",
      "                 Class     Images  Instances      Box(P          R      mAP50  mAP50-95): 100%|██████████| 10/10 [00:04<00:00,  2.49it/s]\n"
     ]
    },
    {
     "name": "stdout",
     "output_type": "stream",
     "text": [
      "                   all        313      12669      0.131     0.0888     0.0487     0.0286\n",
      "\n",
      "      Epoch    GPU_mem   box_loss   cls_loss   dfl_loss  Instances       Size\n"
     ]
    },
    {
     "name": "stderr",
     "output_type": "stream",
     "text": [
      "     20/500      10.3G   0.008609      2.597      1.686        711       1088: 100%|██████████| 77/77 [00:22<00:00,  3.36it/s]\n",
      "                 Class     Images  Instances      Box(P          R      mAP50  mAP50-95): 100%|██████████| 10/10 [00:04<00:00,  2.15it/s]\n"
     ]
    },
    {
     "name": "stdout",
     "output_type": "stream",
     "text": [
      "                   all        313      12669      0.154      0.139     0.0524     0.0326\n",
      "\n",
      "      Epoch    GPU_mem   box_loss   cls_loss   dfl_loss  Instances       Size\n"
     ]
    },
    {
     "name": "stderr",
     "output_type": "stream",
     "text": [
      "     21/500      9.85G   0.008564      2.594      1.682        507       1088: 100%|██████████| 77/77 [00:21<00:00,  3.55it/s]\n",
      "                 Class     Images  Instances      Box(P          R      mAP50  mAP50-95): 100%|██████████| 10/10 [00:04<00:00,  2.20it/s]"
     ]
    },
    {
     "name": "stdout",
     "output_type": "stream",
     "text": [
      "                   all        313      12669     0.0588      0.157     0.0478     0.0267\n"
     ]
    },
    {
     "name": "stderr",
     "output_type": "stream",
     "text": [
      "\n"
     ]
    },
    {
     "name": "stdout",
     "output_type": "stream",
     "text": [
      "\n",
      "      Epoch    GPU_mem   box_loss   cls_loss   dfl_loss  Instances       Size\n"
     ]
    },
    {
     "name": "stderr",
     "output_type": "stream",
     "text": [
      "     22/500      10.4G   0.008611      2.598      1.675        844       1088: 100%|██████████| 77/77 [00:23<00:00,  3.31it/s]\n",
      "                 Class     Images  Instances      Box(P          R      mAP50  mAP50-95): 100%|██████████| 10/10 [00:04<00:00,  2.25it/s]\n"
     ]
    },
    {
     "name": "stdout",
     "output_type": "stream",
     "text": [
      "                   all        313      12669      0.118      0.128     0.0508     0.0299\n",
      "\n",
      "      Epoch    GPU_mem   box_loss   cls_loss   dfl_loss  Instances       Size\n"
     ]
    },
    {
     "name": "stderr",
     "output_type": "stream",
     "text": [
      "     23/500        10G   0.008468      2.598      1.671        710       1088: 100%|██████████| 77/77 [00:25<00:00,  3.08it/s]\n",
      "                 Class     Images  Instances      Box(P          R      mAP50  mAP50-95): 100%|██████████| 10/10 [00:06<00:00,  1.54it/s]\n"
     ]
    },
    {
     "name": "stdout",
     "output_type": "stream",
     "text": [
      "                   all        313      12669      0.146      0.102     0.0482     0.0276\n",
      "\n",
      "      Epoch    GPU_mem   box_loss   cls_loss   dfl_loss  Instances       Size\n"
     ]
    },
    {
     "name": "stderr",
     "output_type": "stream",
     "text": [
      "     24/500      10.3G   0.008411      2.588      1.664        847       1088: 100%|██████████| 77/77 [00:23<00:00,  3.33it/s]\n",
      "                 Class     Images  Instances      Box(P          R      mAP50  mAP50-95): 100%|██████████| 10/10 [00:05<00:00,  2.00it/s]"
     ]
    },
    {
     "name": "stdout",
     "output_type": "stream",
     "text": [
      "                   all        313      12669      0.109      0.121     0.0551     0.0332\n"
     ]
    },
    {
     "name": "stderr",
     "output_type": "stream",
     "text": [
      "\n"
     ]
    },
    {
     "name": "stdout",
     "output_type": "stream",
     "text": [
      "\n",
      "      Epoch    GPU_mem   box_loss   cls_loss   dfl_loss  Instances       Size\n"
     ]
    },
    {
     "name": "stderr",
     "output_type": "stream",
     "text": [
      "     25/500      10.3G   0.008422      2.579      1.659        529       1088: 100%|██████████| 77/77 [00:24<00:00,  3.12it/s]\n",
      "                 Class     Images  Instances      Box(P          R      mAP50  mAP50-95): 100%|██████████| 10/10 [00:05<00:00,  1.98it/s]"
     ]
    },
    {
     "name": "stdout",
     "output_type": "stream",
     "text": [
      "                   all        313      12669      0.065      0.147     0.0497     0.0283\n"
     ]
    },
    {
     "name": "stderr",
     "output_type": "stream",
     "text": [
      "\n"
     ]
    },
    {
     "name": "stdout",
     "output_type": "stream",
     "text": [
      "\n",
      "      Epoch    GPU_mem   box_loss   cls_loss   dfl_loss  Instances       Size\n"
     ]
    },
    {
     "name": "stderr",
     "output_type": "stream",
     "text": [
      "     26/500        11G   0.008386       2.59      1.653        524       1088: 100%|██████████| 77/77 [00:21<00:00,  3.63it/s]\n",
      "                 Class     Images  Instances      Box(P          R      mAP50  mAP50-95): 100%|██████████| 10/10 [00:04<00:00,  2.02it/s]"
     ]
    },
    {
     "name": "stdout",
     "output_type": "stream",
     "text": [
      "                   all        313      12669     0.0764      0.144      0.053     0.0306\n"
     ]
    },
    {
     "name": "stderr",
     "output_type": "stream",
     "text": [
      "\n"
     ]
    },
    {
     "name": "stdout",
     "output_type": "stream",
     "text": [
      "\n",
      "      Epoch    GPU_mem   box_loss   cls_loss   dfl_loss  Instances       Size\n"
     ]
    },
    {
     "name": "stderr",
     "output_type": "stream",
     "text": [
      "     27/500      9.28G   0.008406      2.582      1.657        419       1088: 100%|██████████| 77/77 [00:23<00:00,  3.29it/s]\n",
      "                 Class     Images  Instances      Box(P          R      mAP50  mAP50-95): 100%|██████████| 10/10 [00:05<00:00,  1.73it/s]"
     ]
    },
    {
     "name": "stdout",
     "output_type": "stream",
     "text": [
      "                   all        313      12669      0.153     0.0977     0.0504     0.0297\n"
     ]
    },
    {
     "name": "stderr",
     "output_type": "stream",
     "text": [
      "\n"
     ]
    },
    {
     "name": "stdout",
     "output_type": "stream",
     "text": [
      "\n",
      "      Epoch    GPU_mem   box_loss   cls_loss   dfl_loss  Instances       Size\n"
     ]
    },
    {
     "name": "stderr",
     "output_type": "stream",
     "text": [
      "     28/500      9.92G   0.008303      2.571      1.643        436       1088: 100%|██████████| 77/77 [00:24<00:00,  3.14it/s]\n",
      "                 Class     Images  Instances      Box(P          R      mAP50  mAP50-95): 100%|██████████| 10/10 [00:04<00:00,  2.21it/s]\n"
     ]
    },
    {
     "name": "stdout",
     "output_type": "stream",
     "text": [
      "                   all        313      12669     0.0682      0.138     0.0494     0.0291\n",
      "\n",
      "      Epoch    GPU_mem   box_loss   cls_loss   dfl_loss  Instances       Size\n"
     ]
    },
    {
     "name": "stderr",
     "output_type": "stream",
     "text": [
      "     29/500      10.3G   0.008231       2.57      1.633        684       1088: 100%|██████████| 77/77 [00:21<00:00,  3.56it/s]\n",
      "                 Class     Images  Instances      Box(P          R      mAP50  mAP50-95): 100%|██████████| 10/10 [00:04<00:00,  2.13it/s]"
     ]
    },
    {
     "name": "stdout",
     "output_type": "stream",
     "text": [
      "                   all        313      12669      0.103      0.158     0.0525     0.0321\n"
     ]
    },
    {
     "name": "stderr",
     "output_type": "stream",
     "text": [
      "\n"
     ]
    },
    {
     "name": "stdout",
     "output_type": "stream",
     "text": [
      "\n",
      "      Epoch    GPU_mem   box_loss   cls_loss   dfl_loss  Instances       Size\n"
     ]
    },
    {
     "name": "stderr",
     "output_type": "stream",
     "text": [
      "     30/500      9.71G   0.008268      2.573      1.646        662       1088: 100%|██████████| 77/77 [00:24<00:00,  3.10it/s]\n",
      "                 Class     Images  Instances      Box(P          R      mAP50  mAP50-95): 100%|██████████| 10/10 [00:04<00:00,  2.03it/s]"
     ]
    },
    {
     "name": "stdout",
     "output_type": "stream",
     "text": [
      "                   all        313      12669      0.144       0.11     0.0479      0.027\n"
     ]
    },
    {
     "name": "stderr",
     "output_type": "stream",
     "text": [
      "\n"
     ]
    },
    {
     "name": "stdout",
     "output_type": "stream",
     "text": [
      "\n",
      "      Epoch    GPU_mem   box_loss   cls_loss   dfl_loss  Instances       Size\n"
     ]
    },
    {
     "name": "stderr",
     "output_type": "stream",
     "text": [
      "     31/500      9.85G    0.00825      2.561      1.631        424       1088: 100%|██████████| 77/77 [00:24<00:00,  3.19it/s]\n",
      "                 Class     Images  Instances      Box(P          R      mAP50  mAP50-95): 100%|██████████| 10/10 [00:04<00:00,  2.10it/s]\n"
     ]
    },
    {
     "name": "stdout",
     "output_type": "stream",
     "text": [
      "                   all        313      12669      0.166      0.131     0.0492     0.0288\n",
      "\n",
      "      Epoch    GPU_mem   box_loss   cls_loss   dfl_loss  Instances       Size\n"
     ]
    },
    {
     "name": "stderr",
     "output_type": "stream",
     "text": [
      "     32/500        11G   0.008208      2.557      1.637        746       1088: 100%|██████████| 77/77 [00:21<00:00,  3.58it/s]\n",
      "                 Class     Images  Instances      Box(P          R      mAP50  mAP50-95): 100%|██████████| 10/10 [00:05<00:00,  1.88it/s]\n"
     ]
    },
    {
     "name": "stdout",
     "output_type": "stream",
     "text": [
      "                   all        313      12669      0.118      0.128     0.0541      0.032\n",
      "\n",
      "      Epoch    GPU_mem   box_loss   cls_loss   dfl_loss  Instances       Size\n"
     ]
    },
    {
     "name": "stderr",
     "output_type": "stream",
     "text": [
      "     33/500      10.6G   0.008139      2.548      1.626        593       1088: 100%|██████████| 77/77 [00:22<00:00,  3.38it/s]\n",
      "                 Class     Images  Instances      Box(P          R      mAP50  mAP50-95): 100%|██████████| 10/10 [00:06<00:00,  1.56it/s]"
     ]
    },
    {
     "name": "stdout",
     "output_type": "stream",
     "text": [
      "                   all        313      12669       0.13      0.115     0.0522     0.0298\n"
     ]
    },
    {
     "name": "stderr",
     "output_type": "stream",
     "text": [
      "\n"
     ]
    },
    {
     "name": "stdout",
     "output_type": "stream",
     "text": [
      "\n",
      "      Epoch    GPU_mem   box_loss   cls_loss   dfl_loss  Instances       Size\n"
     ]
    },
    {
     "name": "stderr",
     "output_type": "stream",
     "text": [
      "     34/500      11.2G   0.008221      2.555      1.631        705       1088: 100%|██████████| 77/77 [00:22<00:00,  3.50it/s]\n",
      "                 Class     Images  Instances      Box(P          R      mAP50  mAP50-95): 100%|██████████| 10/10 [00:06<00:00,  1.50it/s]"
     ]
    },
    {
     "name": "stdout",
     "output_type": "stream",
     "text": [
      "                   all        313      12669      0.151      0.111     0.0516     0.0297\n"
     ]
    },
    {
     "name": "stderr",
     "output_type": "stream",
     "text": [
      "\n"
     ]
    },
    {
     "name": "stdout",
     "output_type": "stream",
     "text": [
      "\n",
      "      Epoch    GPU_mem   box_loss   cls_loss   dfl_loss  Instances       Size\n"
     ]
    },
    {
     "name": "stderr",
     "output_type": "stream",
     "text": [
      "     35/500      9.73G   0.008046      2.554      1.621        610       1088: 100%|██████████| 77/77 [00:21<00:00,  3.51it/s]\n",
      "                 Class     Images  Instances      Box(P          R      mAP50  mAP50-95): 100%|██████████| 10/10 [00:05<00:00,  1.73it/s]"
     ]
    },
    {
     "name": "stdout",
     "output_type": "stream",
     "text": [
      "                   all        313      12669      0.129       0.13     0.0501     0.0283\n"
     ]
    },
    {
     "name": "stderr",
     "output_type": "stream",
     "text": [
      "\n"
     ]
    },
    {
     "name": "stdout",
     "output_type": "stream",
     "text": [
      "\n",
      "      Epoch    GPU_mem   box_loss   cls_loss   dfl_loss  Instances       Size\n"
     ]
    },
    {
     "name": "stderr",
     "output_type": "stream",
     "text": [
      "     36/500      10.3G    0.00815      2.554      1.618        418       1088: 100%|██████████| 77/77 [00:21<00:00,  3.52it/s]\n",
      "                 Class     Images  Instances      Box(P          R      mAP50  mAP50-95): 100%|██████████| 10/10 [00:05<00:00,  1.80it/s]"
     ]
    },
    {
     "name": "stdout",
     "output_type": "stream",
     "text": [
      "                   all        313      12669      0.111       0.11     0.0525     0.0307\n"
     ]
    },
    {
     "name": "stderr",
     "output_type": "stream",
     "text": [
      "\n"
     ]
    },
    {
     "name": "stdout",
     "output_type": "stream",
     "text": [
      "\n",
      "      Epoch    GPU_mem   box_loss   cls_loss   dfl_loss  Instances       Size\n"
     ]
    },
    {
     "name": "stderr",
     "output_type": "stream",
     "text": [
      "     37/500      10.6G   0.008047      2.539      1.618        494       1088: 100%|██████████| 77/77 [00:23<00:00,  3.31it/s]\n",
      "                 Class     Images  Instances      Box(P          R      mAP50  mAP50-95): 100%|██████████| 10/10 [00:05<00:00,  1.93it/s]\n"
     ]
    },
    {
     "name": "stdout",
     "output_type": "stream",
     "text": [
      "                   all        313      12669      0.174     0.0925     0.0512     0.0297\n",
      "\n",
      "      Epoch    GPU_mem   box_loss   cls_loss   dfl_loss  Instances       Size\n"
     ]
    },
    {
     "name": "stderr",
     "output_type": "stream",
     "text": [
      "     38/500      9.68G   0.007932      2.539      1.609        555       1088: 100%|██████████| 77/77 [00:24<00:00,  3.17it/s]\n",
      "                 Class     Images  Instances      Box(P          R      mAP50  mAP50-95): 100%|██████████| 10/10 [00:05<00:00,  1.80it/s]"
     ]
    },
    {
     "name": "stdout",
     "output_type": "stream",
     "text": [
      "                   all        313      12669      0.139      0.136      0.051     0.0274\n"
     ]
    },
    {
     "name": "stderr",
     "output_type": "stream",
     "text": [
      "\n"
     ]
    },
    {
     "name": "stdout",
     "output_type": "stream",
     "text": [
      "\n",
      "      Epoch    GPU_mem   box_loss   cls_loss   dfl_loss  Instances       Size\n"
     ]
    },
    {
     "name": "stderr",
     "output_type": "stream",
     "text": [
      "     39/500      10.5G    0.00794      2.543      1.598        602       1088: 100%|██████████| 77/77 [00:24<00:00,  3.15it/s]\n",
      "                 Class     Images  Instances      Box(P          R      mAP50  mAP50-95): 100%|██████████| 10/10 [00:05<00:00,  1.88it/s]"
     ]
    },
    {
     "name": "stdout",
     "output_type": "stream",
     "text": [
      "                   all        313      12669     0.0561      0.149     0.0506     0.0296\n"
     ]
    },
    {
     "name": "stderr",
     "output_type": "stream",
     "text": [
      "\n"
     ]
    },
    {
     "name": "stdout",
     "output_type": "stream",
     "text": [
      "\n",
      "      Epoch    GPU_mem   box_loss   cls_loss   dfl_loss  Instances       Size\n"
     ]
    },
    {
     "name": "stderr",
     "output_type": "stream",
     "text": [
      "     40/500      9.37G   0.007921      2.522      1.595        591       1088: 100%|██████████| 77/77 [00:21<00:00,  3.50it/s]\n",
      "                 Class     Images  Instances      Box(P          R      mAP50  mAP50-95): 100%|██████████| 10/10 [00:04<00:00,  2.21it/s]"
     ]
    },
    {
     "name": "stdout",
     "output_type": "stream",
     "text": [
      "                   all        313      12669      0.161      0.111     0.0537     0.0318\n"
     ]
    },
    {
     "name": "stderr",
     "output_type": "stream",
     "text": [
      "\n"
     ]
    },
    {
     "name": "stdout",
     "output_type": "stream",
     "text": [
      "\n",
      "      Epoch    GPU_mem   box_loss   cls_loss   dfl_loss  Instances       Size\n"
     ]
    },
    {
     "name": "stderr",
     "output_type": "stream",
     "text": [
      "     41/500      10.2G   0.007889      2.529      1.584        557       1088: 100%|██████████| 77/77 [00:23<00:00,  3.23it/s]\n",
      "                 Class     Images  Instances      Box(P          R      mAP50  mAP50-95): 100%|██████████| 10/10 [00:06<00:00,  1.67it/s]\n"
     ]
    },
    {
     "name": "stdout",
     "output_type": "stream",
     "text": [
      "                   all        313      12669     0.0726      0.141     0.0487     0.0262\n",
      "\n",
      "      Epoch    GPU_mem   box_loss   cls_loss   dfl_loss  Instances       Size\n"
     ]
    },
    {
     "name": "stderr",
     "output_type": "stream",
     "text": [
      "     42/500      9.84G   0.007885      2.533      1.586        492       1088: 100%|██████████| 77/77 [00:24<00:00,  3.12it/s]\n",
      "                 Class     Images  Instances      Box(P          R      mAP50  mAP50-95): 100%|██████████| 10/10 [00:05<00:00,  1.70it/s]"
     ]
    },
    {
     "name": "stdout",
     "output_type": "stream",
     "text": [
      "                   all        313      12669      0.112      0.121      0.053     0.0304\n"
     ]
    },
    {
     "name": "stderr",
     "output_type": "stream",
     "text": [
      "\n"
     ]
    },
    {
     "name": "stdout",
     "output_type": "stream",
     "text": [
      "\n",
      "      Epoch    GPU_mem   box_loss   cls_loss   dfl_loss  Instances       Size\n"
     ]
    },
    {
     "name": "stderr",
     "output_type": "stream",
     "text": [
      "     43/500       9.5G   0.007842      2.516      1.582        620       1088: 100%|██████████| 77/77 [00:21<00:00,  3.54it/s]\n",
      "                 Class     Images  Instances      Box(P          R      mAP50  mAP50-95): 100%|██████████| 10/10 [00:05<00:00,  1.87it/s]"
     ]
    },
    {
     "name": "stdout",
     "output_type": "stream",
     "text": [
      "                   all        313      12669     0.0471      0.157     0.0538     0.0306\n"
     ]
    },
    {
     "name": "stderr",
     "output_type": "stream",
     "text": [
      "\n"
     ]
    },
    {
     "name": "stdout",
     "output_type": "stream",
     "text": [
      "\n",
      "      Epoch    GPU_mem   box_loss   cls_loss   dfl_loss  Instances       Size\n"
     ]
    },
    {
     "name": "stderr",
     "output_type": "stream",
     "text": [
      "     44/500      10.7G    0.00786      2.526      1.575        901       1088: 100%|██████████| 77/77 [00:24<00:00,  3.09it/s]\n",
      "                 Class     Images  Instances      Box(P          R      mAP50  mAP50-95): 100%|██████████| 10/10 [00:05<00:00,  1.70it/s]\n"
     ]
    },
    {
     "name": "stdout",
     "output_type": "stream",
     "text": [
      "                   all        313      12669      0.193     0.0871     0.0528     0.0284\n",
      "\n",
      "      Epoch    GPU_mem   box_loss   cls_loss   dfl_loss  Instances       Size\n"
     ]
    },
    {
     "name": "stderr",
     "output_type": "stream",
     "text": [
      "     45/500      9.64G   0.007834      2.519      1.568        570       1088: 100%|██████████| 77/77 [00:22<00:00,  3.45it/s]\n",
      "                 Class     Images  Instances      Box(P          R      mAP50  mAP50-95): 100%|██████████| 10/10 [00:05<00:00,  1.85it/s]\n"
     ]
    },
    {
     "name": "stdout",
     "output_type": "stream",
     "text": [
      "                   all        313      12669      0.148      0.128     0.0543     0.0316\n",
      "\n",
      "      Epoch    GPU_mem   box_loss   cls_loss   dfl_loss  Instances       Size\n"
     ]
    },
    {
     "name": "stderr",
     "output_type": "stream",
     "text": [
      "     46/500        11G   0.007756      2.528      1.567        809       1088: 100%|██████████| 77/77 [00:23<00:00,  3.25it/s]\n",
      "                 Class     Images  Instances      Box(P          R      mAP50  mAP50-95): 100%|██████████| 10/10 [00:06<00:00,  1.43it/s]"
     ]
    },
    {
     "name": "stdout",
     "output_type": "stream",
     "text": [
      "                   all        313      12669      0.147      0.108     0.0513     0.0263\n"
     ]
    },
    {
     "name": "stderr",
     "output_type": "stream",
     "text": [
      "\n"
     ]
    },
    {
     "name": "stdout",
     "output_type": "stream",
     "text": [
      "\n",
      "      Epoch    GPU_mem   box_loss   cls_loss   dfl_loss  Instances       Size\n"
     ]
    },
    {
     "name": "stderr",
     "output_type": "stream",
     "text": [
      "     47/500      10.2G   0.007832      2.515      1.569        538       1088: 100%|██████████| 77/77 [00:22<00:00,  3.42it/s]\n",
      "                 Class     Images  Instances      Box(P          R      mAP50  mAP50-95): 100%|██████████| 10/10 [00:05<00:00,  1.79it/s]"
     ]
    },
    {
     "name": "stdout",
     "output_type": "stream",
     "text": [
      "                   all        313      12669      0.117      0.121     0.0494     0.0265\n"
     ]
    },
    {
     "name": "stderr",
     "output_type": "stream",
     "text": [
      "\n"
     ]
    },
    {
     "name": "stdout",
     "output_type": "stream",
     "text": [
      "\n",
      "      Epoch    GPU_mem   box_loss   cls_loss   dfl_loss  Instances       Size\n"
     ]
    },
    {
     "name": "stderr",
     "output_type": "stream",
     "text": [
      "     48/500        11G   0.007773      2.517      1.563        481       1088: 100%|██████████| 77/77 [00:23<00:00,  3.30it/s]\n",
      "                 Class     Images  Instances      Box(P          R      mAP50  mAP50-95): 100%|██████████| 10/10 [00:05<00:00,  1.86it/s]\n"
     ]
    },
    {
     "name": "stdout",
     "output_type": "stream",
     "text": [
      "                   all        313      12669      0.141      0.121     0.0512     0.0283\n",
      "\n",
      "      Epoch    GPU_mem   box_loss   cls_loss   dfl_loss  Instances       Size\n"
     ]
    },
    {
     "name": "stderr",
     "output_type": "stream",
     "text": [
      "     49/500      3.52G   0.007713      2.512       1.56        622       1088: 100%|██████████| 77/77 [00:23<00:00,  3.25it/s]\n",
      "                 Class     Images  Instances      Box(P          R      mAP50  mAP50-95): 100%|██████████| 10/10 [00:05<00:00,  1.68it/s]"
     ]
    },
    {
     "name": "stdout",
     "output_type": "stream",
     "text": [
      "                   all        313      12669       0.13      0.118     0.0487     0.0263\n"
     ]
    },
    {
     "name": "stderr",
     "output_type": "stream",
     "text": [
      "\n"
     ]
    },
    {
     "name": "stdout",
     "output_type": "stream",
     "text": [
      "\n",
      "      Epoch    GPU_mem   box_loss   cls_loss   dfl_loss  Instances       Size\n"
     ]
    },
    {
     "name": "stderr",
     "output_type": "stream",
     "text": [
      "     50/500      10.5G   0.007743      2.521       1.56        564       1088: 100%|██████████| 77/77 [00:23<00:00,  3.32it/s]\n",
      "                 Class     Images  Instances      Box(P          R      mAP50  mAP50-95): 100%|██████████| 10/10 [00:06<00:00,  1.58it/s]"
     ]
    },
    {
     "name": "stdout",
     "output_type": "stream",
     "text": [
      "                   all        313      12669      0.138      0.103     0.0512     0.0296\n"
     ]
    },
    {
     "name": "stderr",
     "output_type": "stream",
     "text": [
      "\n"
     ]
    },
    {
     "name": "stdout",
     "output_type": "stream",
     "text": [
      "\n",
      "      Epoch    GPU_mem   box_loss   cls_loss   dfl_loss  Instances       Size\n"
     ]
    },
    {
     "name": "stderr",
     "output_type": "stream",
     "text": [
      "     51/500      10.8G   0.007823      2.523      1.564        569       1088: 100%|██████████| 77/77 [00:24<00:00,  3.20it/s]\n",
      "                 Class     Images  Instances      Box(P          R      mAP50  mAP50-95): 100%|██████████| 10/10 [00:05<00:00,  1.70it/s]"
     ]
    },
    {
     "name": "stdout",
     "output_type": "stream",
     "text": [
      "                   all        313      12669      0.159     0.0885     0.0514     0.0287\n"
     ]
    },
    {
     "name": "stderr",
     "output_type": "stream",
     "text": [
      "\n"
     ]
    },
    {
     "name": "stdout",
     "output_type": "stream",
     "text": [
      "\n",
      "      Epoch    GPU_mem   box_loss   cls_loss   dfl_loss  Instances       Size\n"
     ]
    },
    {
     "name": "stderr",
     "output_type": "stream",
     "text": [
      "     52/500        11G   0.007766      2.514      1.556        611       1088: 100%|██████████| 77/77 [00:21<00:00,  3.58it/s]\n",
      "                 Class     Images  Instances      Box(P          R      mAP50  mAP50-95): 100%|██████████| 10/10 [00:05<00:00,  1.72it/s]\n"
     ]
    },
    {
     "name": "stdout",
     "output_type": "stream",
     "text": [
      "                   all        313      12669       0.15      0.112     0.0498     0.0269\n",
      "\n",
      "      Epoch    GPU_mem   box_loss   cls_loss   dfl_loss  Instances       Size\n"
     ]
    },
    {
     "name": "stderr",
     "output_type": "stream",
     "text": [
      "     53/500      9.62G   0.007655       2.51      1.547        668       1088: 100%|██████████| 77/77 [00:23<00:00,  3.26it/s]\n",
      "                 Class     Images  Instances      Box(P          R      mAP50  mAP50-95): 100%|██████████| 10/10 [00:06<00:00,  1.56it/s]"
     ]
    },
    {
     "name": "stdout",
     "output_type": "stream",
     "text": [
      "                   all        313      12669      0.154      0.128     0.0478     0.0251\n"
     ]
    },
    {
     "name": "stderr",
     "output_type": "stream",
     "text": [
      "\n"
     ]
    },
    {
     "name": "stdout",
     "output_type": "stream",
     "text": [
      "\n",
      "      Epoch    GPU_mem   box_loss   cls_loss   dfl_loss  Instances       Size\n"
     ]
    },
    {
     "name": "stderr",
     "output_type": "stream",
     "text": [
      "     54/500      10.6G   0.007632      2.506      1.542        576       1088: 100%|██████████| 77/77 [00:23<00:00,  3.31it/s]\n",
      "                 Class     Images  Instances      Box(P          R      mAP50  mAP50-95): 100%|██████████| 10/10 [00:05<00:00,  1.67it/s]"
     ]
    },
    {
     "name": "stdout",
     "output_type": "stream",
     "text": [
      "                   all        313      12669      0.174     0.0959     0.0498     0.0271\n"
     ]
    },
    {
     "name": "stderr",
     "output_type": "stream",
     "text": [
      "\n"
     ]
    },
    {
     "name": "stdout",
     "output_type": "stream",
     "text": [
      "\n",
      "      Epoch    GPU_mem   box_loss   cls_loss   dfl_loss  Instances       Size\n"
     ]
    },
    {
     "name": "stderr",
     "output_type": "stream",
     "text": [
      "     55/500      9.24G   0.007664      2.494      1.549        642       1088: 100%|██████████| 77/77 [00:22<00:00,  3.35it/s]\n",
      "                 Class     Images  Instances      Box(P          R      mAP50  mAP50-95): 100%|██████████| 10/10 [00:05<00:00,  1.79it/s]"
     ]
    },
    {
     "name": "stdout",
     "output_type": "stream",
     "text": [
      "                   all        313      12669      0.152      0.112     0.0538     0.0311\n"
     ]
    },
    {
     "name": "stderr",
     "output_type": "stream",
     "text": [
      "\n"
     ]
    },
    {
     "name": "stdout",
     "output_type": "stream",
     "text": [
      "\n",
      "      Epoch    GPU_mem   box_loss   cls_loss   dfl_loss  Instances       Size\n"
     ]
    },
    {
     "name": "stderr",
     "output_type": "stream",
     "text": [
      "     56/500      11.1G    0.00773      2.519       1.55        865       1088: 100%|██████████| 77/77 [00:22<00:00,  3.43it/s]\n",
      "                 Class     Images  Instances      Box(P          R      mAP50  mAP50-95): 100%|██████████| 10/10 [00:05<00:00,  1.95it/s]"
     ]
    },
    {
     "name": "stdout",
     "output_type": "stream",
     "text": [
      "                   all        313      12669      0.149      0.128     0.0516     0.0281\n"
     ]
    },
    {
     "name": "stderr",
     "output_type": "stream",
     "text": [
      "\n"
     ]
    },
    {
     "name": "stdout",
     "output_type": "stream",
     "text": [
      "\n",
      "      Epoch    GPU_mem   box_loss   cls_loss   dfl_loss  Instances       Size\n"
     ]
    },
    {
     "name": "stderr",
     "output_type": "stream",
     "text": [
      "     57/500      10.1G   0.007639      2.494      1.539        496       1088: 100%|██████████| 77/77 [00:25<00:00,  3.01it/s]\n",
      "                 Class     Images  Instances      Box(P          R      mAP50  mAP50-95): 100%|██████████| 10/10 [00:06<00:00,  1.64it/s]"
     ]
    },
    {
     "name": "stdout",
     "output_type": "stream",
     "text": [
      "                   all        313      12669      0.192       0.12      0.054     0.0305\n"
     ]
    },
    {
     "name": "stderr",
     "output_type": "stream",
     "text": [
      "\n"
     ]
    },
    {
     "name": "stdout",
     "output_type": "stream",
     "text": [
      "\n",
      "      Epoch    GPU_mem   box_loss   cls_loss   dfl_loss  Instances       Size\n"
     ]
    },
    {
     "name": "stderr",
     "output_type": "stream",
     "text": [
      "     58/500      10.3G   0.007591      2.494      1.537        669       1088: 100%|██████████| 77/77 [00:22<00:00,  3.44it/s]\n",
      "                 Class     Images  Instances      Box(P          R      mAP50  mAP50-95): 100%|██████████| 10/10 [00:05<00:00,  1.80it/s]"
     ]
    },
    {
     "name": "stdout",
     "output_type": "stream",
     "text": [
      "                   all        313      12669       0.19      0.113     0.0511     0.0283\n"
     ]
    },
    {
     "name": "stderr",
     "output_type": "stream",
     "text": [
      "\n"
     ]
    },
    {
     "name": "stdout",
     "output_type": "stream",
     "text": [
      "\n",
      "      Epoch    GPU_mem   box_loss   cls_loss   dfl_loss  Instances       Size\n"
     ]
    },
    {
     "name": "stderr",
     "output_type": "stream",
     "text": [
      "     59/500      11.2G   0.007647      2.493      1.538        668       1088: 100%|██████████| 77/77 [00:21<00:00,  3.55it/s]\n",
      "                 Class     Images  Instances      Box(P          R      mAP50  mAP50-95): 100%|██████████| 10/10 [00:06<00:00,  1.61it/s]"
     ]
    },
    {
     "name": "stdout",
     "output_type": "stream",
     "text": [
      "                   all        313      12669      0.208      0.112     0.0507     0.0275\n"
     ]
    },
    {
     "name": "stderr",
     "output_type": "stream",
     "text": [
      "\n"
     ]
    },
    {
     "name": "stdout",
     "output_type": "stream",
     "text": [
      "\n",
      "      Epoch    GPU_mem   box_loss   cls_loss   dfl_loss  Instances       Size\n"
     ]
    },
    {
     "name": "stderr",
     "output_type": "stream",
     "text": [
      "     60/500      9.68G   0.007614      2.485      1.536        751       1088: 100%|██████████| 77/77 [00:21<00:00,  3.59it/s]\n",
      "                 Class     Images  Instances      Box(P          R      mAP50  mAP50-95): 100%|██████████| 10/10 [00:04<00:00,  2.14it/s]\n"
     ]
    },
    {
     "name": "stdout",
     "output_type": "stream",
     "text": [
      "                   all        313      12669      0.198     0.0958     0.0518     0.0271\n",
      "\n",
      "      Epoch    GPU_mem   box_loss   cls_loss   dfl_loss  Instances       Size\n"
     ]
    },
    {
     "name": "stderr",
     "output_type": "stream",
     "text": [
      "     61/500      9.87G    0.00756      2.494      1.526        783       1088: 100%|██████████| 77/77 [00:24<00:00,  3.16it/s]\n",
      "                 Class     Images  Instances      Box(P          R      mAP50  mAP50-95): 100%|██████████| 10/10 [00:05<00:00,  1.81it/s]"
     ]
    },
    {
     "name": "stdout",
     "output_type": "stream",
     "text": [
      "                   all        313      12669      0.138      0.127     0.0533     0.0298\n"
     ]
    },
    {
     "name": "stderr",
     "output_type": "stream",
     "text": [
      "\n"
     ]
    },
    {
     "name": "stdout",
     "output_type": "stream",
     "text": [
      "\n",
      "      Epoch    GPU_mem   box_loss   cls_loss   dfl_loss  Instances       Size\n"
     ]
    },
    {
     "name": "stderr",
     "output_type": "stream",
     "text": [
      "     62/500      10.1G   0.007586       2.49       1.53        852       1088: 100%|██████████| 77/77 [00:21<00:00,  3.59it/s]\n",
      "                 Class     Images  Instances      Box(P          R      mAP50  mAP50-95): 100%|██████████| 10/10 [00:05<00:00,  1.88it/s]\n"
     ]
    },
    {
     "name": "stdout",
     "output_type": "stream",
     "text": [
      "                   all        313      12669      0.209      0.128     0.0545     0.0305\n",
      "\n",
      "      Epoch    GPU_mem   box_loss   cls_loss   dfl_loss  Instances       Size\n"
     ]
    },
    {
     "name": "stderr",
     "output_type": "stream",
     "text": [
      "     63/500        10G   0.007583       2.49       1.53        678       1088: 100%|██████████| 77/77 [00:25<00:00,  2.97it/s]\n",
      "                 Class     Images  Instances      Box(P          R      mAP50  mAP50-95): 100%|██████████| 10/10 [00:06<00:00,  1.51it/s]"
     ]
    },
    {
     "name": "stdout",
     "output_type": "stream",
     "text": [
      "                   all        313      12669      0.227     0.0975     0.0507     0.0266\n"
     ]
    },
    {
     "name": "stderr",
     "output_type": "stream",
     "text": [
      "\n"
     ]
    },
    {
     "name": "stdout",
     "output_type": "stream",
     "text": [
      "\n",
      "      Epoch    GPU_mem   box_loss   cls_loss   dfl_loss  Instances       Size\n"
     ]
    },
    {
     "name": "stderr",
     "output_type": "stream",
     "text": [
      "     64/500      9.36G    0.00754      2.476      1.524        746       1088: 100%|██████████| 77/77 [00:24<00:00,  3.20it/s]\n",
      "                 Class     Images  Instances      Box(P          R      mAP50  mAP50-95): 100%|██████████| 10/10 [00:05<00:00,  1.82it/s]\n"
     ]
    },
    {
     "name": "stdout",
     "output_type": "stream",
     "text": [
      "                   all        313      12669      0.182      0.104     0.0517     0.0276\n",
      "\n",
      "      Epoch    GPU_mem   box_loss   cls_loss   dfl_loss  Instances       Size\n"
     ]
    },
    {
     "name": "stderr",
     "output_type": "stream",
     "text": [
      "     65/500      9.74G   0.007571       2.48      1.533        620       1088: 100%|██████████| 77/77 [00:22<00:00,  3.35it/s]\n",
      "                 Class     Images  Instances      Box(P          R      mAP50  mAP50-95): 100%|██████████| 10/10 [00:06<00:00,  1.66it/s]\n"
     ]
    },
    {
     "name": "stdout",
     "output_type": "stream",
     "text": [
      "                   all        313      12669      0.134      0.139     0.0486     0.0251\n",
      "\n",
      "      Epoch    GPU_mem   box_loss   cls_loss   dfl_loss  Instances       Size\n"
     ]
    },
    {
     "name": "stderr",
     "output_type": "stream",
     "text": [
      "     66/500      9.03G   0.007529      2.488      1.526        576       1088: 100%|██████████| 77/77 [00:23<00:00,  3.25it/s]\n",
      "                 Class     Images  Instances      Box(P          R      mAP50  mAP50-95): 100%|██████████| 10/10 [00:05<00:00,  1.85it/s]\n"
     ]
    },
    {
     "name": "stdout",
     "output_type": "stream",
     "text": [
      "                   all        313      12669       0.17      0.137      0.053      0.029\n",
      "\n",
      "      Epoch    GPU_mem   box_loss   cls_loss   dfl_loss  Instances       Size\n"
     ]
    },
    {
     "name": "stderr",
     "output_type": "stream",
     "text": [
      "     67/500      9.07G   0.007516      2.472      1.521        501       1088: 100%|██████████| 77/77 [00:24<00:00,  3.16it/s]\n",
      "                 Class     Images  Instances      Box(P          R      mAP50  mAP50-95): 100%|██████████| 10/10 [00:05<00:00,  1.93it/s]"
     ]
    },
    {
     "name": "stdout",
     "output_type": "stream",
     "text": [
      "                   all        313      12669      0.236     0.0864     0.0554     0.0311\n"
     ]
    },
    {
     "name": "stderr",
     "output_type": "stream",
     "text": [
      "\n"
     ]
    },
    {
     "name": "stdout",
     "output_type": "stream",
     "text": [
      "\n",
      "      Epoch    GPU_mem   box_loss   cls_loss   dfl_loss  Instances       Size\n"
     ]
    },
    {
     "name": "stderr",
     "output_type": "stream",
     "text": [
      "     68/500      10.5G   0.007591      2.493      1.525        665       1088: 100%|██████████| 77/77 [00:22<00:00,  3.40it/s]\n",
      "                 Class     Images  Instances      Box(P          R      mAP50  mAP50-95): 100%|██████████| 10/10 [00:05<00:00,  1.76it/s]"
     ]
    },
    {
     "name": "stdout",
     "output_type": "stream",
     "text": [
      "                   all        313      12669      0.169      0.118     0.0524     0.0283\n"
     ]
    },
    {
     "name": "stderr",
     "output_type": "stream",
     "text": [
      "\n"
     ]
    },
    {
     "name": "stdout",
     "output_type": "stream",
     "text": [
      "\n",
      "      Epoch    GPU_mem   box_loss   cls_loss   dfl_loss  Instances       Size\n"
     ]
    },
    {
     "name": "stderr",
     "output_type": "stream",
     "text": [
      "     69/500       9.6G   0.007518      2.471      1.524        332       1088: 100%|██████████| 77/77 [00:21<00:00,  3.57it/s]\n",
      "                 Class     Images  Instances      Box(P          R      mAP50  mAP50-95): 100%|██████████| 10/10 [00:04<00:00,  2.12it/s]"
     ]
    },
    {
     "name": "stdout",
     "output_type": "stream",
     "text": [
      "                   all        313      12669      0.219     0.0867     0.0548     0.0308\n"
     ]
    },
    {
     "name": "stderr",
     "output_type": "stream",
     "text": [
      "\n"
     ]
    },
    {
     "name": "stdout",
     "output_type": "stream",
     "text": [
      "\n",
      "      Epoch    GPU_mem   box_loss   cls_loss   dfl_loss  Instances       Size\n"
     ]
    },
    {
     "name": "stderr",
     "output_type": "stream",
     "text": [
      "     70/500      10.3G   0.007572      2.481      1.525        875       1088: 100%|██████████| 77/77 [00:23<00:00,  3.25it/s]\n",
      "                 Class     Images  Instances      Box(P          R      mAP50  mAP50-95): 100%|██████████| 10/10 [00:05<00:00,  1.68it/s]"
     ]
    },
    {
     "name": "stdout",
     "output_type": "stream",
     "text": [
      "                   all        313      12669      0.134      0.141     0.0563     0.0307\n"
     ]
    },
    {
     "name": "stderr",
     "output_type": "stream",
     "text": [
      "\n"
     ]
    },
    {
     "name": "stdout",
     "output_type": "stream",
     "text": [
      "\n",
      "      Epoch    GPU_mem   box_loss   cls_loss   dfl_loss  Instances       Size\n"
     ]
    },
    {
     "name": "stderr",
     "output_type": "stream",
     "text": [
      "     71/500      9.89G   0.007521       2.48       1.51        593       1088: 100%|██████████| 77/77 [00:24<00:00,  3.10it/s]\n",
      "                 Class     Images  Instances      Box(P          R      mAP50  mAP50-95): 100%|██████████| 10/10 [00:05<00:00,  1.76it/s]\n"
     ]
    },
    {
     "name": "stdout",
     "output_type": "stream",
     "text": [
      "                   all        313      12669      0.144      0.133     0.0494      0.026\n",
      "\n",
      "      Epoch    GPU_mem   box_loss   cls_loss   dfl_loss  Instances       Size\n"
     ]
    },
    {
     "name": "stderr",
     "output_type": "stream",
     "text": [
      "     72/500      9.25G   0.007498      2.472      1.515        765       1088: 100%|██████████| 77/77 [00:24<00:00,  3.16it/s]\n",
      "                 Class     Images  Instances      Box(P          R      mAP50  mAP50-95): 100%|██████████| 10/10 [00:06<00:00,  1.65it/s]\n"
     ]
    },
    {
     "name": "stdout",
     "output_type": "stream",
     "text": [
      "                   all        313      12669      0.224      0.095     0.0524      0.028\n",
      "\n",
      "      Epoch    GPU_mem   box_loss   cls_loss   dfl_loss  Instances       Size\n"
     ]
    },
    {
     "name": "stderr",
     "output_type": "stream",
     "text": [
      "     73/500      10.6G   0.007435      2.473      1.508        636       1088: 100%|██████████| 77/77 [00:25<00:00,  3.08it/s]\n",
      "                 Class     Images  Instances      Box(P          R      mAP50  mAP50-95): 100%|██████████| 10/10 [00:06<00:00,  1.64it/s]\n"
     ]
    },
    {
     "name": "stdout",
     "output_type": "stream",
     "text": [
      "                   all        313      12669      0.165      0.148     0.0516     0.0261\n",
      "\n",
      "      Epoch    GPU_mem   box_loss   cls_loss   dfl_loss  Instances       Size\n"
     ]
    },
    {
     "name": "stderr",
     "output_type": "stream",
     "text": [
      "     74/500      9.97G   0.007434      2.468       1.51        579       1088: 100%|██████████| 77/77 [00:21<00:00,  3.57it/s]\n",
      "                 Class     Images  Instances      Box(P          R      mAP50  mAP50-95): 100%|██████████| 10/10 [00:06<00:00,  1.66it/s]\n"
     ]
    },
    {
     "name": "stdout",
     "output_type": "stream",
     "text": [
      "                   all        313      12669      0.162      0.113     0.0546     0.0303\n",
      "\n",
      "      Epoch    GPU_mem   box_loss   cls_loss   dfl_loss  Instances       Size\n"
     ]
    },
    {
     "name": "stderr",
     "output_type": "stream",
     "text": [
      "     75/500      10.7G   0.007366      2.462      1.512        753       1088: 100%|██████████| 77/77 [00:24<00:00,  3.15it/s]\n",
      "                 Class     Images  Instances      Box(P          R      mAP50  mAP50-95): 100%|██████████| 10/10 [00:05<00:00,  1.71it/s]\n"
     ]
    },
    {
     "name": "stdout",
     "output_type": "stream",
     "text": [
      "                   all        313      12669      0.182      0.119     0.0515     0.0264\n",
      "\n",
      "      Epoch    GPU_mem   box_loss   cls_loss   dfl_loss  Instances       Size\n"
     ]
    },
    {
     "name": "stderr",
     "output_type": "stream",
     "text": [
      "     76/500      9.15G   0.007426      2.477      1.507        560       1088: 100%|██████████| 77/77 [00:22<00:00,  3.45it/s]\n",
      "                 Class     Images  Instances      Box(P          R      mAP50  mAP50-95): 100%|██████████| 10/10 [00:05<00:00,  1.79it/s]\n"
     ]
    },
    {
     "name": "stdout",
     "output_type": "stream",
     "text": [
      "                   all        313      12669      0.227      0.103     0.0561     0.0311\n",
      "\n",
      "      Epoch    GPU_mem   box_loss   cls_loss   dfl_loss  Instances       Size\n"
     ]
    },
    {
     "name": "stderr",
     "output_type": "stream",
     "text": [
      "     77/500        10G   0.007434      2.472      1.517        799       1088: 100%|██████████| 77/77 [00:24<00:00,  3.10it/s]\n",
      "                 Class     Images  Instances      Box(P          R      mAP50  mAP50-95): 100%|██████████| 10/10 [00:05<00:00,  1.72it/s]\n"
     ]
    },
    {
     "name": "stdout",
     "output_type": "stream",
     "text": [
      "                   all        313      12669       0.15       0.14     0.0542     0.0285\n",
      "\n",
      "      Epoch    GPU_mem   box_loss   cls_loss   dfl_loss  Instances       Size\n"
     ]
    },
    {
     "name": "stderr",
     "output_type": "stream",
     "text": [
      "     78/500      9.78G   0.007479      2.456      1.504        569       1088: 100%|██████████| 77/77 [00:21<00:00,  3.57it/s]\n",
      "                 Class     Images  Instances      Box(P          R      mAP50  mAP50-95): 100%|██████████| 10/10 [00:06<00:00,  1.65it/s]\n"
     ]
    },
    {
     "name": "stdout",
     "output_type": "stream",
     "text": [
      "                   all        313      12669      0.178      0.127      0.048     0.0236\n",
      "\n",
      "      Epoch    GPU_mem   box_loss   cls_loss   dfl_loss  Instances       Size\n"
     ]
    },
    {
     "name": "stderr",
     "output_type": "stream",
     "text": [
      "     79/500      9.35G   0.007434       2.47      1.515        727       1088: 100%|██████████| 77/77 [00:24<00:00,  3.14it/s]\n",
      "                 Class     Images  Instances      Box(P          R      mAP50  mAP50-95): 100%|██████████| 10/10 [00:06<00:00,  1.58it/s]"
     ]
    },
    {
     "name": "stdout",
     "output_type": "stream",
     "text": [
      "                   all        313      12669      0.274     0.0956     0.0508     0.0261\n"
     ]
    },
    {
     "name": "stderr",
     "output_type": "stream",
     "text": [
      "\n"
     ]
    },
    {
     "name": "stdout",
     "output_type": "stream",
     "text": [
      "\n",
      "      Epoch    GPU_mem   box_loss   cls_loss   dfl_loss  Instances       Size\n"
     ]
    },
    {
     "name": "stderr",
     "output_type": "stream",
     "text": [
      "     80/500      10.6G   0.007406      2.464      1.505        537       1088: 100%|██████████| 77/77 [00:22<00:00,  3.39it/s]\n",
      "                 Class     Images  Instances      Box(P          R      mAP50  mAP50-95): 100%|██████████| 10/10 [00:05<00:00,  1.73it/s]\n"
     ]
    },
    {
     "name": "stdout",
     "output_type": "stream",
     "text": [
      "                   all        313      12669      0.157      0.139     0.0518     0.0267\n",
      "\n",
      "      Epoch    GPU_mem   box_loss   cls_loss   dfl_loss  Instances       Size\n"
     ]
    },
    {
     "name": "stderr",
     "output_type": "stream",
     "text": [
      "     81/500      9.37G   0.007496      2.456      1.505        821       1088: 100%|██████████| 77/77 [00:21<00:00,  3.54it/s]\n",
      "                 Class     Images  Instances      Box(P          R      mAP50  mAP50-95): 100%|██████████| 10/10 [00:05<00:00,  1.85it/s]\n"
     ]
    },
    {
     "name": "stdout",
     "output_type": "stream",
     "text": [
      "                   all        313      12669      0.283       0.11     0.0538     0.0285\n",
      "\n",
      "      Epoch    GPU_mem   box_loss   cls_loss   dfl_loss  Instances       Size\n"
     ]
    },
    {
     "name": "stderr",
     "output_type": "stream",
     "text": [
      "     82/500      9.43G   0.007401      2.465      1.504        746       1088: 100%|██████████| 77/77 [00:23<00:00,  3.33it/s]\n",
      "                 Class     Images  Instances      Box(P          R      mAP50  mAP50-95): 100%|██████████| 10/10 [00:05<00:00,  1.74it/s]\n"
     ]
    },
    {
     "name": "stdout",
     "output_type": "stream",
     "text": [
      "                   all        313      12669      0.225     0.0991     0.0545     0.0306\n",
      "\n",
      "      Epoch    GPU_mem   box_loss   cls_loss   dfl_loss  Instances       Size\n"
     ]
    },
    {
     "name": "stderr",
     "output_type": "stream",
     "text": [
      "     83/500      10.9G   0.007338      2.467      1.497        764       1088: 100%|██████████| 77/77 [00:23<00:00,  3.24it/s]\n",
      "                 Class     Images  Instances      Box(P          R      mAP50  mAP50-95): 100%|██████████| 10/10 [00:05<00:00,  1.87it/s]\n"
     ]
    },
    {
     "name": "stdout",
     "output_type": "stream",
     "text": [
      "                   all        313      12669      0.148      0.156     0.0547      0.031\n",
      "\n",
      "      Epoch    GPU_mem   box_loss   cls_loss   dfl_loss  Instances       Size\n"
     ]
    },
    {
     "name": "stderr",
     "output_type": "stream",
     "text": [
      "     84/500      9.89G   0.007416      2.466      1.494        524       1088: 100%|██████████| 77/77 [00:24<00:00,  3.11it/s]\n",
      "                 Class     Images  Instances      Box(P          R      mAP50  mAP50-95): 100%|██████████| 10/10 [00:05<00:00,  1.70it/s]\n"
     ]
    },
    {
     "name": "stdout",
     "output_type": "stream",
     "text": [
      "                   all        313      12669      0.179      0.137     0.0546     0.0288\n",
      "\n",
      "      Epoch    GPU_mem   box_loss   cls_loss   dfl_loss  Instances       Size\n"
     ]
    },
    {
     "name": "stderr",
     "output_type": "stream",
     "text": [
      "     85/500      9.71G    0.00738      2.463      1.496        583       1088: 100%|██████████| 77/77 [00:24<00:00,  3.15it/s]\n",
      "                 Class     Images  Instances      Box(P          R      mAP50  mAP50-95): 100%|██████████| 10/10 [00:05<00:00,  1.83it/s]\n"
     ]
    },
    {
     "name": "stdout",
     "output_type": "stream",
     "text": [
      "                   all        313      12669      0.178      0.145     0.0521     0.0259\n",
      "\n",
      "      Epoch    GPU_mem   box_loss   cls_loss   dfl_loss  Instances       Size\n"
     ]
    },
    {
     "name": "stderr",
     "output_type": "stream",
     "text": [
      "     86/500      10.3G   0.007302      2.462      1.489        861       1088: 100%|██████████| 77/77 [00:23<00:00,  3.23it/s]\n",
      "                 Class     Images  Instances      Box(P          R      mAP50  mAP50-95): 100%|██████████| 10/10 [00:05<00:00,  1.86it/s]\n"
     ]
    },
    {
     "name": "stdout",
     "output_type": "stream",
     "text": [
      "                   all        313      12669      0.173      0.143     0.0509     0.0253\n",
      "\n",
      "      Epoch    GPU_mem   box_loss   cls_loss   dfl_loss  Instances       Size\n"
     ]
    },
    {
     "name": "stderr",
     "output_type": "stream",
     "text": [
      "     87/500      10.9G   0.007392      2.458      1.498        660       1088: 100%|██████████| 77/77 [00:21<00:00,  3.51it/s]\n",
      "                 Class     Images  Instances      Box(P          R      mAP50  mAP50-95): 100%|██████████| 10/10 [00:05<00:00,  1.68it/s]"
     ]
    },
    {
     "name": "stdout",
     "output_type": "stream",
     "text": [
      "                   all        313      12669      0.174      0.143     0.0516     0.0257\n"
     ]
    },
    {
     "name": "stderr",
     "output_type": "stream",
     "text": [
      "\n"
     ]
    },
    {
     "name": "stdout",
     "output_type": "stream",
     "text": [
      "\n",
      "      Epoch    GPU_mem   box_loss   cls_loss   dfl_loss  Instances       Size\n"
     ]
    },
    {
     "name": "stderr",
     "output_type": "stream",
     "text": [
      "     88/500      9.18G    0.00732      2.452      1.495        645       1088: 100%|██████████| 77/77 [00:22<00:00,  3.44it/s]\n",
      "                 Class     Images  Instances      Box(P          R      mAP50  mAP50-95): 100%|██████████| 10/10 [00:04<00:00,  2.13it/s]\n"
     ]
    },
    {
     "name": "stdout",
     "output_type": "stream",
     "text": [
      "                   all        313      12669      0.189      0.145     0.0546      0.029\n",
      "\n",
      "      Epoch    GPU_mem   box_loss   cls_loss   dfl_loss  Instances       Size\n"
     ]
    },
    {
     "name": "stderr",
     "output_type": "stream",
     "text": [
      "     89/500      11.1G    0.00741      2.462      1.496        508       1088: 100%|██████████| 77/77 [00:27<00:00,  2.78it/s]\n",
      "                 Class     Images  Instances      Box(P          R      mAP50  mAP50-95): 100%|██████████| 10/10 [00:04<00:00,  2.01it/s]\n"
     ]
    },
    {
     "name": "stdout",
     "output_type": "stream",
     "text": [
      "                   all        313      12669      0.163      0.144     0.0506     0.0251\n",
      "\n",
      "      Epoch    GPU_mem   box_loss   cls_loss   dfl_loss  Instances       Size\n"
     ]
    },
    {
     "name": "stderr",
     "output_type": "stream",
     "text": [
      "     90/500      10.3G   0.007356       2.45      1.488        704       1088: 100%|██████████| 77/77 [00:21<00:00,  3.59it/s]\n",
      "                 Class     Images  Instances      Box(P          R      mAP50  mAP50-95): 100%|██████████| 10/10 [00:04<00:00,  2.21it/s]\n"
     ]
    },
    {
     "name": "stdout",
     "output_type": "stream",
     "text": [
      "                   all        313      12669      0.157      0.153     0.0553     0.0302\n",
      "\n",
      "      Epoch    GPU_mem   box_loss   cls_loss   dfl_loss  Instances       Size\n"
     ]
    },
    {
     "name": "stderr",
     "output_type": "stream",
     "text": [
      "     91/500      10.7G   0.007314       2.46      1.487        517       1088: 100%|██████████| 77/77 [00:23<00:00,  3.25it/s]\n",
      "                 Class     Images  Instances      Box(P          R      mAP50  mAP50-95): 100%|██████████| 10/10 [00:05<00:00,  1.83it/s]\n"
     ]
    },
    {
     "name": "stdout",
     "output_type": "stream",
     "text": [
      "                   all        313      12669      0.237      0.122     0.0527     0.0271\n",
      "\n",
      "      Epoch    GPU_mem   box_loss   cls_loss   dfl_loss  Instances       Size\n"
     ]
    },
    {
     "name": "stderr",
     "output_type": "stream",
     "text": [
      "     92/500       9.6G   0.007337      2.441      1.486        658       1088: 100%|██████████| 77/77 [00:24<00:00,  3.14it/s]\n",
      "                 Class     Images  Instances      Box(P          R      mAP50  mAP50-95): 100%|██████████| 10/10 [00:04<00:00,  2.18it/s]\n"
     ]
    },
    {
     "name": "stdout",
     "output_type": "stream",
     "text": [
      "                   all        313      12669      0.147      0.153     0.0542     0.0289\n",
      "\n",
      "      Epoch    GPU_mem   box_loss   cls_loss   dfl_loss  Instances       Size\n"
     ]
    },
    {
     "name": "stderr",
     "output_type": "stream",
     "text": [
      "     93/500      10.9G   0.007408      2.445      1.497        680       1088: 100%|██████████| 77/77 [00:22<00:00,  3.43it/s]\n",
      "                 Class     Images  Instances      Box(P          R      mAP50  mAP50-95): 100%|██████████| 10/10 [00:05<00:00,  1.90it/s]\n"
     ]
    },
    {
     "name": "stdout",
     "output_type": "stream",
     "text": [
      "                   all        313      12669      0.223      0.131     0.0474      0.021\n",
      "\n",
      "      Epoch    GPU_mem   box_loss   cls_loss   dfl_loss  Instances       Size\n"
     ]
    },
    {
     "name": "stderr",
     "output_type": "stream",
     "text": [
      "     94/500      10.4G   0.007281      2.437      1.479        569       1088: 100%|██████████| 77/77 [00:22<00:00,  3.42it/s]\n",
      "                 Class     Images  Instances      Box(P          R      mAP50  mAP50-95): 100%|██████████| 10/10 [00:05<00:00,  1.75it/s]\n"
     ]
    },
    {
     "name": "stdout",
     "output_type": "stream",
     "text": [
      "                   all        313      12669       0.21      0.138     0.0534     0.0279\n",
      "\n",
      "      Epoch    GPU_mem   box_loss   cls_loss   dfl_loss  Instances       Size\n"
     ]
    },
    {
     "name": "stderr",
     "output_type": "stream",
     "text": [
      "     95/500      10.1G   0.007412      2.446      1.496        607       1088: 100%|██████████| 77/77 [00:21<00:00,  3.56it/s]\n",
      "                 Class     Images  Instances      Box(P          R      mAP50  mAP50-95): 100%|██████████| 10/10 [00:06<00:00,  1.64it/s]"
     ]
    },
    {
     "name": "stdout",
     "output_type": "stream",
     "text": [
      "                   all        313      12669      0.151      0.143     0.0496     0.0244\n"
     ]
    },
    {
     "name": "stderr",
     "output_type": "stream",
     "text": [
      "\n"
     ]
    },
    {
     "name": "stdout",
     "output_type": "stream",
     "text": [
      "\n",
      "      Epoch    GPU_mem   box_loss   cls_loss   dfl_loss  Instances       Size\n"
     ]
    },
    {
     "name": "stderr",
     "output_type": "stream",
     "text": [
      "     96/500      10.4G   0.007379      2.437       1.49        570       1088: 100%|██████████| 77/77 [00:22<00:00,  3.37it/s]\n",
      "                 Class     Images  Instances      Box(P          R      mAP50  mAP50-95): 100%|██████████| 10/10 [00:05<00:00,  1.71it/s]\n"
     ]
    },
    {
     "name": "stdout",
     "output_type": "stream",
     "text": [
      "                   all        313      12669      0.189      0.148     0.0564     0.0299\n",
      "\n",
      "      Epoch    GPU_mem   box_loss   cls_loss   dfl_loss  Instances       Size\n"
     ]
    },
    {
     "name": "stderr",
     "output_type": "stream",
     "text": [
      "     97/500        11G   0.007297      2.435      1.492        611       1088: 100%|██████████| 77/77 [00:23<00:00,  3.23it/s]\n",
      "                 Class     Images  Instances      Box(P          R      mAP50  mAP50-95): 100%|██████████| 10/10 [00:06<00:00,  1.60it/s]\n"
     ]
    },
    {
     "name": "stdout",
     "output_type": "stream",
     "text": [
      "                   all        313      12669      0.179      0.145     0.0549     0.0288\n",
      "\n",
      "      Epoch    GPU_mem   box_loss   cls_loss   dfl_loss  Instances       Size\n"
     ]
    },
    {
     "name": "stderr",
     "output_type": "stream",
     "text": [
      "     98/500      9.56G    0.00728      2.442      1.483        643       1088: 100%|██████████| 77/77 [00:22<00:00,  3.38it/s]\n",
      "                 Class     Images  Instances      Box(P          R      mAP50  mAP50-95): 100%|██████████| 10/10 [00:05<00:00,  1.74it/s]\n"
     ]
    },
    {
     "name": "stdout",
     "output_type": "stream",
     "text": [
      "                   all        313      12669      0.157      0.146     0.0518     0.0259\n",
      "\n",
      "      Epoch    GPU_mem   box_loss   cls_loss   dfl_loss  Instances       Size\n"
     ]
    },
    {
     "name": "stderr",
     "output_type": "stream",
     "text": [
      "     99/500      9.71G   0.007326      2.434      1.484        642       1088: 100%|██████████| 77/77 [00:24<00:00,  3.12it/s]\n",
      "                 Class     Images  Instances      Box(P          R      mAP50  mAP50-95): 100%|██████████| 10/10 [00:06<00:00,  1.61it/s]\n"
     ]
    },
    {
     "name": "stdout",
     "output_type": "stream",
     "text": [
      "                   all        313      12669      0.207       0.14     0.0547     0.0287\n",
      "\n",
      "      Epoch    GPU_mem   box_loss   cls_loss   dfl_loss  Instances       Size\n"
     ]
    },
    {
     "name": "stderr",
     "output_type": "stream",
     "text": [
      "    100/500        10G   0.007351      2.446      1.484        583       1088: 100%|██████████| 77/77 [00:26<00:00,  2.90it/s]\n",
      "                 Class     Images  Instances      Box(P          R      mAP50  mAP50-95): 100%|██████████| 10/10 [00:06<00:00,  1.52it/s]\n"
     ]
    },
    {
     "name": "stdout",
     "output_type": "stream",
     "text": [
      "                   all        313      12669      0.156      0.145     0.0482     0.0232\n",
      "\n",
      "      Epoch    GPU_mem   box_loss   cls_loss   dfl_loss  Instances       Size\n"
     ]
    },
    {
     "name": "stderr",
     "output_type": "stream",
     "text": [
      "    101/500      11.1G    0.00734      2.442      1.484        678       1088: 100%|██████████| 77/77 [00:21<00:00,  3.54it/s]\n",
      "                 Class     Images  Instances      Box(P          R      mAP50  mAP50-95): 100%|██████████| 10/10 [00:06<00:00,  1.59it/s]"
     ]
    },
    {
     "name": "stdout",
     "output_type": "stream",
     "text": [
      "                   all        313      12669       0.17      0.143     0.0547     0.0281\n"
     ]
    },
    {
     "name": "stderr",
     "output_type": "stream",
     "text": [
      "\n"
     ]
    },
    {
     "name": "stdout",
     "output_type": "stream",
     "text": [
      "\n",
      "      Epoch    GPU_mem   box_loss   cls_loss   dfl_loss  Instances       Size\n"
     ]
    },
    {
     "name": "stderr",
     "output_type": "stream",
     "text": [
      "    102/500      9.93G   0.007302      2.446      1.481        557       1088: 100%|██████████| 77/77 [00:23<00:00,  3.24it/s]\n",
      "                 Class     Images  Instances      Box(P          R      mAP50  mAP50-95): 100%|██████████| 10/10 [00:06<00:00,  1.64it/s]\n"
     ]
    },
    {
     "name": "stdout",
     "output_type": "stream",
     "text": [
      "                   all        313      12669       0.18       0.14     0.0518     0.0261\n",
      "\n",
      "      Epoch    GPU_mem   box_loss   cls_loss   dfl_loss  Instances       Size\n"
     ]
    },
    {
     "name": "stderr",
     "output_type": "stream",
     "text": [
      "    103/500      10.4G   0.007308      2.435      1.485        527       1088: 100%|██████████| 77/77 [00:25<00:00,  3.06it/s]\n",
      "                 Class     Images  Instances      Box(P          R      mAP50  mAP50-95): 100%|██████████| 10/10 [00:06<00:00,  1.53it/s]\n"
     ]
    },
    {
     "name": "stdout",
     "output_type": "stream",
     "text": [
      "                   all        313      12669      0.192      0.141     0.0497     0.0234\n",
      "\n",
      "      Epoch    GPU_mem   box_loss   cls_loss   dfl_loss  Instances       Size\n"
     ]
    },
    {
     "name": "stderr",
     "output_type": "stream",
     "text": [
      "    104/500      10.5G   0.007318      2.434      1.484        689       1088: 100%|██████████| 77/77 [00:26<00:00,  2.90it/s]\n",
      "                 Class     Images  Instances      Box(P          R      mAP50  mAP50-95): 100%|██████████| 10/10 [00:06<00:00,  1.60it/s]\n"
     ]
    },
    {
     "name": "stdout",
     "output_type": "stream",
     "text": [
      "                   all        313      12669      0.165      0.147     0.0529     0.0259\n",
      "\n",
      "      Epoch    GPU_mem   box_loss   cls_loss   dfl_loss  Instances       Size\n"
     ]
    },
    {
     "name": "stderr",
     "output_type": "stream",
     "text": [
      "    105/500      10.2G   0.007363       2.44      1.488        641       1088: 100%|██████████| 77/77 [00:22<00:00,  3.40it/s]\n",
      "                 Class     Images  Instances      Box(P          R      mAP50  mAP50-95): 100%|██████████| 10/10 [00:05<00:00,  1.71it/s]\n"
     ]
    },
    {
     "name": "stdout",
     "output_type": "stream",
     "text": [
      "                   all        313      12669      0.164      0.149     0.0552     0.0283\n",
      "\n",
      "      Epoch    GPU_mem   box_loss   cls_loss   dfl_loss  Instances       Size\n"
     ]
    },
    {
     "name": "stderr",
     "output_type": "stream",
     "text": [
      "    106/500      11.2G   0.007232      2.424      1.473        677       1088: 100%|██████████| 77/77 [00:22<00:00,  3.38it/s]\n",
      "                 Class     Images  Instances      Box(P          R      mAP50  mAP50-95): 100%|██████████| 10/10 [00:05<00:00,  1.70it/s]"
     ]
    },
    {
     "name": "stdout",
     "output_type": "stream",
     "text": [
      "                   all        313      12669      0.172      0.151     0.0555     0.0284\n"
     ]
    },
    {
     "name": "stderr",
     "output_type": "stream",
     "text": [
      "\n"
     ]
    },
    {
     "name": "stdout",
     "output_type": "stream",
     "text": [
      "\n",
      "      Epoch    GPU_mem   box_loss   cls_loss   dfl_loss  Instances       Size\n"
     ]
    },
    {
     "name": "stderr",
     "output_type": "stream",
     "text": [
      "    107/500      10.4G   0.007239       2.42      1.471        584       1088: 100%|██████████| 77/77 [00:22<00:00,  3.40it/s]\n",
      "                 Class     Images  Instances      Box(P          R      mAP50  mAP50-95): 100%|██████████| 10/10 [00:05<00:00,  1.72it/s]\n"
     ]
    },
    {
     "name": "stdout",
     "output_type": "stream",
     "text": [
      "                   all        313      12669       0.14       0.15     0.0529     0.0272\n",
      "\n",
      "      Epoch    GPU_mem   box_loss   cls_loss   dfl_loss  Instances       Size\n"
     ]
    },
    {
     "name": "stderr",
     "output_type": "stream",
     "text": [
      "    108/500      10.6G    0.00727      2.426      1.478        554       1088: 100%|██████████| 77/77 [00:21<00:00,  3.59it/s]\n",
      "                 Class     Images  Instances      Box(P          R      mAP50  mAP50-95): 100%|██████████| 10/10 [00:05<00:00,  1.69it/s]\n"
     ]
    },
    {
     "name": "stdout",
     "output_type": "stream",
     "text": [
      "                   all        313      12669      0.116      0.143     0.0507     0.0242\n",
      "\n",
      "      Epoch    GPU_mem   box_loss   cls_loss   dfl_loss  Instances       Size\n"
     ]
    },
    {
     "name": "stderr",
     "output_type": "stream",
     "text": [
      "    109/500      9.93G   0.007303      2.433      1.476        547       1088: 100%|██████████| 77/77 [00:24<00:00,  3.10it/s]\n",
      "                 Class     Images  Instances      Box(P          R      mAP50  mAP50-95): 100%|██████████| 10/10 [00:06<00:00,  1.59it/s]\n"
     ]
    },
    {
     "name": "stdout",
     "output_type": "stream",
     "text": [
      "                   all        313      12669     0.0974      0.144     0.0497     0.0231\n",
      "\n",
      "      Epoch    GPU_mem   box_loss   cls_loss   dfl_loss  Instances       Size\n"
     ]
    },
    {
     "name": "stderr",
     "output_type": "stream",
     "text": [
      "    110/500      9.42G   0.007286      2.435      1.478        580       1088: 100%|██████████| 77/77 [00:23<00:00,  3.34it/s]\n",
      "                 Class     Images  Instances      Box(P          R      mAP50  mAP50-95): 100%|██████████| 10/10 [00:05<00:00,  2.00it/s]"
     ]
    },
    {
     "name": "stdout",
     "output_type": "stream",
     "text": [
      "                   all        313      12669      0.158      0.146     0.0511     0.0249\n"
     ]
    },
    {
     "name": "stderr",
     "output_type": "stream",
     "text": [
      "\n"
     ]
    },
    {
     "name": "stdout",
     "output_type": "stream",
     "text": [
      "\n",
      "      Epoch    GPU_mem   box_loss   cls_loss   dfl_loss  Instances       Size\n"
     ]
    },
    {
     "name": "stderr",
     "output_type": "stream",
     "text": [
      "    111/500      9.78G   0.007268      2.421      1.483        461       1088: 100%|██████████| 77/77 [00:21<00:00,  3.57it/s]\n",
      "                 Class     Images  Instances      Box(P          R      mAP50  mAP50-95): 100%|██████████| 10/10 [00:04<00:00,  2.12it/s]\n"
     ]
    },
    {
     "name": "stdout",
     "output_type": "stream",
     "text": [
      "                   all        313      12669      0.202      0.134      0.057     0.0295\n",
      "\n",
      "      Epoch    GPU_mem   box_loss   cls_loss   dfl_loss  Instances       Size\n"
     ]
    },
    {
     "name": "stderr",
     "output_type": "stream",
     "text": [
      "    112/500      10.6G   0.007309      2.431       1.47        840       1088: 100%|██████████| 77/77 [00:24<00:00,  3.19it/s]\n",
      "                 Class     Images  Instances      Box(P          R      mAP50  mAP50-95): 100%|██████████| 10/10 [00:06<00:00,  1.48it/s]"
     ]
    },
    {
     "name": "stdout",
     "output_type": "stream",
     "text": [
      "                   all        313      12669      0.183      0.137      0.049     0.0234\n"
     ]
    },
    {
     "name": "stderr",
     "output_type": "stream",
     "text": [
      "\n"
     ]
    },
    {
     "name": "stdout",
     "output_type": "stream",
     "text": [
      "\n",
      "      Epoch    GPU_mem   box_loss   cls_loss   dfl_loss  Instances       Size\n"
     ]
    },
    {
     "name": "stderr",
     "output_type": "stream",
     "text": [
      "    113/500      9.85G   0.007226      2.432      1.474        752       1088: 100%|██████████| 77/77 [00:23<00:00,  3.31it/s]\n",
      "                 Class     Images  Instances      Box(P          R      mAP50  mAP50-95): 100%|██████████| 10/10 [00:06<00:00,  1.67it/s]\n"
     ]
    },
    {
     "name": "stdout",
     "output_type": "stream",
     "text": [
      "                   all        313      12669      0.224       0.14      0.057     0.0284\n",
      "\n",
      "      Epoch    GPU_mem   box_loss   cls_loss   dfl_loss  Instances       Size\n"
     ]
    },
    {
     "name": "stderr",
     "output_type": "stream",
     "text": [
      "    114/500      9.51G   0.007226      2.431      1.474        529       1088: 100%|██████████| 77/77 [00:23<00:00,  3.23it/s]\n",
      "                 Class     Images  Instances      Box(P          R      mAP50  mAP50-95): 100%|██████████| 10/10 [00:06<00:00,  1.56it/s]"
     ]
    },
    {
     "name": "stdout",
     "output_type": "stream",
     "text": [
      "                   all        313      12669      0.178       0.15     0.0539     0.0274\n"
     ]
    },
    {
     "name": "stderr",
     "output_type": "stream",
     "text": [
      "\n"
     ]
    },
    {
     "name": "stdout",
     "output_type": "stream",
     "text": [
      "\n",
      "      Epoch    GPU_mem   box_loss   cls_loss   dfl_loss  Instances       Size\n"
     ]
    },
    {
     "name": "stderr",
     "output_type": "stream",
     "text": [
      "    115/500      9.42G   0.007213      2.426       1.48        724       1088: 100%|██████████| 77/77 [00:24<00:00,  3.14it/s]\n",
      "                 Class     Images  Instances      Box(P          R      mAP50  mAP50-95): 100%|██████████| 10/10 [00:06<00:00,  1.64it/s]\n"
     ]
    },
    {
     "name": "stdout",
     "output_type": "stream",
     "text": [
      "                   all        313      12669      0.186      0.152     0.0555     0.0277\n",
      "\n",
      "      Epoch    GPU_mem   box_loss   cls_loss   dfl_loss  Instances       Size\n"
     ]
    },
    {
     "name": "stderr",
     "output_type": "stream",
     "text": [
      "    116/500      11.1G   0.007225      2.412       1.48        572       1088: 100%|██████████| 77/77 [00:23<00:00,  3.33it/s]\n",
      "                 Class     Images  Instances      Box(P          R      mAP50  mAP50-95): 100%|██████████| 10/10 [00:05<00:00,  1.76it/s]\n"
     ]
    },
    {
     "name": "stdout",
     "output_type": "stream",
     "text": [
      "                   all        313      12669       0.25      0.136     0.0571     0.0301\n",
      "\n",
      "      Epoch    GPU_mem   box_loss   cls_loss   dfl_loss  Instances       Size\n"
     ]
    },
    {
     "name": "stderr",
     "output_type": "stream",
     "text": [
      "    117/500      10.3G   0.007247      2.422      1.478        650       1088: 100%|██████████| 77/77 [00:23<00:00,  3.23it/s]\n",
      "                 Class     Images  Instances      Box(P          R      mAP50  mAP50-95): 100%|██████████| 10/10 [00:05<00:00,  1.76it/s]\n"
     ]
    },
    {
     "name": "stdout",
     "output_type": "stream",
     "text": [
      "                   all        313      12669      0.215      0.133      0.052     0.0245\n",
      "\n",
      "      Epoch    GPU_mem   box_loss   cls_loss   dfl_loss  Instances       Size\n"
     ]
    },
    {
     "name": "stderr",
     "output_type": "stream",
     "text": [
      "    118/500      9.55G   0.007253      2.432      1.476        735       1088: 100%|██████████| 77/77 [00:23<00:00,  3.28it/s]\n",
      "                 Class     Images  Instances      Box(P          R      mAP50  mAP50-95): 100%|██████████| 10/10 [00:05<00:00,  1.67it/s]\n"
     ]
    },
    {
     "name": "stdout",
     "output_type": "stream",
     "text": [
      "                   all        313      12669      0.196      0.133      0.054     0.0268\n",
      "\n",
      "      Epoch    GPU_mem   box_loss   cls_loss   dfl_loss  Instances       Size\n"
     ]
    },
    {
     "name": "stderr",
     "output_type": "stream",
     "text": [
      "    119/500      9.74G   0.007252      2.416      1.473        680       1088: 100%|██████████| 77/77 [00:21<00:00,  3.56it/s]\n",
      "                 Class     Images  Instances      Box(P          R      mAP50  mAP50-95): 100%|██████████| 10/10 [00:05<00:00,  1.73it/s]\n"
     ]
    },
    {
     "name": "stdout",
     "output_type": "stream",
     "text": [
      "                   all        313      12669      0.197      0.141     0.0542     0.0262\n",
      "\n",
      "      Epoch    GPU_mem   box_loss   cls_loss   dfl_loss  Instances       Size\n"
     ]
    },
    {
     "name": "stderr",
     "output_type": "stream",
     "text": [
      "    120/500      9.31G   0.007244      2.427      1.474        730       1088: 100%|██████████| 77/77 [00:22<00:00,  3.46it/s]\n",
      "                 Class     Images  Instances      Box(P          R      mAP50  mAP50-95): 100%|██████████| 10/10 [00:05<00:00,  1.83it/s]\n"
     ]
    },
    {
     "name": "stdout",
     "output_type": "stream",
     "text": [
      "                   all        313      12669       0.22      0.135     0.0542     0.0273\n",
      "\n",
      "      Epoch    GPU_mem   box_loss   cls_loss   dfl_loss  Instances       Size\n"
     ]
    },
    {
     "name": "stderr",
     "output_type": "stream",
     "text": [
      "    121/500      10.9G   0.007166       2.41      1.466        517       1088: 100%|██████████| 77/77 [00:23<00:00,  3.35it/s]\n",
      "                 Class     Images  Instances      Box(P          R      mAP50  mAP50-95): 100%|██████████| 10/10 [00:05<00:00,  1.82it/s]\n"
     ]
    },
    {
     "name": "stdout",
     "output_type": "stream",
     "text": [
      "                   all        313      12669      0.201      0.147     0.0553     0.0273\n",
      "\n",
      "      Epoch    GPU_mem   box_loss   cls_loss   dfl_loss  Instances       Size\n"
     ]
    },
    {
     "name": "stderr",
     "output_type": "stream",
     "text": [
      "    122/500      10.2G   0.007232      2.418      1.475        594       1088: 100%|██████████| 77/77 [00:21<00:00,  3.60it/s]\n",
      "                 Class     Images  Instances      Box(P          R      mAP50  mAP50-95): 100%|██████████| 10/10 [00:05<00:00,  1.67it/s]\n"
     ]
    },
    {
     "name": "stdout",
     "output_type": "stream",
     "text": [
      "                   all        313      12669      0.195      0.136     0.0518     0.0252\n",
      "\n",
      "      Epoch    GPU_mem   box_loss   cls_loss   dfl_loss  Instances       Size\n"
     ]
    },
    {
     "name": "stderr",
     "output_type": "stream",
     "text": [
      "    123/500      10.3G   0.007256      2.409       1.47        558       1088: 100%|██████████| 77/77 [00:23<00:00,  3.22it/s]\n",
      "                 Class     Images  Instances      Box(P          R      mAP50  mAP50-95): 100%|██████████| 10/10 [00:05<00:00,  1.84it/s]\n"
     ]
    },
    {
     "name": "stdout",
     "output_type": "stream",
     "text": [
      "                   all        313      12669      0.178      0.147     0.0553     0.0271\n",
      "\n",
      "      Epoch    GPU_mem   box_loss   cls_loss   dfl_loss  Instances       Size\n"
     ]
    },
    {
     "name": "stderr",
     "output_type": "stream",
     "text": [
      "    124/500        11G   0.007234      2.413      1.473        652       1088: 100%|██████████| 77/77 [00:21<00:00,  3.57it/s]\n",
      "                 Class     Images  Instances      Box(P          R      mAP50  mAP50-95): 100%|██████████| 10/10 [00:05<00:00,  1.79it/s]\n"
     ]
    },
    {
     "name": "stdout",
     "output_type": "stream",
     "text": [
      "                   all        313      12669      0.237      0.133     0.0515     0.0244\n",
      "\u001b[34m\u001b[1mEarlyStopping: \u001b[0mTraining stopped early as no improvement observed in last 100 epochs. Best results observed at epoch 24, best model saved as best.pt.\n",
      "To update EarlyStopping(patience=100) pass a new patience value, i.e. `patience=300` or use `patience=0` to disable EarlyStopping.\n",
      "\n",
      "124 epochs completed in 1.031 hours.\n",
      "Optimizer stripped from runs/detect/train3/weights/last.pt, 7.0MB\n",
      "Optimizer stripped from runs/detect/train3/weights/best.pt, 7.0MB\n",
      "\n",
      "Validating runs/detect/train3/weights/best.pt...\n",
      "Ultralytics YOLOv8.2.2 🚀 Python-3.11.0rc1 torch-2.3.0+cu121 CUDA:0 (NVIDIA GeForce RTX 2080 Ti, 11004MiB)\n",
      "Model summary (fused): 168 layers, 3347996 parameters, 0 gradients, 9.6 GFLOPs\n"
     ]
    },
    {
     "name": "stderr",
     "output_type": "stream",
     "text": [
      "/usr/local/lib/python3.11/dist-packages/torch/nn/modules/conv.py:456: UserWarning: Plan failed with a cudnnException: CUDNN_BACKEND_EXECUTION_PLAN_DESCRIPTOR: cudnnFinalize Descriptor Failed cudnn_status: CUDNN_STATUS_NOT_SUPPORTED (Triggered internally at ../aten/src/ATen/native/cudnn/Conv_v8.cpp:919.)\n",
      "  return F.conv2d(input, weight, bias, self.stride,\n",
      "                 Class     Images  Instances      Box(P          R      mAP50  mAP50-95): 100%|██████████| 10/10 [00:06<00:00,  1.65it/s]\n"
     ]
    },
    {
     "name": "stdout",
     "output_type": "stream",
     "text": [
      "                   all        313      12669      0.109      0.121     0.0551     0.0332\n",
      "                     a        313        808      0.141      0.637      0.169     0.0717\n",
      "                     à        313          2          0          0          0          0\n",
      "                     â        313          1          0          0          0          0\n",
      "                     b        313         72     0.0632     0.0139     0.0426     0.0281\n",
      "                     c        313        404      0.152      0.351      0.142      0.092\n",
      "                     ç        313          2          0          0          0          0\n",
      "                     d        313        444      0.227      0.712      0.361      0.222\n",
      "                     e        313       1680      0.147      0.944      0.412      0.242\n",
      "                     é        313        230     0.0143   0.000125    0.00995    0.00815\n",
      "                     è        313         43          0          0          0          0\n",
      "                     ê        313          9          0          0          0          0\n",
      "                     ë        313          2          0          0          0          0\n",
      "                     f        313        118          1          0     0.0746     0.0337\n",
      "                     g        313         99          0          0          0          0\n",
      "                     h        313         75          0          0          0          0\n",
      "                     i        313        792     0.0988      0.323     0.0862     0.0339\n",
      "                     í        313          1          0          0          0          0\n",
      "                     ì        313          1          0          0          0          0\n",
      "                     î        313          7          0          0          0          0\n",
      "                     j        313         78      0.148      0.538       0.12     0.0869\n",
      "                     k        313         19          0          0          0          0\n",
      "                     l        313        479      0.127      0.276     0.0896     0.0548\n",
      "                     m        313        424      0.142      0.684      0.243      0.136\n",
      "                     n        313        869      0.157      0.579      0.189      0.092\n",
      "                     o        313        747      0.167      0.738       0.26      0.122\n",
      "                     ó        313          2          0          0          0          0\n",
      "                     ò        313          7          0          0          0          0\n",
      "                     ô        313         15          0          0          0          0\n",
      "                     p        313        314      0.169      0.503      0.241       0.15\n",
      "                     q        313        115      0.148      0.217     0.0841     0.0505\n",
      "                     r        313        888      0.179      0.409      0.203     0.0956\n",
      "                     s        313        909       0.21      0.603      0.375      0.234\n",
      "                     t        313        707       0.15      0.338      0.158     0.0767\n",
      "                     u        313        626     0.0758       0.85      0.152     0.0641\n",
      "                     ú        313          7          0          0          0          0\n",
      "                     ù        313          8          0          0          0          0\n",
      "                     û        313          4          0          0          0          0\n",
      "                     ü        313          1          0          0          0          0\n",
      "                     v        313        266       0.23      0.513      0.264      0.179\n",
      "                     w        313          3          0          0          0          0\n",
      "                     x        313         28          0          0          0          0\n",
      "                     y        313         17          0          0          0          0\n",
      "                     z        313         62      0.137      0.274      0.102     0.0755\n",
      "                     œ        313          7          0          0          0          0\n",
      "                     A        313         22          0          0          0          0\n",
      "                     B        313          5          1          0          0          0\n",
      "                     C        313         27      0.245      0.444      0.406      0.295\n",
      "                     Ç        313          4          0          0          0          0\n",
      "                     D        313         37          1          0          0          0\n",
      "                     E        313         33          0          0          0          0\n",
      "                     È        313          2          0          0          0          0\n",
      "                     È        313          2          0          0          0          0\n",
      "                     F        313          5          0          0          0          0\n",
      "                     G        313          3          0          0          0          0\n",
      "                     H        313          6          0          0          0          0\n",
      "                     I        313         13          0          0          0          0\n",
      "                     Î        313          6          0          0          0          0\n",
      "                     J        313         55      0.384      0.309      0.322      0.267\n",
      "                     K        313          8          0          0          0          0\n",
      "                     L        313         28          0          0          0          0\n",
      "                     M        313         81      0.143      0.309      0.138     0.0925\n",
      "                     N        313         18          0          0          0          0\n",
      "                     O        313         16          0          0          0          0\n",
      "                     Ô        313          7          0          0          0          0\n",
      "                     P        313         20          0          0          0          0\n",
      "                     Q        313          3          0          0          0          0\n",
      "                     R        313          9          0          0          0          0\n",
      "                     S        313         13          0          0          0          0\n",
      "                     T        313          8          0          0          0          0\n",
      "                     U        313          9          0          0          0          0\n",
      "                     Ù        313          2          0          0          0          0\n",
      "                     Û        313          7          0          0          0          0\n",
      "                     Ü        313          6          0          0          0          0\n",
      "                     V        313         52          1          0     0.0195     0.0195\n",
      "                     X        313          6          0          0          0          0\n",
      "                     Y        313          6          0          0          0          0\n",
      "                     Z        313         15          0          0          0          0\n",
      "                     0        313         47          1          0      0.128     0.0766\n",
      "                     1        313         28          0          0          0          0\n",
      "                     2        313         24          1          0          0          0\n",
      "                     3        313          9          0          0          0          0\n",
      "                     4        313         10          0          0          0          0\n",
      "                     5        313         20          0          0          0          0\n",
      "                     6        313         13          0          0          0          0\n",
      "                     7        313         11          0          0          0          0\n",
      "                     8        313         10          0          0          0          0\n",
      "                     9        313          3          0          0          0          0\n",
      "                     &        313         23          0          0          0          0\n",
      "                     '        313        154          1    0.00797      0.102     0.0585\n",
      "                     (        313          5          0          0          0          0\n",
      "                     )        313          3          0          0          0          0\n",
      "                     +        313         39          0          0     0.0299     0.0247\n",
      "                     ,        313        169       0.14      0.677       0.21      0.122\n",
      "                     -        313         26          0          0          0          0\n",
      "                     _        313         21     0.0674     0.0952     0.0689      0.051\n",
      "                     .        313        116      0.106      0.922      0.361      0.195\n",
      "                     /        313          2          0          0          0          0\n",
      "                     ;        313          1          0          0          0          0\n",
      "                     ?        313          3          0          0          0          0\n",
      "                     €        313          3          0          0          0          0\n",
      "                     °        313          3          0          0          0          0\n",
      "Speed: 0.1ms preprocess, 0.6ms inference, 0.0ms loss, 14.1ms postprocess per image\n",
      "Results saved to \u001b[1mruns/detect/train3\u001b[0m\n"
     ]
    }
   ],
   "source": [
    "results = model.train(data='/home/jovyan/TFG/CharacterSpotting/data/data_info.yaml', epochs=500, imgsz=1080, device=0, cfg=\"/home/jovyan/TFG/CharacterSpotting/data/hyp.noflip.yaml\")"
   ]
  },
  {
   "cell_type": "code",
   "execution_count": null,
   "id": "1e9f8d99-70d5-4237-837a-a1d20c8504b7",
   "metadata": {},
   "outputs": [],
   "source": []
  }
 ],
 "metadata": {
  "kernelspec": {
   "display_name": "Python 3 (ipykernel)",
   "language": "python",
   "name": "python3"
  },
  "language_info": {
   "codemirror_mode": {
    "name": "ipython",
    "version": 3
   },
   "file_extension": ".py",
   "mimetype": "text/x-python",
   "name": "python",
   "nbconvert_exporter": "python",
   "pygments_lexer": "ipython3",
   "version": "3.11.0rc1"
  }
 },
 "nbformat": 4,
 "nbformat_minor": 5
}
